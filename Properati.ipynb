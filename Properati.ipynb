{
 "cells": [
  {
   "cell_type": "code",
   "execution_count": 1,
   "metadata": {},
   "outputs": [],
   "source": [
    "import pandas as pd\n",
    "import numpy as np\n",
    "import matplotlib.pyplot as plt\n",
    "import missingno as msno \n",
    "import re\n",
    "import seaborn as sns\n",
    "import geopandas as gp\n",
    "from shapely import wkt\n",
    "\n",
    "sns.set()"
   ]
  },
  {
   "cell_type": "markdown",
   "metadata": {},
   "source": [
    "1) Carga del dataset\n",
    "\n",
    "2) Eleccion de departamentos de la zona de CABA\n",
    "\n",
    "3) Datos nulos\n",
    "\n",
    "4) Rescate de valores nulos usando regex en:\n",
    "\n",
    "* Titulo\n",
    "* Descripción\n",
    "* URL \n",
    "\n",
    "5) Amenities usando regex:\n",
    "* Pileta\n",
    "* Cochera\n",
    "* Parrilla \n",
    "* SUM\n",
    "\n",
    "6) Verificacion de la calidad de los datos\n",
    "\n",
    "7) Visualizacion de distribucion de los datos\n",
    "\n",
    "8) Tratamiento de valores minimos y outliers \n",
    "\n",
    "9) Imputacion de valores nulos en las columnas seleccionadas\n",
    "\n",
    "10) Cercanias con diferentes puntos de la ciudad\n",
    "\n",
    "11) Dummies de variables categoricas\n",
    "\n",
    "12) Correlacion de variables\n",
    "\n",
    "13) Modelos de regresion\n",
    "\n",
    "14) Matriz de R2 de cada modelo\n",
    "\n",
    "15) Matriz de R2 Score de cada modelo usando en test"
   ]
  },
  {
   "cell_type": "code",
   "execution_count": 2,
   "metadata": {},
   "outputs": [],
   "source": [
    "df = pd.read_csv('C:/Users/Lucas/Desktop/ar_properties.csv')"
   ]
  },
  {
   "cell_type": "code",
   "execution_count": 3,
   "metadata": {},
   "outputs": [
    {
     "name": "stdout",
     "output_type": "stream",
     "text": [
      "<class 'pandas.core.frame.DataFrame'>\n",
      "RangeIndex: 1000000 entries, 0 to 999999\n",
      "Data columns (total 25 columns):\n",
      " #   Column           Non-Null Count    Dtype  \n",
      "---  ------           --------------    -----  \n",
      " 0   id               1000000 non-null  object \n",
      " 1   ad_type          1000000 non-null  object \n",
      " 2   start_date       1000000 non-null  object \n",
      " 3   end_date         1000000 non-null  object \n",
      " 4   created_on       1000000 non-null  object \n",
      " 5   lat              849062 non-null   float64\n",
      " 6   lon              847640 non-null   float64\n",
      " 7   l1               1000000 non-null  object \n",
      " 8   l2               1000000 non-null  object \n",
      " 9   l3               947081 non-null   object \n",
      " 10  l4               235216 non-null   object \n",
      " 11  l5               4687 non-null     object \n",
      " 12  l6               0 non-null        float64\n",
      " 13  rooms            527516 non-null   float64\n",
      " 14  bedrooms         469377 non-null   float64\n",
      " 15  bathrooms        773180 non-null   float64\n",
      " 16  surface_total    408342 non-null   float64\n",
      " 17  surface_covered  399022 non-null   float64\n",
      " 18  price            961139 non-null   float64\n",
      " 19  currency         959678 non-null   object \n",
      " 20  price_period     358511 non-null   object \n",
      " 21  title            1000000 non-null  object \n",
      " 22  description      999982 non-null   object \n",
      " 23  property_type    1000000 non-null  object \n",
      " 24  operation_type   1000000 non-null  object \n",
      "dtypes: float64(9), object(16)\n",
      "memory usage: 190.7+ MB\n"
     ]
    }
   ],
   "source": [
    "df.info()"
   ]
  },
  {
   "cell_type": "code",
   "execution_count": 4,
   "metadata": {},
   "outputs": [
    {
     "data": {
      "text/plain": [
       "Argentina         0.984259\n",
       "Uruguay           0.014844\n",
       "Estados Unidos    0.000725\n",
       "Brasil            0.000172\n",
       "Name: l1, dtype: float64"
      ]
     },
     "execution_count": 4,
     "metadata": {},
     "output_type": "execute_result"
    }
   ],
   "source": [
    "df.l1.value_counts(normalize=True)"
   ]
  },
  {
   "cell_type": "code",
   "execution_count": 5,
   "metadata": {},
   "outputs": [
    {
     "data": {
      "text/plain": [
       "USD    0.782251\n",
       "ARS    0.215966\n",
       "UYU    0.001648\n",
       "PEN    0.000134\n",
       "Name: currency, dtype: float64"
      ]
     },
     "execution_count": 5,
     "metadata": {},
     "output_type": "execute_result"
    }
   ],
   "source": [
    "df.currency.value_counts(normalize=True)"
   ]
  },
  {
   "cell_type": "code",
   "execution_count": 6,
   "metadata": {},
   "outputs": [
    {
     "data": {
      "text/plain": [
       "Capital Federal                 0.253145\n",
       "Buenos Aires Costa Atlántica    0.170931\n",
       "Bs.As. G.B.A. Zona Norte        0.141556\n",
       "Bs.As. G.B.A. Zona Sur          0.118931\n",
       "Santa Fe                        0.087835\n",
       "Bs.As. G.B.A. Zona Oeste        0.074995\n",
       "Córdoba                         0.058277\n",
       "Buenos Aires Interior           0.022790\n",
       "Neuquén                         0.011092\n",
       "Mendoza                         0.009942\n",
       "Maldonado                       0.008760\n",
       "Entre Ríos                      0.006033\n",
       "Río Negro                       0.005116\n",
       "Misiones                        0.005070\n",
       "Tucumán                         0.004943\n",
       "Montevideo                      0.004185\n",
       "Salta                           0.004034\n",
       "San Luis                        0.001918\n",
       "Colonia                         0.001221\n",
       "La Pampa                        0.001134\n",
       "Chaco                           0.001127\n",
       "San Juan                        0.001104\n",
       "Corrientes                      0.001036\n",
       "Chubut                          0.001033\n",
       "Jujuy                           0.000612\n",
       "Canelones                       0.000526\n",
       "Florida                         0.000398\n",
       "Santa Cruz                      0.000370\n",
       "Catamarca                       0.000340\n",
       "Tierra Del Fuego                0.000317\n",
       "Santiago Del Estero             0.000260\n",
       "La Rioja                        0.000248\n",
       "Michigan                        0.000163\n",
       "Rocha                           0.000152\n",
       "Miami                           0.000098\n",
       "São Paulo                       0.000088\n",
       "Formosa                         0.000070\n",
       "Maryland                        0.000052\n",
       "Rio Grande do Norte             0.000041\n",
       "Santa Catarina                  0.000028\n",
       "Rio de Janeiro                  0.000015\n",
       "Pennsylvania                    0.000013\n",
       "New York                        0.000001\n",
       "Name: l2, dtype: float64"
      ]
     },
     "execution_count": 6,
     "metadata": {},
     "output_type": "execute_result"
    }
   ],
   "source": [
    "df.l2.value_counts(normalize=True)"
   ]
  },
  {
   "cell_type": "code",
   "execution_count": 7,
   "metadata": {},
   "outputs": [
    {
     "data": {
      "text/plain": [
       "Mar del Plata           148969\n",
       "Rosario                  63669\n",
       "Tigre                    41965\n",
       "La Plata                 37384\n",
       "Palermo                  36706\n",
       "                         ...  \n",
       "Epuyén                       1\n",
       "Campo Gallo                  1\n",
       "San Antonio de Litín         1\n",
       "Makallé                      1\n",
       "Ojo de Agua                  1\n",
       "Name: l3, Length: 1293, dtype: int64"
      ]
     },
     "execution_count": 7,
     "metadata": {},
     "output_type": "execute_result"
    }
   ],
   "source": [
    "df.l3.value_counts()"
   ]
  },
  {
   "cell_type": "code",
   "execution_count": 8,
   "metadata": {},
   "outputs": [
    {
     "data": {
      "text/plain": [
       "array(['Casa', 'Casa de campo', 'Lote', 'Departamento', 'Local comercial',\n",
       "       'Oficina', 'PH', 'Otro', 'Cochera', 'Depósito'], dtype=object)"
      ]
     },
     "execution_count": 8,
     "metadata": {},
     "output_type": "execute_result"
    }
   ],
   "source": [
    "df.property_type.unique()"
   ]
  },
  {
   "cell_type": "code",
   "execution_count": 9,
   "metadata": {},
   "outputs": [
    {
     "data": {
      "text/plain": [
       "Venta                0.779936\n",
       "Alquiler             0.186333\n",
       "Alquiler temporal    0.033731\n",
       "Name: operation_type, dtype: float64"
      ]
     },
     "execution_count": 9,
     "metadata": {},
     "output_type": "execute_result"
    }
   ],
   "source": [
    "df.operation_type.value_counts(normalize=True)"
   ]
  },
  {
   "cell_type": "markdown",
   "metadata": {},
   "source": [
    "### 2) Eleccion de departamentos en la zona de CABA"
   ]
  },
  {
   "cell_type": "code",
   "execution_count": 10,
   "metadata": {},
   "outputs": [],
   "source": [
    "mask = (df['property_type'] == 'Departamento') & \\\n",
    "       (df['currency'] == 'USD') & \\\n",
    "       (df['l2'] == 'Capital Federal') & \\\n",
    "       (df['operation_type'] == 'Venta')\n",
    "\n",
    "\n",
    "caba = df.loc[mask,:]"
   ]
  },
  {
   "cell_type": "code",
   "execution_count": 11,
   "metadata": {},
   "outputs": [
    {
     "data": {
      "text/plain": [
       "array([nan, 'Boca', 'Flores', 'Palermo', 'Barracas', 'Congreso',\n",
       "       'Monserrat', 'San Telmo', 'Colegiales', 'Tribunales',\n",
       "       'San Nicolás', 'Constitución', 'San Cristobal', 'Villa Urquiza',\n",
       "       'Nuñez', 'Almagro', 'Belgrano', 'Floresta', 'Recoleta',\n",
       "       'Balvanera', 'Chacarita', 'Mataderos', 'Barrio Norte',\n",
       "       'Puerto Madero', 'Villa del Parque', 'Villa Pueyrredón', 'Boedo',\n",
       "       'Retiro', 'Liniers', 'Paternal', 'Saavedra', 'Caballito',\n",
       "       'Villa Crespo', 'Villa Ortuzar', 'Parque Centenario', 'Once',\n",
       "       'Villa Real', 'Las Cañitas', 'Villa Devoto', 'Parque Avellaneda',\n",
       "       'Villa Santa Rita', 'Villa Luro', 'Villa Lugano',\n",
       "       'Parque Patricios', 'Velez Sarsfield', 'Parque Chacabuco',\n",
       "       'Coghlan', 'Monte Castro', 'Agronomía', 'Villa General Mitre',\n",
       "       'Abasto', 'Centro / Microcentro', 'Pompeya', 'Parque Chas',\n",
       "       'Versalles', 'Villa Soldati', 'Catalinas', 'Villa Riachuelo',\n",
       "       'Distrito Audiovisual'], dtype=object)"
      ]
     },
     "execution_count": 11,
     "metadata": {},
     "output_type": "execute_result"
    }
   ],
   "source": [
    "caba.l3.unique()"
   ]
  },
  {
   "cell_type": "code",
   "execution_count": 12,
   "metadata": {},
   "outputs": [
    {
     "name": "stderr",
     "output_type": "stream",
     "text": [
      "C:\\Users\\Lucas\\.conda\\envs\\dhdsblend\\lib\\site-packages\\pandas\\core\\frame.py:4133: SettingWithCopyWarning: \n",
      "A value is trying to be set on a copy of a slice from a DataFrame\n",
      "\n",
      "See the caveats in the documentation: https://pandas.pydata.org/pandas-docs/stable/user_guide/indexing.html#returning-a-view-versus-a-copy\n",
      "  errors=errors,\n"
     ]
    }
   ],
   "source": [
    "caba.rename(columns={'l3':'barrios'}, inplace=True)"
   ]
  },
  {
   "cell_type": "markdown",
   "metadata": {},
   "source": [
    "### 3) Cantidad de datos nulos del dataset CABA"
   ]
  },
  {
   "cell_type": "code",
   "execution_count": 13,
   "metadata": {
    "scrolled": true
   },
   "outputs": [
    {
     "data": {
      "text/plain": [
       "id                   0.000000\n",
       "ad_type              0.000000\n",
       "start_date           0.000000\n",
       "end_date             0.000000\n",
       "created_on           0.000000\n",
       "lat                  8.630001\n",
       "lon                  8.697277\n",
       "l1                   0.000000\n",
       "l2                   0.000000\n",
       "barrios              3.814169\n",
       "l4                  95.495319\n",
       "l5                 100.000000\n",
       "l6                 100.000000\n",
       "rooms                5.257797\n",
       "bedrooms            22.733644\n",
       "bathrooms            4.870027\n",
       "surface_total       24.760330\n",
       "surface_covered     24.153912\n",
       "price                0.000000\n",
       "currency             0.000000\n",
       "price_period        66.186392\n",
       "title                0.000000\n",
       "description          0.000000\n",
       "property_type        0.000000\n",
       "operation_type       0.000000\n",
       "dtype: float64"
      ]
     },
     "execution_count": 13,
     "metadata": {},
     "output_type": "execute_result"
    }
   ],
   "source": [
    "caba.isnull().sum()/caba.shape[0]*100"
   ]
  },
  {
   "cell_type": "markdown",
   "metadata": {},
   "source": [
    "### 4)Imputacion de  datos faltates usando regex"
   ]
  },
  {
   "cell_type": "markdown",
   "metadata": {},
   "source": [
    "Los datos faltantes que vamos a utilizar, vamos a buscar usando expresiones regulares en las columnas de 'Title', 'Description' y 'URL' del dataframe."
   ]
  },
  {
   "cell_type": "markdown",
   "metadata": {},
   "source": [
    "#### Superficie"
   ]
  },
  {
   "cell_type": "code",
   "execution_count": 14,
   "metadata": {},
   "outputs": [
    {
     "name": "stdout",
     "output_type": "stream",
     "text": [
      "Porcentaje de datos nulos en superficie total antes: 24.15 %\n"
     ]
    }
   ],
   "source": [
    "print('Porcentaje de datos nulos en superficie total antes:', (caba.surface_covered.isnull().sum()/caba.shape[0]*100).round(2), '%')"
   ]
  },
  {
   "cell_type": "code",
   "execution_count": 15,
   "metadata": {},
   "outputs": [
    {
     "name": "stderr",
     "output_type": "stream",
     "text": [
      "C:\\Users\\Lucas\\.conda\\envs\\dhdsblend\\lib\\site-packages\\pandas\\core\\generic.py:6245: SettingWithCopyWarning: \n",
      "A value is trying to be set on a copy of a slice from a DataFrame\n",
      "\n",
      "See the caveats in the documentation: https://pandas.pydata.org/pandas-docs/stable/user_guide/indexing.html#returning-a-view-versus-a-copy\n",
      "  self._update_inplace(new_data)\n"
     ]
    }
   ],
   "source": [
    "patron = '.*(?P<m2_total>\\d{2})(\\s?[m]|\\s[ms]|\\s?[m2]|\\s?[metros]|\\s?[m^2])'\n",
    "regex = re.compile(patron, re.IGNORECASE)\n",
    "    \n",
    "    #Description\n",
    "regular = caba[caba.surface_covered.isnull()].description.apply(lambda x: x if x is np.nan else regex.search(x))\n",
    "serie = regular.apply(lambda x: x if x is None or x is np.nan else x.group('m2_total')).astype('float64')\n",
    "caba.surface_covered.fillna(serie, inplace=True)\n",
    "\n",
    "patron = '.*(?P<m2_total>\\d{2})(\\s?[m]|\\s[ms]|\\s?[m2]|\\s?[metros]|\\s?[m^2])'\n",
    "regex = re.compile(patron, re.IGNORECASE)\n",
    "    \n",
    "    #Title\n",
    "regular = caba[caba.surface_covered.isnull()].title.apply(lambda x: x if x is np.nan else regex.search(x))\n",
    "serie = regular.apply(lambda x: x if x is None or x is np.nan else x.group('m2_total')).astype('float64')\n",
    "caba.surface_covered.fillna(serie, inplace=True)"
   ]
  },
  {
   "cell_type": "code",
   "execution_count": 16,
   "metadata": {},
   "outputs": [
    {
     "name": "stdout",
     "output_type": "stream",
     "text": [
      "Porcentaje de datos nulos en superficie total despues de regex: 6.44 %\n"
     ]
    }
   ],
   "source": [
    "print('Porcentaje de datos nulos en superficie total despues de regex:', (caba.surface_covered.isnull().sum()/caba.shape[0]*100).round(2), '%')"
   ]
  },
  {
   "cell_type": "code",
   "execution_count": 17,
   "metadata": {},
   "outputs": [
    {
     "name": "stderr",
     "output_type": "stream",
     "text": [
      "C:\\Users\\Lucas\\.conda\\envs\\dhdsblend\\lib\\site-packages\\pandas\\core\\generic.py:5303: SettingWithCopyWarning: \n",
      "A value is trying to be set on a copy of a slice from a DataFrame.\n",
      "Try using .loc[row_indexer,col_indexer] = value instead\n",
      "\n",
      "See the caveats in the documentation: https://pandas.pydata.org/pandas-docs/stable/user_guide/indexing.html#returning-a-view-versus-a-copy\n",
      "  self[name] = value\n"
     ]
    }
   ],
   "source": [
    "caba.surface_covered = pd.to_numeric(caba.surface_covered, downcast='float')"
   ]
  },
  {
   "cell_type": "markdown",
   "metadata": {},
   "source": [
    "#### Rooms"
   ]
  },
  {
   "cell_type": "code",
   "execution_count": 18,
   "metadata": {},
   "outputs": [
    {
     "name": "stdout",
     "output_type": "stream",
     "text": [
      "Porcentaje de datos nulos en rooms antes: 5.26 %\n"
     ]
    }
   ],
   "source": [
    "print('Porcentaje de datos nulos en rooms antes:', (caba.rooms.isnull().sum()/caba.shape[0]*100).round(2), '%')"
   ]
  },
  {
   "cell_type": "code",
   "execution_count": 19,
   "metadata": {},
   "outputs": [
    {
     "name": "stderr",
     "output_type": "stream",
     "text": [
      "C:\\Users\\Lucas\\.conda\\envs\\dhdsblend\\lib\\site-packages\\ipykernel_launcher.py:7: SettingWithCopyWarning: \n",
      "A value is trying to be set on a copy of a slice from a DataFrame.\n",
      "Try using .loc[row_indexer,col_indexer] = value instead\n",
      "\n",
      "See the caveats in the documentation: https://pandas.pydata.org/pandas-docs/stable/user_guide/indexing.html#returning-a-view-versus-a-copy\n",
      "  import sys\n",
      "C:\\Users\\Lucas\\.conda\\envs\\dhdsblend\\lib\\site-packages\\ipykernel_launcher.py:15: SettingWithCopyWarning: \n",
      "A value is trying to be set on a copy of a slice from a DataFrame.\n",
      "Try using .loc[row_indexer,col_indexer] = value instead\n",
      "\n",
      "See the caveats in the documentation: https://pandas.pydata.org/pandas-docs/stable/user_guide/indexing.html#returning-a-view-versus-a-copy\n",
      "  from ipykernel import kernelapp as app\n"
     ]
    }
   ],
   "source": [
    "pattern_ambientes = r'(?P<amb>\\d+)(\\s)(\\b(ambientes|ambiente|amb)\\b)'\n",
    "pattern_ambientes_regex = re.compile(pattern_ambientes)\n",
    "description_series = caba.title.astype(str)\n",
    "resultado_ambientes = description_series.apply(lambda x: x if x is np.nan else pattern_ambientes_regex.search(x))\n",
    "ambientes_match = resultado_ambientes.apply(lambda x: x if x is None else x.group('amb'))\n",
    "\n",
    "caba['rooms'] = caba['rooms'].fillna(ambientes_match)\n",
    "\n",
    "pattern_ambientes = r'(?P<amb>\\d+)(\\s)(\\b(ambientes|ambiente|amb)\\b)'\n",
    "pattern_ambientes_regex = re.compile(pattern_ambientes)\n",
    "description_series = caba.description.astype(str)\n",
    "resultado_ambientes = description_series.apply(lambda x: x if x is np.nan else pattern_ambientes_regex.search(x))\n",
    "ambientes_match = resultado_ambientes.apply(lambda x: x if x is None else x.group('amb'))\n",
    "\n",
    "caba['rooms'] = caba['rooms'].fillna(ambientes_match)"
   ]
  },
  {
   "cell_type": "code",
   "execution_count": 20,
   "metadata": {},
   "outputs": [
    {
     "name": "stdout",
     "output_type": "stream",
     "text": [
      "Porcentaje de datos nulos en rooms despues de regex: 3.1 %\n"
     ]
    }
   ],
   "source": [
    "print('Porcentaje de datos nulos en rooms despues de regex:', (caba.rooms.isnull().sum()/caba.shape[0]*100).round(2), '%')"
   ]
  },
  {
   "cell_type": "code",
   "execution_count": 21,
   "metadata": {},
   "outputs": [
    {
     "data": {
      "text/plain": [
       "2.0     30678\n",
       "3.0     27505\n",
       "1.0     22346\n",
       "4.0     15386\n",
       "5.0      3664\n",
       "6.0      1104\n",
       "2         821\n",
       "3         772\n",
       "7.0       371\n",
       "4         335\n",
       "1         306\n",
       "8.0       183\n",
       "9.0        93\n",
       "5          57\n",
       "10.0       34\n",
       "12.0       17\n",
       "6          12\n",
       "7           6\n",
       "14.0        4\n",
       "11.0        3\n",
       "15.0        3\n",
       "22.0        2\n",
       "21.0        1\n",
       "30.0        1\n",
       "11          1\n",
       "8           1\n",
       "Name: rooms, dtype: int64"
      ]
     },
     "execution_count": 21,
     "metadata": {},
     "output_type": "execute_result"
    }
   ],
   "source": [
    "caba.rooms.value_counts() #Encontramos floats y int"
   ]
  },
  {
   "cell_type": "code",
   "execution_count": 22,
   "metadata": {},
   "outputs": [],
   "source": [
    "caba.rooms.fillna(0, inplace=True) #Valores nan con 0 para eliminar los floats para que los datos esten uniformes. \n",
    "                                   #Valores nan se dara tratamiento en la seccion 9\n",
    "caba.rooms = pd.to_numeric(caba.rooms, downcast='integer')"
   ]
  },
  {
   "cell_type": "code",
   "execution_count": 23,
   "metadata": {},
   "outputs": [
    {
     "data": {
      "text/plain": [
       "2     31499\n",
       "3     28277\n",
       "1     22652\n",
       "4     15721\n",
       "5      3721\n",
       "0      3316\n",
       "6      1116\n",
       "7       377\n",
       "8       184\n",
       "9        93\n",
       "10       34\n",
       "12       17\n",
       "11        4\n",
       "14        4\n",
       "15        3\n",
       "22        2\n",
       "21        1\n",
       "30        1\n",
       "Name: rooms, dtype: int64"
      ]
     },
     "execution_count": 23,
     "metadata": {},
     "output_type": "execute_result"
    }
   ],
   "source": [
    "caba.rooms.value_counts()"
   ]
  },
  {
   "cell_type": "markdown",
   "metadata": {},
   "source": [
    "#### Bedrooms"
   ]
  },
  {
   "cell_type": "code",
   "execution_count": 24,
   "metadata": {},
   "outputs": [
    {
     "name": "stdout",
     "output_type": "stream",
     "text": [
      "Porcentaje de datos nulos en bedrooms antes: 22.73 %\n"
     ]
    }
   ],
   "source": [
    "print('Porcentaje de datos nulos en bedrooms antes:', (caba.bedrooms.isnull().sum()/caba.shape[0]*100).round(2), '%')"
   ]
  },
  {
   "cell_type": "code",
   "execution_count": 25,
   "metadata": {},
   "outputs": [
    {
     "name": "stderr",
     "output_type": "stream",
     "text": [
      "C:\\Users\\Lucas\\.conda\\envs\\dhdsblend\\lib\\site-packages\\ipykernel_launcher.py:7: SettingWithCopyWarning: \n",
      "A value is trying to be set on a copy of a slice from a DataFrame.\n",
      "Try using .loc[row_indexer,col_indexer] = value instead\n",
      "\n",
      "See the caveats in the documentation: https://pandas.pydata.org/pandas-docs/stable/user_guide/indexing.html#returning-a-view-versus-a-copy\n",
      "  import sys\n",
      "C:\\Users\\Lucas\\.conda\\envs\\dhdsblend\\lib\\site-packages\\ipykernel_launcher.py:15: SettingWithCopyWarning: \n",
      "A value is trying to be set on a copy of a slice from a DataFrame.\n",
      "Try using .loc[row_indexer,col_indexer] = value instead\n",
      "\n",
      "See the caveats in the documentation: https://pandas.pydata.org/pandas-docs/stable/user_guide/indexing.html#returning-a-view-versus-a-copy\n",
      "  from ipykernel import kernelapp as app\n"
     ]
    }
   ],
   "source": [
    "pattern_bed = r'(?P<bed>\\d+)(\\s)(\\b(cuarto|cuartos|habitacion|habitaciones|dormitorio|dormitorios|dorm|hab)\\b)'\n",
    "pattern_bed_regex = re.compile(pattern_bed)\n",
    "description_series = caba.title.astype(str)\n",
    "resultado_bed = description_series.apply(lambda x: x if x is np.nan else pattern_bed_regex.search(x))\n",
    "bed_match = resultado_bed.apply(lambda x: x if x is None else x.group('bed'))\n",
    "\n",
    "caba['bedrooms'] = caba['bedrooms'].fillna(bed_match)\n",
    "\n",
    "pattern_bed = r'(?P<bed>\\d+)(\\s)(\\b(cuarto|cuartos|habitacion|habitaciones|dormitorio|dormitorios|dorm|hab)\\b)'\n",
    "pattern_bed_regex = re.compile(pattern_bed)\n",
    "description_series = caba.description.astype(str)\n",
    "resultado_bed = description_series.apply(lambda x: x if x is np.nan else pattern_bed_regex.search(x))\n",
    "bed_match = resultado_bed.apply(lambda x: x if x is None else x.group('bed'))\n",
    "\n",
    "caba['bedrooms'] = caba['bedrooms'].fillna(bed_match)"
   ]
  },
  {
   "cell_type": "code",
   "execution_count": 26,
   "metadata": {},
   "outputs": [
    {
     "name": "stdout",
     "output_type": "stream",
     "text": [
      "Porcentaje de datos nulos en bedrooms despues de regex: 20.72 %\n"
     ]
    }
   ],
   "source": [
    "print('Porcentaje de datos nulos en bedrooms despues de regex:', (caba.bedrooms.isnull().sum()/caba.shape[0]*100).round(2), '%')"
   ]
  },
  {
   "cell_type": "code",
   "execution_count": 27,
   "metadata": {},
   "outputs": [
    {
     "data": {
      "text/plain": [
       "1.0      35064\n",
       "2.0      25921\n",
       "3.0      15168\n",
       "4.0       3165\n",
       "0.0       2603\n",
       "2          960\n",
       "3          675\n",
       "5.0        473\n",
       "1          370\n",
       "6.0        170\n",
       "4          135\n",
       "7.0         54\n",
       "8.0         36\n",
       "5           11\n",
       "10.0        10\n",
       "11.0         8\n",
       "22.0         4\n",
       "77.0         3\n",
       "15.0         2\n",
       "12.0         2\n",
       "21.0         2\n",
       "19           2\n",
       "153.0        2\n",
       "6            2\n",
       "13.0         1\n",
       "9.0          1\n",
       "14.0         1\n",
       "70.0         1\n",
       "130.0        1\n",
       "10           1\n",
       "8            1\n",
       "Name: bedrooms, dtype: int64"
      ]
     },
     "execution_count": 27,
     "metadata": {},
     "output_type": "execute_result"
    }
   ],
   "source": [
    "caba.bedrooms.value_counts()"
   ]
  },
  {
   "cell_type": "code",
   "execution_count": 28,
   "metadata": {},
   "outputs": [
    {
     "data": {
      "text/plain": [
       "1      35434\n",
       "2      26881\n",
       "0      24776\n",
       "3      15843\n",
       "4       3300\n",
       "5        484\n",
       "6        172\n",
       "7         54\n",
       "8         37\n",
       "10        11\n",
       "11         8\n",
       "22         4\n",
       "77         3\n",
       "153        2\n",
       "12         2\n",
       "15         2\n",
       "19         2\n",
       "21         2\n",
       "70         1\n",
       "13         1\n",
       "14         1\n",
       "130        1\n",
       "9          1\n",
       "Name: bedrooms, dtype: int64"
      ]
     },
     "execution_count": 28,
     "metadata": {},
     "output_type": "execute_result"
    }
   ],
   "source": [
    "caba.bedrooms.fillna(0, inplace=True) #Valores nan con 0 para eliminar los floats para que los datos esten uniformes. \n",
    "                                   #Valores nan se dara tratamiento en la seccion 9\n",
    "caba.bedrooms = pd.to_numeric(caba.bedrooms, downcast='integer')\n",
    "caba.bedrooms.value_counts()"
   ]
  },
  {
   "cell_type": "markdown",
   "metadata": {},
   "source": [
    "#### Baños"
   ]
  },
  {
   "cell_type": "code",
   "execution_count": 29,
   "metadata": {},
   "outputs": [
    {
     "name": "stdout",
     "output_type": "stream",
     "text": [
      "Porcentaje de datos nulos en baños antes: 4.87 %\n"
     ]
    }
   ],
   "source": [
    "print('Porcentaje de datos nulos en baños antes:', (caba.bathrooms.isnull().sum()/caba.shape[0]*100).round(2), '%')"
   ]
  },
  {
   "cell_type": "code",
   "execution_count": 30,
   "metadata": {},
   "outputs": [
    {
     "name": "stderr",
     "output_type": "stream",
     "text": [
      "C:\\Users\\Lucas\\.conda\\envs\\dhdsblend\\lib\\site-packages\\ipykernel_launcher.py:7: SettingWithCopyWarning: \n",
      "A value is trying to be set on a copy of a slice from a DataFrame.\n",
      "Try using .loc[row_indexer,col_indexer] = value instead\n",
      "\n",
      "See the caveats in the documentation: https://pandas.pydata.org/pandas-docs/stable/user_guide/indexing.html#returning-a-view-versus-a-copy\n",
      "  import sys\n",
      "C:\\Users\\Lucas\\.conda\\envs\\dhdsblend\\lib\\site-packages\\ipykernel_launcher.py:15: SettingWithCopyWarning: \n",
      "A value is trying to be set on a copy of a slice from a DataFrame.\n",
      "Try using .loc[row_indexer,col_indexer] = value instead\n",
      "\n",
      "See the caveats in the documentation: https://pandas.pydata.org/pandas-docs/stable/user_guide/indexing.html#returning-a-view-versus-a-copy\n",
      "  from ipykernel import kernelapp as app\n"
     ]
    }
   ],
   "source": [
    "pattern_banios = r'(?P<ban>\\d+)(\\s)(\\b(baños|baño)\\b)'\n",
    "pattern_banios_regex = re.compile(pattern_banios)\n",
    "description_series = caba.title.astype(str)\n",
    "resultado_banios = description_series.apply(lambda x: x if x is np.nan else pattern_banios_regex.search(x))\n",
    "banios_match = resultado_banios.apply(lambda x: x if x is None else x.group('ban'))\n",
    "\n",
    "caba['bathrooms'] = caba['bathrooms'].fillna(banios_match)\n",
    "\n",
    "pattern_banios = r'(?P<ban>\\d+)(\\s)(\\b(baños|baño)\\b)'\n",
    "pattern_banios_regex = re.compile(pattern_banios)\n",
    "description_series = caba.description.astype(str)\n",
    "resultado_banios = description_series.apply(lambda x: x if x is np.nan else pattern_banios_regex.search(x))\n",
    "banios_match = resultado_banios.apply(lambda x: x if x is None else x.group('ban'))\n",
    "\n",
    "caba['bathrooms'] = caba['bathrooms'].fillna(banios_match)"
   ]
  },
  {
   "cell_type": "code",
   "execution_count": 31,
   "metadata": {},
   "outputs": [
    {
     "name": "stdout",
     "output_type": "stream",
     "text": [
      "Porcentaje de datos nulos en baños despues de regex: 4.72 %\n"
     ]
    }
   ],
   "source": [
    "print('Porcentaje de datos nulos en baños despues de regex:', (caba.bathrooms.isnull().sum()/caba.shape[0]*100).round(2), '%')"
   ]
  },
  {
   "cell_type": "code",
   "execution_count": 32,
   "metadata": {},
   "outputs": [
    {
     "data": {
      "text/plain": [
       "1.0     69235\n",
       "2.0     22723\n",
       "3.0      6847\n",
       "4.0      2196\n",
       "5.0       646\n",
       "6.0       130\n",
       "2          88\n",
       "1          55\n",
       "7.0        22\n",
       "3          12\n",
       "11.0        3\n",
       "8.0         3\n",
       "10.0        2\n",
       "9.0         2\n",
       "12          1\n",
       "20.0        1\n",
       "Name: bathrooms, dtype: int64"
      ]
     },
     "execution_count": 32,
     "metadata": {},
     "output_type": "execute_result"
    }
   ],
   "source": [
    "caba.bathrooms.value_counts()"
   ]
  },
  {
   "cell_type": "code",
   "execution_count": 33,
   "metadata": {},
   "outputs": [
    {
     "data": {
      "text/plain": [
       "1     69290\n",
       "2     22811\n",
       "3      6859\n",
       "0      5056\n",
       "4      2196\n",
       "5       646\n",
       "6       130\n",
       "7        22\n",
       "11        3\n",
       "8         3\n",
       "10        2\n",
       "9         2\n",
       "20        1\n",
       "12        1\n",
       "Name: bathrooms, dtype: int64"
      ]
     },
     "execution_count": 33,
     "metadata": {},
     "output_type": "execute_result"
    }
   ],
   "source": [
    "caba.bathrooms.fillna(0, inplace=True) #Valores nan con 0 para eliminar los floats para que los datos esten uniformes. \n",
    "                                   #Valores nan se dara tratamiento en la seccion 9\n",
    "caba.bathrooms = pd.to_numeric(caba.bathrooms, downcast='integer')\n",
    "caba.bathrooms.value_counts()"
   ]
  },
  {
   "cell_type": "markdown",
   "metadata": {},
   "source": [
    "### 5) Busqueda de amenities usando expresiones regulares"
   ]
  },
  {
   "cell_type": "markdown",
   "metadata": {},
   "source": [
    "#### Pileta"
   ]
  },
  {
   "cell_type": "code",
   "execution_count": 34,
   "metadata": {},
   "outputs": [
    {
     "name": "stderr",
     "output_type": "stream",
     "text": [
      "C:\\Users\\Lucas\\.conda\\envs\\dhdsblend\\lib\\site-packages\\ipykernel_launcher.py:9: SettingWithCopyWarning: \n",
      "A value is trying to be set on a copy of a slice from a DataFrame.\n",
      "Try using .loc[row_indexer,col_indexer] = value instead\n",
      "\n",
      "See the caveats in the documentation: https://pandas.pydata.org/pandas-docs/stable/user_guide/indexing.html#returning-a-view-versus-a-copy\n",
      "  if __name__ == '__main__':\n",
      "C:\\Users\\Lucas\\.conda\\envs\\dhdsblend\\lib\\site-packages\\ipykernel_launcher.py:19: SettingWithCopyWarning: \n",
      "A value is trying to be set on a copy of a slice from a DataFrame.\n",
      "Try using .loc[row_indexer,col_indexer] = value instead\n",
      "\n",
      "See the caveats in the documentation: https://pandas.pydata.org/pandas-docs/stable/user_guide/indexing.html#returning-a-view-versus-a-copy\n"
     ]
    }
   ],
   "source": [
    "pattern_pileta = \"(?P<pile>[pP]ileta)\"\n",
    "pattern_pileta_regex = re.compile(pattern_pileta)\n",
    "description_series = caba.title.astype(str)\n",
    "resultado_pileta = description_series.apply(lambda x: x if x is np.nan else pattern_pileta_regex.search(x))\n",
    "pileta_match = resultado_pileta.apply(lambda x: x if x is None else x.group('pile'))\n",
    "\n",
    "pileta_match.replace('pileta', 'Pileta', inplace = True)\n",
    "\n",
    "caba['Pileta'] = pileta_match\n",
    "\n",
    "pattern_pileta = \"(?P<pile>[pP]ileta)\"\n",
    "pattern_pileta_regex = re.compile(pattern_pileta)\n",
    "description_series = caba.description.astype(str)\n",
    "resultado_pileta = description_series.apply(lambda x: x if x is np.nan else pattern_pileta_regex.search(x))\n",
    "pileta_match = resultado_pileta.apply(lambda x: x if x is None else x.group('pile'))\n",
    "\n",
    "pileta_match.replace('pileta', 'Pileta', inplace = True)\n",
    "\n",
    "caba['Pileta'] = pileta_match"
   ]
  },
  {
   "cell_type": "code",
   "execution_count": 35,
   "metadata": {},
   "outputs": [
    {
     "data": {
      "text/plain": [
       "Pileta    10684\n",
       "Name: Pileta, dtype: int64"
      ]
     },
     "execution_count": 35,
     "metadata": {},
     "output_type": "execute_result"
    }
   ],
   "source": [
    "caba.Pileta.value_counts()"
   ]
  },
  {
   "cell_type": "markdown",
   "metadata": {},
   "source": [
    "#### Chochera"
   ]
  },
  {
   "cell_type": "code",
   "execution_count": 36,
   "metadata": {},
   "outputs": [
    {
     "name": "stderr",
     "output_type": "stream",
     "text": [
      "C:\\Users\\Lucas\\.conda\\envs\\dhdsblend\\lib\\site-packages\\ipykernel_launcher.py:8: SettingWithCopyWarning: \n",
      "A value is trying to be set on a copy of a slice from a DataFrame.\n",
      "Try using .loc[row_indexer,col_indexer] = value instead\n",
      "\n",
      "See the caveats in the documentation: https://pandas.pydata.org/pandas-docs/stable/user_guide/indexing.html#returning-a-view-versus-a-copy\n",
      "  \n",
      "C:\\Users\\Lucas\\.conda\\envs\\dhdsblend\\lib\\site-packages\\ipykernel_launcher.py:17: SettingWithCopyWarning: \n",
      "A value is trying to be set on a copy of a slice from a DataFrame.\n",
      "Try using .loc[row_indexer,col_indexer] = value instead\n",
      "\n",
      "See the caveats in the documentation: https://pandas.pydata.org/pandas-docs/stable/user_guide/indexing.html#returning-a-view-versus-a-copy\n"
     ]
    }
   ],
   "source": [
    "pattern_cochera = \"(?P<coch>[cC]ochera)\"\n",
    "pattern_cochera_regex = re.compile(pattern_cochera)\n",
    "description_series = caba.title.astype(str)\n",
    "resultado_cochera = description_series.apply(lambda x: x if x is np.nan else pattern_cochera_regex.search(x))\n",
    "cochera_match = resultado_cochera.apply(lambda x: x if x is None else x.group('coch'))\n",
    "\n",
    "cochera_match.replace('cochera', 'Cochera', inplace = True)\n",
    "caba['Cochera'] = cochera_match\n",
    "\n",
    "pattern_cochera = \"(?P<coch>[cC]ochera)\"\n",
    "pattern_cochera_regex = re.compile(pattern_cochera)\n",
    "description_series = caba.description.astype(str)\n",
    "resultado_cochera = description_series.apply(lambda x: x if x is np.nan else pattern_cochera_regex.search(x))\n",
    "cochera_match = resultado_cochera.apply(lambda x: x if x is None else x.group('coch'))\n",
    "\n",
    "cochera_match.replace('cochera', 'Cochera', inplace = True)\n",
    "caba['Cochera'] = cochera_match"
   ]
  },
  {
   "cell_type": "code",
   "execution_count": 37,
   "metadata": {},
   "outputs": [
    {
     "data": {
      "text/plain": [
       "Cochera    31828\n",
       "Name: Cochera, dtype: int64"
      ]
     },
     "execution_count": 37,
     "metadata": {},
     "output_type": "execute_result"
    }
   ],
   "source": [
    "caba.Cochera.value_counts()"
   ]
  },
  {
   "cell_type": "markdown",
   "metadata": {},
   "source": [
    "#### Parrilla"
   ]
  },
  {
   "cell_type": "code",
   "execution_count": 38,
   "metadata": {},
   "outputs": [
    {
     "name": "stderr",
     "output_type": "stream",
     "text": [
      "C:\\Users\\Lucas\\.conda\\envs\\dhdsblend\\lib\\site-packages\\ipykernel_launcher.py:8: SettingWithCopyWarning: \n",
      "A value is trying to be set on a copy of a slice from a DataFrame.\n",
      "Try using .loc[row_indexer,col_indexer] = value instead\n",
      "\n",
      "See the caveats in the documentation: https://pandas.pydata.org/pandas-docs/stable/user_guide/indexing.html#returning-a-view-versus-a-copy\n",
      "  \n",
      "C:\\Users\\Lucas\\.conda\\envs\\dhdsblend\\lib\\site-packages\\ipykernel_launcher.py:17: SettingWithCopyWarning: \n",
      "A value is trying to be set on a copy of a slice from a DataFrame.\n",
      "Try using .loc[row_indexer,col_indexer] = value instead\n",
      "\n",
      "See the caveats in the documentation: https://pandas.pydata.org/pandas-docs/stable/user_guide/indexing.html#returning-a-view-versus-a-copy\n"
     ]
    }
   ],
   "source": [
    "pattern_parrilla = \"(?P<parri>[pP]arrilla)\"\n",
    "pattern_parrilla_regex = re.compile(pattern_parrilla)\n",
    "description_series = caba.title.astype(str)\n",
    "resultado_parrilla = description_series.apply(lambda x: x if x is np.nan else pattern_parrilla_regex.search(x))\n",
    "parrilla_match = resultado_parrilla.apply(lambda x: x if x is None else x.group('parri'))\n",
    "\n",
    "parrilla_match.replace('parrilla', 'Parrilla', inplace = True)\n",
    "caba['Parrilla'] = parrilla_match\n",
    "\n",
    "pattern_parrilla = \"(?P<parri>[pP]arrilla)\"\n",
    "pattern_parrilla_regex = re.compile(pattern_parrilla)\n",
    "description_series = caba.description.astype(str)\n",
    "resultado_parrilla = description_series.apply(lambda x: x if x is np.nan else pattern_parrilla_regex.search(x))\n",
    "parrilla_match = resultado_parrilla.apply(lambda x: x if x is None else x.group('parri'))\n",
    "\n",
    "parrilla_match.replace('parrilla', 'Parrilla', inplace = True)\n",
    "caba['Parrilla'] = parrilla_match"
   ]
  },
  {
   "cell_type": "code",
   "execution_count": 39,
   "metadata": {},
   "outputs": [
    {
     "data": {
      "text/plain": [
       "Parrilla    23490\n",
       "Name: Parrilla, dtype: int64"
      ]
     },
     "execution_count": 39,
     "metadata": {},
     "output_type": "execute_result"
    }
   ],
   "source": [
    "caba.Parrilla.value_counts()"
   ]
  },
  {
   "cell_type": "markdown",
   "metadata": {},
   "source": [
    "#### SUM"
   ]
  },
  {
   "cell_type": "code",
   "execution_count": 40,
   "metadata": {},
   "outputs": [
    {
     "name": "stderr",
     "output_type": "stream",
     "text": [
      "C:\\Users\\Lucas\\.conda\\envs\\dhdsblend\\lib\\site-packages\\ipykernel_launcher.py:8: SettingWithCopyWarning: \n",
      "A value is trying to be set on a copy of a slice from a DataFrame.\n",
      "Try using .loc[row_indexer,col_indexer] = value instead\n",
      "\n",
      "See the caveats in the documentation: https://pandas.pydata.org/pandas-docs/stable/user_guide/indexing.html#returning-a-view-versus-a-copy\n",
      "  \n",
      "C:\\Users\\Lucas\\.conda\\envs\\dhdsblend\\lib\\site-packages\\ipykernel_launcher.py:17: SettingWithCopyWarning: \n",
      "A value is trying to be set on a copy of a slice from a DataFrame.\n",
      "Try using .loc[row_indexer,col_indexer] = value instead\n",
      "\n",
      "See the caveats in the documentation: https://pandas.pydata.org/pandas-docs/stable/user_guide/indexing.html#returning-a-view-versus-a-copy\n"
     ]
    }
   ],
   "source": [
    "pattern_sum = \"(?P<sum>sum)\"\n",
    "pattern_sum_regex = re.compile(pattern_sum, re.IGNORECASE)\n",
    "description_series = caba.title.astype(str)\n",
    "resultado_sum = description_series.apply(lambda x: x if x is np.nan else pattern_sum_regex.search(x))\n",
    "sum_match = resultado_sum.apply(lambda x: x if x is None else x.group('sum'))\n",
    "\n",
    "sum_match.replace('sum', 'SUM', inplace = True)\n",
    "caba['sum'] = sum_match\n",
    "\n",
    "pattern_sum = \"(?P<sum>sum)\"\n",
    "pattern_sum_regex = re.compile(pattern_sum, re.IGNORECASE)\n",
    "description_series = caba.description.astype(str)\n",
    "resultado_sum = description_series.apply(lambda x: x if x is np.nan else pattern_sum_regex.search(x))\n",
    "sum_match = resultado_sum.apply(lambda x: x if x is None else x.group('sum'))\n",
    "\n",
    "sum_match.replace('sum', 'SUM', inplace = True)\n",
    "caba['sum'] = sum_match"
   ]
  },
  {
   "cell_type": "code",
   "execution_count": 41,
   "metadata": {},
   "outputs": [
    {
     "data": {
      "text/plain": [
       "SUM    21787\n",
       "Sum     4657\n",
       "SUm        1\n",
       "Name: sum, dtype: int64"
      ]
     },
     "execution_count": 41,
     "metadata": {},
     "output_type": "execute_result"
    }
   ],
   "source": [
    "caba['sum'].value_counts()"
   ]
  },
  {
   "cell_type": "code",
   "execution_count": 42,
   "metadata": {},
   "outputs": [
    {
     "name": "stderr",
     "output_type": "stream",
     "text": [
      "C:\\Users\\Lucas\\.conda\\envs\\dhdsblend\\lib\\site-packages\\pandas\\core\\generic.py:6746: SettingWithCopyWarning: \n",
      "A value is trying to be set on a copy of a slice from a DataFrame\n",
      "\n",
      "See the caveats in the documentation: https://pandas.pydata.org/pandas-docs/stable/user_guide/indexing.html#returning-a-view-versus-a-copy\n",
      "  self._update_inplace(new_data)\n"
     ]
    }
   ],
   "source": [
    "caba['sum'].replace('Sum', 'SUM', inplace=True)\n",
    "caba['sum'].replace('SUm', 'SUM', inplace=True)"
   ]
  },
  {
   "cell_type": "code",
   "execution_count": 43,
   "metadata": {},
   "outputs": [
    {
     "data": {
      "text/plain": [
       "SUM    26445\n",
       "Name: sum, dtype: int64"
      ]
     },
     "execution_count": 43,
     "metadata": {},
     "output_type": "execute_result"
    }
   ],
   "source": [
    "caba['sum'].value_counts()"
   ]
  },
  {
   "cell_type": "markdown",
   "metadata": {},
   "source": [
    "### 6) Verificacion de la calidad de los datos"
   ]
  },
  {
   "cell_type": "code",
   "execution_count": 44,
   "metadata": {},
   "outputs": [
    {
     "data": {
      "text/plain": [
       "Index(['id', 'ad_type', 'start_date', 'end_date', 'created_on', 'lat', 'lon',\n",
       "       'l1', 'l2', 'barrios', 'l4', 'l5', 'l6', 'rooms', 'bedrooms',\n",
       "       'bathrooms', 'surface_total', 'surface_covered', 'price', 'currency',\n",
       "       'price_period', 'title', 'description', 'property_type',\n",
       "       'operation_type', 'Pileta', 'Cochera', 'Parrilla', 'sum'],\n",
       "      dtype='object')"
      ]
     },
     "execution_count": 44,
     "metadata": {},
     "output_type": "execute_result"
    }
   ],
   "source": [
    "caba.columns"
   ]
  },
  {
   "cell_type": "code",
   "execution_count": 45,
   "metadata": {},
   "outputs": [
    {
     "data": {
      "text/plain": [
       "True"
      ]
     },
     "execution_count": 45,
     "metadata": {},
     "output_type": "execute_result"
    }
   ],
   "source": [
    "any(caba['surface_total'] == caba['surface_covered'])"
   ]
  },
  {
   "cell_type": "code",
   "execution_count": 46,
   "metadata": {},
   "outputs": [
    {
     "data": {
      "text/plain": [
       "True"
      ]
     },
     "execution_count": 46,
     "metadata": {},
     "output_type": "execute_result"
    }
   ],
   "source": [
    "any(caba['surface_total'] < caba['surface_covered']) #Vemos que hay datos inconsistentes aqui"
   ]
  },
  {
   "cell_type": "code",
   "execution_count": 47,
   "metadata": {},
   "outputs": [],
   "source": [
    "#Separamos las columnas que vamos a trabajar para analisis posteriores\n",
    "columns = ['barrios','lat','lon','surface_total', 'surface_covered',\n",
    "           'price', 'rooms', 'bedrooms', 'bathrooms', 'Pileta', 'Cochera', 'Parrilla', 'sum']"
   ]
  },
  {
   "cell_type": "code",
   "execution_count": 48,
   "metadata": {},
   "outputs": [
    {
     "data": {
      "text/html": [
       "<div>\n",
       "<style scoped>\n",
       "    .dataframe tbody tr th:only-of-type {\n",
       "        vertical-align: middle;\n",
       "    }\n",
       "\n",
       "    .dataframe tbody tr th {\n",
       "        vertical-align: top;\n",
       "    }\n",
       "\n",
       "    .dataframe thead th {\n",
       "        text-align: right;\n",
       "    }\n",
       "</style>\n",
       "<table border=\"1\" class=\"dataframe\">\n",
       "  <thead>\n",
       "    <tr style=\"text-align: right;\">\n",
       "      <th></th>\n",
       "      <th>barrios</th>\n",
       "      <th>lat</th>\n",
       "      <th>lon</th>\n",
       "      <th>surface_total</th>\n",
       "      <th>surface_covered</th>\n",
       "      <th>price</th>\n",
       "      <th>rooms</th>\n",
       "      <th>bedrooms</th>\n",
       "      <th>bathrooms</th>\n",
       "      <th>Pileta</th>\n",
       "      <th>Cochera</th>\n",
       "      <th>Parrilla</th>\n",
       "      <th>sum</th>\n",
       "    </tr>\n",
       "  </thead>\n",
       "  <tbody>\n",
       "    <tr>\n",
       "      <th>998</th>\n",
       "      <td>NaN</td>\n",
       "      <td>-34.601917</td>\n",
       "      <td>-58.369932</td>\n",
       "      <td>NaN</td>\n",
       "      <td>NaN</td>\n",
       "      <td>300000.0</td>\n",
       "      <td>5</td>\n",
       "      <td>153</td>\n",
       "      <td>0</td>\n",
       "      <td>None</td>\n",
       "      <td>None</td>\n",
       "      <td>None</td>\n",
       "      <td>None</td>\n",
       "    </tr>\n",
       "    <tr>\n",
       "      <th>1018</th>\n",
       "      <td>Boca</td>\n",
       "      <td>-34.629051</td>\n",
       "      <td>-58.365906</td>\n",
       "      <td>34.0</td>\n",
       "      <td>32.0</td>\n",
       "      <td>52000.0</td>\n",
       "      <td>0</td>\n",
       "      <td>0</td>\n",
       "      <td>1</td>\n",
       "      <td>None</td>\n",
       "      <td>None</td>\n",
       "      <td>None</td>\n",
       "      <td>None</td>\n",
       "    </tr>\n",
       "  </tbody>\n",
       "</table>\n",
       "</div>"
      ],
      "text/plain": [
       "     barrios        lat        lon  surface_total  surface_covered     price  \\\n",
       "998      NaN -34.601917 -58.369932            NaN              NaN  300000.0   \n",
       "1018    Boca -34.629051 -58.365906           34.0             32.0   52000.0   \n",
       "\n",
       "      rooms  bedrooms  bathrooms Pileta Cochera Parrilla   sum  \n",
       "998       5       153          0   None    None     None  None  \n",
       "1018      0         0          1   None    None     None  None  "
      ]
     },
     "execution_count": 48,
     "metadata": {},
     "output_type": "execute_result"
    }
   ],
   "source": [
    "caba = caba[columns]\n",
    "caba.head(2)"
   ]
  },
  {
   "cell_type": "code",
   "execution_count": 49,
   "metadata": {},
   "outputs": [
    {
     "data": {
      "text/html": [
       "<div>\n",
       "<style scoped>\n",
       "    .dataframe tbody tr th:only-of-type {\n",
       "        vertical-align: middle;\n",
       "    }\n",
       "\n",
       "    .dataframe tbody tr th {\n",
       "        vertical-align: top;\n",
       "    }\n",
       "\n",
       "    .dataframe thead th {\n",
       "        text-align: right;\n",
       "    }\n",
       "</style>\n",
       "<table border=\"1\" class=\"dataframe\">\n",
       "  <thead>\n",
       "    <tr style=\"text-align: right;\">\n",
       "      <th></th>\n",
       "      <th>barrios</th>\n",
       "      <th>lat</th>\n",
       "      <th>lon</th>\n",
       "      <th>surface_total</th>\n",
       "      <th>surface_covered</th>\n",
       "      <th>price</th>\n",
       "      <th>rooms</th>\n",
       "      <th>bedrooms</th>\n",
       "      <th>bathrooms</th>\n",
       "      <th>Pileta</th>\n",
       "      <th>Cochera</th>\n",
       "      <th>Parrilla</th>\n",
       "      <th>sum</th>\n",
       "    </tr>\n",
       "  </thead>\n",
       "  <tbody>\n",
       "    <tr>\n",
       "      <th>2511</th>\n",
       "      <td>Villa Urquiza</td>\n",
       "      <td>-34.573597</td>\n",
       "      <td>-58.480588</td>\n",
       "      <td>64.0</td>\n",
       "      <td>69.0</td>\n",
       "      <td>225000.0</td>\n",
       "      <td>3</td>\n",
       "      <td>0</td>\n",
       "      <td>0</td>\n",
       "      <td>None</td>\n",
       "      <td>Cochera</td>\n",
       "      <td>None</td>\n",
       "      <td>None</td>\n",
       "    </tr>\n",
       "    <tr>\n",
       "      <th>3575</th>\n",
       "      <td>Villa Luro</td>\n",
       "      <td>-34.645707</td>\n",
       "      <td>-58.491867</td>\n",
       "      <td>60.0</td>\n",
       "      <td>65.0</td>\n",
       "      <td>110000.0</td>\n",
       "      <td>3</td>\n",
       "      <td>2</td>\n",
       "      <td>1</td>\n",
       "      <td>None</td>\n",
       "      <td>Cochera</td>\n",
       "      <td>None</td>\n",
       "      <td>None</td>\n",
       "    </tr>\n",
       "    <tr>\n",
       "      <th>3584</th>\n",
       "      <td>Villa Lugano</td>\n",
       "      <td>-34.691219</td>\n",
       "      <td>-58.464096</td>\n",
       "      <td>65.0</td>\n",
       "      <td>70.0</td>\n",
       "      <td>90000.0</td>\n",
       "      <td>3</td>\n",
       "      <td>2</td>\n",
       "      <td>1</td>\n",
       "      <td>None</td>\n",
       "      <td>None</td>\n",
       "      <td>None</td>\n",
       "      <td>None</td>\n",
       "    </tr>\n",
       "    <tr>\n",
       "      <th>3663</th>\n",
       "      <td>Villa Lugano</td>\n",
       "      <td>-34.683138</td>\n",
       "      <td>-58.472182</td>\n",
       "      <td>60.0</td>\n",
       "      <td>65.0</td>\n",
       "      <td>89000.0</td>\n",
       "      <td>4</td>\n",
       "      <td>3</td>\n",
       "      <td>1</td>\n",
       "      <td>None</td>\n",
       "      <td>Cochera</td>\n",
       "      <td>None</td>\n",
       "      <td>None</td>\n",
       "    </tr>\n",
       "    <tr>\n",
       "      <th>6552</th>\n",
       "      <td>Caballito</td>\n",
       "      <td>-34.628396</td>\n",
       "      <td>-58.444387</td>\n",
       "      <td>125.0</td>\n",
       "      <td>134.0</td>\n",
       "      <td>262000.0</td>\n",
       "      <td>4</td>\n",
       "      <td>3</td>\n",
       "      <td>2</td>\n",
       "      <td>None</td>\n",
       "      <td>Cochera</td>\n",
       "      <td>Parrilla</td>\n",
       "      <td>None</td>\n",
       "    </tr>\n",
       "    <tr>\n",
       "      <th>...</th>\n",
       "      <td>...</td>\n",
       "      <td>...</td>\n",
       "      <td>...</td>\n",
       "      <td>...</td>\n",
       "      <td>...</td>\n",
       "      <td>...</td>\n",
       "      <td>...</td>\n",
       "      <td>...</td>\n",
       "      <td>...</td>\n",
       "      <td>...</td>\n",
       "      <td>...</td>\n",
       "      <td>...</td>\n",
       "      <td>...</td>\n",
       "    </tr>\n",
       "    <tr>\n",
       "      <th>983693</th>\n",
       "      <td>Villa Crespo</td>\n",
       "      <td>-34.598182</td>\n",
       "      <td>-58.438487</td>\n",
       "      <td>66.0</td>\n",
       "      <td>80.0</td>\n",
       "      <td>145000.0</td>\n",
       "      <td>4</td>\n",
       "      <td>2</td>\n",
       "      <td>1</td>\n",
       "      <td>None</td>\n",
       "      <td>None</td>\n",
       "      <td>None</td>\n",
       "      <td>SUM</td>\n",
       "    </tr>\n",
       "    <tr>\n",
       "      <th>984196</th>\n",
       "      <td>Flores</td>\n",
       "      <td>-34.624166</td>\n",
       "      <td>-58.457257</td>\n",
       "      <td>78.0</td>\n",
       "      <td>79.0</td>\n",
       "      <td>149500.0</td>\n",
       "      <td>4</td>\n",
       "      <td>3</td>\n",
       "      <td>1</td>\n",
       "      <td>None</td>\n",
       "      <td>None</td>\n",
       "      <td>None</td>\n",
       "      <td>None</td>\n",
       "    </tr>\n",
       "    <tr>\n",
       "      <th>987940</th>\n",
       "      <td>Belgrano</td>\n",
       "      <td>-34.558663</td>\n",
       "      <td>-58.456854</td>\n",
       "      <td>88.0</td>\n",
       "      <td>97.0</td>\n",
       "      <td>230000.0</td>\n",
       "      <td>3</td>\n",
       "      <td>0</td>\n",
       "      <td>0</td>\n",
       "      <td>None</td>\n",
       "      <td>None</td>\n",
       "      <td>None</td>\n",
       "      <td>None</td>\n",
       "    </tr>\n",
       "    <tr>\n",
       "      <th>988001</th>\n",
       "      <td>Barrio Norte</td>\n",
       "      <td>-34.594943</td>\n",
       "      <td>-58.392115</td>\n",
       "      <td>38.0</td>\n",
       "      <td>80.0</td>\n",
       "      <td>100000.0</td>\n",
       "      <td>1</td>\n",
       "      <td>0</td>\n",
       "      <td>1</td>\n",
       "      <td>None</td>\n",
       "      <td>None</td>\n",
       "      <td>None</td>\n",
       "      <td>SUM</td>\n",
       "    </tr>\n",
       "    <tr>\n",
       "      <th>991666</th>\n",
       "      <td>Saavedra</td>\n",
       "      <td>-34.543728</td>\n",
       "      <td>-58.484518</td>\n",
       "      <td>90.0</td>\n",
       "      <td>98.0</td>\n",
       "      <td>254700.0</td>\n",
       "      <td>3</td>\n",
       "      <td>2</td>\n",
       "      <td>1</td>\n",
       "      <td>None</td>\n",
       "      <td>Cochera</td>\n",
       "      <td>None</td>\n",
       "      <td>None</td>\n",
       "    </tr>\n",
       "  </tbody>\n",
       "</table>\n",
       "<p>855 rows × 13 columns</p>\n",
       "</div>"
      ],
      "text/plain": [
       "              barrios        lat        lon  surface_total  surface_covered  \\\n",
       "2511    Villa Urquiza -34.573597 -58.480588           64.0             69.0   \n",
       "3575       Villa Luro -34.645707 -58.491867           60.0             65.0   \n",
       "3584     Villa Lugano -34.691219 -58.464096           65.0             70.0   \n",
       "3663     Villa Lugano -34.683138 -58.472182           60.0             65.0   \n",
       "6552        Caballito -34.628396 -58.444387          125.0            134.0   \n",
       "...               ...        ...        ...            ...              ...   \n",
       "983693   Villa Crespo -34.598182 -58.438487           66.0             80.0   \n",
       "984196         Flores -34.624166 -58.457257           78.0             79.0   \n",
       "987940       Belgrano -34.558663 -58.456854           88.0             97.0   \n",
       "988001   Barrio Norte -34.594943 -58.392115           38.0             80.0   \n",
       "991666       Saavedra -34.543728 -58.484518           90.0             98.0   \n",
       "\n",
       "           price  rooms  bedrooms  bathrooms Pileta  Cochera  Parrilla   sum  \n",
       "2511    225000.0      3         0          0   None  Cochera      None  None  \n",
       "3575    110000.0      3         2          1   None  Cochera      None  None  \n",
       "3584     90000.0      3         2          1   None     None      None  None  \n",
       "3663     89000.0      4         3          1   None  Cochera      None  None  \n",
       "6552    262000.0      4         3          2   None  Cochera  Parrilla  None  \n",
       "...          ...    ...       ...        ...    ...      ...       ...   ...  \n",
       "983693  145000.0      4         2          1   None     None      None   SUM  \n",
       "984196  149500.0      4         3          1   None     None      None  None  \n",
       "987940  230000.0      3         0          0   None     None      None  None  \n",
       "988001  100000.0      1         0          1   None     None      None   SUM  \n",
       "991666  254700.0      3         2          1   None  Cochera      None  None  \n",
       "\n",
       "[855 rows x 13 columns]"
      ]
     },
     "execution_count": 49,
     "metadata": {},
     "output_type": "execute_result"
    }
   ],
   "source": [
    "caba.loc[caba['surface_total'] < caba['surface_covered']] #Filtramos los datos que son inconsistentes"
   ]
  },
  {
   "cell_type": "code",
   "execution_count": 50,
   "metadata": {},
   "outputs": [],
   "source": [
    "#Todos aquellos datos donde total < cubierta, vamos a asignarle el valor de la superficie cubierta\n",
    "caba.loc[caba['surface_total'] < caba['surface_covered'], ['surface_total']] = caba['surface_covered'] "
   ]
  },
  {
   "cell_type": "code",
   "execution_count": 51,
   "metadata": {},
   "outputs": [
    {
     "data": {
      "text/html": [
       "<div>\n",
       "<style scoped>\n",
       "    .dataframe tbody tr th:only-of-type {\n",
       "        vertical-align: middle;\n",
       "    }\n",
       "\n",
       "    .dataframe tbody tr th {\n",
       "        vertical-align: top;\n",
       "    }\n",
       "\n",
       "    .dataframe thead th {\n",
       "        text-align: right;\n",
       "    }\n",
       "</style>\n",
       "<table border=\"1\" class=\"dataframe\">\n",
       "  <thead>\n",
       "    <tr style=\"text-align: right;\">\n",
       "      <th></th>\n",
       "      <th>barrios</th>\n",
       "      <th>lat</th>\n",
       "      <th>lon</th>\n",
       "      <th>surface_total</th>\n",
       "      <th>surface_covered</th>\n",
       "      <th>price</th>\n",
       "      <th>rooms</th>\n",
       "      <th>bedrooms</th>\n",
       "      <th>bathrooms</th>\n",
       "      <th>Pileta</th>\n",
       "      <th>Cochera</th>\n",
       "      <th>Parrilla</th>\n",
       "      <th>sum</th>\n",
       "    </tr>\n",
       "  </thead>\n",
       "  <tbody>\n",
       "    <tr>\n",
       "      <th>2511</th>\n",
       "      <td>Villa Urquiza</td>\n",
       "      <td>-34.573597</td>\n",
       "      <td>-58.480588</td>\n",
       "      <td>69.0</td>\n",
       "      <td>69.0</td>\n",
       "      <td>225000.0</td>\n",
       "      <td>3</td>\n",
       "      <td>0</td>\n",
       "      <td>0</td>\n",
       "      <td>None</td>\n",
       "      <td>Cochera</td>\n",
       "      <td>None</td>\n",
       "      <td>None</td>\n",
       "    </tr>\n",
       "  </tbody>\n",
       "</table>\n",
       "</div>"
      ],
      "text/plain": [
       "            barrios        lat        lon  surface_total  surface_covered  \\\n",
       "2511  Villa Urquiza -34.573597 -58.480588           69.0             69.0   \n",
       "\n",
       "         price  rooms  bedrooms  bathrooms Pileta  Cochera Parrilla   sum  \n",
       "2511  225000.0      3         0          0   None  Cochera     None  None  "
      ]
     },
     "execution_count": 51,
     "metadata": {},
     "output_type": "execute_result"
    }
   ],
   "source": [
    "caba.loc[2511:2512] #verificamos que este correcto"
   ]
  },
  {
   "cell_type": "code",
   "execution_count": 52,
   "metadata": {},
   "outputs": [
    {
     "data": {
      "text/plain": [
       "(107022, 13)"
      ]
     },
     "execution_count": 52,
     "metadata": {},
     "output_type": "execute_result"
    }
   ],
   "source": [
    "caba.shape"
   ]
  },
  {
   "cell_type": "code",
   "execution_count": 53,
   "metadata": {},
   "outputs": [
    {
     "data": {
      "text/plain": [
       "barrios             3.814169\n",
       "lat                 8.630001\n",
       "lon                 8.697277\n",
       "surface_total      24.760330\n",
       "surface_covered     6.436994\n",
       "price               0.000000\n",
       "rooms               0.000000\n",
       "bedrooms            0.000000\n",
       "bathrooms           0.000000\n",
       "Pileta             90.017006\n",
       "Cochera            70.260320\n",
       "Parrilla           78.051242\n",
       "sum                75.290127\n",
       "dtype: float64"
      ]
     },
     "execution_count": 53,
     "metadata": {},
     "output_type": "execute_result"
    }
   ],
   "source": [
    "caba.isnull().sum() / caba.shape[0]*100"
   ]
  },
  {
   "cell_type": "code",
   "execution_count": 54,
   "metadata": {},
   "outputs": [],
   "source": [
    "caba.dropna(subset=['surface_total', 'surface_covered', 'barrios'], inplace=True)"
   ]
  },
  {
   "cell_type": "code",
   "execution_count": 55,
   "metadata": {},
   "outputs": [
    {
     "data": {
      "text/plain": [
       "(79702, 13)"
      ]
     },
     "execution_count": 55,
     "metadata": {},
     "output_type": "execute_result"
    }
   ],
   "source": [
    "caba.shape"
   ]
  },
  {
   "cell_type": "code",
   "execution_count": 56,
   "metadata": {},
   "outputs": [
    {
     "data": {
      "text/plain": [
       "barrios             0.000000\n",
       "lat                 6.311009\n",
       "lon                 6.311009\n",
       "surface_total       0.000000\n",
       "surface_covered     0.000000\n",
       "price               0.000000\n",
       "rooms               0.000000\n",
       "bedrooms            0.000000\n",
       "bathrooms           0.000000\n",
       "Pileta             89.059246\n",
       "Cochera            70.290582\n",
       "Parrilla           78.600286\n",
       "sum                75.695717\n",
       "dtype: float64"
      ]
     },
     "execution_count": 56,
     "metadata": {},
     "output_type": "execute_result"
    }
   ],
   "source": [
    "caba.isnull().sum() / caba.shape[0]*100"
   ]
  },
  {
   "cell_type": "markdown",
   "metadata": {},
   "source": [
    "### 7) Visualizacion de la distribucion de los datos"
   ]
  },
  {
   "cell_type": "code",
   "execution_count": 57,
   "metadata": {},
   "outputs": [
    {
     "name": "stdout",
     "output_type": "stream",
     "text": [
      "count     79702.000000\n",
      "mean        103.676144\n",
      "std        1100.009777\n",
      "min           0.000000\n",
      "25%          43.000000\n",
      "50%          61.000000\n",
      "75%          92.000000\n",
      "max      140380.000000\n",
      "Name: surface_total, dtype: float64\n"
     ]
    },
    {
     "data": {
      "image/png": "[encoded data removed]",
      "text/plain": [
       "<Figure size 432x288 with 1 Axes>"
      ]
     },
     "metadata": {},
     "output_type": "display_data"
    }
   ],
   "source": [
    "print(caba.surface_total.describe())\n",
    "sns.boxplot(caba.surface_total)\n",
    "plt.show()"
   ]
  },
  {
   "cell_type": "code",
   "execution_count": 58,
   "metadata": {},
   "outputs": [
    {
     "name": "stdout",
     "output_type": "stream",
     "text": [
      "count     79702.000000\n",
      "mean         88.688042\n",
      "std         965.750244\n",
      "min           0.000000\n",
      "25%          39.000000\n",
      "50%          54.000000\n",
      "75%          80.000000\n",
      "max      104890.000000\n",
      "Name: surface_covered, dtype: float64\n"
     ]
    },
    {
     "data": {
      "image/png": "[encoded data removed]",
      "text/plain": [
       "<Figure size 432x288 with 1 Axes>"
      ]
     },
     "metadata": {},
     "output_type": "display_data"
    }
   ],
   "source": [
    "print(caba.surface_covered.describe())\n",
    "sns.boxplot(caba.surface_covered)\n",
    "plt.show()"
   ]
  },
  {
   "cell_type": "code",
   "execution_count": 59,
   "metadata": {},
   "outputs": [
    {
     "name": "stdout",
     "output_type": "stream",
     "text": [
      "count    7.970200e+04\n",
      "mean     2.464933e+05\n",
      "std      3.310692e+05\n",
      "min      5.000000e+03\n",
      "25%      1.050000e+05\n",
      "50%      1.550000e+05\n",
      "75%      2.500000e+05\n",
      "max      9.477000e+06\n",
      "Name: price, dtype: float64\n"
     ]
    },
    {
     "data": {
      "image/png": "[encoded data removed]",
      "text/plain": [
       "<Figure size 432x288 with 1 Axes>"
      ]
     },
     "metadata": {},
     "output_type": "display_data"
    }
   ],
   "source": [
    "print(caba.price.describe())\n",
    "sns.boxplot(caba.price)\n",
    "plt.show()"
   ]
  },
  {
   "cell_type": "code",
   "execution_count": 60,
   "metadata": {},
   "outputs": [
    {
     "data": {
      "text/plain": [
       "<AxesSubplot:xlabel='rooms', ylabel='surface_covered'>"
      ]
     },
     "execution_count": 60,
     "metadata": {},
     "output_type": "execute_result"
    },
    {
     "data": {
      "image/png": "[encoded data removed]",
      "text/plain": [
       "<Figure size 432x288 with 1 Axes>"
      ]
     },
     "metadata": {},
     "output_type": "display_data"
    }
   ],
   "source": [
    "sns.boxplot(data=caba, x='rooms', y='surface_covered')"
   ]
  },
  {
   "cell_type": "code",
   "execution_count": 61,
   "metadata": {},
   "outputs": [
    {
     "data": {
      "text/plain": [
       "<AxesSubplot:xlabel='bedrooms', ylabel='surface_covered'>"
      ]
     },
     "execution_count": 61,
     "metadata": {},
     "output_type": "execute_result"
    },
    {
     "data": {
      "image/png": "[encoded data removed]",
      "text/plain": [
       "<Figure size 432x288 with 1 Axes>"
      ]
     },
     "metadata": {},
     "output_type": "display_data"
    }
   ],
   "source": [
    "sns.boxplot(data=caba, x='bedrooms', y='surface_covered')"
   ]
  },
  {
   "cell_type": "code",
   "execution_count": 62,
   "metadata": {},
   "outputs": [
    {
     "data": {
      "text/plain": [
       "<AxesSubplot:xlabel='bathrooms', ylabel='surface_covered'>"
      ]
     },
     "execution_count": 62,
     "metadata": {},
     "output_type": "execute_result"
    },
    {
     "data": {
      "image/png": "[encoded data removed]",
      "text/plain": [
       "<Figure size 432x288 with 1 Axes>"
      ]
     },
     "metadata": {},
     "output_type": "display_data"
    }
   ],
   "source": [
    "sns.boxplot(data=caba, x='bathrooms', y='surface_covered')"
   ]
  },
  {
   "cell_type": "markdown",
   "metadata": {},
   "source": [
    "### 8) Tratamiento de valores minimos y outliers"
   ]
  },
  {
   "cell_type": "markdown",
   "metadata": {},
   "source": [
    "Considerante la superficie cubierta, tomamos como valor minimo 18 m2 ya que es el valor minimo establecido por el gobierno de la ciudad y como valor maximo seleccionamos todos los datos del cuartil 99 para eliminar el outlier que vimos en el grafico anterior.\n",
    "\n",
    "Respecto a precio por m2, tomamos como valor maximo U$S 10.000 ya que es el maximo valor en paginas de ventas de departamentos"
   ]
  },
  {
   "cell_type": "code",
   "execution_count": 63,
   "metadata": {},
   "outputs": [],
   "source": [
    "LS = caba.surface_covered.quantile(0.99)\n",
    "LI = 18\n",
    "LS_precio = caba.price.quantile(0.99)\n",
    "LS_sup_total = caba.surface_total.quantile(0.99)\n",
    "\n",
    "caba = caba[(caba.surface_covered <= LS) &\n",
    "            (caba.surface_covered >= LI) &\n",
    "            (caba.price <= LS_precio) &\n",
    "            (caba.surface_total <= LS_sup_total) &\n",
    "            (caba.rooms <= 9) &\n",
    "            (caba.bedrooms <= 8) &\n",
    "            (caba.bathrooms <= 5)\n",
    "            ]"
   ]
  },
  {
   "cell_type": "code",
   "execution_count": 64,
   "metadata": {},
   "outputs": [
    {
     "name": "stdout",
     "output_type": "stream",
     "text": [
      "count    7.788600e+04\n",
      "mean     2.196923e+05\n",
      "std      2.096906e+05\n",
      "min      5.000000e+03\n",
      "25%      1.050000e+05\n",
      "50%      1.520000e+05\n",
      "75%      2.450000e+05\n",
      "max      1.690000e+06\n",
      "Name: price, dtype: float64\n"
     ]
    },
    {
     "data": {
      "image/png": "[encoded data removed]",
      "text/plain": [
       "<Figure size 432x288 with 1 Axes>"
      ]
     },
     "metadata": {},
     "output_type": "display_data"
    }
   ],
   "source": [
    "print(caba.price.describe())\n",
    "sns.boxplot(caba.price)\n",
    "plt.show()"
   ]
  },
  {
   "cell_type": "code",
   "execution_count": 65,
   "metadata": {},
   "outputs": [
    {
     "name": "stdout",
     "output_type": "stream",
     "text": [
      "count    77886.000000\n",
      "mean        67.215363\n",
      "std         43.324635\n",
      "min         18.000000\n",
      "25%         39.000000\n",
      "50%         54.000000\n",
      "75%         80.000000\n",
      "max        332.000000\n",
      "Name: surface_covered, dtype: float64\n"
     ]
    },
    {
     "data": {
      "image/png": "[encoded data removed]",
      "text/plain": [
       "<Figure size 432x288 with 1 Axes>"
      ]
     },
     "metadata": {},
     "output_type": "display_data"
    }
   ],
   "source": [
    "print(caba.surface_covered.describe())\n",
    "sns.boxplot(caba.surface_covered)\n",
    "plt.show()"
   ]
  },
  {
   "cell_type": "code",
   "execution_count": 66,
   "metadata": {},
   "outputs": [
    {
     "name": "stdout",
     "output_type": "stream",
     "text": [
      "count    77886.000000\n",
      "mean        75.587513\n",
      "std         49.297591\n",
      "min         18.000000\n",
      "25%         42.000000\n",
      "50%         60.000000\n",
      "75%         90.000000\n",
      "max        384.000000\n",
      "Name: surface_total, dtype: float64\n"
     ]
    },
    {
     "data": {
      "image/png": "[encoded data removed]",
      "text/plain": [
       "<Figure size 432x288 with 1 Axes>"
      ]
     },
     "metadata": {},
     "output_type": "display_data"
    }
   ],
   "source": [
    "print(caba.surface_total.describe())\n",
    "sns.boxplot(caba.surface_total)\n",
    "plt.show()"
   ]
  },
  {
   "cell_type": "code",
   "execution_count": 67,
   "metadata": {},
   "outputs": [
    {
     "data": {
      "text/plain": [
       "<AxesSubplot:xlabel='rooms', ylabel='surface_covered'>"
      ]
     },
     "execution_count": 67,
     "metadata": {},
     "output_type": "execute_result"
    },
    {
     "data": {
      "image/png": "[encoded data removed]",
      "text/plain": [
       "<Figure size 432x288 with 1 Axes>"
      ]
     },
     "metadata": {},
     "output_type": "display_data"
    }
   ],
   "source": [
    "sns.boxplot(data=caba, x='rooms', y='surface_covered')"
   ]
  },
  {
   "cell_type": "code",
   "execution_count": 68,
   "metadata": {},
   "outputs": [
    {
     "data": {
      "text/plain": [
       "<AxesSubplot:xlabel='bedrooms', ylabel='surface_covered'>"
      ]
     },
     "execution_count": 68,
     "metadata": {},
     "output_type": "execute_result"
    },
    {
     "data": {
      "image/png": "[encoded data removed]",
      "text/plain": [
       "<Figure size 432x288 with 1 Axes>"
      ]
     },
     "metadata": {},
     "output_type": "display_data"
    }
   ],
   "source": [
    "sns.boxplot(data=caba, x='bedrooms', y='surface_covered')"
   ]
  },
  {
   "cell_type": "code",
   "execution_count": 69,
   "metadata": {},
   "outputs": [
    {
     "data": {
      "text/plain": [
       "<AxesSubplot:xlabel='bathrooms', ylabel='surface_covered'>"
      ]
     },
     "execution_count": 69,
     "metadata": {},
     "output_type": "execute_result"
    },
    {
     "data": {
      "image/png": "[encoded data removed]",
      "text/plain": [
       "<Figure size 432x288 with 1 Axes>"
      ]
     },
     "metadata": {},
     "output_type": "display_data"
    }
   ],
   "source": [
    "sns.boxplot(data=caba, x='bathrooms', y='surface_covered')"
   ]
  },
  {
   "cell_type": "markdown",
   "metadata": {},
   "source": [
    "### 9) Imputacion de valores nulos"
   ]
  },
  {
   "cell_type": "code",
   "execution_count": 70,
   "metadata": {},
   "outputs": [],
   "source": [
    "#Reemplazamos a nan los valores reemplazados por cero\n",
    "caba.rooms.replace(0, np.nan, inplace=True)\n",
    "caba.bedrooms.replace(0, np.nan, inplace=True)\n",
    "caba.bathrooms.replace(0, np.nan, inplace=True)"
   ]
  },
  {
   "cell_type": "code",
   "execution_count": 71,
   "metadata": {},
   "outputs": [
    {
     "data": {
      "text/plain": [
       "barrios             0.000000\n",
       "lat                 6.185964\n",
       "lon                 6.185964\n",
       "surface_total       0.000000\n",
       "surface_covered     0.000000\n",
       "price               0.000000\n",
       "rooms               1.802635\n",
       "bedrooms           21.082094\n",
       "bathrooms           1.744858\n",
       "Pileta             89.361374\n",
       "Cochera            70.708471\n",
       "Parrilla           78.699638\n",
       "sum                75.813368\n",
       "dtype: float64"
      ]
     },
     "execution_count": 71,
     "metadata": {},
     "output_type": "execute_result"
    }
   ],
   "source": [
    "caba.isnull().sum() / caba.shape[0] * 100"
   ]
  },
  {
   "cell_type": "code",
   "execution_count": 72,
   "metadata": {},
   "outputs": [],
   "source": [
    "#Imputamos la media de lat lon por barrio\n",
    "caba['lat'] = caba['lat'].fillna(caba.groupby('barrios')['lat'].transform('mean'))\n",
    "caba['lon'] = caba['lon'].fillna(caba.groupby('barrios')['lon'].transform('mean'))"
   ]
  },
  {
   "cell_type": "code",
   "execution_count": 73,
   "metadata": {},
   "outputs": [],
   "source": [
    "#Usamos qcut para dividir en 9 la superficie cubierta y asignar la cantidad de ambientes en cada division a los nan\n",
    "labels = ['1', '2', '3', '4', '5', '6', '7', '8', '9']\n",
    "superficie = pd.qcut(caba.surface_covered, 9, labels=labels)\n",
    "caba['division'] = superficie\n",
    "\n",
    "a = caba.loc[caba.division == '1'].fillna(value={'rooms': 1})\n",
    "b = caba.loc[caba.division == '2'].fillna(value={'rooms': 2})\n",
    "c = caba.loc[caba.division == '3'].fillna(value={'rooms': 3})\n",
    "d = caba.loc[caba.division == '4'].fillna(value={'rooms': 4})\n",
    "e = caba.loc[caba.division == '5'].fillna(value={'rooms': 5})\n",
    "f = caba.loc[caba.division == '6'].fillna(value={'rooms': 6})\n",
    "g = caba.loc[caba.division == '7'].fillna(value={'rooms': 7})\n",
    "h = caba.loc[caba.division == '8'].fillna(value={'rooms': 8})\n",
    "i = caba.loc[caba.division == '9'].fillna(value={'rooms': 9})\n",
    "\n",
    "caba = pd.concat([a,b,c,d,e,f,g,h,i])\n",
    "caba.drop(columns='division', inplace=True)\n",
    "\n",
    "#Mismo procedimiento para asignar bedrooms\n",
    "labels = ['1', '2', '3', '4', '5', '6', '7', '8']\n",
    "superficie = pd.qcut(caba.surface_covered, 8, labels=labels)\n",
    "caba['division'] = superficie\n",
    "\n",
    "a = caba.loc[caba.division == '1'].fillna(value={'bedrooms': 1})\n",
    "b = caba.loc[caba.division == '2'].fillna(value={'bedrooms': 2})\n",
    "c = caba.loc[caba.division == '3'].fillna(value={'bedrooms': 3})\n",
    "d = caba.loc[caba.division == '4'].fillna(value={'bedrooms': 4})\n",
    "e = caba.loc[caba.division == '5'].fillna(value={'bedrooms': 5})\n",
    "f = caba.loc[caba.division == '6'].fillna(value={'bedrooms': 6})\n",
    "g = caba.loc[caba.division == '7'].fillna(value={'bedrooms': 7})\n",
    "h = caba.loc[caba.division == '8'].fillna(value={'bedrooms': 8})\n",
    "\n",
    "caba = pd.concat([a,b,c,d,e,f,g,h])\n",
    "caba.drop(columns='division', inplace=True)\n",
    "\n",
    "#Mismo procedimiento para asignar bathrooms\n",
    "labels = ['1', '2', '3', '4', '5']\n",
    "superficie = pd.qcut(caba.surface_covered, 5, labels=labels)\n",
    "caba['division'] = superficie\n",
    "\n",
    "a = caba.loc[caba.division == '1'].fillna(value={'bathrooms': 1})\n",
    "b = caba.loc[caba.division == '2'].fillna(value={'bathrooms': 2})\n",
    "c = caba.loc[caba.division == '3'].fillna(value={'bathrooms': 3})\n",
    "d = caba.loc[caba.division == '4'].fillna(value={'bathrooms': 4})\n",
    "e = caba.loc[caba.division == '5'].fillna(value={'bathrooms': 5})\n",
    "\n",
    "caba = pd.concat([a,b,c,d,e])\n",
    "caba.drop(columns='division', inplace=True)\n"
   ]
  },
  {
   "cell_type": "code",
   "execution_count": 74,
   "metadata": {},
   "outputs": [],
   "source": [
    "#Transformamos las 3 columnas en int\n",
    "cols = ['rooms', 'bedrooms', 'bathrooms']\n",
    "\n",
    "for col in cols:\n",
    "    caba[col]= pd.to_numeric(caba[col], downcast='integer')\n"
   ]
  },
  {
   "cell_type": "code",
   "execution_count": 75,
   "metadata": {},
   "outputs": [
    {
     "data": {
      "text/plain": [
       "barrios             0.000000\n",
       "lat                 0.000000\n",
       "lon                 0.000000\n",
       "surface_total       0.000000\n",
       "surface_covered     0.000000\n",
       "price               0.000000\n",
       "rooms               0.000000\n",
       "bedrooms            0.000000\n",
       "bathrooms           0.000000\n",
       "Pileta             89.361374\n",
       "Cochera            70.708471\n",
       "Parrilla           78.699638\n",
       "sum                75.813368\n",
       "dtype: float64"
      ]
     },
     "execution_count": 75,
     "metadata": {},
     "output_type": "execute_result"
    }
   ],
   "source": [
    "caba.isnull().sum() / caba.shape[0]*100"
   ]
  },
  {
   "cell_type": "code",
   "execution_count": 76,
   "metadata": {},
   "outputs": [
    {
     "name": "stdout",
     "output_type": "stream",
     "text": [
      "Dataset final con 77886 datos\n"
     ]
    }
   ],
   "source": [
    "print('Dataset final con', caba.shape[0], 'datos')"
   ]
  },
  {
   "cell_type": "markdown",
   "metadata": {},
   "source": [
    "### 10) Cercania a diferentes puntos de la ciudad"
   ]
  },
  {
   "cell_type": "markdown",
   "metadata": {},
   "source": [
    "En este seccion usamos datos abiertos que provee el Gobierno de la Ciudad de Buenos Aires en https://data.buenosaires.gob.ar/\n",
    "Usamos la formula de Haversiana para determinar la distancia entre los departamentos a la venta con diferentes puntos de la ciudad:\n",
    "* Estaciones de subte\n",
    "* Paradas de colectivos\n",
    "* Paradas de metrobuses\n",
    "* Estaciones de trenes\n",
    "* Estaciones de ecobicis\n",
    "* Espacios culturales\n",
    "* Espacios gastronimicos\n",
    "* Universidades\n",
    "* Polideportivos\n",
    "* Hospitales\n",
    "* Comisarias\n",
    "* Espacios verdes\n",
    "\n",
    "Se considera que el departamento se encuentra \"cerca\" de alguno de estos puntos mencionados si su distancia no supera hasta los 2 kms."
   ]
  },
  {
   "cell_type": "markdown",
   "metadata": {},
   "source": [
    "#### Formula Haversiana"
   ]
  },
  {
   "cell_type": "code",
   "execution_count": 77,
   "metadata": {},
   "outputs": [],
   "source": [
    "def haversine_np(lon1, lat1, lon2, lat2):\n",
    "  \n",
    "    lon1, lat1, lon2, lat2 = map(np.radians, [lon1, lat1, lon2, lat2])\n",
    "\n",
    "    dlon = lon2 - lon1\n",
    "    dlat = lat2 - lat1\n",
    "\n",
    "    a = np.sin(dlat/2.0)**2 + np.cos(lat1) * np.cos(lat2) * np.sin(dlon/2.0)**2\n",
    "\n",
    "    c = 2 * np.arcsin(np.sqrt(a))\n",
    "    \n",
    "    km = 6361 * c  \n",
    "    \n",
    "    return km"
   ]
  },
  {
   "cell_type": "markdown",
   "metadata": {},
   "source": [
    "#### Subte"
   ]
  },
  {
   "cell_type": "code",
   "execution_count": 78,
   "metadata": {},
   "outputs": [],
   "source": [
    "subte_path = \"http://cdn.buenosaires.gob.ar/datosabiertos/datasets/subte-estaciones/estaciones-de-subte.csv\"\n",
    "subte = pd.read_csv(subte_path) "
   ]
  },
  {
   "cell_type": "code",
   "execution_count": 79,
   "metadata": {},
   "outputs": [],
   "source": [
    "latlon = caba[['lat','lon']]  \n",
    "latlon_subte = subte[['long','lat']]  \n",
    "latlon_ = latlon.copy()\n",
    "for index, row in latlon_.iterrows():\n",
    "    distancia = haversine_np(row['lon'],row['lat'],latlon_subte['long'],latlon_subte['lat'])\n",
    "    if any(distancia < 1):\n",
    "        latlon_.loc[index, 'subte'] = \"Cerca\"\n",
    "    else:\n",
    "        latlon_.loc[index, 'subte'] = \"Lejos\"\n",
    "caba = pd.concat([caba,latlon_['subte']],axis=1)     "
   ]
  },
  {
   "cell_type": "code",
   "execution_count": 80,
   "metadata": {},
   "outputs": [],
   "source": [
    "mask_subte = caba['subte'] == \"Cerca\"\n",
    "dummies_subte = pd.get_dummies(mask_subte, prefix='subte', drop_first=True)\n",
    "caba = caba.join(dummies_subte)\n",
    "caba.drop(columns='subte', inplace=True)"
   ]
  },
  {
   "cell_type": "markdown",
   "metadata": {},
   "source": [
    "#### Colectivos"
   ]
  },
  {
   "cell_type": "code",
   "execution_count": 81,
   "metadata": {},
   "outputs": [],
   "source": [
    "bondis_path = \"http://cdn.buenosaires.gob.ar/datosabiertos/datasets/colectivos/paradas-de-colectivo.csv\"\n",
    "bondis = pd.read_csv(bondis_path) "
   ]
  },
  {
   "cell_type": "code",
   "execution_count": 82,
   "metadata": {},
   "outputs": [],
   "source": [
    "bondis = bondis.rename({\n",
    "    'stop_lat': 'lat',\n",
    "    'stop_lon': 'long',\n",
    "}, axis=1)"
   ]
  },
  {
   "cell_type": "code",
   "execution_count": 83,
   "metadata": {},
   "outputs": [],
   "source": [
    "latlon = caba[['lat','lon']] \n",
    "latlon_bondis = bondis[['long','lat']] \n",
    "latlon_ = latlon.copy()\n",
    "for index, row in latlon_.iterrows():\n",
    "    distancia = haversine_np(row['lon'],row['lat'],latlon_bondis['long'],latlon_bondis['lat'])\n",
    "    if any(distancia < 0.5):\n",
    "        latlon_.loc[index, 'bus'] = \"Cerca\"\n",
    "    else:\n",
    "        latlon_.loc[index, 'bus'] = \"Lejos\"\n",
    "caba = pd.concat([caba,latlon_['bus']],axis=1) "
   ]
  },
  {
   "cell_type": "code",
   "execution_count": 84,
   "metadata": {},
   "outputs": [],
   "source": [
    "mask_bondi = caba['bus'] == \"Cerca\"\n",
    "dummies_bondi = pd.get_dummies(mask_bondi, prefix='bus', drop_first=True)\n",
    "caba = caba.join(dummies_bondi)\n",
    "caba.drop(columns='bus', inplace=True)"
   ]
  },
  {
   "cell_type": "markdown",
   "metadata": {},
   "source": [
    "#### Metrobus"
   ]
  },
  {
   "cell_type": "code",
   "execution_count": 85,
   "metadata": {},
   "outputs": [],
   "source": [
    "metrobus_path = 'http://cdn.buenosaires.gob.ar/datosabiertos/datasets/transporte/metrobus/estaciones-de-metrobus.csv'\n",
    "metrobus = pd.read_csv(metrobus_path) "
   ]
  },
  {
   "cell_type": "code",
   "execution_count": 86,
   "metadata": {},
   "outputs": [],
   "source": [
    "metrobus['WKT'] = metrobus['WKT'].apply(wkt.loads)\n",
    "gdf = gp.GeoDataFrame(metrobus, geometry='WKT')"
   ]
  },
  {
   "cell_type": "code",
   "execution_count": 87,
   "metadata": {},
   "outputs": [],
   "source": [
    "metrobus['long'] = gdf.geometry.x\n",
    "metrobus['lat'] = gdf.geometry.y"
   ]
  },
  {
   "cell_type": "code",
   "execution_count": 88,
   "metadata": {},
   "outputs": [],
   "source": [
    "latlon = caba[['lat','lon']]  \n",
    "latlon_metrobus = metrobus[['long','lat']]  \n",
    "latlon_ = latlon.copy()\n",
    "for index, row in latlon_.iterrows():\n",
    "    distancia = haversine_np(row['lon'],row['lat'],latlon_metrobus['long'],latlon_metrobus['lat'])\n",
    "    if any(distancia < 1):\n",
    "        latlon_.loc[index, 'metrobus'] = \"Cerca\"\n",
    "    else:\n",
    "        latlon_.loc[index, 'metrobus'] = \"Lejos\"\n",
    "caba = pd.concat([caba,latlon_['metrobus']],axis=1)    "
   ]
  },
  {
   "cell_type": "code",
   "execution_count": 89,
   "metadata": {},
   "outputs": [],
   "source": [
    "mask_metrobus = caba['metrobus'] == \"Cerca\"\n",
    "dummies_metrobus = pd.get_dummies(mask_metrobus, prefix='metrobus', drop_first=True)\n",
    "caba = caba.join(dummies_metrobus)\n",
    "caba.drop(columns='metrobus', inplace=True)"
   ]
  },
  {
   "cell_type": "markdown",
   "metadata": {},
   "source": [
    "#### Tren"
   ]
  },
  {
   "cell_type": "code",
   "execution_count": 90,
   "metadata": {},
   "outputs": [],
   "source": [
    "tren_path = \"http://cdn.buenosaires.gob.ar/datosabiertos/datasets/estaciones-de-ferrocarril/estaciones-de-ferrocarril.csv\"\n",
    "tren = pd.read_csv(tren_path) "
   ]
  },
  {
   "cell_type": "code",
   "execution_count": 91,
   "metadata": {},
   "outputs": [],
   "source": [
    "latlon = caba[['lat','lon']]  \n",
    "latlon_tren = tren[['long','lat']]  \n",
    "latlon_ = latlon.copy()\n",
    "for index, row in latlon_.iterrows():\n",
    "    distancia = haversine_np(row['lon'],row['lat'],latlon_tren['long'],latlon_tren['lat'])\n",
    "    if any(distancia < 1):\n",
    "        latlon_.loc[index, 'tren'] = \"Cerca\"\n",
    "    else:\n",
    "        latlon_.loc[index, 'tren'] = \"Lejos\"\n",
    "caba = pd.concat([caba,latlon_['tren']],axis=1)     "
   ]
  },
  {
   "cell_type": "code",
   "execution_count": 92,
   "metadata": {},
   "outputs": [],
   "source": [
    "mask_tren = caba['tren'] == \"Cerca\"\n",
    "dummies_tren = pd.get_dummies(mask_tren, prefix='tren', drop_first=True)\n",
    "caba = caba.join(dummies_tren)\n",
    "caba.drop(columns='tren', inplace=True)"
   ]
  },
  {
   "cell_type": "markdown",
   "metadata": {},
   "source": [
    "#### Ecobici"
   ]
  },
  {
   "cell_type": "code",
   "execution_count": 93,
   "metadata": {},
   "outputs": [],
   "source": [
    "bici_path = 'http://cdn.buenosaires.gob.ar/datosabiertos/datasets/transporte/estaciones-bicicletas-publicas/nuevas-estaciones-bicicletas-publicas.csv'\n",
    "bici = pd.read_csv(bici_path) "
   ]
  },
  {
   "cell_type": "code",
   "execution_count": 94,
   "metadata": {},
   "outputs": [],
   "source": [
    "bici['WKT'] = bici['WKT'].apply(wkt.loads)\n",
    "gdf = gp.GeoDataFrame(bici, geometry='WKT')"
   ]
  },
  {
   "cell_type": "code",
   "execution_count": 95,
   "metadata": {},
   "outputs": [],
   "source": [
    "bici['long'] = gdf.geometry.x\n",
    "bici['lat'] = gdf.geometry.y"
   ]
  },
  {
   "cell_type": "code",
   "execution_count": 96,
   "metadata": {},
   "outputs": [],
   "source": [
    "latlon = caba[['lat','lon']] \n",
    "latlon_bici = bici[['long','lat']]  \n",
    "latlon_ = latlon.copy()\n",
    "for index, row in latlon_.iterrows():\n",
    "    distancia = haversine_np(row['lon'],row['lat'],latlon_bici['long'],latlon_bici['lat'])\n",
    "    if any(distancia < 1):\n",
    "        latlon_.loc[index, 'ecobici'] = \"Cerca\"\n",
    "    else:\n",
    "        latlon_.loc[index, 'ecobici'] = \"Lejos\"\n",
    "caba = pd.concat([caba,latlon_['ecobici']],axis=1)    "
   ]
  },
  {
   "cell_type": "code",
   "execution_count": 97,
   "metadata": {},
   "outputs": [],
   "source": [
    "mask_bici = caba['ecobici'] == \"Cerca\"\n",
    "dummies_bici = pd.get_dummies(mask_bici, prefix='ecobici', drop_first=True)\n",
    "caba = caba.join(dummies_bici)\n",
    "caba.drop(columns='ecobici', inplace=True)"
   ]
  },
  {
   "cell_type": "markdown",
   "metadata": {},
   "source": [
    "#### Espacios culturales"
   ]
  },
  {
   "cell_type": "code",
   "execution_count": 98,
   "metadata": {},
   "outputs": [],
   "source": [
    "ec_path = 'http://cdn.buenosaires.gob.ar/datosabiertos/datasets/espacios-culturales/espacios-culturales.csv'\n",
    "ec = pd.read_csv(ec_path) "
   ]
  },
  {
   "cell_type": "code",
   "execution_count": 99,
   "metadata": {},
   "outputs": [],
   "source": [
    "latlon = caba[['lat','lon']]  \n",
    "latlon_ec = ec[['longitud','latitud']] \n",
    "latlon_ = latlon.copy()\n",
    "for index, row in latlon_.iterrows():\n",
    "    distancia = haversine_np(row['lon'],row['lat'],latlon_ec['longitud'],latlon_ec['latitud'])\n",
    "    if any(distancia < 2):\n",
    "        latlon_.loc[index, 'espacios_culturales'] = \"Cerca\"\n",
    "    else:\n",
    "        latlon_.loc[index, 'espacios_culturales'] = \"Lejos\"\n",
    "caba = pd.concat([caba,latlon_['espacios_culturales']],axis=1)     "
   ]
  },
  {
   "cell_type": "code",
   "execution_count": 100,
   "metadata": {},
   "outputs": [],
   "source": [
    "mask_ec = caba['espacios_culturales'] == \"Cerca\"\n",
    "dummies_ec = pd.get_dummies(mask_ec, prefix='espacios_culturales', drop_first=True)\n",
    "caba = caba.join(dummies_ec)\n",
    "caba.drop(columns='espacios_culturales', inplace=True)"
   ]
  },
  {
   "cell_type": "markdown",
   "metadata": {},
   "source": [
    "#### Establecimientos gastronomicos"
   ]
  },
  {
   "cell_type": "code",
   "execution_count": 101,
   "metadata": {},
   "outputs": [],
   "source": [
    "eg_path = 'http://cdn.buenosaires.gob.ar/datosabiertos/datasets/oferta-gastronomica/establecimientos_gastronomicos.csv'\n",
    "eg = pd.read_csv(eg_path) "
   ]
  },
  {
   "cell_type": "code",
   "execution_count": 102,
   "metadata": {},
   "outputs": [],
   "source": [
    "latlon =caba[['lat','lon']]  \n",
    "latlon_eg = eg[['long','lat']]  \n",
    "latlon_ = latlon.copy()\n",
    "for index, row in latlon_.iterrows():\n",
    "    distancia = haversine_np(row['lon'],row['lat'],latlon_eg['long'],latlon_eg['lat'])\n",
    "    if any(distancia < 2):\n",
    "        latlon_.loc[index, 'gastronomico'] = \"Cerca\"\n",
    "    else:\n",
    "        latlon_.loc[index, 'gastronomico'] = \"Lejos\"\n",
    "caba = pd.concat([caba,latlon_['gastronomico']],axis=1)     "
   ]
  },
  {
   "cell_type": "code",
   "execution_count": 103,
   "metadata": {},
   "outputs": [],
   "source": [
    "mask_eg = caba['gastronomico'] == \"Cerca\"\n",
    "dummies_eg = pd.get_dummies(mask_eg, prefix='gastronomico', drop_first=True)\n",
    "caba = caba.join(dummies_eg)\n",
    "caba.drop(columns='gastronomico', inplace=True)"
   ]
  },
  {
   "cell_type": "markdown",
   "metadata": {},
   "source": [
    "#### Universidades"
   ]
  },
  {
   "cell_type": "code",
   "execution_count": 104,
   "metadata": {},
   "outputs": [],
   "source": [
    "uni_path = 'http://cdn.buenosaires.gob.ar/datosabiertos/datasets/universidades/universidades.csv'\n",
    "uni = pd.read_csv(uni_path) \n"
   ]
  },
  {
   "cell_type": "code",
   "execution_count": 105,
   "metadata": {},
   "outputs": [],
   "source": [
    "latlon = caba[['lat','lon']]  \n",
    "latlon_uni = uni[['long','lat']] \n",
    "latlon_ = latlon.copy()\n",
    "for index, row in latlon_.iterrows():\n",
    "    distancia = haversine_np(row['lon'],row['lat'],latlon_uni['long'],latlon_uni['lat'])\n",
    "    if any(distancia < 2):\n",
    "        latlon_.loc[index, 'universidad'] = \"Cerca\"\n",
    "    else:\n",
    "        latlon_.loc[index, 'universidad'] = \"Lejos\"\n",
    "caba = pd.concat([caba,latlon_['universidad']],axis=1)     # cambiar aca dataset final a usar"
   ]
  },
  {
   "cell_type": "code",
   "execution_count": 106,
   "metadata": {},
   "outputs": [],
   "source": [
    "mask_uni = caba['universidad'] == \"Cerca\"\n",
    "dummies_uni = pd.get_dummies(mask_uni, prefix='universidad', drop_first=True)\n",
    "caba = caba.join(dummies_uni)\n",
    "caba.drop(columns='universidad', inplace=True)"
   ]
  },
  {
   "cell_type": "markdown",
   "metadata": {},
   "source": [
    "#### Polideportivos"
   ]
  },
  {
   "cell_type": "code",
   "execution_count": 107,
   "metadata": {},
   "outputs": [],
   "source": [
    "poli_path = 'http://cdn.buenosaires.gob.ar/datosabiertos/datasets/polideportivos/polideportivos.csv'\n",
    "poli = pd.read_csv(poli_path) "
   ]
  },
  {
   "cell_type": "code",
   "execution_count": 108,
   "metadata": {},
   "outputs": [],
   "source": [
    "latlon = caba[['lat','lon']] \n",
    "latlon_poli = poli[['long','lat']]  \n",
    "latlon_ = latlon.copy()\n",
    "for index, row in latlon_.iterrows():\n",
    "    distancia = haversine_np(row['lon'],row['lat'],latlon_poli['long'],latlon_poli['lat'])\n",
    "    if any(distancia < 2):\n",
    "        latlon_.loc[index, 'polideportivo'] = \"Cerca\"\n",
    "    else:\n",
    "        latlon_.loc[index, 'polideportivo'] = \"Lejos\"\n",
    "caba = pd.concat([caba,latlon_['polideportivo']],axis=1)     # cambiar aca dataset final a usar"
   ]
  },
  {
   "cell_type": "code",
   "execution_count": 109,
   "metadata": {},
   "outputs": [],
   "source": [
    "mask_poli = caba['polideportivo'] == \"Cerca\"\n",
    "dummies_poli = pd.get_dummies(mask_poli, prefix='polideportivo', drop_first=True)\n",
    "caba = caba.join(dummies_poli)\n",
    "caba.drop(columns='polideportivo', inplace=True)"
   ]
  },
  {
   "cell_type": "markdown",
   "metadata": {},
   "source": [
    "#### Hospitales"
   ]
  },
  {
   "cell_type": "code",
   "execution_count": 110,
   "metadata": {},
   "outputs": [],
   "source": [
    "hospitales_path = 'http://cdn.buenosaires.gob.ar/datosabiertos/datasets/salud/hospitales/hospitales.csv'\n",
    "hospitales = pd.read_csv(hospitales_path) "
   ]
  },
  {
   "cell_type": "code",
   "execution_count": 111,
   "metadata": {},
   "outputs": [],
   "source": [
    "hospitales['WKT'] = hospitales['WKT'].apply(wkt.loads)\n",
    "gdf = gp.GeoDataFrame(hospitales, geometry='WKT')"
   ]
  },
  {
   "cell_type": "code",
   "execution_count": 112,
   "metadata": {},
   "outputs": [],
   "source": [
    "hospitales['long'] = gdf.geometry.x\n",
    "hospitales['lat'] = gdf.geometry.y"
   ]
  },
  {
   "cell_type": "code",
   "execution_count": 113,
   "metadata": {},
   "outputs": [],
   "source": [
    "latlon = caba[['lat','lon']] \n",
    "latlon_hospital = hospitales[['long','lat']]  \n",
    "latlon_ = latlon.copy()\n",
    "for index, row in latlon_.iterrows():\n",
    "    distancia = haversine_np(row['lon'],row['lat'],latlon_hospital['long'],latlon_hospital['lat'])\n",
    "    if any(distancia < 2):\n",
    "        latlon_.loc[index, 'hospital'] = \"Cerca\"\n",
    "    else:\n",
    "        latlon_.loc[index, 'hospital'] = \"Lejos\"\n",
    "caba = pd.concat([caba,latlon_['hospital']],axis=1)     "
   ]
  },
  {
   "cell_type": "code",
   "execution_count": 114,
   "metadata": {},
   "outputs": [],
   "source": [
    "mask_hospital = caba['hospital'] == \"Cerca\"\n",
    "dummies_hospital = pd.get_dummies(mask_hospital, prefix='hospital', drop_first=True)\n",
    "caba = caba.join(dummies_hospital)\n",
    "caba.drop(columns='hospital', inplace=True)"
   ]
  },
  {
   "cell_type": "markdown",
   "metadata": {},
   "source": [
    "#### Comisarias"
   ]
  },
  {
   "cell_type": "code",
   "execution_count": 115,
   "metadata": {},
   "outputs": [],
   "source": [
    "comisarias_path = 'http://cdn.buenosaires.gob.ar/datosabiertos/datasets/comisarias-policia-de-la-ciudad/comisarias-policia-de-la-ciudad.csv'\n",
    "comisarias = pd.read_csv(comisarias_path) "
   ]
  },
  {
   "cell_type": "code",
   "execution_count": 116,
   "metadata": {},
   "outputs": [],
   "source": [
    "latlon = caba[['lat','lon']]  \n",
    "latlon_comisaria = comisarias[['long','lat']]  \n",
    "latlon_ = latlon.copy()\n",
    "for index, row in latlon_.iterrows():\n",
    "    distancia = haversine_np(row['lon'],row['lat'],latlon_comisaria['long'],latlon_comisaria['lat'])\n",
    "    if any(distancia < 2):\n",
    "        latlon_.loc[index, 'comisaria'] = \"Cerca\"\n",
    "    else:\n",
    "        latlon_.loc[index, 'comisaria'] = \"Lejos\"\n",
    "caba = pd.concat([caba,latlon_['comisaria']],axis=1)     "
   ]
  },
  {
   "cell_type": "code",
   "execution_count": 117,
   "metadata": {},
   "outputs": [],
   "source": [
    "mask_comisaria = caba['comisaria'] == \"Cerca\"\n",
    "dummies_comisaria = pd.get_dummies(mask_comisaria, prefix='comisaria', drop_first=True)\n",
    "caba = caba.join(dummies_comisaria)\n",
    "caba.drop(columns='comisaria', inplace=True)"
   ]
  },
  {
   "cell_type": "markdown",
   "metadata": {},
   "source": [
    "#### Espacios verdes"
   ]
  },
  {
   "cell_type": "code",
   "execution_count": 118,
   "metadata": {},
   "outputs": [],
   "source": [
    "verdes_path = 'http://cdn.buenosaires.gob.ar/datosabiertos/datasets/secretaria-de-desarrollo-urbano/espacios-verdes/espacio-verde-publico.csv'\n",
    "verdes = pd.read_csv(verdes_path) "
   ]
  },
  {
   "cell_type": "code",
   "execution_count": 119,
   "metadata": {},
   "outputs": [],
   "source": [
    "verdes['WKT'] = verdes['WKT'].apply(wkt.loads)\n",
    "gdf = gp.GeoDataFrame(verdes, geometry='WKT')"
   ]
  },
  {
   "cell_type": "code",
   "execution_count": 120,
   "metadata": {},
   "outputs": [],
   "source": [
    "verdes['long'] = gdf.centroid.geometry.x\n",
    "verdes['lat'] = gdf.centroid.geometry.y"
   ]
  },
  {
   "cell_type": "code",
   "execution_count": 121,
   "metadata": {},
   "outputs": [],
   "source": [
    "latlon = caba[['lat','lon']]  \n",
    "latlon_verdes = verdes[['long','lat']]  \n",
    "latlon_ = latlon.copy()\n",
    "for index, row in latlon_.iterrows():\n",
    "    distancia = haversine_np(row['lon'],row['lat'],latlon_verdes['long'],latlon_verdes['lat'])\n",
    "    if any(distancia < 2):\n",
    "        latlon_.loc[index, 'espacios_verdes'] = \"Cerca\"\n",
    "    else:\n",
    "        latlon_.loc[index, 'espacios_verdes'] = \"Lejos\"\n",
    "caba = pd.concat([caba,latlon_['espacios_verdes']],axis=1)     "
   ]
  },
  {
   "cell_type": "code",
   "execution_count": 122,
   "metadata": {},
   "outputs": [],
   "source": [
    "mask_verde = caba['espacios_verdes'] == \"Cerca\"\n",
    "dummies_verde = pd.get_dummies(mask_verde, prefix='espacios_verdes', drop_first=True)\n",
    "caba = caba.join(dummies_verde)\n",
    "caba.drop(columns='espacios_verdes', inplace=True)"
   ]
  },
  {
   "cell_type": "markdown",
   "metadata": {},
   "source": [
    "### 11) Dummies de variables categoricas"
   ]
  },
  {
   "cell_type": "markdown",
   "metadata": {},
   "source": [
    "#### Barrios"
   ]
  },
  {
   "cell_type": "code",
   "execution_count": 125,
   "metadata": {},
   "outputs": [],
   "source": [
    "dummies_barrio = pd.get_dummies(caba.barrios, drop_first=True)\n",
    "caba = caba.join(dummies_barrio)\n",
    "caba.drop(columns='barrios', inplace=True)"
   ]
  },
  {
   "cell_type": "markdown",
   "metadata": {},
   "source": [
    "#### Pileta"
   ]
  },
  {
   "cell_type": "code",
   "execution_count": 126,
   "metadata": {},
   "outputs": [],
   "source": [
    "mask_pileta = caba['Pileta'] == 'Pileta'\n",
    "dummies_pileta = pd.get_dummies(mask_pileta, prefix='pileta', drop_first=True)\n",
    "caba = caba.join(dummies_pileta)\n",
    "caba.drop(columns='Pileta', inplace=True)"
   ]
  },
  {
   "cell_type": "markdown",
   "metadata": {},
   "source": [
    "#### Cochera"
   ]
  },
  {
   "cell_type": "code",
   "execution_count": 127,
   "metadata": {},
   "outputs": [],
   "source": [
    "mask_cochera = caba['Cochera'] == 'Cochera'\n",
    "dummies_cochera = pd.get_dummies(mask_cochera,prefix='cochera', drop_first=True)\n",
    "caba = caba.join(dummies_cochera)\n",
    "caba.drop(columns='Cochera', inplace=True)"
   ]
  },
  {
   "cell_type": "markdown",
   "metadata": {},
   "source": [
    "#### Parrilla"
   ]
  },
  {
   "cell_type": "code",
   "execution_count": 128,
   "metadata": {},
   "outputs": [],
   "source": [
    "mask_parrilla = caba['Parrilla'] == 'Parrilla'\n",
    "dummies_parrilla = pd.get_dummies(mask_parrilla,prefix='parrilla', drop_first=True)\n",
    "caba = caba.join(dummies_parrilla)\n",
    "caba.drop(columns='Parrilla', inplace=True)"
   ]
  },
  {
   "cell_type": "markdown",
   "metadata": {},
   "source": [
    "#### SUM"
   ]
  },
  {
   "cell_type": "code",
   "execution_count": 129,
   "metadata": {},
   "outputs": [],
   "source": [
    "mask_sum = caba['sum'] == 'SUM'\n",
    "dummies_sum = pd.get_dummies(mask_sum,prefix='sum', drop_first=True)\n",
    "caba = caba.join(dummies_sum)\n",
    "caba.drop(columns='sum', inplace=True)"
   ]
  },
  {
   "cell_type": "markdown",
   "metadata": {},
   "source": [
    "### Exterior"
   ]
  },
  {
   "cell_type": "code",
   "execution_count": 130,
   "metadata": {},
   "outputs": [],
   "source": [
    "mask_uncovered = (caba['surface_total'] - caba['surface_covered']) > 0\n",
    "dummies_exterior = pd.get_dummies(mask_uncovered, prefix='Exterior', drop_first=True)\n",
    "caba = caba.join(dummies_exterior)"
   ]
  },
  {
   "cell_type": "markdown",
   "metadata": {},
   "source": [
    "### 12) Correlacion"
   ]
  },
  {
   "cell_type": "code",
   "execution_count": 131,
   "metadata": {},
   "outputs": [
    {
     "data": {
      "text/html": [
       "<div>\n",
       "<style scoped>\n",
       "    .dataframe tbody tr th:only-of-type {\n",
       "        vertical-align: middle;\n",
       "    }\n",
       "\n",
       "    .dataframe tbody tr th {\n",
       "        vertical-align: top;\n",
       "    }\n",
       "\n",
       "    .dataframe thead th {\n",
       "        text-align: right;\n",
       "    }\n",
       "</style>\n",
       "<table border=\"1\" class=\"dataframe\">\n",
       "  <thead>\n",
       "    <tr style=\"text-align: right;\">\n",
       "      <th></th>\n",
       "      <th>lat</th>\n",
       "      <th>lon</th>\n",
       "      <th>surface_total</th>\n",
       "      <th>surface_covered</th>\n",
       "      <th>price</th>\n",
       "      <th>rooms</th>\n",
       "      <th>bedrooms</th>\n",
       "      <th>bathrooms</th>\n",
       "      <th>subte_True</th>\n",
       "      <th>bus_True</th>\n",
       "      <th>...</th>\n",
       "      <th>Villa Riachuelo</th>\n",
       "      <th>Villa Santa Rita</th>\n",
       "      <th>Villa Soldati</th>\n",
       "      <th>Villa Urquiza</th>\n",
       "      <th>Villa del Parque</th>\n",
       "      <th>pileta_True</th>\n",
       "      <th>cochera_True</th>\n",
       "      <th>parrilla_True</th>\n",
       "      <th>sum_True</th>\n",
       "      <th>Exterior_True</th>\n",
       "    </tr>\n",
       "  </thead>\n",
       "  <tbody>\n",
       "    <tr>\n",
       "      <th>lat</th>\n",
       "      <td>1.000000</td>\n",
       "      <td>-0.201302</td>\n",
       "      <td>0.107445</td>\n",
       "      <td>0.102812</td>\n",
       "      <td>0.193620</td>\n",
       "      <td>0.051786</td>\n",
       "      <td>0.005355</td>\n",
       "      <td>0.111542</td>\n",
       "      <td>0.099832</td>\n",
       "      <td>-0.001073</td>\n",
       "      <td>...</td>\n",
       "      <td>-0.030140</td>\n",
       "      <td>-0.045823</td>\n",
       "      <td>-0.066366</td>\n",
       "      <td>0.181182</td>\n",
       "      <td>-0.058353</td>\n",
       "      <td>0.094127</td>\n",
       "      <td>0.133476</td>\n",
       "      <td>0.110884</td>\n",
       "      <td>0.097443</td>\n",
       "      <td>0.058466</td>\n",
       "    </tr>\n",
       "    <tr>\n",
       "      <th>lon</th>\n",
       "      <td>-0.201302</td>\n",
       "      <td>1.000000</td>\n",
       "      <td>0.146655</td>\n",
       "      <td>0.181833</td>\n",
       "      <td>0.206220</td>\n",
       "      <td>0.107172</td>\n",
       "      <td>0.043380</td>\n",
       "      <td>0.096722</td>\n",
       "      <td>0.428950</td>\n",
       "      <td>-0.011162</td>\n",
       "      <td>...</td>\n",
       "      <td>-0.007688</td>\n",
       "      <td>-0.075096</td>\n",
       "      <td>-0.008053</td>\n",
       "      <td>-0.301719</td>\n",
       "      <td>-0.187760</td>\n",
       "      <td>-0.018987</td>\n",
       "      <td>-0.029009</td>\n",
       "      <td>-0.132939</td>\n",
       "      <td>-0.092531</td>\n",
       "      <td>-0.128434</td>\n",
       "    </tr>\n",
       "    <tr>\n",
       "      <th>surface_total</th>\n",
       "      <td>0.107445</td>\n",
       "      <td>0.146655</td>\n",
       "      <td>1.000000</td>\n",
       "      <td>0.945445</td>\n",
       "      <td>0.814337</td>\n",
       "      <td>0.749273</td>\n",
       "      <td>0.530667</td>\n",
       "      <td>0.702962</td>\n",
       "      <td>0.040501</td>\n",
       "      <td>-0.004385</td>\n",
       "      <td>...</td>\n",
       "      <td>0.001332</td>\n",
       "      <td>-0.014474</td>\n",
       "      <td>-0.004228</td>\n",
       "      <td>-0.044865</td>\n",
       "      <td>-0.026526</td>\n",
       "      <td>0.036552</td>\n",
       "      <td>0.275469</td>\n",
       "      <td>0.005078</td>\n",
       "      <td>-0.011244</td>\n",
       "      <td>0.093862</td>\n",
       "    </tr>\n",
       "    <tr>\n",
       "      <th>surface_covered</th>\n",
       "      <td>0.102812</td>\n",
       "      <td>0.181833</td>\n",
       "      <td>0.945445</td>\n",
       "      <td>1.000000</td>\n",
       "      <td>0.830843</td>\n",
       "      <td>0.765400</td>\n",
       "      <td>0.538830</td>\n",
       "      <td>0.712809</td>\n",
       "      <td>0.055769</td>\n",
       "      <td>-0.004886</td>\n",
       "      <td>...</td>\n",
       "      <td>0.001494</td>\n",
       "      <td>-0.016976</td>\n",
       "      <td>-0.003087</td>\n",
       "      <td>-0.056930</td>\n",
       "      <td>-0.031079</td>\n",
       "      <td>0.035948</td>\n",
       "      <td>0.268287</td>\n",
       "      <td>-0.032154</td>\n",
       "      <td>-0.014878</td>\n",
       "      <td>-0.019038</td>\n",
       "    </tr>\n",
       "    <tr>\n",
       "      <th>price</th>\n",
       "      <td>0.193620</td>\n",
       "      <td>0.206220</td>\n",
       "      <td>0.814337</td>\n",
       "      <td>0.830843</td>\n",
       "      <td>1.000000</td>\n",
       "      <td>0.561757</td>\n",
       "      <td>0.372997</td>\n",
       "      <td>0.673203</td>\n",
       "      <td>0.038533</td>\n",
       "      <td>-0.011861</td>\n",
       "      <td>...</td>\n",
       "      <td>-0.003758</td>\n",
       "      <td>-0.023512</td>\n",
       "      <td>-0.017503</td>\n",
       "      <td>-0.043398</td>\n",
       "      <td>-0.043481</td>\n",
       "      <td>0.145388</td>\n",
       "      <td>0.351986</td>\n",
       "      <td>0.049373</td>\n",
       "      <td>0.094437</td>\n",
       "      <td>0.018838</td>\n",
       "    </tr>\n",
       "    <tr>\n",
       "      <th>...</th>\n",
       "      <td>...</td>\n",
       "      <td>...</td>\n",
       "      <td>...</td>\n",
       "      <td>...</td>\n",
       "      <td>...</td>\n",
       "      <td>...</td>\n",
       "      <td>...</td>\n",
       "      <td>...</td>\n",
       "      <td>...</td>\n",
       "      <td>...</td>\n",
       "      <td>...</td>\n",
       "      <td>...</td>\n",
       "      <td>...</td>\n",
       "      <td>...</td>\n",
       "      <td>...</td>\n",
       "      <td>...</td>\n",
       "      <td>...</td>\n",
       "      <td>...</td>\n",
       "      <td>...</td>\n",
       "      <td>...</td>\n",
       "      <td>...</td>\n",
       "    </tr>\n",
       "    <tr>\n",
       "      <th>pileta_True</th>\n",
       "      <td>0.094127</td>\n",
       "      <td>-0.018987</td>\n",
       "      <td>0.036552</td>\n",
       "      <td>0.035948</td>\n",
       "      <td>0.145388</td>\n",
       "      <td>-0.046052</td>\n",
       "      <td>-0.045486</td>\n",
       "      <td>0.062219</td>\n",
       "      <td>0.004390</td>\n",
       "      <td>0.002473</td>\n",
       "      <td>...</td>\n",
       "      <td>0.003338</td>\n",
       "      <td>-0.010458</td>\n",
       "      <td>-0.007522</td>\n",
       "      <td>0.021754</td>\n",
       "      <td>-0.010666</td>\n",
       "      <td>1.000000</td>\n",
       "      <td>0.185643</td>\n",
       "      <td>0.332276</td>\n",
       "      <td>0.273245</td>\n",
       "      <td>0.030362</td>\n",
       "    </tr>\n",
       "    <tr>\n",
       "      <th>cochera_True</th>\n",
       "      <td>0.133476</td>\n",
       "      <td>-0.029009</td>\n",
       "      <td>0.275469</td>\n",
       "      <td>0.268287</td>\n",
       "      <td>0.351986</td>\n",
       "      <td>0.170152</td>\n",
       "      <td>0.116711</td>\n",
       "      <td>0.277483</td>\n",
       "      <td>-0.032149</td>\n",
       "      <td>0.000676</td>\n",
       "      <td>...</td>\n",
       "      <td>-0.004613</td>\n",
       "      <td>0.004183</td>\n",
       "      <td>-0.012737</td>\n",
       "      <td>0.053914</td>\n",
       "      <td>-0.008087</td>\n",
       "      <td>0.185643</td>\n",
       "      <td>1.000000</td>\n",
       "      <td>0.268631</td>\n",
       "      <td>0.211752</td>\n",
       "      <td>0.084866</td>\n",
       "    </tr>\n",
       "    <tr>\n",
       "      <th>parrilla_True</th>\n",
       "      <td>0.110884</td>\n",
       "      <td>-0.132939</td>\n",
       "      <td>0.005078</td>\n",
       "      <td>-0.032154</td>\n",
       "      <td>0.049373</td>\n",
       "      <td>-0.113084</td>\n",
       "      <td>-0.064276</td>\n",
       "      <td>0.031991</td>\n",
       "      <td>-0.018809</td>\n",
       "      <td>0.003728</td>\n",
       "      <td>...</td>\n",
       "      <td>-0.003728</td>\n",
       "      <td>0.011461</td>\n",
       "      <td>-0.011342</td>\n",
       "      <td>0.073377</td>\n",
       "      <td>-0.000155</td>\n",
       "      <td>0.332276</td>\n",
       "      <td>0.268631</td>\n",
       "      <td>1.000000</td>\n",
       "      <td>0.396143</td>\n",
       "      <td>0.123382</td>\n",
       "    </tr>\n",
       "    <tr>\n",
       "      <th>sum_True</th>\n",
       "      <td>0.097443</td>\n",
       "      <td>-0.092531</td>\n",
       "      <td>-0.011244</td>\n",
       "      <td>-0.014878</td>\n",
       "      <td>0.094437</td>\n",
       "      <td>-0.108672</td>\n",
       "      <td>-0.053283</td>\n",
       "      <td>0.040578</td>\n",
       "      <td>-0.025915</td>\n",
       "      <td>0.004048</td>\n",
       "      <td>...</td>\n",
       "      <td>-0.004048</td>\n",
       "      <td>-0.003946</td>\n",
       "      <td>-0.012314</td>\n",
       "      <td>0.049934</td>\n",
       "      <td>0.015758</td>\n",
       "      <td>0.273245</td>\n",
       "      <td>0.211752</td>\n",
       "      <td>0.396143</td>\n",
       "      <td>1.000000</td>\n",
       "      <td>0.078394</td>\n",
       "    </tr>\n",
       "    <tr>\n",
       "      <th>Exterior_True</th>\n",
       "      <td>0.058466</td>\n",
       "      <td>-0.128434</td>\n",
       "      <td>0.093862</td>\n",
       "      <td>-0.019038</td>\n",
       "      <td>0.018838</td>\n",
       "      <td>0.024895</td>\n",
       "      <td>0.032073</td>\n",
       "      <td>0.051681</td>\n",
       "      <td>-0.002824</td>\n",
       "      <td>-0.000749</td>\n",
       "      <td>...</td>\n",
       "      <td>0.000749</td>\n",
       "      <td>0.011779</td>\n",
       "      <td>-0.006419</td>\n",
       "      <td>0.053226</td>\n",
       "      <td>0.006146</td>\n",
       "      <td>0.030362</td>\n",
       "      <td>0.084866</td>\n",
       "      <td>0.123382</td>\n",
       "      <td>0.078394</td>\n",
       "      <td>1.000000</td>\n",
       "    </tr>\n",
       "  </tbody>\n",
       "</table>\n",
       "<p>80 rows × 80 columns</p>\n",
       "</div>"
      ],
      "text/plain": [
       "                      lat       lon  surface_total  surface_covered     price  \\\n",
       "lat              1.000000 -0.201302       0.107445         0.102812  0.193620   \n",
       "lon             -0.201302  1.000000       0.146655         0.181833  0.206220   \n",
       "surface_total    0.107445  0.146655       1.000000         0.945445  0.814337   \n",
       "surface_covered  0.102812  0.181833       0.945445         1.000000  0.830843   \n",
       "price            0.193620  0.206220       0.814337         0.830843  1.000000   \n",
       "...                   ...       ...            ...              ...       ...   \n",
       "pileta_True      0.094127 -0.018987       0.036552         0.035948  0.145388   \n",
       "cochera_True     0.133476 -0.029009       0.275469         0.268287  0.351986   \n",
       "parrilla_True    0.110884 -0.132939       0.005078        -0.032154  0.049373   \n",
       "sum_True         0.097443 -0.092531      -0.011244        -0.014878  0.094437   \n",
       "Exterior_True    0.058466 -0.128434       0.093862        -0.019038  0.018838   \n",
       "\n",
       "                    rooms  bedrooms  bathrooms  subte_True  bus_True  ...  \\\n",
       "lat              0.051786  0.005355   0.111542    0.099832 -0.001073  ...   \n",
       "lon              0.107172  0.043380   0.096722    0.428950 -0.011162  ...   \n",
       "surface_total    0.749273  0.530667   0.702962    0.040501 -0.004385  ...   \n",
       "surface_covered  0.765400  0.538830   0.712809    0.055769 -0.004886  ...   \n",
       "price            0.561757  0.372997   0.673203    0.038533 -0.011861  ...   \n",
       "...                   ...       ...        ...         ...       ...  ...   \n",
       "pileta_True     -0.046052 -0.045486   0.062219    0.004390  0.002473  ...   \n",
       "cochera_True     0.170152  0.116711   0.277483   -0.032149  0.000676  ...   \n",
       "parrilla_True   -0.113084 -0.064276   0.031991   -0.018809  0.003728  ...   \n",
       "sum_True        -0.108672 -0.053283   0.040578   -0.025915  0.004048  ...   \n",
       "Exterior_True    0.024895  0.032073   0.051681   -0.002824 -0.000749  ...   \n",
       "\n",
       "                 Villa Riachuelo  Villa Santa Rita  Villa Soldati  \\\n",
       "lat                    -0.030140         -0.045823      -0.066366   \n",
       "lon                    -0.007688         -0.075096      -0.008053   \n",
       "surface_total           0.001332         -0.014474      -0.004228   \n",
       "surface_covered         0.001494         -0.016976      -0.003087   \n",
       "price                  -0.003758         -0.023512      -0.017503   \n",
       "...                          ...               ...            ...   \n",
       "pileta_True             0.003338         -0.010458      -0.007522   \n",
       "cochera_True           -0.004613          0.004183      -0.012737   \n",
       "parrilla_True          -0.003728          0.011461      -0.011342   \n",
       "sum_True               -0.004048         -0.003946      -0.012314   \n",
       "Exterior_True           0.000749          0.011779      -0.006419   \n",
       "\n",
       "                 Villa Urquiza  Villa del Parque  pileta_True  cochera_True  \\\n",
       "lat                   0.181182         -0.058353     0.094127      0.133476   \n",
       "lon                  -0.301719         -0.187760    -0.018987     -0.029009   \n",
       "surface_total        -0.044865         -0.026526     0.036552      0.275469   \n",
       "surface_covered      -0.056930         -0.031079     0.035948      0.268287   \n",
       "price                -0.043398         -0.043481     0.145388      0.351986   \n",
       "...                        ...               ...          ...           ...   \n",
       "pileta_True           0.021754         -0.010666     1.000000      0.185643   \n",
       "cochera_True          0.053914         -0.008087     0.185643      1.000000   \n",
       "parrilla_True         0.073377         -0.000155     0.332276      0.268631   \n",
       "sum_True              0.049934          0.015758     0.273245      0.211752   \n",
       "Exterior_True         0.053226          0.006146     0.030362      0.084866   \n",
       "\n",
       "                 parrilla_True  sum_True  Exterior_True  \n",
       "lat                   0.110884  0.097443       0.058466  \n",
       "lon                  -0.132939 -0.092531      -0.128434  \n",
       "surface_total         0.005078 -0.011244       0.093862  \n",
       "surface_covered      -0.032154 -0.014878      -0.019038  \n",
       "price                 0.049373  0.094437       0.018838  \n",
       "...                        ...       ...            ...  \n",
       "pileta_True           0.332276  0.273245       0.030362  \n",
       "cochera_True          0.268631  0.211752       0.084866  \n",
       "parrilla_True         1.000000  0.396143       0.123382  \n",
       "sum_True              0.396143  1.000000       0.078394  \n",
       "Exterior_True         0.123382  0.078394       1.000000  \n",
       "\n",
       "[80 rows x 80 columns]"
      ]
     },
     "execution_count": 131,
     "metadata": {},
     "output_type": "execute_result"
    }
   ],
   "source": [
    "caba.corr()"
   ]
  },
  {
   "cell_type": "code",
   "execution_count": 132,
   "metadata": {},
   "outputs": [
    {
     "data": {
      "text/plain": [
       "<AxesSubplot:>"
      ]
     },
     "execution_count": 132,
     "metadata": {},
     "output_type": "execute_result"
    },
    {
     "data": {
      "image/png": "[encoded data removed]",
      "text/plain": [
       "<Figure size 864x1296 with 2 Axes>"
      ]
     },
     "metadata": {},
     "output_type": "display_data"
    }
   ],
   "source": [
    "plt.figure(figsize=(12,18))\n",
    "sns.heatmap(caba.corr()[['price']], annot=True, vmin=-1, cmap='Blues')"
   ]
  },
  {
   "cell_type": "code",
   "execution_count": 134,
   "metadata": {},
   "outputs": [
    {
     "data": {
      "text/plain": [
       "<seaborn.axisgrid.PairGrid at 0x1f6b3ddb048>"
      ]
     },
     "execution_count": 134,
     "metadata": {},
     "output_type": "execute_result"
    },
    {
     "data": {
      "image/png": "[encoded data removed]",
      "text/plain": [
       "<Figure size 945.725x180 with 5 Axes>"
      ]
     },
     "metadata": {},
     "output_type": "display_data"
    }
   ],
   "source": [
    "sns.pairplot(data=caba,hue='rooms', y_vars='price',\\\n",
    "             x_vars=['surface_total','surface_covered','bedrooms', 'bathrooms', 'Exterior_True'])"
   ]
  },
  {
   "cell_type": "markdown",
   "metadata": {},
   "source": [
    "### 13) Modelo de regresion"
   ]
  },
  {
   "cell_type": "markdown",
   "metadata": {},
   "source": [
    "Combinando GridSearchCV y Pipeline vamos a crear diferentes modelos:\n",
    "* Regresion Linear\n",
    "* Modelo de Lasso\n",
    "* Modelo de Ridge\n",
    "* Modelo de Elastic Net\n",
    "* Random Forest Regressor\n",
    "* AdaBoosting\n",
    "* Gradient Boosting\n",
    "* LightGBM Regressor\n",
    "\n",
    "Al final vamos a presentar en un dataframe cada uno de sus scores (R2) para verificar cual fue el modelo que tuvo una mejor performance."
   ]
  },
  {
   "cell_type": "code",
   "execution_count": 135,
   "metadata": {},
   "outputs": [],
   "source": [
    "from sklearn.linear_model import LinearRegression, Lasso, Ridge, ElasticNet\n",
    "from sklearn.model_selection import train_test_split, cross_val_score, GridSearchCV, RandomizedSearchCV\n",
    "from sklearn.preprocessing import StandardScaler, MinMaxScaler, RobustScaler\n",
    "from sklearn.ensemble import RandomForestRegressor, GradientBoostingRegressor, AdaBoostRegressor\n",
    "from lightgbm import LGBMRegressor\n",
    "from sklearn.metrics import r2_score\n",
    "from sklearn.pipeline import Pipeline\n",
    "from sklearn import set_config\n",
    "from sklearn import linear_model\n",
    "set_config(display='diagram')"
   ]
  },
  {
   "cell_type": "code",
   "execution_count": 136,
   "metadata": {},
   "outputs": [
    {
     "data": {
      "text/plain": [
       "Index(['lat', 'lon', 'surface_total', 'surface_covered', 'price', 'rooms',\n",
       "       'bedrooms', 'bathrooms', 'subte_True', 'bus_True', 'metrobus_True',\n",
       "       'tren_True', 'ecobici_True', 'gastronomico_True', 'universidad_True',\n",
       "       'polideportivo_True', 'hospital_True', 'comisaria_True', 'Agronomía',\n",
       "       'Almagro', 'Balvanera', 'Barracas', 'Barrio Norte', 'Belgrano', 'Boca',\n",
       "       'Boedo', 'Caballito', 'Catalinas', 'Centro / Microcentro', 'Chacarita',\n",
       "       'Coghlan', 'Colegiales', 'Congreso', 'Constitución',\n",
       "       'Distrito Audiovisual', 'Flores', 'Floresta', 'Las Cañitas', 'Liniers',\n",
       "       'Mataderos', 'Monserrat', 'Monte Castro', 'Nuñez', 'Once', 'Palermo',\n",
       "       'Parque Avellaneda', 'Parque Centenario', 'Parque Chacabuco',\n",
       "       'Parque Chas', 'Parque Patricios', 'Paternal', 'Pompeya',\n",
       "       'Puerto Madero', 'Recoleta', 'Retiro', 'Saavedra', 'San Cristobal',\n",
       "       'San Nicolás', 'San Telmo', 'Tribunales', 'Velez Sarsfield',\n",
       "       'Versalles', 'Villa Crespo', 'Villa Devoto', 'Villa General Mitre',\n",
       "       'Villa Lugano', 'Villa Luro', 'Villa Ortuzar', 'Villa Pueyrredón',\n",
       "       'Villa Real', 'Villa Riachuelo', 'Villa Santa Rita', 'Villa Soldati',\n",
       "       'Villa Urquiza', 'Villa del Parque', 'pileta_True', 'cochera_True',\n",
       "       'parrilla_True', 'sum_True', 'Exterior_True'],\n",
       "      dtype='object')"
      ]
     },
     "execution_count": 136,
     "metadata": {},
     "output_type": "execute_result"
    }
   ],
   "source": [
    "caba.columns"
   ]
  },
  {
   "cell_type": "code",
   "execution_count": 137,
   "metadata": {},
   "outputs": [
    {
     "data": {
      "text/plain": [
       "(77886, 80)"
      ]
     },
     "execution_count": 137,
     "metadata": {},
     "output_type": "execute_result"
    }
   ],
   "source": [
    "caba.shape"
   ]
  },
  {
   "cell_type": "code",
   "execution_count": 138,
   "metadata": {},
   "outputs": [],
   "source": [
    "X = caba.drop(columns=['price','lat','lon'])\n",
    "y = caba.price\n",
    "\n",
    "X_train, X_test, y_train, y_test = train_test_split(X, y, test_size=0.30, random_state=10)\n",
    "\n",
    "folds = 5"
   ]
  },
  {
   "cell_type": "markdown",
   "metadata": {},
   "source": [
    "#### Regresion Linear"
   ]
  },
  {
   "cell_type": "code",
   "execution_count": 139,
   "metadata": {},
   "outputs": [
    {
     "data": {
      "text/html": [
       "<style>div.sk-top-container {color: black;background-color: white;}div.sk-toggleable {background-color: white;}label.sk-toggleable__label {cursor: pointer;display: block;width: 100%;margin-bottom: 0;padding: 0.2em 0.3em;box-sizing: border-box;text-align: center;}div.sk-toggleable__content {max-height: 0;max-width: 0;overflow: hidden;text-align: left;background-color: #f0f8ff;}div.sk-toggleable__content pre {margin: 0.2em;color: black;border-radius: 0.25em;background-color: #f0f8ff;}input.sk-toggleable__control:checked~div.sk-toggleable__content {max-height: 200px;max-width: 100%;overflow: auto;}div.sk-estimator input.sk-toggleable__control:checked~label.sk-toggleable__label {background-color: #d4ebff;}div.sk-label input.sk-toggleable__control:checked~label.sk-toggleable__label {background-color: #d4ebff;}input.sk-hidden--visually {border: 0;clip: rect(1px 1px 1px 1px);clip: rect(1px, 1px, 1px, 1px);height: 1px;margin: -1px;overflow: hidden;padding: 0;position: absolute;width: 1px;}div.sk-estimator {font-family: monospace;background-color: #f0f8ff;margin: 0.25em 0.25em;border: 1px dotted black;border-radius: 0.25em;box-sizing: border-box;}div.sk-estimator:hover {background-color: #d4ebff;}div.sk-parallel-item::after {content: \"\";width: 100%;border-bottom: 1px solid gray;flex-grow: 1;}div.sk-label:hover label.sk-toggleable__label {background-color: #d4ebff;}div.sk-serial::before {content: \"\";position: absolute;border-left: 1px solid gray;box-sizing: border-box;top: 2em;bottom: 0;left: 50%;}div.sk-serial {display: flex;flex-direction: column;align-items: center;background-color: white;}div.sk-item {z-index: 1;}div.sk-parallel {display: flex;align-items: stretch;justify-content: center;background-color: white;}div.sk-parallel-item {display: flex;flex-direction: column;position: relative;background-color: white;}div.sk-parallel-item:first-child::after {align-self: flex-end;width: 50%;}div.sk-parallel-item:last-child::after {align-self: flex-start;width: 50%;}div.sk-parallel-item:only-child::after {width: 0;}div.sk-dashed-wrapped {border: 1px dashed gray;margin: 0.2em;box-sizing: border-box;padding-bottom: 0.1em;background-color: white;position: relative;}div.sk-label label {font-family: monospace;font-weight: bold;background-color: white;display: inline-block;line-height: 1.2em;}div.sk-label-container {position: relative;z-index: 2;text-align: center;}div.sk-container {display: inline-block;position: relative;}</style><div class=\"sk-top-container\"><div class=\"sk-container\"><div class=\"sk-item sk-dashed-wrapped\"><div class=\"sk-label-container\"><div class=\"sk-label sk-toggleable\"><input class=\"sk-toggleable__control sk-hidden--visually\" id=\"88c637bd-4583-487f-8ecf-885e1b25c68a\" type=\"checkbox\" ><label class=\"sk-toggleable__label\" for=\"88c637bd-4583-487f-8ecf-885e1b25c68a\">GridSearchCV</label><div class=\"sk-toggleable__content\"><pre>GridSearchCV(cv=5, estimator=LinearRegression(),\n",
       "             param_grid={'normalize': [True, False]}, scoring='r2')</pre></div></div></div><div class=\"sk-parallel\"><div class=\"sk-parallel-item\"><div class=\"sk-item\"><div class=\"sk-serial\"><div class=\"sk-item\"><div class=\"sk-estimator sk-toggleable\"><input class=\"sk-toggleable__control sk-hidden--visually\" id=\"3860bbb6-33aa-490b-9870-5d6770af6135\" type=\"checkbox\" ><label class=\"sk-toggleable__label\" for=\"3860bbb6-33aa-490b-9870-5d6770af6135\">LinearRegression</label><div class=\"sk-toggleable__content\"><pre>LinearRegression()</pre></div></div></div></div></div></div></div></div></div></div>"
      ],
      "text/plain": [
       "GridSearchCV(cv=5, estimator=LinearRegression(),\n",
       "             param_grid={'normalize': [True, False]}, scoring='r2')"
      ]
     },
     "execution_count": 139,
     "metadata": {},
     "output_type": "execute_result"
    }
   ],
   "source": [
    "lr = LinearRegression()\n",
    "\n",
    "param_lr ={'normalize':[True, False]}\n",
    "\n",
    "grid_lr = GridSearchCV(estimator=lr, param_grid=param_lr, cv=folds, scoring='r2')\n",
    "grid_lr.fit(X_train, y_train)"
   ]
  },
  {
   "cell_type": "code",
   "execution_count": 140,
   "metadata": {},
   "outputs": [
    {
     "data": {
      "text/plain": [
       "0.8075859568760715"
      ]
     },
     "execution_count": 140,
     "metadata": {},
     "output_type": "execute_result"
    }
   ],
   "source": [
    "grid_lr.best_score_"
   ]
  },
  {
   "cell_type": "code",
   "execution_count": 141,
   "metadata": {},
   "outputs": [
    {
     "data": {
      "text/html": [
       "<style>div.sk-top-container {color: black;background-color: white;}div.sk-toggleable {background-color: white;}label.sk-toggleable__label {cursor: pointer;display: block;width: 100%;margin-bottom: 0;padding: 0.2em 0.3em;box-sizing: border-box;text-align: center;}div.sk-toggleable__content {max-height: 0;max-width: 0;overflow: hidden;text-align: left;background-color: #f0f8ff;}div.sk-toggleable__content pre {margin: 0.2em;color: black;border-radius: 0.25em;background-color: #f0f8ff;}input.sk-toggleable__control:checked~div.sk-toggleable__content {max-height: 200px;max-width: 100%;overflow: auto;}div.sk-estimator input.sk-toggleable__control:checked~label.sk-toggleable__label {background-color: #d4ebff;}div.sk-label input.sk-toggleable__control:checked~label.sk-toggleable__label {background-color: #d4ebff;}input.sk-hidden--visually {border: 0;clip: rect(1px 1px 1px 1px);clip: rect(1px, 1px, 1px, 1px);height: 1px;margin: -1px;overflow: hidden;padding: 0;position: absolute;width: 1px;}div.sk-estimator {font-family: monospace;background-color: #f0f8ff;margin: 0.25em 0.25em;border: 1px dotted black;border-radius: 0.25em;box-sizing: border-box;}div.sk-estimator:hover {background-color: #d4ebff;}div.sk-parallel-item::after {content: \"\";width: 100%;border-bottom: 1px solid gray;flex-grow: 1;}div.sk-label:hover label.sk-toggleable__label {background-color: #d4ebff;}div.sk-serial::before {content: \"\";position: absolute;border-left: 1px solid gray;box-sizing: border-box;top: 2em;bottom: 0;left: 50%;}div.sk-serial {display: flex;flex-direction: column;align-items: center;background-color: white;}div.sk-item {z-index: 1;}div.sk-parallel {display: flex;align-items: stretch;justify-content: center;background-color: white;}div.sk-parallel-item {display: flex;flex-direction: column;position: relative;background-color: white;}div.sk-parallel-item:first-child::after {align-self: flex-end;width: 50%;}div.sk-parallel-item:last-child::after {align-self: flex-start;width: 50%;}div.sk-parallel-item:only-child::after {width: 0;}div.sk-dashed-wrapped {border: 1px dashed gray;margin: 0.2em;box-sizing: border-box;padding-bottom: 0.1em;background-color: white;position: relative;}div.sk-label label {font-family: monospace;font-weight: bold;background-color: white;display: inline-block;line-height: 1.2em;}div.sk-label-container {position: relative;z-index: 2;text-align: center;}div.sk-container {display: inline-block;position: relative;}</style><div class=\"sk-top-container\"><div class=\"sk-container\"><div class=\"sk-item\"><div class=\"sk-estimator sk-toggleable\"><input class=\"sk-toggleable__control sk-hidden--visually\" id=\"dcc1f15c-4ade-4d5a-a57c-e7aa420b204a\" type=\"checkbox\" checked><label class=\"sk-toggleable__label\" for=\"dcc1f15c-4ade-4d5a-a57c-e7aa420b204a\">LinearRegression</label><div class=\"sk-toggleable__content\"><pre>LinearRegression()</pre></div></div></div></div></div>"
      ],
      "text/plain": [
       "LinearRegression()"
      ]
     },
     "execution_count": 141,
     "metadata": {},
     "output_type": "execute_result"
    }
   ],
   "source": [
    "grid_lr.best_estimator_"
   ]
  },
  {
   "cell_type": "markdown",
   "metadata": {},
   "source": [
    "#### Ridge"
   ]
  },
  {
   "cell_type": "code",
   "execution_count": 142,
   "metadata": {},
   "outputs": [
    {
     "data": {
      "text/html": [
       "<style>div.sk-top-container {color: black;background-color: white;}div.sk-toggleable {background-color: white;}label.sk-toggleable__label {cursor: pointer;display: block;width: 100%;margin-bottom: 0;padding: 0.2em 0.3em;box-sizing: border-box;text-align: center;}div.sk-toggleable__content {max-height: 0;max-width: 0;overflow: hidden;text-align: left;background-color: #f0f8ff;}div.sk-toggleable__content pre {margin: 0.2em;color: black;border-radius: 0.25em;background-color: #f0f8ff;}input.sk-toggleable__control:checked~div.sk-toggleable__content {max-height: 200px;max-width: 100%;overflow: auto;}div.sk-estimator input.sk-toggleable__control:checked~label.sk-toggleable__label {background-color: #d4ebff;}div.sk-label input.sk-toggleable__control:checked~label.sk-toggleable__label {background-color: #d4ebff;}input.sk-hidden--visually {border: 0;clip: rect(1px 1px 1px 1px);clip: rect(1px, 1px, 1px, 1px);height: 1px;margin: -1px;overflow: hidden;padding: 0;position: absolute;width: 1px;}div.sk-estimator {font-family: monospace;background-color: #f0f8ff;margin: 0.25em 0.25em;border: 1px dotted black;border-radius: 0.25em;box-sizing: border-box;}div.sk-estimator:hover {background-color: #d4ebff;}div.sk-parallel-item::after {content: \"\";width: 100%;border-bottom: 1px solid gray;flex-grow: 1;}div.sk-label:hover label.sk-toggleable__label {background-color: #d4ebff;}div.sk-serial::before {content: \"\";position: absolute;border-left: 1px solid gray;box-sizing: border-box;top: 2em;bottom: 0;left: 50%;}div.sk-serial {display: flex;flex-direction: column;align-items: center;background-color: white;}div.sk-item {z-index: 1;}div.sk-parallel {display: flex;align-items: stretch;justify-content: center;background-color: white;}div.sk-parallel-item {display: flex;flex-direction: column;position: relative;background-color: white;}div.sk-parallel-item:first-child::after {align-self: flex-end;width: 50%;}div.sk-parallel-item:last-child::after {align-self: flex-start;width: 50%;}div.sk-parallel-item:only-child::after {width: 0;}div.sk-dashed-wrapped {border: 1px dashed gray;margin: 0.2em;box-sizing: border-box;padding-bottom: 0.1em;background-color: white;position: relative;}div.sk-label label {font-family: monospace;font-weight: bold;background-color: white;display: inline-block;line-height: 1.2em;}div.sk-label-container {position: relative;z-index: 2;text-align: center;}div.sk-container {display: inline-block;position: relative;}</style><div class=\"sk-top-container\"><div class=\"sk-container\"><div class=\"sk-item sk-dashed-wrapped\"><div class=\"sk-label-container\"><div class=\"sk-label sk-toggleable\"><input class=\"sk-toggleable__control sk-hidden--visually\" id=\"1f7229cc-3b1d-4f8f-bd81-d50f445e526c\" type=\"checkbox\" ><label class=\"sk-toggleable__label\" for=\"1f7229cc-3b1d-4f8f-bd81-d50f445e526c\">GridSearchCV</label><div class=\"sk-toggleable__content\"><pre>GridSearchCV(cv=5,\n",
       "             estimator=Pipeline(steps=[('preprocesamiento', StandardScaler()),\n",
       "                                       ('regresion', Ridge())]),\n",
       "             param_grid=[{'preprocesamiento': [StandardScaler()],\n",
       "                          'regresion__alpha': [0.01, 0.3, 0.5, 0.7, 0.8]}],\n",
       "             scoring='r2')</pre></div></div></div><div class=\"sk-parallel\"><div class=\"sk-parallel-item\"><div class=\"sk-item\"><div class=\"sk-serial\"><div class=\"sk-item\"><div class=\"sk-serial\"><div class=\"sk-item\"><div class=\"sk-estimator sk-toggleable\"><input class=\"sk-toggleable__control sk-hidden--visually\" id=\"0ad1b91f-f8d6-4c43-9108-3447db522d5b\" type=\"checkbox\" ><label class=\"sk-toggleable__label\" for=\"0ad1b91f-f8d6-4c43-9108-3447db522d5b\">StandardScaler</label><div class=\"sk-toggleable__content\"><pre>StandardScaler()</pre></div></div></div><div class=\"sk-item\"><div class=\"sk-estimator sk-toggleable\"><input class=\"sk-toggleable__control sk-hidden--visually\" id=\"ec1807d5-13a3-4b47-aff3-d7db82068771\" type=\"checkbox\" ><label class=\"sk-toggleable__label\" for=\"ec1807d5-13a3-4b47-aff3-d7db82068771\">Ridge</label><div class=\"sk-toggleable__content\"><pre>Ridge()</pre></div></div></div></div></div></div></div></div></div></div></div></div>"
      ],
      "text/plain": [
       "GridSearchCV(cv=5,\n",
       "             estimator=Pipeline(steps=[('preprocesamiento', StandardScaler()),\n",
       "                                       ('regresion', Ridge())]),\n",
       "             param_grid=[{'preprocesamiento': [StandardScaler()],\n",
       "                          'regresion__alpha': [0.01, 0.3, 0.5, 0.7, 0.8]}],\n",
       "             scoring='r2')"
      ]
     },
     "execution_count": 142,
     "metadata": {},
     "output_type": "execute_result"
    }
   ],
   "source": [
    "pasos = [('preprocesamiento', StandardScaler()),\n",
    "         ('regresion', Ridge())\n",
    "        ]\n",
    "\n",
    "pipe_grid_rid = Pipeline(pasos)\n",
    "\n",
    "param_grid_rid = [{'preprocesamiento':[StandardScaler()],\n",
    "                   'regresion__alpha':[0.01, 0.3, 0.5, 0.7, 0.8],\n",
    "                }]\n",
    "\n",
    "grid_rid = GridSearchCV(estimator=pipe_grid_rid, param_grid=param_grid_rid, cv=folds, scoring='r2')\n",
    "grid_rid.fit(X_train, y_train)"
   ]
  },
  {
   "cell_type": "code",
   "execution_count": 143,
   "metadata": {},
   "outputs": [
    {
     "data": {
      "text/plain": [
       "0.8075859691068947"
      ]
     },
     "execution_count": 143,
     "metadata": {},
     "output_type": "execute_result"
    }
   ],
   "source": [
    "grid_rid.best_score_"
   ]
  },
  {
   "cell_type": "code",
   "execution_count": 144,
   "metadata": {},
   "outputs": [
    {
     "data": {
      "text/html": [
       "<style>div.sk-top-container {color: black;background-color: white;}div.sk-toggleable {background-color: white;}label.sk-toggleable__label {cursor: pointer;display: block;width: 100%;margin-bottom: 0;padding: 0.2em 0.3em;box-sizing: border-box;text-align: center;}div.sk-toggleable__content {max-height: 0;max-width: 0;overflow: hidden;text-align: left;background-color: #f0f8ff;}div.sk-toggleable__content pre {margin: 0.2em;color: black;border-radius: 0.25em;background-color: #f0f8ff;}input.sk-toggleable__control:checked~div.sk-toggleable__content {max-height: 200px;max-width: 100%;overflow: auto;}div.sk-estimator input.sk-toggleable__control:checked~label.sk-toggleable__label {background-color: #d4ebff;}div.sk-label input.sk-toggleable__control:checked~label.sk-toggleable__label {background-color: #d4ebff;}input.sk-hidden--visually {border: 0;clip: rect(1px 1px 1px 1px);clip: rect(1px, 1px, 1px, 1px);height: 1px;margin: -1px;overflow: hidden;padding: 0;position: absolute;width: 1px;}div.sk-estimator {font-family: monospace;background-color: #f0f8ff;margin: 0.25em 0.25em;border: 1px dotted black;border-radius: 0.25em;box-sizing: border-box;}div.sk-estimator:hover {background-color: #d4ebff;}div.sk-parallel-item::after {content: \"\";width: 100%;border-bottom: 1px solid gray;flex-grow: 1;}div.sk-label:hover label.sk-toggleable__label {background-color: #d4ebff;}div.sk-serial::before {content: \"\";position: absolute;border-left: 1px solid gray;box-sizing: border-box;top: 2em;bottom: 0;left: 50%;}div.sk-serial {display: flex;flex-direction: column;align-items: center;background-color: white;}div.sk-item {z-index: 1;}div.sk-parallel {display: flex;align-items: stretch;justify-content: center;background-color: white;}div.sk-parallel-item {display: flex;flex-direction: column;position: relative;background-color: white;}div.sk-parallel-item:first-child::after {align-self: flex-end;width: 50%;}div.sk-parallel-item:last-child::after {align-self: flex-start;width: 50%;}div.sk-parallel-item:only-child::after {width: 0;}div.sk-dashed-wrapped {border: 1px dashed gray;margin: 0.2em;box-sizing: border-box;padding-bottom: 0.1em;background-color: white;position: relative;}div.sk-label label {font-family: monospace;font-weight: bold;background-color: white;display: inline-block;line-height: 1.2em;}div.sk-label-container {position: relative;z-index: 2;text-align: center;}div.sk-container {display: inline-block;position: relative;}</style><div class=\"sk-top-container\"><div class=\"sk-container\"><div class=\"sk-item sk-dashed-wrapped\"><div class=\"sk-label-container\"><div class=\"sk-label sk-toggleable\"><input class=\"sk-toggleable__control sk-hidden--visually\" id=\"b4133f19-5a60-40e5-ad9d-6d073f61020b\" type=\"checkbox\" ><label class=\"sk-toggleable__label\" for=\"b4133f19-5a60-40e5-ad9d-6d073f61020b\">Pipeline</label><div class=\"sk-toggleable__content\"><pre>Pipeline(steps=[('preprocesamiento', StandardScaler()),\n",
       "                ('regresion', Ridge(alpha=0.8))])</pre></div></div></div><div class=\"sk-serial\"><div class=\"sk-item\"><div class=\"sk-estimator sk-toggleable\"><input class=\"sk-toggleable__control sk-hidden--visually\" id=\"5c432f7d-abd1-4f0a-aaee-fe0f954fab2a\" type=\"checkbox\" ><label class=\"sk-toggleable__label\" for=\"5c432f7d-abd1-4f0a-aaee-fe0f954fab2a\">StandardScaler</label><div class=\"sk-toggleable__content\"><pre>StandardScaler()</pre></div></div></div><div class=\"sk-item\"><div class=\"sk-estimator sk-toggleable\"><input class=\"sk-toggleable__control sk-hidden--visually\" id=\"8e9de45c-ff72-45a2-ac96-4265a88f0862\" type=\"checkbox\" ><label class=\"sk-toggleable__label\" for=\"8e9de45c-ff72-45a2-ac96-4265a88f0862\">Ridge</label><div class=\"sk-toggleable__content\"><pre>Ridge(alpha=0.8)</pre></div></div></div></div></div></div></div>"
      ],
      "text/plain": [
       "Pipeline(steps=[('preprocesamiento', StandardScaler()),\n",
       "                ('regresion', Ridge(alpha=0.8))])"
      ]
     },
     "execution_count": 144,
     "metadata": {},
     "output_type": "execute_result"
    }
   ],
   "source": [
    "grid_rid.best_estimator_"
   ]
  },
  {
   "cell_type": "markdown",
   "metadata": {},
   "source": [
    "#### Lasso"
   ]
  },
  {
   "cell_type": "code",
   "execution_count": 145,
   "metadata": {},
   "outputs": [
    {
     "data": {
      "text/html": [
       "<style>div.sk-top-container {color: black;background-color: white;}div.sk-toggleable {background-color: white;}label.sk-toggleable__label {cursor: pointer;display: block;width: 100%;margin-bottom: 0;padding: 0.2em 0.3em;box-sizing: border-box;text-align: center;}div.sk-toggleable__content {max-height: 0;max-width: 0;overflow: hidden;text-align: left;background-color: #f0f8ff;}div.sk-toggleable__content pre {margin: 0.2em;color: black;border-radius: 0.25em;background-color: #f0f8ff;}input.sk-toggleable__control:checked~div.sk-toggleable__content {max-height: 200px;max-width: 100%;overflow: auto;}div.sk-estimator input.sk-toggleable__control:checked~label.sk-toggleable__label {background-color: #d4ebff;}div.sk-label input.sk-toggleable__control:checked~label.sk-toggleable__label {background-color: #d4ebff;}input.sk-hidden--visually {border: 0;clip: rect(1px 1px 1px 1px);clip: rect(1px, 1px, 1px, 1px);height: 1px;margin: -1px;overflow: hidden;padding: 0;position: absolute;width: 1px;}div.sk-estimator {font-family: monospace;background-color: #f0f8ff;margin: 0.25em 0.25em;border: 1px dotted black;border-radius: 0.25em;box-sizing: border-box;}div.sk-estimator:hover {background-color: #d4ebff;}div.sk-parallel-item::after {content: \"\";width: 100%;border-bottom: 1px solid gray;flex-grow: 1;}div.sk-label:hover label.sk-toggleable__label {background-color: #d4ebff;}div.sk-serial::before {content: \"\";position: absolute;border-left: 1px solid gray;box-sizing: border-box;top: 2em;bottom: 0;left: 50%;}div.sk-serial {display: flex;flex-direction: column;align-items: center;background-color: white;}div.sk-item {z-index: 1;}div.sk-parallel {display: flex;align-items: stretch;justify-content: center;background-color: white;}div.sk-parallel-item {display: flex;flex-direction: column;position: relative;background-color: white;}div.sk-parallel-item:first-child::after {align-self: flex-end;width: 50%;}div.sk-parallel-item:last-child::after {align-self: flex-start;width: 50%;}div.sk-parallel-item:only-child::after {width: 0;}div.sk-dashed-wrapped {border: 1px dashed gray;margin: 0.2em;box-sizing: border-box;padding-bottom: 0.1em;background-color: white;position: relative;}div.sk-label label {font-family: monospace;font-weight: bold;background-color: white;display: inline-block;line-height: 1.2em;}div.sk-label-container {position: relative;z-index: 2;text-align: center;}div.sk-container {display: inline-block;position: relative;}</style><div class=\"sk-top-container\"><div class=\"sk-container\"><div class=\"sk-item sk-dashed-wrapped\"><div class=\"sk-label-container\"><div class=\"sk-label sk-toggleable\"><input class=\"sk-toggleable__control sk-hidden--visually\" id=\"d4fced38-9fa0-42c6-800d-4a020cd10c1d\" type=\"checkbox\" ><label class=\"sk-toggleable__label\" for=\"d4fced38-9fa0-42c6-800d-4a020cd10c1d\">GridSearchCV</label><div class=\"sk-toggleable__content\"><pre>GridSearchCV(cv=5,\n",
       "             estimator=Pipeline(steps=[('preprocesamiento', StandardScaler()),\n",
       "                                       ('regresion',\n",
       "                                        Lasso(max_iter=5000, tol=0.001))]),\n",
       "             param_grid=[{'preprocesamiento': [StandardScaler()],\n",
       "                          'regresion__alpha': [0.01, 0.3, 0.5, 0.7, 0.8]}],\n",
       "             scoring='r2')</pre></div></div></div><div class=\"sk-parallel\"><div class=\"sk-parallel-item\"><div class=\"sk-item\"><div class=\"sk-serial\"><div class=\"sk-item\"><div class=\"sk-serial\"><div class=\"sk-item\"><div class=\"sk-estimator sk-toggleable\"><input class=\"sk-toggleable__control sk-hidden--visually\" id=\"0dc0ef4f-bed2-4cec-a3b9-e7b529ac384f\" type=\"checkbox\" ><label class=\"sk-toggleable__label\" for=\"0dc0ef4f-bed2-4cec-a3b9-e7b529ac384f\">StandardScaler</label><div class=\"sk-toggleable__content\"><pre>StandardScaler()</pre></div></div></div><div class=\"sk-item\"><div class=\"sk-estimator sk-toggleable\"><input class=\"sk-toggleable__control sk-hidden--visually\" id=\"732f539f-e77f-41aa-9860-b88204d8cbb0\" type=\"checkbox\" ><label class=\"sk-toggleable__label\" for=\"732f539f-e77f-41aa-9860-b88204d8cbb0\">Lasso</label><div class=\"sk-toggleable__content\"><pre>Lasso(max_iter=5000, tol=0.001)</pre></div></div></div></div></div></div></div></div></div></div></div></div>"
      ],
      "text/plain": [
       "GridSearchCV(cv=5,\n",
       "             estimator=Pipeline(steps=[('preprocesamiento', StandardScaler()),\n",
       "                                       ('regresion',\n",
       "                                        Lasso(max_iter=5000, tol=0.001))]),\n",
       "             param_grid=[{'preprocesamiento': [StandardScaler()],\n",
       "                          'regresion__alpha': [0.01, 0.3, 0.5, 0.7, 0.8]}],\n",
       "             scoring='r2')"
      ]
     },
     "execution_count": 145,
     "metadata": {},
     "output_type": "execute_result"
    }
   ],
   "source": [
    "pasos = [('preprocesamiento', StandardScaler()),\\\n",
    "         ('regresion', Lasso(max_iter=5000, tol=0.001))\n",
    "        ]\n",
    "\n",
    "pipe_grid_lass = Pipeline(pasos)\n",
    "\n",
    "param_grid_lass = [{'preprocesamiento':[StandardScaler()],\n",
    "                    'regresion__alpha':[0.01, 0.3, 0.5, 0.7, 0.8],\n",
    "                  }]\n",
    "\n",
    "grid_lass = GridSearchCV(estimator=pipe_grid_lass, param_grid=param_grid_lass, cv=folds, scoring='r2')\n",
    "grid_lass.fit(X_train, y_train)"
   ]
  },
  {
   "cell_type": "code",
   "execution_count": 146,
   "metadata": {},
   "outputs": [
    {
     "data": {
      "text/plain": [
       "0.807586084786546"
      ]
     },
     "execution_count": 146,
     "metadata": {},
     "output_type": "execute_result"
    }
   ],
   "source": [
    "grid_lass.best_score_"
   ]
  },
  {
   "cell_type": "code",
   "execution_count": 147,
   "metadata": {},
   "outputs": [
    {
     "data": {
      "text/html": [
       "<style>div.sk-top-container {color: black;background-color: white;}div.sk-toggleable {background-color: white;}label.sk-toggleable__label {cursor: pointer;display: block;width: 100%;margin-bottom: 0;padding: 0.2em 0.3em;box-sizing: border-box;text-align: center;}div.sk-toggleable__content {max-height: 0;max-width: 0;overflow: hidden;text-align: left;background-color: #f0f8ff;}div.sk-toggleable__content pre {margin: 0.2em;color: black;border-radius: 0.25em;background-color: #f0f8ff;}input.sk-toggleable__control:checked~div.sk-toggleable__content {max-height: 200px;max-width: 100%;overflow: auto;}div.sk-estimator input.sk-toggleable__control:checked~label.sk-toggleable__label {background-color: #d4ebff;}div.sk-label input.sk-toggleable__control:checked~label.sk-toggleable__label {background-color: #d4ebff;}input.sk-hidden--visually {border: 0;clip: rect(1px 1px 1px 1px);clip: rect(1px, 1px, 1px, 1px);height: 1px;margin: -1px;overflow: hidden;padding: 0;position: absolute;width: 1px;}div.sk-estimator {font-family: monospace;background-color: #f0f8ff;margin: 0.25em 0.25em;border: 1px dotted black;border-radius: 0.25em;box-sizing: border-box;}div.sk-estimator:hover {background-color: #d4ebff;}div.sk-parallel-item::after {content: \"\";width: 100%;border-bottom: 1px solid gray;flex-grow: 1;}div.sk-label:hover label.sk-toggleable__label {background-color: #d4ebff;}div.sk-serial::before {content: \"\";position: absolute;border-left: 1px solid gray;box-sizing: border-box;top: 2em;bottom: 0;left: 50%;}div.sk-serial {display: flex;flex-direction: column;align-items: center;background-color: white;}div.sk-item {z-index: 1;}div.sk-parallel {display: flex;align-items: stretch;justify-content: center;background-color: white;}div.sk-parallel-item {display: flex;flex-direction: column;position: relative;background-color: white;}div.sk-parallel-item:first-child::after {align-self: flex-end;width: 50%;}div.sk-parallel-item:last-child::after {align-self: flex-start;width: 50%;}div.sk-parallel-item:only-child::after {width: 0;}div.sk-dashed-wrapped {border: 1px dashed gray;margin: 0.2em;box-sizing: border-box;padding-bottom: 0.1em;background-color: white;position: relative;}div.sk-label label {font-family: monospace;font-weight: bold;background-color: white;display: inline-block;line-height: 1.2em;}div.sk-label-container {position: relative;z-index: 2;text-align: center;}div.sk-container {display: inline-block;position: relative;}</style><div class=\"sk-top-container\"><div class=\"sk-container\"><div class=\"sk-item sk-dashed-wrapped\"><div class=\"sk-label-container\"><div class=\"sk-label sk-toggleable\"><input class=\"sk-toggleable__control sk-hidden--visually\" id=\"2e536a39-1444-4204-aa69-5e5608ac73f0\" type=\"checkbox\" ><label class=\"sk-toggleable__label\" for=\"2e536a39-1444-4204-aa69-5e5608ac73f0\">Pipeline</label><div class=\"sk-toggleable__content\"><pre>Pipeline(steps=[('preprocesamiento', StandardScaler()),\n",
       "                ('regresion', Lasso(alpha=0.8, max_iter=5000, tol=0.001))])</pre></div></div></div><div class=\"sk-serial\"><div class=\"sk-item\"><div class=\"sk-estimator sk-toggleable\"><input class=\"sk-toggleable__control sk-hidden--visually\" id=\"385ae9e7-a40d-4814-b998-6df977c86da9\" type=\"checkbox\" ><label class=\"sk-toggleable__label\" for=\"385ae9e7-a40d-4814-b998-6df977c86da9\">StandardScaler</label><div class=\"sk-toggleable__content\"><pre>StandardScaler()</pre></div></div></div><div class=\"sk-item\"><div class=\"sk-estimator sk-toggleable\"><input class=\"sk-toggleable__control sk-hidden--visually\" id=\"55964c80-1b83-4994-abf2-17151f5854b9\" type=\"checkbox\" ><label class=\"sk-toggleable__label\" for=\"55964c80-1b83-4994-abf2-17151f5854b9\">Lasso</label><div class=\"sk-toggleable__content\"><pre>Lasso(alpha=0.8, max_iter=5000, tol=0.001)</pre></div></div></div></div></div></div></div>"
      ],
      "text/plain": [
       "Pipeline(steps=[('preprocesamiento', StandardScaler()),\n",
       "                ('regresion', Lasso(alpha=0.8, max_iter=5000, tol=0.001))])"
      ]
     },
     "execution_count": 147,
     "metadata": {},
     "output_type": "execute_result"
    }
   ],
   "source": [
    "grid_lass.best_estimator_"
   ]
  },
  {
   "cell_type": "markdown",
   "metadata": {},
   "source": [
    "#### ElasticNet"
   ]
  },
  {
   "cell_type": "code",
   "execution_count": 148,
   "metadata": {},
   "outputs": [
    {
     "data": {
      "text/html": [
       "<style>div.sk-top-container {color: black;background-color: white;}div.sk-toggleable {background-color: white;}label.sk-toggleable__label {cursor: pointer;display: block;width: 100%;margin-bottom: 0;padding: 0.2em 0.3em;box-sizing: border-box;text-align: center;}div.sk-toggleable__content {max-height: 0;max-width: 0;overflow: hidden;text-align: left;background-color: #f0f8ff;}div.sk-toggleable__content pre {margin: 0.2em;color: black;border-radius: 0.25em;background-color: #f0f8ff;}input.sk-toggleable__control:checked~div.sk-toggleable__content {max-height: 200px;max-width: 100%;overflow: auto;}div.sk-estimator input.sk-toggleable__control:checked~label.sk-toggleable__label {background-color: #d4ebff;}div.sk-label input.sk-toggleable__control:checked~label.sk-toggleable__label {background-color: #d4ebff;}input.sk-hidden--visually {border: 0;clip: rect(1px 1px 1px 1px);clip: rect(1px, 1px, 1px, 1px);height: 1px;margin: -1px;overflow: hidden;padding: 0;position: absolute;width: 1px;}div.sk-estimator {font-family: monospace;background-color: #f0f8ff;margin: 0.25em 0.25em;border: 1px dotted black;border-radius: 0.25em;box-sizing: border-box;}div.sk-estimator:hover {background-color: #d4ebff;}div.sk-parallel-item::after {content: \"\";width: 100%;border-bottom: 1px solid gray;flex-grow: 1;}div.sk-label:hover label.sk-toggleable__label {background-color: #d4ebff;}div.sk-serial::before {content: \"\";position: absolute;border-left: 1px solid gray;box-sizing: border-box;top: 2em;bottom: 0;left: 50%;}div.sk-serial {display: flex;flex-direction: column;align-items: center;background-color: white;}div.sk-item {z-index: 1;}div.sk-parallel {display: flex;align-items: stretch;justify-content: center;background-color: white;}div.sk-parallel-item {display: flex;flex-direction: column;position: relative;background-color: white;}div.sk-parallel-item:first-child::after {align-self: flex-end;width: 50%;}div.sk-parallel-item:last-child::after {align-self: flex-start;width: 50%;}div.sk-parallel-item:only-child::after {width: 0;}div.sk-dashed-wrapped {border: 1px dashed gray;margin: 0.2em;box-sizing: border-box;padding-bottom: 0.1em;background-color: white;position: relative;}div.sk-label label {font-family: monospace;font-weight: bold;background-color: white;display: inline-block;line-height: 1.2em;}div.sk-label-container {position: relative;z-index: 2;text-align: center;}div.sk-container {display: inline-block;position: relative;}</style><div class=\"sk-top-container\"><div class=\"sk-container\"><div class=\"sk-item sk-dashed-wrapped\"><div class=\"sk-label-container\"><div class=\"sk-label sk-toggleable\"><input class=\"sk-toggleable__control sk-hidden--visually\" id=\"ae6682e4-28ee-4a0e-b65e-bb160e2c0c1e\" type=\"checkbox\" ><label class=\"sk-toggleable__label\" for=\"ae6682e4-28ee-4a0e-b65e-bb160e2c0c1e\">GridSearchCV</label><div class=\"sk-toggleable__content\"><pre>GridSearchCV(cv=5,\n",
       "             estimator=Pipeline(steps=[('preprocesamiento', StandardScaler()),\n",
       "                                       ('regresion',\n",
       "                                        ElasticNet(max_iter=10000,\n",
       "                                                   tol=0.001))]),\n",
       "             param_grid=[{'preprocesamiento': [StandardScaler()],\n",
       "                          'regresion__alpha': [0.01, 0.3, 0.5, 0.7, 0.8],\n",
       "                          'regresion__l1_ratio': [0.01, 0.3, 0.5, 0.7, 0.8]}],\n",
       "             scoring='r2')</pre></div></div></div><div class=\"sk-parallel\"><div class=\"sk-parallel-item\"><div class=\"sk-item\"><div class=\"sk-serial\"><div class=\"sk-item\"><div class=\"sk-serial\"><div class=\"sk-item\"><div class=\"sk-estimator sk-toggleable\"><input class=\"sk-toggleable__control sk-hidden--visually\" id=\"3c48acc6-4f2d-46ea-be83-f4e47d2e72c3\" type=\"checkbox\" ><label class=\"sk-toggleable__label\" for=\"3c48acc6-4f2d-46ea-be83-f4e47d2e72c3\">StandardScaler</label><div class=\"sk-toggleable__content\"><pre>StandardScaler()</pre></div></div></div><div class=\"sk-item\"><div class=\"sk-estimator sk-toggleable\"><input class=\"sk-toggleable__control sk-hidden--visually\" id=\"cdfd9071-8776-4762-b99e-46f57aa7d600\" type=\"checkbox\" ><label class=\"sk-toggleable__label\" for=\"cdfd9071-8776-4762-b99e-46f57aa7d600\">ElasticNet</label><div class=\"sk-toggleable__content\"><pre>ElasticNet(max_iter=10000, tol=0.001)</pre></div></div></div></div></div></div></div></div></div></div></div></div>"
      ],
      "text/plain": [
       "GridSearchCV(cv=5,\n",
       "             estimator=Pipeline(steps=[('preprocesamiento', StandardScaler()),\n",
       "                                       ('regresion',\n",
       "                                        ElasticNet(max_iter=10000,\n",
       "                                                   tol=0.001))]),\n",
       "             param_grid=[{'preprocesamiento': [StandardScaler()],\n",
       "                          'regresion__alpha': [0.01, 0.3, 0.5, 0.7, 0.8],\n",
       "                          'regresion__l1_ratio': [0.01, 0.3, 0.5, 0.7, 0.8]}],\n",
       "             scoring='r2')"
      ]
     },
     "execution_count": 148,
     "metadata": {},
     "output_type": "execute_result"
    }
   ],
   "source": [
    "pasos = [('preprocesamiento', StandardScaler()),\\\n",
    "         ('regresion', ElasticNet(max_iter=10000, tol=0.001))\n",
    "        ]\n",
    "\n",
    "pipe_grid_en = Pipeline(pasos)\n",
    "\n",
    "param_grid_en = [{'preprocesamiento':[StandardScaler()],\n",
    "                  'regresion__alpha':[0.01, 0.3, 0.5, 0.7, 0.8],\n",
    "                  'regresion__l1_ratio':[0.01, 0.3, 0.5, 0.7, 0.8],\n",
    "                }]\n",
    "\n",
    "grid_en = GridSearchCV(estimator=pipe_grid_en, param_grid=param_grid_en, cv=folds, scoring='r2')\n",
    "grid_en.fit(X_train, y_train)"
   ]
  },
  {
   "cell_type": "code",
   "execution_count": 149,
   "metadata": {},
   "outputs": [
    {
     "data": {
      "text/plain": [
       "0.8075792861879005"
      ]
     },
     "execution_count": 149,
     "metadata": {},
     "output_type": "execute_result"
    }
   ],
   "source": [
    "grid_en.best_score_"
   ]
  },
  {
   "cell_type": "code",
   "execution_count": 150,
   "metadata": {},
   "outputs": [
    {
     "data": {
      "text/html": [
       "<style>div.sk-top-container {color: black;background-color: white;}div.sk-toggleable {background-color: white;}label.sk-toggleable__label {cursor: pointer;display: block;width: 100%;margin-bottom: 0;padding: 0.2em 0.3em;box-sizing: border-box;text-align: center;}div.sk-toggleable__content {max-height: 0;max-width: 0;overflow: hidden;text-align: left;background-color: #f0f8ff;}div.sk-toggleable__content pre {margin: 0.2em;color: black;border-radius: 0.25em;background-color: #f0f8ff;}input.sk-toggleable__control:checked~div.sk-toggleable__content {max-height: 200px;max-width: 100%;overflow: auto;}div.sk-estimator input.sk-toggleable__control:checked~label.sk-toggleable__label {background-color: #d4ebff;}div.sk-label input.sk-toggleable__control:checked~label.sk-toggleable__label {background-color: #d4ebff;}input.sk-hidden--visually {border: 0;clip: rect(1px 1px 1px 1px);clip: rect(1px, 1px, 1px, 1px);height: 1px;margin: -1px;overflow: hidden;padding: 0;position: absolute;width: 1px;}div.sk-estimator {font-family: monospace;background-color: #f0f8ff;margin: 0.25em 0.25em;border: 1px dotted black;border-radius: 0.25em;box-sizing: border-box;}div.sk-estimator:hover {background-color: #d4ebff;}div.sk-parallel-item::after {content: \"\";width: 100%;border-bottom: 1px solid gray;flex-grow: 1;}div.sk-label:hover label.sk-toggleable__label {background-color: #d4ebff;}div.sk-serial::before {content: \"\";position: absolute;border-left: 1px solid gray;box-sizing: border-box;top: 2em;bottom: 0;left: 50%;}div.sk-serial {display: flex;flex-direction: column;align-items: center;background-color: white;}div.sk-item {z-index: 1;}div.sk-parallel {display: flex;align-items: stretch;justify-content: center;background-color: white;}div.sk-parallel-item {display: flex;flex-direction: column;position: relative;background-color: white;}div.sk-parallel-item:first-child::after {align-self: flex-end;width: 50%;}div.sk-parallel-item:last-child::after {align-self: flex-start;width: 50%;}div.sk-parallel-item:only-child::after {width: 0;}div.sk-dashed-wrapped {border: 1px dashed gray;margin: 0.2em;box-sizing: border-box;padding-bottom: 0.1em;background-color: white;position: relative;}div.sk-label label {font-family: monospace;font-weight: bold;background-color: white;display: inline-block;line-height: 1.2em;}div.sk-label-container {position: relative;z-index: 2;text-align: center;}div.sk-container {display: inline-block;position: relative;}</style><div class=\"sk-top-container\"><div class=\"sk-container\"><div class=\"sk-item sk-dashed-wrapped\"><div class=\"sk-label-container\"><div class=\"sk-label sk-toggleable\"><input class=\"sk-toggleable__control sk-hidden--visually\" id=\"af28233d-cf2b-4daf-afc3-8d2abc38cf3f\" type=\"checkbox\" ><label class=\"sk-toggleable__label\" for=\"af28233d-cf2b-4daf-afc3-8d2abc38cf3f\">Pipeline</label><div class=\"sk-toggleable__content\"><pre>Pipeline(steps=[('preprocesamiento', StandardScaler()),\n",
       "                ('regresion',\n",
       "                 ElasticNet(alpha=0.01, l1_ratio=0.8, max_iter=10000,\n",
       "                            tol=0.001))])</pre></div></div></div><div class=\"sk-serial\"><div class=\"sk-item\"><div class=\"sk-estimator sk-toggleable\"><input class=\"sk-toggleable__control sk-hidden--visually\" id=\"74513864-5618-407b-90f5-aeeecef1b4c7\" type=\"checkbox\" ><label class=\"sk-toggleable__label\" for=\"74513864-5618-407b-90f5-aeeecef1b4c7\">StandardScaler</label><div class=\"sk-toggleable__content\"><pre>StandardScaler()</pre></div></div></div><div class=\"sk-item\"><div class=\"sk-estimator sk-toggleable\"><input class=\"sk-toggleable__control sk-hidden--visually\" id=\"7d113887-8126-437e-8f2c-743a94de407f\" type=\"checkbox\" ><label class=\"sk-toggleable__label\" for=\"7d113887-8126-437e-8f2c-743a94de407f\">ElasticNet</label><div class=\"sk-toggleable__content\"><pre>ElasticNet(alpha=0.01, l1_ratio=0.8, max_iter=10000, tol=0.001)</pre></div></div></div></div></div></div></div>"
      ],
      "text/plain": [
       "Pipeline(steps=[('preprocesamiento', StandardScaler()),\n",
       "                ('regresion',\n",
       "                 ElasticNet(alpha=0.01, l1_ratio=0.8, max_iter=10000,\n",
       "                            tol=0.001))])"
      ]
     },
     "execution_count": 150,
     "metadata": {},
     "output_type": "execute_result"
    }
   ],
   "source": [
    "grid_en.best_estimator_"
   ]
  },
  {
   "cell_type": "markdown",
   "metadata": {},
   "source": [
    "#### Random Forest"
   ]
  },
  {
   "cell_type": "code",
   "execution_count": 151,
   "metadata": {},
   "outputs": [
    {
     "data": {
      "text/html": [
       "<style>div.sk-top-container {color: black;background-color: white;}div.sk-toggleable {background-color: white;}label.sk-toggleable__label {cursor: pointer;display: block;width: 100%;margin-bottom: 0;padding: 0.2em 0.3em;box-sizing: border-box;text-align: center;}div.sk-toggleable__content {max-height: 0;max-width: 0;overflow: hidden;text-align: left;background-color: #f0f8ff;}div.sk-toggleable__content pre {margin: 0.2em;color: black;border-radius: 0.25em;background-color: #f0f8ff;}input.sk-toggleable__control:checked~div.sk-toggleable__content {max-height: 200px;max-width: 100%;overflow: auto;}div.sk-estimator input.sk-toggleable__control:checked~label.sk-toggleable__label {background-color: #d4ebff;}div.sk-label input.sk-toggleable__control:checked~label.sk-toggleable__label {background-color: #d4ebff;}input.sk-hidden--visually {border: 0;clip: rect(1px 1px 1px 1px);clip: rect(1px, 1px, 1px, 1px);height: 1px;margin: -1px;overflow: hidden;padding: 0;position: absolute;width: 1px;}div.sk-estimator {font-family: monospace;background-color: #f0f8ff;margin: 0.25em 0.25em;border: 1px dotted black;border-radius: 0.25em;box-sizing: border-box;}div.sk-estimator:hover {background-color: #d4ebff;}div.sk-parallel-item::after {content: \"\";width: 100%;border-bottom: 1px solid gray;flex-grow: 1;}div.sk-label:hover label.sk-toggleable__label {background-color: #d4ebff;}div.sk-serial::before {content: \"\";position: absolute;border-left: 1px solid gray;box-sizing: border-box;top: 2em;bottom: 0;left: 50%;}div.sk-serial {display: flex;flex-direction: column;align-items: center;background-color: white;}div.sk-item {z-index: 1;}div.sk-parallel {display: flex;align-items: stretch;justify-content: center;background-color: white;}div.sk-parallel-item {display: flex;flex-direction: column;position: relative;background-color: white;}div.sk-parallel-item:first-child::after {align-self: flex-end;width: 50%;}div.sk-parallel-item:last-child::after {align-self: flex-start;width: 50%;}div.sk-parallel-item:only-child::after {width: 0;}div.sk-dashed-wrapped {border: 1px dashed gray;margin: 0.2em;box-sizing: border-box;padding-bottom: 0.1em;background-color: white;position: relative;}div.sk-label label {font-family: monospace;font-weight: bold;background-color: white;display: inline-block;line-height: 1.2em;}div.sk-label-container {position: relative;z-index: 2;text-align: center;}div.sk-container {display: inline-block;position: relative;}</style><div class=\"sk-top-container\"><div class=\"sk-container\"><div class=\"sk-item sk-dashed-wrapped\"><div class=\"sk-label-container\"><div class=\"sk-label sk-toggleable\"><input class=\"sk-toggleable__control sk-hidden--visually\" id=\"a54d6267-0243-4402-9fba-87c2ee5a67e2\" type=\"checkbox\" ><label class=\"sk-toggleable__label\" for=\"a54d6267-0243-4402-9fba-87c2ee5a67e2\">GridSearchCV</label><div class=\"sk-toggleable__content\"><pre>GridSearchCV(cv=5,\n",
       "             estimator=Pipeline(steps=[('preprocesamiento', StandardScaler()),\n",
       "                                       ('regresion', RandomForestRegressor())]),\n",
       "             param_grid=[{'preprocesamiento': [StandardScaler()],\n",
       "                          'regresion__max_depth': [5, 10],\n",
       "                          'regresion__n_estimators': [500, 1000]}],\n",
       "             scoring='r2')</pre></div></div></div><div class=\"sk-parallel\"><div class=\"sk-parallel-item\"><div class=\"sk-item\"><div class=\"sk-serial\"><div class=\"sk-item\"><div class=\"sk-serial\"><div class=\"sk-item\"><div class=\"sk-estimator sk-toggleable\"><input class=\"sk-toggleable__control sk-hidden--visually\" id=\"ded9ea3f-ed04-4154-b0b8-8662300dbb94\" type=\"checkbox\" ><label class=\"sk-toggleable__label\" for=\"ded9ea3f-ed04-4154-b0b8-8662300dbb94\">StandardScaler</label><div class=\"sk-toggleable__content\"><pre>StandardScaler()</pre></div></div></div><div class=\"sk-item\"><div class=\"sk-estimator sk-toggleable\"><input class=\"sk-toggleable__control sk-hidden--visually\" id=\"8e80bc4d-c08b-4771-8a02-37062d1e70d7\" type=\"checkbox\" ><label class=\"sk-toggleable__label\" for=\"8e80bc4d-c08b-4771-8a02-37062d1e70d7\">RandomForestRegressor</label><div class=\"sk-toggleable__content\"><pre>RandomForestRegressor()</pre></div></div></div></div></div></div></div></div></div></div></div></div>"
      ],
      "text/plain": [
       "GridSearchCV(cv=5,\n",
       "             estimator=Pipeline(steps=[('preprocesamiento', StandardScaler()),\n",
       "                                       ('regresion', RandomForestRegressor())]),\n",
       "             param_grid=[{'preprocesamiento': [StandardScaler()],\n",
       "                          'regresion__max_depth': [5, 10],\n",
       "                          'regresion__n_estimators': [500, 1000]}],\n",
       "             scoring='r2')"
      ]
     },
     "execution_count": 151,
     "metadata": {},
     "output_type": "execute_result"
    }
   ],
   "source": [
    "pasos = [('preprocesamiento', StandardScaler()),\\\n",
    "         ('regresion', RandomForestRegressor())\n",
    "        ]\n",
    "\n",
    "pipe_grid_rf = Pipeline(pasos)\n",
    "\n",
    "param_grid_rf = [{'preprocesamiento':[StandardScaler()],\n",
    "                  'regresion__n_estimators': [500, 1000],\n",
    "                  'regresion__max_depth': [5, 10]\n",
    "                }]\n",
    "\n",
    "grid_rf = GridSearchCV(estimator=pipe_grid_rf, param_grid=param_grid_rf, cv=folds, scoring='r2')\n",
    "grid_rf.fit(X_train, y_train)"
   ]
  },
  {
   "cell_type": "code",
   "execution_count": 152,
   "metadata": {},
   "outputs": [
    {
     "data": {
      "text/plain": [
       "0.8832432851407678"
      ]
     },
     "execution_count": 152,
     "metadata": {},
     "output_type": "execute_result"
    }
   ],
   "source": [
    "grid_rf.best_score_"
   ]
  },
  {
   "cell_type": "code",
   "execution_count": 153,
   "metadata": {},
   "outputs": [
    {
     "data": {
      "text/html": [
       "<style>div.sk-top-container {color: black;background-color: white;}div.sk-toggleable {background-color: white;}label.sk-toggleable__label {cursor: pointer;display: block;width: 100%;margin-bottom: 0;padding: 0.2em 0.3em;box-sizing: border-box;text-align: center;}div.sk-toggleable__content {max-height: 0;max-width: 0;overflow: hidden;text-align: left;background-color: #f0f8ff;}div.sk-toggleable__content pre {margin: 0.2em;color: black;border-radius: 0.25em;background-color: #f0f8ff;}input.sk-toggleable__control:checked~div.sk-toggleable__content {max-height: 200px;max-width: 100%;overflow: auto;}div.sk-estimator input.sk-toggleable__control:checked~label.sk-toggleable__label {background-color: #d4ebff;}div.sk-label input.sk-toggleable__control:checked~label.sk-toggleable__label {background-color: #d4ebff;}input.sk-hidden--visually {border: 0;clip: rect(1px 1px 1px 1px);clip: rect(1px, 1px, 1px, 1px);height: 1px;margin: -1px;overflow: hidden;padding: 0;position: absolute;width: 1px;}div.sk-estimator {font-family: monospace;background-color: #f0f8ff;margin: 0.25em 0.25em;border: 1px dotted black;border-radius: 0.25em;box-sizing: border-box;}div.sk-estimator:hover {background-color: #d4ebff;}div.sk-parallel-item::after {content: \"\";width: 100%;border-bottom: 1px solid gray;flex-grow: 1;}div.sk-label:hover label.sk-toggleable__label {background-color: #d4ebff;}div.sk-serial::before {content: \"\";position: absolute;border-left: 1px solid gray;box-sizing: border-box;top: 2em;bottom: 0;left: 50%;}div.sk-serial {display: flex;flex-direction: column;align-items: center;background-color: white;}div.sk-item {z-index: 1;}div.sk-parallel {display: flex;align-items: stretch;justify-content: center;background-color: white;}div.sk-parallel-item {display: flex;flex-direction: column;position: relative;background-color: white;}div.sk-parallel-item:first-child::after {align-self: flex-end;width: 50%;}div.sk-parallel-item:last-child::after {align-self: flex-start;width: 50%;}div.sk-parallel-item:only-child::after {width: 0;}div.sk-dashed-wrapped {border: 1px dashed gray;margin: 0.2em;box-sizing: border-box;padding-bottom: 0.1em;background-color: white;position: relative;}div.sk-label label {font-family: monospace;font-weight: bold;background-color: white;display: inline-block;line-height: 1.2em;}div.sk-label-container {position: relative;z-index: 2;text-align: center;}div.sk-container {display: inline-block;position: relative;}</style><div class=\"sk-top-container\"><div class=\"sk-container\"><div class=\"sk-item sk-dashed-wrapped\"><div class=\"sk-label-container\"><div class=\"sk-label sk-toggleable\"><input class=\"sk-toggleable__control sk-hidden--visually\" id=\"7fde10ba-ac52-4301-b9ec-6646b0f5b44c\" type=\"checkbox\" ><label class=\"sk-toggleable__label\" for=\"7fde10ba-ac52-4301-b9ec-6646b0f5b44c\">Pipeline</label><div class=\"sk-toggleable__content\"><pre>Pipeline(steps=[('preprocesamiento', StandardScaler()),\n",
       "                ('regresion',\n",
       "                 RandomForestRegressor(max_depth=10, n_estimators=500))])</pre></div></div></div><div class=\"sk-serial\"><div class=\"sk-item\"><div class=\"sk-estimator sk-toggleable\"><input class=\"sk-toggleable__control sk-hidden--visually\" id=\"9ad7ae0d-afb0-458c-bf71-798e6fe5cd7c\" type=\"checkbox\" ><label class=\"sk-toggleable__label\" for=\"9ad7ae0d-afb0-458c-bf71-798e6fe5cd7c\">StandardScaler</label><div class=\"sk-toggleable__content\"><pre>StandardScaler()</pre></div></div></div><div class=\"sk-item\"><div class=\"sk-estimator sk-toggleable\"><input class=\"sk-toggleable__control sk-hidden--visually\" id=\"c06b5a84-c75e-4f63-9815-598f9cec6505\" type=\"checkbox\" ><label class=\"sk-toggleable__label\" for=\"c06b5a84-c75e-4f63-9815-598f9cec6505\">RandomForestRegressor</label><div class=\"sk-toggleable__content\"><pre>RandomForestRegressor(max_depth=10, n_estimators=500)</pre></div></div></div></div></div></div></div>"
      ],
      "text/plain": [
       "Pipeline(steps=[('preprocesamiento', StandardScaler()),\n",
       "                ('regresion',\n",
       "                 RandomForestRegressor(max_depth=10, n_estimators=500))])"
      ]
     },
     "execution_count": 153,
     "metadata": {},
     "output_type": "execute_result"
    }
   ],
   "source": [
    "grid_rf.best_estimator_"
   ]
  },
  {
   "cell_type": "markdown",
   "metadata": {},
   "source": [
    "#### Gradient Boosting Regressor"
   ]
  },
  {
   "cell_type": "code",
   "execution_count": 154,
   "metadata": {},
   "outputs": [
    {
     "data": {
      "text/html": [
       "<style>div.sk-top-container {color: black;background-color: white;}div.sk-toggleable {background-color: white;}label.sk-toggleable__label {cursor: pointer;display: block;width: 100%;margin-bottom: 0;padding: 0.2em 0.3em;box-sizing: border-box;text-align: center;}div.sk-toggleable__content {max-height: 0;max-width: 0;overflow: hidden;text-align: left;background-color: #f0f8ff;}div.sk-toggleable__content pre {margin: 0.2em;color: black;border-radius: 0.25em;background-color: #f0f8ff;}input.sk-toggleable__control:checked~div.sk-toggleable__content {max-height: 200px;max-width: 100%;overflow: auto;}div.sk-estimator input.sk-toggleable__control:checked~label.sk-toggleable__label {background-color: #d4ebff;}div.sk-label input.sk-toggleable__control:checked~label.sk-toggleable__label {background-color: #d4ebff;}input.sk-hidden--visually {border: 0;clip: rect(1px 1px 1px 1px);clip: rect(1px, 1px, 1px, 1px);height: 1px;margin: -1px;overflow: hidden;padding: 0;position: absolute;width: 1px;}div.sk-estimator {font-family: monospace;background-color: #f0f8ff;margin: 0.25em 0.25em;border: 1px dotted black;border-radius: 0.25em;box-sizing: border-box;}div.sk-estimator:hover {background-color: #d4ebff;}div.sk-parallel-item::after {content: \"\";width: 100%;border-bottom: 1px solid gray;flex-grow: 1;}div.sk-label:hover label.sk-toggleable__label {background-color: #d4ebff;}div.sk-serial::before {content: \"\";position: absolute;border-left: 1px solid gray;box-sizing: border-box;top: 2em;bottom: 0;left: 50%;}div.sk-serial {display: flex;flex-direction: column;align-items: center;background-color: white;}div.sk-item {z-index: 1;}div.sk-parallel {display: flex;align-items: stretch;justify-content: center;background-color: white;}div.sk-parallel-item {display: flex;flex-direction: column;position: relative;background-color: white;}div.sk-parallel-item:first-child::after {align-self: flex-end;width: 50%;}div.sk-parallel-item:last-child::after {align-self: flex-start;width: 50%;}div.sk-parallel-item:only-child::after {width: 0;}div.sk-dashed-wrapped {border: 1px dashed gray;margin: 0.2em;box-sizing: border-box;padding-bottom: 0.1em;background-color: white;position: relative;}div.sk-label label {font-family: monospace;font-weight: bold;background-color: white;display: inline-block;line-height: 1.2em;}div.sk-label-container {position: relative;z-index: 2;text-align: center;}div.sk-container {display: inline-block;position: relative;}</style><div class=\"sk-top-container\"><div class=\"sk-container\"><div class=\"sk-item sk-dashed-wrapped\"><div class=\"sk-label-container\"><div class=\"sk-label sk-toggleable\"><input class=\"sk-toggleable__control sk-hidden--visually\" id=\"a027fcad-4666-4377-9307-f66b6f82cdc9\" type=\"checkbox\" ><label class=\"sk-toggleable__label\" for=\"a027fcad-4666-4377-9307-f66b6f82cdc9\">GridSearchCV</label><div class=\"sk-toggleable__content\"><pre>GridSearchCV(cv=5,\n",
       "             estimator=Pipeline(steps=[('preprocesamiento', StandardScaler()),\n",
       "                                       ('regresion',\n",
       "                                        GradientBoostingRegressor())]),\n",
       "             param_grid=[{'preprocesamiento': [StandardScaler()],\n",
       "                          'regresion__max_depth': [5, 10],\n",
       "                          'regresion__n_estimators': [500, 1000]}],\n",
       "             scoring='r2')</pre></div></div></div><div class=\"sk-parallel\"><div class=\"sk-parallel-item\"><div class=\"sk-item\"><div class=\"sk-serial\"><div class=\"sk-item\"><div class=\"sk-serial\"><div class=\"sk-item\"><div class=\"sk-estimator sk-toggleable\"><input class=\"sk-toggleable__control sk-hidden--visually\" id=\"8f981321-207e-4d23-ad34-2a02adcec5f3\" type=\"checkbox\" ><label class=\"sk-toggleable__label\" for=\"8f981321-207e-4d23-ad34-2a02adcec5f3\">StandardScaler</label><div class=\"sk-toggleable__content\"><pre>StandardScaler()</pre></div></div></div><div class=\"sk-item\"><div class=\"sk-estimator sk-toggleable\"><input class=\"sk-toggleable__control sk-hidden--visually\" id=\"d8ab615e-fa4f-4f32-aa75-719ee0856abc\" type=\"checkbox\" ><label class=\"sk-toggleable__label\" for=\"d8ab615e-fa4f-4f32-aa75-719ee0856abc\">GradientBoostingRegressor</label><div class=\"sk-toggleable__content\"><pre>GradientBoostingRegressor()</pre></div></div></div></div></div></div></div></div></div></div></div></div>"
      ],
      "text/plain": [
       "GridSearchCV(cv=5,\n",
       "             estimator=Pipeline(steps=[('preprocesamiento', StandardScaler()),\n",
       "                                       ('regresion',\n",
       "                                        GradientBoostingRegressor())]),\n",
       "             param_grid=[{'preprocesamiento': [StandardScaler()],\n",
       "                          'regresion__max_depth': [5, 10],\n",
       "                          'regresion__n_estimators': [500, 1000]}],\n",
       "             scoring='r2')"
      ]
     },
     "execution_count": 154,
     "metadata": {},
     "output_type": "execute_result"
    }
   ],
   "source": [
    "pasos = [('preprocesamiento', StandardScaler()),\\\n",
    "         ('regresion', GradientBoostingRegressor())\n",
    "        ]\n",
    "\n",
    "pipe_grid_gb = Pipeline(pasos)\n",
    "\n",
    "param_grid_gb = [{'preprocesamiento':[StandardScaler()],\n",
    "                  'regresion__n_estimators': [500, 1000],\n",
    "                  'regresion__max_depth': [5, 10]\n",
    "                }]\n",
    "\n",
    "grid_gb = GridSearchCV(estimator=pipe_grid_gb, param_grid=param_grid_gb, cv=folds, scoring='r2')\n",
    "grid_gb.fit(X_train, y_train)"
   ]
  },
  {
   "cell_type": "code",
   "execution_count": 155,
   "metadata": {},
   "outputs": [
    {
     "data": {
      "text/plain": [
       "0.9126413916463051"
      ]
     },
     "execution_count": 155,
     "metadata": {},
     "output_type": "execute_result"
    }
   ],
   "source": [
    "grid_gb.best_score_"
   ]
  },
  {
   "cell_type": "code",
   "execution_count": 156,
   "metadata": {},
   "outputs": [
    {
     "data": {
      "text/html": [
       "<style>div.sk-top-container {color: black;background-color: white;}div.sk-toggleable {background-color: white;}label.sk-toggleable__label {cursor: pointer;display: block;width: 100%;margin-bottom: 0;padding: 0.2em 0.3em;box-sizing: border-box;text-align: center;}div.sk-toggleable__content {max-height: 0;max-width: 0;overflow: hidden;text-align: left;background-color: #f0f8ff;}div.sk-toggleable__content pre {margin: 0.2em;color: black;border-radius: 0.25em;background-color: #f0f8ff;}input.sk-toggleable__control:checked~div.sk-toggleable__content {max-height: 200px;max-width: 100%;overflow: auto;}div.sk-estimator input.sk-toggleable__control:checked~label.sk-toggleable__label {background-color: #d4ebff;}div.sk-label input.sk-toggleable__control:checked~label.sk-toggleable__label {background-color: #d4ebff;}input.sk-hidden--visually {border: 0;clip: rect(1px 1px 1px 1px);clip: rect(1px, 1px, 1px, 1px);height: 1px;margin: -1px;overflow: hidden;padding: 0;position: absolute;width: 1px;}div.sk-estimator {font-family: monospace;background-color: #f0f8ff;margin: 0.25em 0.25em;border: 1px dotted black;border-radius: 0.25em;box-sizing: border-box;}div.sk-estimator:hover {background-color: #d4ebff;}div.sk-parallel-item::after {content: \"\";width: 100%;border-bottom: 1px solid gray;flex-grow: 1;}div.sk-label:hover label.sk-toggleable__label {background-color: #d4ebff;}div.sk-serial::before {content: \"\";position: absolute;border-left: 1px solid gray;box-sizing: border-box;top: 2em;bottom: 0;left: 50%;}div.sk-serial {display: flex;flex-direction: column;align-items: center;background-color: white;}div.sk-item {z-index: 1;}div.sk-parallel {display: flex;align-items: stretch;justify-content: center;background-color: white;}div.sk-parallel-item {display: flex;flex-direction: column;position: relative;background-color: white;}div.sk-parallel-item:first-child::after {align-self: flex-end;width: 50%;}div.sk-parallel-item:last-child::after {align-self: flex-start;width: 50%;}div.sk-parallel-item:only-child::after {width: 0;}div.sk-dashed-wrapped {border: 1px dashed gray;margin: 0.2em;box-sizing: border-box;padding-bottom: 0.1em;background-color: white;position: relative;}div.sk-label label {font-family: monospace;font-weight: bold;background-color: white;display: inline-block;line-height: 1.2em;}div.sk-label-container {position: relative;z-index: 2;text-align: center;}div.sk-container {display: inline-block;position: relative;}</style><div class=\"sk-top-container\"><div class=\"sk-container\"><div class=\"sk-item sk-dashed-wrapped\"><div class=\"sk-label-container\"><div class=\"sk-label sk-toggleable\"><input class=\"sk-toggleable__control sk-hidden--visually\" id=\"c5e01a2c-d75c-4e0e-af08-b0b92de077e1\" type=\"checkbox\" ><label class=\"sk-toggleable__label\" for=\"c5e01a2c-d75c-4e0e-af08-b0b92de077e1\">Pipeline</label><div class=\"sk-toggleable__content\"><pre>Pipeline(steps=[('preprocesamiento', StandardScaler()),\n",
       "                ('regresion',\n",
       "                 GradientBoostingRegressor(max_depth=10, n_estimators=1000))])</pre></div></div></div><div class=\"sk-serial\"><div class=\"sk-item\"><div class=\"sk-estimator sk-toggleable\"><input class=\"sk-toggleable__control sk-hidden--visually\" id=\"dbaf5124-c641-4456-ab9b-6311d250af9c\" type=\"checkbox\" ><label class=\"sk-toggleable__label\" for=\"dbaf5124-c641-4456-ab9b-6311d250af9c\">StandardScaler</label><div class=\"sk-toggleable__content\"><pre>StandardScaler()</pre></div></div></div><div class=\"sk-item\"><div class=\"sk-estimator sk-toggleable\"><input class=\"sk-toggleable__control sk-hidden--visually\" id=\"479c5fcc-01af-4c96-8641-a2373da64fc7\" type=\"checkbox\" ><label class=\"sk-toggleable__label\" for=\"479c5fcc-01af-4c96-8641-a2373da64fc7\">GradientBoostingRegressor</label><div class=\"sk-toggleable__content\"><pre>GradientBoostingRegressor(max_depth=10, n_estimators=1000)</pre></div></div></div></div></div></div></div>"
      ],
      "text/plain": [
       "Pipeline(steps=[('preprocesamiento', StandardScaler()),\n",
       "                ('regresion',\n",
       "                 GradientBoostingRegressor(max_depth=10, n_estimators=1000))])"
      ]
     },
     "execution_count": 156,
     "metadata": {},
     "output_type": "execute_result"
    }
   ],
   "source": [
    "grid_gb.best_estimator_"
   ]
  },
  {
   "cell_type": "markdown",
   "metadata": {},
   "source": [
    "#### Ada Boost Regressor"
   ]
  },
  {
   "cell_type": "code",
   "execution_count": 157,
   "metadata": {},
   "outputs": [
    {
     "data": {
      "text/html": [
       "<style>div.sk-top-container {color: black;background-color: white;}div.sk-toggleable {background-color: white;}label.sk-toggleable__label {cursor: pointer;display: block;width: 100%;margin-bottom: 0;padding: 0.2em 0.3em;box-sizing: border-box;text-align: center;}div.sk-toggleable__content {max-height: 0;max-width: 0;overflow: hidden;text-align: left;background-color: #f0f8ff;}div.sk-toggleable__content pre {margin: 0.2em;color: black;border-radius: 0.25em;background-color: #f0f8ff;}input.sk-toggleable__control:checked~div.sk-toggleable__content {max-height: 200px;max-width: 100%;overflow: auto;}div.sk-estimator input.sk-toggleable__control:checked~label.sk-toggleable__label {background-color: #d4ebff;}div.sk-label input.sk-toggleable__control:checked~label.sk-toggleable__label {background-color: #d4ebff;}input.sk-hidden--visually {border: 0;clip: rect(1px 1px 1px 1px);clip: rect(1px, 1px, 1px, 1px);height: 1px;margin: -1px;overflow: hidden;padding: 0;position: absolute;width: 1px;}div.sk-estimator {font-family: monospace;background-color: #f0f8ff;margin: 0.25em 0.25em;border: 1px dotted black;border-radius: 0.25em;box-sizing: border-box;}div.sk-estimator:hover {background-color: #d4ebff;}div.sk-parallel-item::after {content: \"\";width: 100%;border-bottom: 1px solid gray;flex-grow: 1;}div.sk-label:hover label.sk-toggleable__label {background-color: #d4ebff;}div.sk-serial::before {content: \"\";position: absolute;border-left: 1px solid gray;box-sizing: border-box;top: 2em;bottom: 0;left: 50%;}div.sk-serial {display: flex;flex-direction: column;align-items: center;background-color: white;}div.sk-item {z-index: 1;}div.sk-parallel {display: flex;align-items: stretch;justify-content: center;background-color: white;}div.sk-parallel-item {display: flex;flex-direction: column;position: relative;background-color: white;}div.sk-parallel-item:first-child::after {align-self: flex-end;width: 50%;}div.sk-parallel-item:last-child::after {align-self: flex-start;width: 50%;}div.sk-parallel-item:only-child::after {width: 0;}div.sk-dashed-wrapped {border: 1px dashed gray;margin: 0.2em;box-sizing: border-box;padding-bottom: 0.1em;background-color: white;position: relative;}div.sk-label label {font-family: monospace;font-weight: bold;background-color: white;display: inline-block;line-height: 1.2em;}div.sk-label-container {position: relative;z-index: 2;text-align: center;}div.sk-container {display: inline-block;position: relative;}</style><div class=\"sk-top-container\"><div class=\"sk-container\"><div class=\"sk-item sk-dashed-wrapped\"><div class=\"sk-label-container\"><div class=\"sk-label sk-toggleable\"><input class=\"sk-toggleable__control sk-hidden--visually\" id=\"2b47fd5e-5031-488f-ab2d-450e3dcf91ef\" type=\"checkbox\" ><label class=\"sk-toggleable__label\" for=\"2b47fd5e-5031-488f-ab2d-450e3dcf91ef\">GridSearchCV</label><div class=\"sk-toggleable__content\"><pre>GridSearchCV(cv=5,\n",
       "             estimator=Pipeline(steps=[('preprocesamiento', StandardScaler()),\n",
       "                                       ('regresion', AdaBoostRegressor())]),\n",
       "             param_grid=[{'preprocesamiento': [StandardScaler()],\n",
       "                          'regresion__learning_rate': [0.01, 0.1, 0.3, 1],\n",
       "                          'regresion__n_estimators': [500, 1000]}],\n",
       "             scoring='r2')</pre></div></div></div><div class=\"sk-parallel\"><div class=\"sk-parallel-item\"><div class=\"sk-item\"><div class=\"sk-serial\"><div class=\"sk-item\"><div class=\"sk-serial\"><div class=\"sk-item\"><div class=\"sk-estimator sk-toggleable\"><input class=\"sk-toggleable__control sk-hidden--visually\" id=\"9397b0be-f860-4140-b919-8b6b5a6a7f51\" type=\"checkbox\" ><label class=\"sk-toggleable__label\" for=\"9397b0be-f860-4140-b919-8b6b5a6a7f51\">StandardScaler</label><div class=\"sk-toggleable__content\"><pre>StandardScaler()</pre></div></div></div><div class=\"sk-item\"><div class=\"sk-estimator sk-toggleable\"><input class=\"sk-toggleable__control sk-hidden--visually\" id=\"ad541e2e-5eed-4357-bfce-df5c48bceade\" type=\"checkbox\" ><label class=\"sk-toggleable__label\" for=\"ad541e2e-5eed-4357-bfce-df5c48bceade\">AdaBoostRegressor</label><div class=\"sk-toggleable__content\"><pre>AdaBoostRegressor()</pre></div></div></div></div></div></div></div></div></div></div></div></div>"
      ],
      "text/plain": [
       "GridSearchCV(cv=5,\n",
       "             estimator=Pipeline(steps=[('preprocesamiento', StandardScaler()),\n",
       "                                       ('regresion', AdaBoostRegressor())]),\n",
       "             param_grid=[{'preprocesamiento': [StandardScaler()],\n",
       "                          'regresion__learning_rate': [0.01, 0.1, 0.3, 1],\n",
       "                          'regresion__n_estimators': [500, 1000]}],\n",
       "             scoring='r2')"
      ]
     },
     "execution_count": 157,
     "metadata": {},
     "output_type": "execute_result"
    }
   ],
   "source": [
    "pasos = [('preprocesamiento', StandardScaler()),\\\n",
    "         ('regresion', AdaBoostRegressor())\n",
    "        ]\n",
    "\n",
    "pipe_grid_ab = Pipeline(pasos)\n",
    "\n",
    "param_grid_ab = [{'preprocesamiento':[StandardScaler()],\n",
    "                  'regresion__n_estimators': [500, 1000],\n",
    "                  'regresion__learning_rate':[0.01, 0.1, 0.3, 1]\n",
    "                }]\n",
    "\n",
    "grid_ab = GridSearchCV(estimator=pipe_grid_ab, param_grid=param_grid_ab, cv=folds, scoring='r2')\n",
    "grid_ab.fit(X_train, y_train)"
   ]
  },
  {
   "cell_type": "code",
   "execution_count": 158,
   "metadata": {},
   "outputs": [
    {
     "data": {
      "text/plain": [
       "0.7472790950341227"
      ]
     },
     "execution_count": 158,
     "metadata": {},
     "output_type": "execute_result"
    }
   ],
   "source": [
    "grid_ab.best_score_"
   ]
  },
  {
   "cell_type": "code",
   "execution_count": 159,
   "metadata": {},
   "outputs": [
    {
     "data": {
      "text/html": [
       "<style>div.sk-top-container {color: black;background-color: white;}div.sk-toggleable {background-color: white;}label.sk-toggleable__label {cursor: pointer;display: block;width: 100%;margin-bottom: 0;padding: 0.2em 0.3em;box-sizing: border-box;text-align: center;}div.sk-toggleable__content {max-height: 0;max-width: 0;overflow: hidden;text-align: left;background-color: #f0f8ff;}div.sk-toggleable__content pre {margin: 0.2em;color: black;border-radius: 0.25em;background-color: #f0f8ff;}input.sk-toggleable__control:checked~div.sk-toggleable__content {max-height: 200px;max-width: 100%;overflow: auto;}div.sk-estimator input.sk-toggleable__control:checked~label.sk-toggleable__label {background-color: #d4ebff;}div.sk-label input.sk-toggleable__control:checked~label.sk-toggleable__label {background-color: #d4ebff;}input.sk-hidden--visually {border: 0;clip: rect(1px 1px 1px 1px);clip: rect(1px, 1px, 1px, 1px);height: 1px;margin: -1px;overflow: hidden;padding: 0;position: absolute;width: 1px;}div.sk-estimator {font-family: monospace;background-color: #f0f8ff;margin: 0.25em 0.25em;border: 1px dotted black;border-radius: 0.25em;box-sizing: border-box;}div.sk-estimator:hover {background-color: #d4ebff;}div.sk-parallel-item::after {content: \"\";width: 100%;border-bottom: 1px solid gray;flex-grow: 1;}div.sk-label:hover label.sk-toggleable__label {background-color: #d4ebff;}div.sk-serial::before {content: \"\";position: absolute;border-left: 1px solid gray;box-sizing: border-box;top: 2em;bottom: 0;left: 50%;}div.sk-serial {display: flex;flex-direction: column;align-items: center;background-color: white;}div.sk-item {z-index: 1;}div.sk-parallel {display: flex;align-items: stretch;justify-content: center;background-color: white;}div.sk-parallel-item {display: flex;flex-direction: column;position: relative;background-color: white;}div.sk-parallel-item:first-child::after {align-self: flex-end;width: 50%;}div.sk-parallel-item:last-child::after {align-self: flex-start;width: 50%;}div.sk-parallel-item:only-child::after {width: 0;}div.sk-dashed-wrapped {border: 1px dashed gray;margin: 0.2em;box-sizing: border-box;padding-bottom: 0.1em;background-color: white;position: relative;}div.sk-label label {font-family: monospace;font-weight: bold;background-color: white;display: inline-block;line-height: 1.2em;}div.sk-label-container {position: relative;z-index: 2;text-align: center;}div.sk-container {display: inline-block;position: relative;}</style><div class=\"sk-top-container\"><div class=\"sk-container\"><div class=\"sk-item sk-dashed-wrapped\"><div class=\"sk-label-container\"><div class=\"sk-label sk-toggleable\"><input class=\"sk-toggleable__control sk-hidden--visually\" id=\"8e013d8f-316e-4427-8b91-6505717949ed\" type=\"checkbox\" ><label class=\"sk-toggleable__label\" for=\"8e013d8f-316e-4427-8b91-6505717949ed\">Pipeline</label><div class=\"sk-toggleable__content\"><pre>Pipeline(steps=[('preprocesamiento', StandardScaler()),\n",
       "                ('regresion',\n",
       "                 AdaBoostRegressor(learning_rate=0.01, n_estimators=500))])</pre></div></div></div><div class=\"sk-serial\"><div class=\"sk-item\"><div class=\"sk-estimator sk-toggleable\"><input class=\"sk-toggleable__control sk-hidden--visually\" id=\"9c38e7dc-4449-4b2a-a4f6-763dd374aff6\" type=\"checkbox\" ><label class=\"sk-toggleable__label\" for=\"9c38e7dc-4449-4b2a-a4f6-763dd374aff6\">StandardScaler</label><div class=\"sk-toggleable__content\"><pre>StandardScaler()</pre></div></div></div><div class=\"sk-item\"><div class=\"sk-estimator sk-toggleable\"><input class=\"sk-toggleable__control sk-hidden--visually\" id=\"54178009-5238-4514-8f2c-12c7a1bfeea7\" type=\"checkbox\" ><label class=\"sk-toggleable__label\" for=\"54178009-5238-4514-8f2c-12c7a1bfeea7\">AdaBoostRegressor</label><div class=\"sk-toggleable__content\"><pre>AdaBoostRegressor(learning_rate=0.01, n_estimators=500)</pre></div></div></div></div></div></div></div>"
      ],
      "text/plain": [
       "Pipeline(steps=[('preprocesamiento', StandardScaler()),\n",
       "                ('regresion',\n",
       "                 AdaBoostRegressor(learning_rate=0.01, n_estimators=500))])"
      ]
     },
     "execution_count": 159,
     "metadata": {},
     "output_type": "execute_result"
    }
   ],
   "source": [
    "grid_ab.best_estimator_"
   ]
  },
  {
   "cell_type": "markdown",
   "metadata": {},
   "source": [
    "#### LightGBM Regressor"
   ]
  },
  {
   "cell_type": "code",
   "execution_count": 160,
   "metadata": {},
   "outputs": [
    {
     "data": {
      "text/html": [
       "<style>div.sk-top-container {color: black;background-color: white;}div.sk-toggleable {background-color: white;}label.sk-toggleable__label {cursor: pointer;display: block;width: 100%;margin-bottom: 0;padding: 0.2em 0.3em;box-sizing: border-box;text-align: center;}div.sk-toggleable__content {max-height: 0;max-width: 0;overflow: hidden;text-align: left;background-color: #f0f8ff;}div.sk-toggleable__content pre {margin: 0.2em;color: black;border-radius: 0.25em;background-color: #f0f8ff;}input.sk-toggleable__control:checked~div.sk-toggleable__content {max-height: 200px;max-width: 100%;overflow: auto;}div.sk-estimator input.sk-toggleable__control:checked~label.sk-toggleable__label {background-color: #d4ebff;}div.sk-label input.sk-toggleable__control:checked~label.sk-toggleable__label {background-color: #d4ebff;}input.sk-hidden--visually {border: 0;clip: rect(1px 1px 1px 1px);clip: rect(1px, 1px, 1px, 1px);height: 1px;margin: -1px;overflow: hidden;padding: 0;position: absolute;width: 1px;}div.sk-estimator {font-family: monospace;background-color: #f0f8ff;margin: 0.25em 0.25em;border: 1px dotted black;border-radius: 0.25em;box-sizing: border-box;}div.sk-estimator:hover {background-color: #d4ebff;}div.sk-parallel-item::after {content: \"\";width: 100%;border-bottom: 1px solid gray;flex-grow: 1;}div.sk-label:hover label.sk-toggleable__label {background-color: #d4ebff;}div.sk-serial::before {content: \"\";position: absolute;border-left: 1px solid gray;box-sizing: border-box;top: 2em;bottom: 0;left: 50%;}div.sk-serial {display: flex;flex-direction: column;align-items: center;background-color: white;}div.sk-item {z-index: 1;}div.sk-parallel {display: flex;align-items: stretch;justify-content: center;background-color: white;}div.sk-parallel-item {display: flex;flex-direction: column;position: relative;background-color: white;}div.sk-parallel-item:first-child::after {align-self: flex-end;width: 50%;}div.sk-parallel-item:last-child::after {align-self: flex-start;width: 50%;}div.sk-parallel-item:only-child::after {width: 0;}div.sk-dashed-wrapped {border: 1px dashed gray;margin: 0.2em;box-sizing: border-box;padding-bottom: 0.1em;background-color: white;position: relative;}div.sk-label label {font-family: monospace;font-weight: bold;background-color: white;display: inline-block;line-height: 1.2em;}div.sk-label-container {position: relative;z-index: 2;text-align: center;}div.sk-container {display: inline-block;position: relative;}</style><div class=\"sk-top-container\"><div class=\"sk-container\"><div class=\"sk-item sk-dashed-wrapped\"><div class=\"sk-label-container\"><div class=\"sk-label sk-toggleable\"><input class=\"sk-toggleable__control sk-hidden--visually\" id=\"47e1d411-5603-4b10-8dce-c92ec51454b2\" type=\"checkbox\" ><label class=\"sk-toggleable__label\" for=\"47e1d411-5603-4b10-8dce-c92ec51454b2\">GridSearchCV</label><div class=\"sk-toggleable__content\"><pre>GridSearchCV(cv=5,\n",
       "             estimator=Pipeline(steps=[('preprocesamiento', StandardScaler()),\n",
       "                                       ('regresion', LGBMRegressor())]),\n",
       "             param_grid=[{'preprocesamiento': [StandardScaler()],\n",
       "                          'regresion__learning_rate': [0.01, 0.1, 0.3, 1],\n",
       "                          'regresion__n_estimators': [500, 100]}],\n",
       "             scoring='r2')</pre></div></div></div><div class=\"sk-parallel\"><div class=\"sk-parallel-item\"><div class=\"sk-item\"><div class=\"sk-serial\"><div class=\"sk-item\"><div class=\"sk-serial\"><div class=\"sk-item\"><div class=\"sk-estimator sk-toggleable\"><input class=\"sk-toggleable__control sk-hidden--visually\" id=\"9f0d57fe-8212-45bf-8fcf-12e7bbf41b54\" type=\"checkbox\" ><label class=\"sk-toggleable__label\" for=\"9f0d57fe-8212-45bf-8fcf-12e7bbf41b54\">StandardScaler</label><div class=\"sk-toggleable__content\"><pre>StandardScaler()</pre></div></div></div><div class=\"sk-item\"><div class=\"sk-estimator sk-toggleable\"><input class=\"sk-toggleable__control sk-hidden--visually\" id=\"c358a4e4-4b78-4acc-a72b-932a07f27a03\" type=\"checkbox\" ><label class=\"sk-toggleable__label\" for=\"c358a4e4-4b78-4acc-a72b-932a07f27a03\">LGBMRegressor</label><div class=\"sk-toggleable__content\"><pre>LGBMRegressor()</pre></div></div></div></div></div></div></div></div></div></div></div></div>"
      ],
      "text/plain": [
       "GridSearchCV(cv=5,\n",
       "             estimator=Pipeline(steps=[('preprocesamiento', StandardScaler()),\n",
       "                                       ('regresion', LGBMRegressor())]),\n",
       "             param_grid=[{'preprocesamiento': [StandardScaler()],\n",
       "                          'regresion__learning_rate': [0.01, 0.1, 0.3, 1],\n",
       "                          'regresion__n_estimators': [500, 100]}],\n",
       "             scoring='r2')"
      ]
     },
     "execution_count": 160,
     "metadata": {},
     "output_type": "execute_result"
    }
   ],
   "source": [
    "pasos = [('preprocesamiento', StandardScaler()),\\\n",
    "         ('regresion', LGBMRegressor())\n",
    "        ]\n",
    "\n",
    "pipe_grid_lg = Pipeline(pasos)\n",
    "\n",
    "param_grid_lg = [{'preprocesamiento':[StandardScaler()],\n",
    "                  'regresion__n_estimators': [500, 100],\n",
    "                  'regresion__learning_rate':[0.01, 0.1, 0.3, 1]\n",
    "                }]\n",
    "\n",
    "grid_lg = GridSearchCV(estimator=pipe_grid_lg, param_grid=param_grid_lg, cv=folds, scoring='r2')\n",
    "grid_lg.fit(X_train, y_train)"
   ]
  },
  {
   "cell_type": "code",
   "execution_count": 161,
   "metadata": {},
   "outputs": [
    {
     "data": {
      "text/plain": [
       "0.9092660761816646"
      ]
     },
     "execution_count": 161,
     "metadata": {},
     "output_type": "execute_result"
    }
   ],
   "source": [
    "grid_lg.best_score_"
   ]
  },
  {
   "cell_type": "code",
   "execution_count": 162,
   "metadata": {},
   "outputs": [
    {
     "data": {
      "text/html": [
       "<style>div.sk-top-container {color: black;background-color: white;}div.sk-toggleable {background-color: white;}label.sk-toggleable__label {cursor: pointer;display: block;width: 100%;margin-bottom: 0;padding: 0.2em 0.3em;box-sizing: border-box;text-align: center;}div.sk-toggleable__content {max-height: 0;max-width: 0;overflow: hidden;text-align: left;background-color: #f0f8ff;}div.sk-toggleable__content pre {margin: 0.2em;color: black;border-radius: 0.25em;background-color: #f0f8ff;}input.sk-toggleable__control:checked~div.sk-toggleable__content {max-height: 200px;max-width: 100%;overflow: auto;}div.sk-estimator input.sk-toggleable__control:checked~label.sk-toggleable__label {background-color: #d4ebff;}div.sk-label input.sk-toggleable__control:checked~label.sk-toggleable__label {background-color: #d4ebff;}input.sk-hidden--visually {border: 0;clip: rect(1px 1px 1px 1px);clip: rect(1px, 1px, 1px, 1px);height: 1px;margin: -1px;overflow: hidden;padding: 0;position: absolute;width: 1px;}div.sk-estimator {font-family: monospace;background-color: #f0f8ff;margin: 0.25em 0.25em;border: 1px dotted black;border-radius: 0.25em;box-sizing: border-box;}div.sk-estimator:hover {background-color: #d4ebff;}div.sk-parallel-item::after {content: \"\";width: 100%;border-bottom: 1px solid gray;flex-grow: 1;}div.sk-label:hover label.sk-toggleable__label {background-color: #d4ebff;}div.sk-serial::before {content: \"\";position: absolute;border-left: 1px solid gray;box-sizing: border-box;top: 2em;bottom: 0;left: 50%;}div.sk-serial {display: flex;flex-direction: column;align-items: center;background-color: white;}div.sk-item {z-index: 1;}div.sk-parallel {display: flex;align-items: stretch;justify-content: center;background-color: white;}div.sk-parallel-item {display: flex;flex-direction: column;position: relative;background-color: white;}div.sk-parallel-item:first-child::after {align-self: flex-end;width: 50%;}div.sk-parallel-item:last-child::after {align-self: flex-start;width: 50%;}div.sk-parallel-item:only-child::after {width: 0;}div.sk-dashed-wrapped {border: 1px dashed gray;margin: 0.2em;box-sizing: border-box;padding-bottom: 0.1em;background-color: white;position: relative;}div.sk-label label {font-family: monospace;font-weight: bold;background-color: white;display: inline-block;line-height: 1.2em;}div.sk-label-container {position: relative;z-index: 2;text-align: center;}div.sk-container {display: inline-block;position: relative;}</style><div class=\"sk-top-container\"><div class=\"sk-container\"><div class=\"sk-item sk-dashed-wrapped\"><div class=\"sk-label-container\"><div class=\"sk-label sk-toggleable\"><input class=\"sk-toggleable__control sk-hidden--visually\" id=\"370ab65e-8afd-4746-b629-cfeaf25debfa\" type=\"checkbox\" ><label class=\"sk-toggleable__label\" for=\"370ab65e-8afd-4746-b629-cfeaf25debfa\">Pipeline</label><div class=\"sk-toggleable__content\"><pre>Pipeline(steps=[('preprocesamiento', StandardScaler()),\n",
       "                ('regresion',\n",
       "                 LGBMRegressor(learning_rate=0.3, n_estimators=500))])</pre></div></div></div><div class=\"sk-serial\"><div class=\"sk-item\"><div class=\"sk-estimator sk-toggleable\"><input class=\"sk-toggleable__control sk-hidden--visually\" id=\"6c5c6841-26c9-4a56-90fa-277ca20fc6a4\" type=\"checkbox\" ><label class=\"sk-toggleable__label\" for=\"6c5c6841-26c9-4a56-90fa-277ca20fc6a4\">StandardScaler</label><div class=\"sk-toggleable__content\"><pre>StandardScaler()</pre></div></div></div><div class=\"sk-item\"><div class=\"sk-estimator sk-toggleable\"><input class=\"sk-toggleable__control sk-hidden--visually\" id=\"d9b1375d-4e78-42e0-b777-fc9129170aad\" type=\"checkbox\" ><label class=\"sk-toggleable__label\" for=\"d9b1375d-4e78-42e0-b777-fc9129170aad\">LGBMRegressor</label><div class=\"sk-toggleable__content\"><pre>LGBMRegressor(learning_rate=0.3, n_estimators=500)</pre></div></div></div></div></div></div></div>"
      ],
      "text/plain": [
       "Pipeline(steps=[('preprocesamiento', StandardScaler()),\n",
       "                ('regresion',\n",
       "                 LGBMRegressor(learning_rate=0.3, n_estimators=500))])"
      ]
     },
     "execution_count": 162,
     "metadata": {},
     "output_type": "execute_result"
    }
   ],
   "source": [
    "grid_lg.best_estimator_"
   ]
  },
  {
   "cell_type": "markdown",
   "metadata": {},
   "source": [
    "### 14) Resultado de los modelos"
   ]
  },
  {
   "cell_type": "code",
   "execution_count": 163,
   "metadata": {},
   "outputs": [
    {
     "data": {
      "text/html": [
       "<div>\n",
       "<style scoped>\n",
       "    .dataframe tbody tr th:only-of-type {\n",
       "        vertical-align: middle;\n",
       "    }\n",
       "\n",
       "    .dataframe tbody tr th {\n",
       "        vertical-align: top;\n",
       "    }\n",
       "\n",
       "    .dataframe thead th {\n",
       "        text-align: right;\n",
       "    }\n",
       "</style>\n",
       "<table border=\"1\" class=\"dataframe\">\n",
       "  <thead>\n",
       "    <tr style=\"text-align: right;\">\n",
       "      <th></th>\n",
       "      <th>Modelos</th>\n",
       "      <th>R2</th>\n",
       "    </tr>\n",
       "  </thead>\n",
       "  <tbody>\n",
       "    <tr>\n",
       "      <th>5</th>\n",
       "      <td>Gradient Boost</td>\n",
       "      <td>0.912641</td>\n",
       "    </tr>\n",
       "    <tr>\n",
       "      <th>7</th>\n",
       "      <td>LightGBM</td>\n",
       "      <td>0.909266</td>\n",
       "    </tr>\n",
       "    <tr>\n",
       "      <th>4</th>\n",
       "      <td>Random</td>\n",
       "      <td>0.883243</td>\n",
       "    </tr>\n",
       "    <tr>\n",
       "      <th>2</th>\n",
       "      <td>Lasso</td>\n",
       "      <td>0.807586</td>\n",
       "    </tr>\n",
       "    <tr>\n",
       "      <th>1</th>\n",
       "      <td>Ridge</td>\n",
       "      <td>0.807586</td>\n",
       "    </tr>\n",
       "    <tr>\n",
       "      <th>0</th>\n",
       "      <td>Regresion Linear</td>\n",
       "      <td>0.807586</td>\n",
       "    </tr>\n",
       "    <tr>\n",
       "      <th>3</th>\n",
       "      <td>Elastic Net</td>\n",
       "      <td>0.807579</td>\n",
       "    </tr>\n",
       "    <tr>\n",
       "      <th>6</th>\n",
       "      <td>AdaBoost</td>\n",
       "      <td>0.747279</td>\n",
       "    </tr>\n",
       "  </tbody>\n",
       "</table>\n",
       "</div>"
      ],
      "text/plain": [
       "            Modelos        R2\n",
       "5    Gradient Boost  0.912641\n",
       "7          LightGBM  0.909266\n",
       "4            Random  0.883243\n",
       "2             Lasso  0.807586\n",
       "1             Ridge  0.807586\n",
       "0  Regresion Linear  0.807586\n",
       "3       Elastic Net  0.807579\n",
       "6          AdaBoost  0.747279"
      ]
     },
     "execution_count": 163,
     "metadata": {},
     "output_type": "execute_result"
    }
   ],
   "source": [
    "resultados = pd.DataFrame({'Modelos':['Regresion Linear', 'Ridge', 'Lasso', 'Elastic Net','Random', 'Gradient Boost', 'AdaBoost', 'LightGBM'],\n",
    "                           'R2':[grid_lr.best_score_, grid_rid.best_score_, grid_lass.best_score_, grid_en.best_score_, grid_rf.best_score_, grid_gb.best_score_,\\\n",
    "                                 grid_ab.best_score_, grid_lg.best_score_]\n",
    "                         })\n",
    "resultados.sort_values(by='R2', ascending=False)"
   ]
  },
  {
   "cell_type": "markdown",
   "metadata": {},
   "source": [
    "### 15) R2 Score usando en test"
   ]
  },
  {
   "cell_type": "code",
   "execution_count": 169,
   "metadata": {},
   "outputs": [
    {
     "data": {
      "text/html": [
       "<div>\n",
       "<style scoped>\n",
       "    .dataframe tbody tr th:only-of-type {\n",
       "        vertical-align: middle;\n",
       "    }\n",
       "\n",
       "    .dataframe tbody tr th {\n",
       "        vertical-align: top;\n",
       "    }\n",
       "\n",
       "    .dataframe thead th {\n",
       "        text-align: right;\n",
       "    }\n",
       "</style>\n",
       "<table border=\"1\" class=\"dataframe\">\n",
       "  <thead>\n",
       "    <tr style=\"text-align: right;\">\n",
       "      <th></th>\n",
       "      <th>Modelos</th>\n",
       "      <th>R2</th>\n",
       "    </tr>\n",
       "  </thead>\n",
       "  <tbody>\n",
       "    <tr>\n",
       "      <th>5</th>\n",
       "      <td>Gradient Boost</td>\n",
       "      <td>0.926901</td>\n",
       "    </tr>\n",
       "    <tr>\n",
       "      <th>7</th>\n",
       "      <td>LightGBM</td>\n",
       "      <td>0.922241</td>\n",
       "    </tr>\n",
       "    <tr>\n",
       "      <th>4</th>\n",
       "      <td>Random</td>\n",
       "      <td>0.894181</td>\n",
       "    </tr>\n",
       "    <tr>\n",
       "      <th>2</th>\n",
       "      <td>Lasso</td>\n",
       "      <td>0.811144</td>\n",
       "    </tr>\n",
       "    <tr>\n",
       "      <th>0</th>\n",
       "      <td>Regresion Linear</td>\n",
       "      <td>0.811143</td>\n",
       "    </tr>\n",
       "    <tr>\n",
       "      <th>1</th>\n",
       "      <td>Ridge</td>\n",
       "      <td>0.811143</td>\n",
       "    </tr>\n",
       "    <tr>\n",
       "      <th>3</th>\n",
       "      <td>Elastic Net</td>\n",
       "      <td>0.811080</td>\n",
       "    </tr>\n",
       "    <tr>\n",
       "      <th>6</th>\n",
       "      <td>AdaBoost</td>\n",
       "      <td>0.760669</td>\n",
       "    </tr>\n",
       "  </tbody>\n",
       "</table>\n",
       "</div>"
      ],
      "text/plain": [
       "            Modelos        R2\n",
       "5    Gradient Boost  0.926901\n",
       "7          LightGBM  0.922241\n",
       "4            Random  0.894181\n",
       "2             Lasso  0.811144\n",
       "0  Regresion Linear  0.811143\n",
       "1             Ridge  0.811143\n",
       "3       Elastic Net  0.811080\n",
       "6          AdaBoost  0.760669"
      ]
     },
     "execution_count": 169,
     "metadata": {},
     "output_type": "execute_result"
    }
   ],
   "source": [
    "test = pd.DataFrame({'Modelos':['Regresion Linear', 'Ridge', 'Lasso', 'Elastic Net','Random', 'Gradient Boost', 'AdaBoost', 'LightGBM'],\n",
    "                     'R2 en Test':[grid_lr.score(X_test, y_test),\\\n",
    "                                   grid_rid.score(X_test, y_test),\\\n",
    "                                   grid_lass.score(X_test, y_test),\\\n",
    "                                   grid_en.score(X_test, y_test),\\\n",
    "                                   grid_rf.score(X_test, y_test),\\\n",
    "                                   grid_gb.score(X_test, y_test),\\\n",
    "                                   grid_ab.score(X_test, y_test),\\\n",
    "                                   grid_lg.score(X_test, y_test)]\n",
    "                    })\n",
    "test.sort_values(by='R2', ascending=False)"
   ]
  },
  {
   "cell_type": "code",
   "execution_count": null,
   "metadata": {},
   "outputs": [],
   "source": []
  }
 ],
 "metadata": {
  "kernelspec": {
   "display_name": "Python 3",
   "language": "python",
   "name": "python3"
  },
  "language_info": {
   "codemirror_mode": {
    "name": "ipython",
    "version": 3
   },
   "file_extension": ".py",
   "mimetype": "text/x-python",
   "name": "python",
   "nbconvert_exporter": "python",
   "pygments_lexer": "ipython3",
   "version": "3.7.9"
  }
 },
 "nbformat": 4,
 "nbformat_minor": 4
}
