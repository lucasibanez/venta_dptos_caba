{
 "cells": [
  {
   "cell_type": "code",
   "execution_count": 1,
   "metadata": {},
   "outputs": [],
   "source": [
    "import pandas as pd\n",
    "import numpy as np\n",
    "import matplotlib.pyplot as plt\n",
    "import missingno as msno \n",
    "import re\n",
    "import seaborn as sns\n",
    "import geopandas as gp\n",
    "from shapely import wkt\n",
    "\n",
    "sns.set()"
   ]
  },
  {
   "cell_type": "markdown",
   "metadata": {},
   "source": [
    "1) Descripcion del dataset\n",
    "\n",
    "2) Eleccion de departamentos de la zona de CABA\n",
    "\n",
    "3) Datos nulos\n",
    "\n",
    "4) Rescate de valores nulos usando regex en:\n",
    "\n",
    "* Titulo\n",
    "* Descripción\n",
    "* URL \n",
    "\n",
    "5) Amenities usando regex:\n",
    "* Pileta\n",
    "* Cochera\n",
    "* Parrilla \n",
    "* SUM\n",
    "\n",
    "6) Verificacion de la calidad de los datos\n",
    "\n",
    "7) Visualizacion de distribucion de los datos\n",
    "\n",
    "8) Tratamiento de valores minimos y outliers \n",
    "\n",
    "9) Imputacion de valores nulos en las columnas seleccionadas\n",
    "\n",
    "10) Cercanias con diferentes puntos de la ciudad\n",
    "\n",
    "11) Dummies de variables categoricas\n",
    "\n",
    "12) Correlacion de variables\n",
    "\n",
    "13) Modelos de regresion\n",
    "\n",
    "14) Matriz de R2 de cada modelo\n",
    "\n"
   ]
  },
  {
   "cell_type": "code",
   "execution_count": 183,
   "metadata": {
    "scrolled": true
   },
   "outputs": [
    {
     "data": {
      "text/html": [
       "<div>\n",
       "<style scoped>\n",
       "    .dataframe tbody tr th:only-of-type {\n",
       "        vertical-align: middle;\n",
       "    }\n",
       "\n",
       "    .dataframe tbody tr th {\n",
       "        vertical-align: top;\n",
       "    }\n",
       "\n",
       "    .dataframe thead th {\n",
       "        text-align: right;\n",
       "    }\n",
       "</style>\n",
       "<table border=\"1\" class=\"dataframe\">\n",
       "  <thead>\n",
       "    <tr style=\"text-align: right;\">\n",
       "      <th></th>\n",
       "      <th>operation</th>\n",
       "      <th>property_type</th>\n",
       "      <th>place_name</th>\n",
       "      <th>place_with_parent_names</th>\n",
       "      <th>country_name</th>\n",
       "      <th>state_name</th>\n",
       "      <th>geonames_id</th>\n",
       "      <th>lat-lon</th>\n",
       "      <th>lat</th>\n",
       "      <th>lon</th>\n",
       "      <th>...</th>\n",
       "      <th>surface_covered_in_m2</th>\n",
       "      <th>price_usd_per_m2</th>\n",
       "      <th>price_per_m2</th>\n",
       "      <th>floor</th>\n",
       "      <th>rooms</th>\n",
       "      <th>expenses</th>\n",
       "      <th>properati_url</th>\n",
       "      <th>description</th>\n",
       "      <th>title</th>\n",
       "      <th>image_thumbnail</th>\n",
       "    </tr>\n",
       "  </thead>\n",
       "  <tbody>\n",
       "    <tr>\n",
       "      <th>0</th>\n",
       "      <td>sell</td>\n",
       "      <td>PH</td>\n",
       "      <td>Mataderos</td>\n",
       "      <td>|Argentina|Capital Federal|Mataderos|</td>\n",
       "      <td>Argentina</td>\n",
       "      <td>Capital Federal</td>\n",
       "      <td>3430787.0</td>\n",
       "      <td>-34.6618237,-58.5088387</td>\n",
       "      <td>-34.661824</td>\n",
       "      <td>-58.508839</td>\n",
       "      <td>...</td>\n",
       "      <td>40.0</td>\n",
       "      <td>1127.272727</td>\n",
       "      <td>1550.000000</td>\n",
       "      <td>NaN</td>\n",
       "      <td>NaN</td>\n",
       "      <td>NaN</td>\n",
       "      <td>http://www.properati.com.ar/15bo8_venta_ph_mat...</td>\n",
       "      <td>2 AMBIENTES TIPO CASA PLANTA BAJA POR PASILLO,...</td>\n",
       "      <td>2 AMB TIPO CASA SIN EXPENSAS EN PB</td>\n",
       "      <td>https://thumbs4.properati.com/8/BluUYiHJLhgIIK...</td>\n",
       "    </tr>\n",
       "    <tr>\n",
       "      <th>1</th>\n",
       "      <td>sell</td>\n",
       "      <td>apartment</td>\n",
       "      <td>La Plata</td>\n",
       "      <td>|Argentina|Bs.As. G.B.A. Zona Sur|La Plata|</td>\n",
       "      <td>Argentina</td>\n",
       "      <td>Bs.As. G.B.A. Zona Sur</td>\n",
       "      <td>3432039.0</td>\n",
       "      <td>-34.9038831,-57.9643295</td>\n",
       "      <td>-34.903883</td>\n",
       "      <td>-57.964330</td>\n",
       "      <td>...</td>\n",
       "      <td>NaN</td>\n",
       "      <td>NaN</td>\n",
       "      <td>NaN</td>\n",
       "      <td>NaN</td>\n",
       "      <td>NaN</td>\n",
       "      <td>NaN</td>\n",
       "      <td>http://www.properati.com.ar/15bob_venta_depart...</td>\n",
       "      <td>Venta de departamento en décimo piso al frente...</td>\n",
       "      <td>VENTA Depto 2 dorm. a estrenar 7 e/ 36 y 37   ...</td>\n",
       "      <td>https://thumbs4.properati.com/7/ikpVBu2ztHA7jv...</td>\n",
       "    </tr>\n",
       "    <tr>\n",
       "      <th>2</th>\n",
       "      <td>sell</td>\n",
       "      <td>apartment</td>\n",
       "      <td>Mataderos</td>\n",
       "      <td>|Argentina|Capital Federal|Mataderos|</td>\n",
       "      <td>Argentina</td>\n",
       "      <td>Capital Federal</td>\n",
       "      <td>3430787.0</td>\n",
       "      <td>-34.6522615,-58.5229825</td>\n",
       "      <td>-34.652262</td>\n",
       "      <td>-58.522982</td>\n",
       "      <td>...</td>\n",
       "      <td>55.0</td>\n",
       "      <td>1309.090909</td>\n",
       "      <td>1309.090909</td>\n",
       "      <td>NaN</td>\n",
       "      <td>NaN</td>\n",
       "      <td>NaN</td>\n",
       "      <td>http://www.properati.com.ar/15bod_venta_depart...</td>\n",
       "      <td>2 AMBIENTES 3ER PISO LATERAL LIVING COMEDOR AM...</td>\n",
       "      <td>2 AMB 3ER PISO CON ASCENSOR APTO CREDITO</td>\n",
       "      <td>https://thumbs4.properati.com/5/SXKr34F_IwG3W_...</td>\n",
       "    </tr>\n",
       "  </tbody>\n",
       "</table>\n",
       "<p>3 rows × 25 columns</p>\n",
       "</div>"
      ],
      "text/plain": [
       "  operation property_type place_name  \\\n",
       "0      sell            PH  Mataderos   \n",
       "1      sell     apartment   La Plata   \n",
       "2      sell     apartment  Mataderos   \n",
       "\n",
       "                       place_with_parent_names country_name  \\\n",
       "0        |Argentina|Capital Federal|Mataderos|    Argentina   \n",
       "1  |Argentina|Bs.As. G.B.A. Zona Sur|La Plata|    Argentina   \n",
       "2        |Argentina|Capital Federal|Mataderos|    Argentina   \n",
       "\n",
       "               state_name  geonames_id                  lat-lon        lat  \\\n",
       "0         Capital Federal    3430787.0  -34.6618237,-58.5088387 -34.661824   \n",
       "1  Bs.As. G.B.A. Zona Sur    3432039.0  -34.9038831,-57.9643295 -34.903883   \n",
       "2         Capital Federal    3430787.0  -34.6522615,-58.5229825 -34.652262   \n",
       "\n",
       "         lon  ...  surface_covered_in_m2 price_usd_per_m2  price_per_m2  \\\n",
       "0 -58.508839  ...                   40.0      1127.272727   1550.000000   \n",
       "1 -57.964330  ...                    NaN              NaN           NaN   \n",
       "2 -58.522982  ...                   55.0      1309.090909   1309.090909   \n",
       "\n",
       "   floor  rooms  expenses                                      properati_url  \\\n",
       "0    NaN    NaN       NaN  http://www.properati.com.ar/15bo8_venta_ph_mat...   \n",
       "1    NaN    NaN       NaN  http://www.properati.com.ar/15bob_venta_depart...   \n",
       "2    NaN    NaN       NaN  http://www.properati.com.ar/15bod_venta_depart...   \n",
       "\n",
       "                                         description  \\\n",
       "0  2 AMBIENTES TIPO CASA PLANTA BAJA POR PASILLO,...   \n",
       "1  Venta de departamento en décimo piso al frente...   \n",
       "2  2 AMBIENTES 3ER PISO LATERAL LIVING COMEDOR AM...   \n",
       "\n",
       "                                               title  \\\n",
       "0                 2 AMB TIPO CASA SIN EXPENSAS EN PB   \n",
       "1  VENTA Depto 2 dorm. a estrenar 7 e/ 36 y 37   ...   \n",
       "2           2 AMB 3ER PISO CON ASCENSOR APTO CREDITO   \n",
       "\n",
       "                                     image_thumbnail  \n",
       "0  https://thumbs4.properati.com/8/BluUYiHJLhgIIK...  \n",
       "1  https://thumbs4.properati.com/7/ikpVBu2ztHA7jv...  \n",
       "2  https://thumbs4.properati.com/5/SXKr34F_IwG3W_...  \n",
       "\n",
       "[3 rows x 25 columns]"
      ]
     },
     "execution_count": 183,
     "metadata": {},
     "output_type": "execute_result"
    }
   ],
   "source": [
    "data = pd.read_csv('../Workshop/data/properati.csv', index_col=0)\n",
    "data.head(3)"
   ]
  },
  {
   "cell_type": "code",
   "execution_count": 184,
   "metadata": {},
   "outputs": [
    {
     "name": "stdout",
     "output_type": "stream",
     "text": [
      "<class 'pandas.core.frame.DataFrame'>\n",
      "Int64Index: 121220 entries, 0 to 121219\n",
      "Data columns (total 25 columns):\n",
      " #   Column                      Non-Null Count   Dtype  \n",
      "---  ------                      --------------   -----  \n",
      " 0   operation                   121220 non-null  object \n",
      " 1   property_type               121220 non-null  object \n",
      " 2   place_name                  121197 non-null  object \n",
      " 3   place_with_parent_names     121220 non-null  object \n",
      " 4   country_name                121220 non-null  object \n",
      " 5   state_name                  121220 non-null  object \n",
      " 6   geonames_id                 102503 non-null  float64\n",
      " 7   lat-lon                     69670 non-null   object \n",
      " 8   lat                         69670 non-null   float64\n",
      " 9   lon                         69670 non-null   float64\n",
      " 10  price                       100810 non-null  float64\n",
      " 11  currency                    100809 non-null  object \n",
      " 12  price_aprox_local_currency  100810 non-null  float64\n",
      " 13  price_aprox_usd             100810 non-null  float64\n",
      " 14  surface_total_in_m2         81892 non-null   float64\n",
      " 15  surface_covered_in_m2       101313 non-null  float64\n",
      " 16  price_usd_per_m2            68617 non-null   float64\n",
      " 17  price_per_m2                87658 non-null   float64\n",
      " 18  floor                       7899 non-null    float64\n",
      " 19  rooms                       47390 non-null   float64\n",
      " 20  expenses                    14262 non-null   float64\n",
      " 21  properati_url               121220 non-null  object \n",
      " 22  description                 121218 non-null  object \n",
      " 23  title                       121220 non-null  object \n",
      " 24  image_thumbnail             118108 non-null  object \n",
      "dtypes: float64(13), object(12)\n",
      "memory usage: 24.0+ MB\n"
     ]
    }
   ],
   "source": [
    "data.info()"
   ]
  },
  {
   "cell_type": "code",
   "execution_count": 185,
   "metadata": {
    "scrolled": true
   },
   "outputs": [
    {
     "data": {
      "text/plain": [
       "(121220, 25)"
      ]
     },
     "execution_count": 185,
     "metadata": {},
     "output_type": "execute_result"
    }
   ],
   "source": [
    "data.shape"
   ]
  },
  {
   "cell_type": "markdown",
   "metadata": {},
   "source": [
    "### 2) Eleccion de departamentos en la zona de CABA"
   ]
  },
  {
   "cell_type": "code",
   "execution_count": 186,
   "metadata": {},
   "outputs": [],
   "source": [
    "mask_apto_usd_caba = (data['property_type'] == 'apartment') & \\\n",
    "                     (data['currency'] == 'USD') & \\\n",
    "                     (data['state_name'] == 'Capital Federal')\n",
    "\n",
    "caba = data.loc[mask_apto_usd_caba,:]"
   ]
  },
  {
   "cell_type": "markdown",
   "metadata": {},
   "source": [
    "### 3) Cantidad de datos nulos del dataset CABA"
   ]
  },
  {
   "cell_type": "code",
   "execution_count": 187,
   "metadata": {
    "scrolled": true
   },
   "outputs": [
    {
     "data": {
      "text/plain": [
       "operation                      0.000000\n",
       "property_type                  0.000000\n",
       "place_name                     0.000000\n",
       "place_with_parent_names        0.000000\n",
       "country_name                   0.000000\n",
       "state_name                     0.000000\n",
       "geonames_id                    4.238025\n",
       "lat-lon                       23.719899\n",
       "lat                           23.719899\n",
       "lon                           23.719899\n",
       "price                          0.000000\n",
       "currency                       0.000000\n",
       "price_aprox_local_currency     0.000000\n",
       "price_aprox_usd                0.000000\n",
       "surface_total_in_m2           17.695384\n",
       "surface_covered_in_m2          5.459445\n",
       "price_usd_per_m2              17.751891\n",
       "price_per_m2                   5.468139\n",
       "floor                         88.389985\n",
       "rooms                         45.483787\n",
       "expenses                      74.198035\n",
       "properati_url                  0.000000\n",
       "description                    0.000000\n",
       "title                          0.000000\n",
       "image_thumbnail                1.151873\n",
       "dtype: float64"
      ]
     },
     "execution_count": 187,
     "metadata": {},
     "output_type": "execute_result"
    }
   ],
   "source": [
    "caba.isnull().sum()/caba.shape[0]*100"
   ]
  },
  {
   "cell_type": "markdown",
   "metadata": {},
   "source": [
    "### 4)Imputacion de  datos faltates usando regex"
   ]
  },
  {
   "cell_type": "markdown",
   "metadata": {},
   "source": [
    "Los datos faltantes que vamos a utilizar, vamos a buscar usando expresiones regulares en las columnas de 'Title', 'Description' y 'URL' del dataframe."
   ]
  },
  {
   "cell_type": "markdown",
   "metadata": {},
   "source": [
    "#### Superficie"
   ]
  },
  {
   "cell_type": "code",
   "execution_count": 188,
   "metadata": {},
   "outputs": [
    {
     "name": "stdout",
     "output_type": "stream",
     "text": [
      "Porcentaje de datos nulos en superficie total antes: 17.7 %\n"
     ]
    }
   ],
   "source": [
    "print('Porcentaje de datos nulos en superficie total antes:', (caba.surface_total_in_m2.isnull().sum()/caba.shape[0]*100).round(2), '%')"
   ]
  },
  {
   "cell_type": "code",
   "execution_count": 189,
   "metadata": {},
   "outputs": [],
   "source": [
    "patron = '.*(?P<m2_total>\\d{3})(\\s?[m]|\\s[ms]|\\s?[m2]|\\s?[metros]|\\s?[m^2])'\n",
    "regex = re.compile(patron, re.IGNORECASE)\n",
    "    \n",
    "    #Description\n",
    "regular = caba[caba.surface_total_in_m2.isnull()].description.apply(lambda x: x if x is np.nan else regex.search(x))\n",
    "serie = regular.apply(lambda x: x if x is None or x is np.nan else x.group('m2_total')).astype('float64')\n",
    "data.surface_total_in_m2.fillna(serie, inplace=True)"
   ]
  },
  {
   "cell_type": "code",
   "execution_count": 190,
   "metadata": {},
   "outputs": [],
   "source": [
    "patron = '.*(?P<m2_total>\\d{3})(\\s?[m]|\\s[ms]|\\s?[m2]|\\s?[metros]|\\s?[m^2])'\n",
    "regex = re.compile(patron, re.IGNORECASE)\n",
    "    \n",
    "    #Title\n",
    "regular = caba[caba.surface_total_in_m2.isnull()].title.apply(lambda x: x if x is np.nan else regex.search(x))\n",
    "serie = regular.apply(lambda x: x if x is None or x is np.nan else x.group('m2_total')).astype('float64')\n",
    "data.surface_total_in_m2.fillna(serie, inplace=True)"
   ]
  },
  {
   "cell_type": "code",
   "execution_count": 191,
   "metadata": {},
   "outputs": [
    {
     "name": "stdout",
     "output_type": "stream",
     "text": [
      "Porcentaje de datos nulos en superficie total despues de regex: 17.7 %\n"
     ]
    }
   ],
   "source": [
    "print('Porcentaje de datos nulos en superficie total despues de regex:', (caba.surface_total_in_m2.isnull().sum()/caba.shape[0]*100).round(2), '%')"
   ]
  },
  {
   "cell_type": "markdown",
   "metadata": {},
   "source": [
    "#### Room"
   ]
  },
  {
   "cell_type": "code",
   "execution_count": 192,
   "metadata": {},
   "outputs": [
    {
     "name": "stdout",
     "output_type": "stream",
     "text": [
      "Porcentaje de datos nulos en superficie total antes: 45.48 %\n"
     ]
    }
   ],
   "source": [
    "print('Porcentaje de datos nulos en superficie total antes:', (caba.rooms.isnull().sum()/caba.shape[0]*100).round(2), '%')"
   ]
  },
  {
   "cell_type": "code",
   "execution_count": 193,
   "metadata": {},
   "outputs": [
    {
     "name": "stderr",
     "output_type": "stream",
     "text": [
      "C:\\Users\\Lucas\\.conda\\envs\\dhdsblend\\lib\\site-packages\\ipykernel_launcher.py:7: SettingWithCopyWarning: \n",
      "A value is trying to be set on a copy of a slice from a DataFrame.\n",
      "Try using .loc[row_indexer,col_indexer] = value instead\n",
      "\n",
      "See the caveats in the documentation: https://pandas.pydata.org/pandas-docs/stable/user_guide/indexing.html#returning-a-view-versus-a-copy\n",
      "  import sys\n"
     ]
    }
   ],
   "source": [
    "pattern_ambientes = r'(?P<amb>\\d+)(\\s)(\\b(ambientes|ambiente|amb|cuarto|cuartos|habitacion|habitaciones|dormitorio|dormitorios|dorm|hab)\\b)'\n",
    "pattern_ambientes_regex = re.compile(pattern_ambientes)\n",
    "description_series = caba.title.astype(str)\n",
    "resultado_ambientes = description_series.apply(lambda x: x if x is np.nan else pattern_ambientes_regex.search(x))\n",
    "ambientes_match = resultado_ambientes.apply(lambda x: x if x is None else x.group('amb'))\n",
    "\n",
    "caba['rooms'] = caba['rooms'].fillna(ambientes_match)"
   ]
  },
  {
   "cell_type": "code",
   "execution_count": 194,
   "metadata": {},
   "outputs": [
    {
     "name": "stderr",
     "output_type": "stream",
     "text": [
      "C:\\Users\\Lucas\\.conda\\envs\\dhdsblend\\lib\\site-packages\\ipykernel_launcher.py:7: SettingWithCopyWarning: \n",
      "A value is trying to be set on a copy of a slice from a DataFrame.\n",
      "Try using .loc[row_indexer,col_indexer] = value instead\n",
      "\n",
      "See the caveats in the documentation: https://pandas.pydata.org/pandas-docs/stable/user_guide/indexing.html#returning-a-view-versus-a-copy\n",
      "  import sys\n"
     ]
    }
   ],
   "source": [
    "pattern_ambientes = r'(?P<amb>\\d+)(\\s)(\\b(ambientes|ambiente|amb|cuarto|cuartos|habitacion|habitaciones|dormitorio|dormitorios|dorm|hab)\\b)'\n",
    "pattern_ambientes_regex = re.compile(pattern_ambientes)\n",
    "description_series = caba.description.astype(str)\n",
    "resultado_ambientes = description_series.apply(lambda x: x if x is np.nan else pattern_ambientes_regex.search(x))\n",
    "ambientes_match = resultado_ambientes.apply(lambda x: x if x is None else x.group('amb'))\n",
    "\n",
    "caba['rooms'] = caba['rooms'].fillna(ambientes_match)"
   ]
  },
  {
   "cell_type": "code",
   "execution_count": 195,
   "metadata": {},
   "outputs": [
    {
     "name": "stderr",
     "output_type": "stream",
     "text": [
      "C:\\Users\\Lucas\\.conda\\envs\\dhdsblend\\lib\\site-packages\\ipykernel_launcher.py:7: SettingWithCopyWarning: \n",
      "A value is trying to be set on a copy of a slice from a DataFrame.\n",
      "Try using .loc[row_indexer,col_indexer] = value instead\n",
      "\n",
      "See the caveats in the documentation: https://pandas.pydata.org/pandas-docs/stable/user_guide/indexing.html#returning-a-view-versus-a-copy\n",
      "  import sys\n"
     ]
    }
   ],
   "source": [
    "pattern_ambientes = r'(?P<amb>\\d+)(\\s)(\\b(ambientes|ambiente|amb|cuarto|cuartos|habitacion|habitaciones|dormitorio|dormitorios|dorm|hab)\\b)'\n",
    "pattern_ambientes_regex = re.compile(pattern_ambientes)\n",
    "description_series = caba.properati_url.astype(str)\n",
    "resultado_ambientes = description_series.apply(lambda x: x if x is np.nan else pattern_ambientes_regex.search(x))\n",
    "ambientes_match = resultado_ambientes.apply(lambda x: x if x is None else x.group('amb'))\n",
    "\n",
    "caba['rooms'] = caba['rooms'].fillna(ambientes_match)"
   ]
  },
  {
   "cell_type": "code",
   "execution_count": 196,
   "metadata": {},
   "outputs": [
    {
     "name": "stdout",
     "output_type": "stream",
     "text": [
      "Porcentaje de datos nulos en superficie total despues de regex: 25.38 %\n"
     ]
    }
   ],
   "source": [
    "print('Porcentaje de datos nulos en superficie total despues de regex:', (caba.rooms.isnull().sum()/caba.shape[0]*100).round(2), '%')"
   ]
  },
  {
   "cell_type": "code",
   "execution_count": null,
   "metadata": {},
   "outputs": [],
   "source": [
    "caba.rooms.value_counts() #Encontramos floats y int"
   ]
  },
  {
   "cell_type": "code",
   "execution_count": 198,
   "metadata": {},
   "outputs": [
    {
     "name": "stderr",
     "output_type": "stream",
     "text": [
      "C:\\Users\\Lucas\\.conda\\envs\\dhdsblend\\lib\\site-packages\\pandas\\core\\generic.py:6245: SettingWithCopyWarning: \n",
      "A value is trying to be set on a copy of a slice from a DataFrame\n",
      "\n",
      "See the caveats in the documentation: https://pandas.pydata.org/pandas-docs/stable/user_guide/indexing.html#returning-a-view-versus-a-copy\n",
      "  self._update_inplace(new_data)\n",
      "C:\\Users\\Lucas\\.conda\\envs\\dhdsblend\\lib\\site-packages\\pandas\\core\\generic.py:5303: SettingWithCopyWarning: \n",
      "A value is trying to be set on a copy of a slice from a DataFrame.\n",
      "Try using .loc[row_indexer,col_indexer] = value instead\n",
      "\n",
      "See the caveats in the documentation: https://pandas.pydata.org/pandas-docs/stable/user_guide/indexing.html#returning-a-view-versus-a-copy\n",
      "  self[name] = value\n"
     ]
    }
   ],
   "source": [
    "caba.rooms.fillna(0, inplace=True) #Valores nan con 0 para eliminar los floats para que los datos esten uniformes. \n",
    "                                   #Valores nan se dara tratamiento en la seccion 9\n",
    "caba.rooms = pd.to_numeric(caba.rooms, downcast='integer')"
   ]
  },
  {
   "cell_type": "code",
   "execution_count": 199,
   "metadata": {},
   "outputs": [
    {
     "data": {
      "text/plain": [
       "0     5840\n",
       "2     4708\n",
       "3     4501\n",
       "1     3802\n",
       "4     3046\n",
       "5      733\n",
       "6      196\n",
       "7       98\n",
       "8       37\n",
       "9       15\n",
       "10      10\n",
       "12       8\n",
       "11       4\n",
       "14       3\n",
       "17       3\n",
       "15       1\n",
       "22       1\n",
       "Name: rooms, dtype: int64"
      ]
     },
     "execution_count": 199,
     "metadata": {},
     "output_type": "execute_result"
    }
   ],
   "source": [
    "caba.rooms.value_counts()"
   ]
  },
  {
   "cell_type": "markdown",
   "metadata": {},
   "source": [
    "### Amenities"
   ]
  },
  {
   "cell_type": "markdown",
   "metadata": {},
   "source": [
    "#### Pileta"
   ]
  },
  {
   "cell_type": "code",
   "execution_count": 200,
   "metadata": {},
   "outputs": [
    {
     "name": "stderr",
     "output_type": "stream",
     "text": [
      "C:\\Users\\Lucas\\.conda\\envs\\dhdsblend\\lib\\site-packages\\ipykernel_launcher.py:9: SettingWithCopyWarning: \n",
      "A value is trying to be set on a copy of a slice from a DataFrame.\n",
      "Try using .loc[row_indexer,col_indexer] = value instead\n",
      "\n",
      "See the caveats in the documentation: https://pandas.pydata.org/pandas-docs/stable/user_guide/indexing.html#returning-a-view-versus-a-copy\n",
      "  if __name__ == '__main__':\n"
     ]
    }
   ],
   "source": [
    "pattern_pileta = \"(?P<pile>[pP]ileta)\"\n",
    "pattern_pileta_regex = re.compile(pattern_pileta)\n",
    "description_series = caba.title.astype(str)\n",
    "resultado_pileta = description_series.apply(lambda x: x if x is np.nan else pattern_pileta_regex.search(x))\n",
    "pileta_match = resultado_pileta.apply(lambda x: x if x is None else x.group('pile'))\n",
    "\n",
    "pileta_match.replace('pileta', 'Pileta', inplace = True)\n",
    "\n",
    "caba['Pileta'] = pileta_match"
   ]
  },
  {
   "cell_type": "code",
   "execution_count": 201,
   "metadata": {},
   "outputs": [
    {
     "name": "stderr",
     "output_type": "stream",
     "text": [
      "C:\\Users\\Lucas\\.conda\\envs\\dhdsblend\\lib\\site-packages\\ipykernel_launcher.py:9: SettingWithCopyWarning: \n",
      "A value is trying to be set on a copy of a slice from a DataFrame.\n",
      "Try using .loc[row_indexer,col_indexer] = value instead\n",
      "\n",
      "See the caveats in the documentation: https://pandas.pydata.org/pandas-docs/stable/user_guide/indexing.html#returning-a-view-versus-a-copy\n",
      "  if __name__ == '__main__':\n"
     ]
    }
   ],
   "source": [
    "pattern_pileta = \"(?P<pile>[pP]ileta)\"\n",
    "pattern_pileta_regex = re.compile(pattern_pileta)\n",
    "description_series = caba.description.astype(str)\n",
    "resultado_pileta = description_series.apply(lambda x: x if x is np.nan else pattern_pileta_regex.search(x))\n",
    "pileta_match = resultado_pileta.apply(lambda x: x if x is None else x.group('pile'))\n",
    "\n",
    "pileta_match.replace('pileta', 'Pileta', inplace = True)\n",
    "\n",
    "caba['Pileta'] = pileta_match"
   ]
  },
  {
   "cell_type": "code",
   "execution_count": 202,
   "metadata": {},
   "outputs": [
    {
     "name": "stderr",
     "output_type": "stream",
     "text": [
      "C:\\Users\\Lucas\\.conda\\envs\\dhdsblend\\lib\\site-packages\\ipykernel_launcher.py:9: SettingWithCopyWarning: \n",
      "A value is trying to be set on a copy of a slice from a DataFrame.\n",
      "Try using .loc[row_indexer,col_indexer] = value instead\n",
      "\n",
      "See the caveats in the documentation: https://pandas.pydata.org/pandas-docs/stable/user_guide/indexing.html#returning-a-view-versus-a-copy\n",
      "  if __name__ == '__main__':\n"
     ]
    }
   ],
   "source": [
    "pattern_pileta = \"(?P<pile>[pP]ileta)\"\n",
    "pattern_pileta_regex = re.compile(pattern_pileta)\n",
    "description_series = caba.properati_url.astype(str)\n",
    "resultado_pileta = description_series.apply(lambda x: x if x is np.nan else pattern_pileta_regex.search(x))\n",
    "pileta_match = resultado_pileta.apply(lambda x: x if x is None else x.group('pile'))\n",
    "\n",
    "pileta_match.replace('pileta', 'Pileta', inplace = True)\n",
    "\n",
    "caba['Pileta'] = pileta_match"
   ]
  },
  {
   "cell_type": "markdown",
   "metadata": {},
   "source": [
    "#### Chochera"
   ]
  },
  {
   "cell_type": "code",
   "execution_count": 203,
   "metadata": {},
   "outputs": [
    {
     "name": "stderr",
     "output_type": "stream",
     "text": [
      "C:\\Users\\Lucas\\.conda\\envs\\dhdsblend\\lib\\site-packages\\ipykernel_launcher.py:8: SettingWithCopyWarning: \n",
      "A value is trying to be set on a copy of a slice from a DataFrame.\n",
      "Try using .loc[row_indexer,col_indexer] = value instead\n",
      "\n",
      "See the caveats in the documentation: https://pandas.pydata.org/pandas-docs/stable/user_guide/indexing.html#returning-a-view-versus-a-copy\n",
      "  \n"
     ]
    }
   ],
   "source": [
    "pattern_cochera = \"(?P<coch>[cC]ochera)\"\n",
    "pattern_cochera_regex = re.compile(pattern_cochera)\n",
    "description_series = caba.title.astype(str)\n",
    "resultado_cochera = description_series.apply(lambda x: x if x is np.nan else pattern_cochera_regex.search(x))\n",
    "cochera_match = resultado_cochera.apply(lambda x: x if x is None else x.group('coch'))\n",
    "\n",
    "pileta_match.replace('cochera', 'Cochera', inplace = True)\n",
    "caba['Cochera'] = cochera_match"
   ]
  },
  {
   "cell_type": "code",
   "execution_count": 204,
   "metadata": {},
   "outputs": [
    {
     "name": "stderr",
     "output_type": "stream",
     "text": [
      "C:\\Users\\Lucas\\.conda\\envs\\dhdsblend\\lib\\site-packages\\ipykernel_launcher.py:8: SettingWithCopyWarning: \n",
      "A value is trying to be set on a copy of a slice from a DataFrame.\n",
      "Try using .loc[row_indexer,col_indexer] = value instead\n",
      "\n",
      "See the caveats in the documentation: https://pandas.pydata.org/pandas-docs/stable/user_guide/indexing.html#returning-a-view-versus-a-copy\n",
      "  \n"
     ]
    }
   ],
   "source": [
    "pattern_cochera = \"(?P<coch>[cC]ochera)\"\n",
    "pattern_cochera_regex = re.compile(pattern_cochera)\n",
    "description_series = caba.description.astype(str)\n",
    "resultado_cochera = description_series.apply(lambda x: x if x is np.nan else pattern_cochera_regex.search(x))\n",
    "cochera_match = resultado_cochera.apply(lambda x: x if x is None else x.group('coch'))\n",
    "\n",
    "pileta_match.replace('cochera', 'Cochera', inplace = True)\n",
    "caba['Cochera'] = cochera_match"
   ]
  },
  {
   "cell_type": "code",
   "execution_count": 205,
   "metadata": {},
   "outputs": [
    {
     "name": "stderr",
     "output_type": "stream",
     "text": [
      "C:\\Users\\Lucas\\.conda\\envs\\dhdsblend\\lib\\site-packages\\ipykernel_launcher.py:8: SettingWithCopyWarning: \n",
      "A value is trying to be set on a copy of a slice from a DataFrame.\n",
      "Try using .loc[row_indexer,col_indexer] = value instead\n",
      "\n",
      "See the caveats in the documentation: https://pandas.pydata.org/pandas-docs/stable/user_guide/indexing.html#returning-a-view-versus-a-copy\n",
      "  \n"
     ]
    }
   ],
   "source": [
    "pattern_cochera = \"(?P<coch>[cC]ochera)\"\n",
    "pattern_cochera_regex = re.compile(pattern_cochera)\n",
    "description_series = caba.properati_url.astype(str)\n",
    "resultado_cochera = description_series.apply(lambda x: x if x is np.nan else pattern_cochera_regex.search(x))\n",
    "cochera_match = resultado_cochera.apply(lambda x: x if x is None else x.group('coch'))\n",
    "\n",
    "pileta_match.replace('cochera', 'Cochera', inplace = True)\n",
    "caba['Cochera'] = cochera_match"
   ]
  },
  {
   "cell_type": "markdown",
   "metadata": {},
   "source": [
    "#### Parrilla"
   ]
  },
  {
   "cell_type": "code",
   "execution_count": 207,
   "metadata": {},
   "outputs": [
    {
     "name": "stderr",
     "output_type": "stream",
     "text": [
      "C:\\Users\\Lucas\\.conda\\envs\\dhdsblend\\lib\\site-packages\\ipykernel_launcher.py:8: SettingWithCopyWarning: \n",
      "A value is trying to be set on a copy of a slice from a DataFrame.\n",
      "Try using .loc[row_indexer,col_indexer] = value instead\n",
      "\n",
      "See the caveats in the documentation: https://pandas.pydata.org/pandas-docs/stable/user_guide/indexing.html#returning-a-view-versus-a-copy\n",
      "  \n"
     ]
    }
   ],
   "source": [
    "pattern_parrilla = \"(?P<parri>[pP]arrilla)\"\n",
    "pattern_parrilla_regex = re.compile(pattern_parrilla)\n",
    "description_series = caba.title.astype(str)\n",
    "resultado_parrilla = description_series.apply(lambda x: x if x is np.nan else pattern_parrilla_regex.search(x))\n",
    "parrilla_match = resultado_parrilla.apply(lambda x: x if x is None else x.group('parri'))\n",
    "\n",
    "parrilla_match.replace('parrilla', 'Parrilla', inplace = True)\n",
    "caba['Parrilla'] = parrilla_match"
   ]
  },
  {
   "cell_type": "code",
   "execution_count": 208,
   "metadata": {},
   "outputs": [
    {
     "name": "stderr",
     "output_type": "stream",
     "text": [
      "C:\\Users\\Lucas\\.conda\\envs\\dhdsblend\\lib\\site-packages\\ipykernel_launcher.py:8: SettingWithCopyWarning: \n",
      "A value is trying to be set on a copy of a slice from a DataFrame.\n",
      "Try using .loc[row_indexer,col_indexer] = value instead\n",
      "\n",
      "See the caveats in the documentation: https://pandas.pydata.org/pandas-docs/stable/user_guide/indexing.html#returning-a-view-versus-a-copy\n",
      "  \n"
     ]
    }
   ],
   "source": [
    "pattern_parrilla = \"(?P<parri>[pP]arrilla)\"\n",
    "pattern_parrilla_regex = re.compile(pattern_parrilla)\n",
    "description_series = caba.description.astype(str)\n",
    "resultado_parrilla = description_series.apply(lambda x: x if x is np.nan else pattern_parrilla_regex.search(x))\n",
    "parrilla_match = resultado_parrilla.apply(lambda x: x if x is None else x.group('parri'))\n",
    "\n",
    "parrilla_match.replace('parrilla', 'Parrilla', inplace = True)\n",
    "caba['Parrilla'] = parrilla_match"
   ]
  },
  {
   "cell_type": "code",
   "execution_count": 209,
   "metadata": {},
   "outputs": [
    {
     "name": "stderr",
     "output_type": "stream",
     "text": [
      "C:\\Users\\Lucas\\.conda\\envs\\dhdsblend\\lib\\site-packages\\ipykernel_launcher.py:8: SettingWithCopyWarning: \n",
      "A value is trying to be set on a copy of a slice from a DataFrame.\n",
      "Try using .loc[row_indexer,col_indexer] = value instead\n",
      "\n",
      "See the caveats in the documentation: https://pandas.pydata.org/pandas-docs/stable/user_guide/indexing.html#returning-a-view-versus-a-copy\n",
      "  \n"
     ]
    }
   ],
   "source": [
    "pattern_parrilla = \"(?P<parri>[pP]arrilla)\"\n",
    "pattern_parrilla_regex = re.compile(pattern_parrilla)\n",
    "description_series = caba.properati_url.astype(str)\n",
    "resultado_parrilla = description_series.apply(lambda x: x if x is np.nan else pattern_parrilla_regex.search(x))\n",
    "parrilla_match = resultado_parrilla.apply(lambda x: x if x is None else x.group('parri'))\n",
    "\n",
    "parrilla_match.replace('parrilla', 'Parrilla', inplace = True)\n",
    "caba['Parrilla'] = parrilla_match"
   ]
  },
  {
   "cell_type": "markdown",
   "metadata": {},
   "source": [
    "#### SUM"
   ]
  },
  {
   "cell_type": "code",
   "execution_count": 211,
   "metadata": {},
   "outputs": [
    {
     "name": "stderr",
     "output_type": "stream",
     "text": [
      "C:\\Users\\Lucas\\.conda\\envs\\dhdsblend\\lib\\site-packages\\ipykernel_launcher.py:8: SettingWithCopyWarning: \n",
      "A value is trying to be set on a copy of a slice from a DataFrame.\n",
      "Try using .loc[row_indexer,col_indexer] = value instead\n",
      "\n",
      "See the caveats in the documentation: https://pandas.pydata.org/pandas-docs/stable/user_guide/indexing.html#returning-a-view-versus-a-copy\n",
      "  \n"
     ]
    }
   ],
   "source": [
    "pattern_sum = \"(?P<sum>sum)\"\n",
    "pattern_sum_regex = re.compile(pattern_sum, re.IGNORECASE)\n",
    "description_series = caba.title.astype(str)\n",
    "resultado_sum = description_series.apply(lambda x: x if x is np.nan else pattern_sum_regex.search(x))\n",
    "sum_match = resultado_sum.apply(lambda x: x if x is None else x.group('sum'))\n",
    "\n",
    "sum_match.replace('sum', 'SUM', inplace = True)\n",
    "caba['sum'] = sum_match"
   ]
  },
  {
   "cell_type": "code",
   "execution_count": 212,
   "metadata": {},
   "outputs": [
    {
     "name": "stderr",
     "output_type": "stream",
     "text": [
      "C:\\Users\\Lucas\\.conda\\envs\\dhdsblend\\lib\\site-packages\\ipykernel_launcher.py:8: SettingWithCopyWarning: \n",
      "A value is trying to be set on a copy of a slice from a DataFrame.\n",
      "Try using .loc[row_indexer,col_indexer] = value instead\n",
      "\n",
      "See the caveats in the documentation: https://pandas.pydata.org/pandas-docs/stable/user_guide/indexing.html#returning-a-view-versus-a-copy\n",
      "  \n"
     ]
    }
   ],
   "source": [
    "pattern_sum = \"(?P<sum>sum)\"\n",
    "pattern_sum_regex = re.compile(pattern_sum, re.IGNORECASE)\n",
    "description_series = caba.description.astype(str)\n",
    "resultado_sum = description_series.apply(lambda x: x if x is np.nan else pattern_sum_regex.search(x))\n",
    "sum_match = resultado_sum.apply(lambda x: x if x is None else x.group('sum'))\n",
    "\n",
    "sum_match.replace('sum', 'SUM', inplace = True)\n",
    "caba['sum'] = sum_match"
   ]
  },
  {
   "cell_type": "code",
   "execution_count": 213,
   "metadata": {},
   "outputs": [
    {
     "name": "stderr",
     "output_type": "stream",
     "text": [
      "C:\\Users\\Lucas\\.conda\\envs\\dhdsblend\\lib\\site-packages\\ipykernel_launcher.py:8: SettingWithCopyWarning: \n",
      "A value is trying to be set on a copy of a slice from a DataFrame.\n",
      "Try using .loc[row_indexer,col_indexer] = value instead\n",
      "\n",
      "See the caveats in the documentation: https://pandas.pydata.org/pandas-docs/stable/user_guide/indexing.html#returning-a-view-versus-a-copy\n",
      "  \n"
     ]
    }
   ],
   "source": [
    "pattern_sum = \"(?P<sum>sum)\"\n",
    "pattern_sum_regex = re.compile(pattern_sum, re.IGNORECASE)\n",
    "description_series = caba.properati_url.astype(str)\n",
    "resultado_sum = description_series.apply(lambda x: x if x is np.nan else pattern_sum_regex.search(x))\n",
    "sum_match = resultado_sum.apply(lambda x: x if x is None else x.group('sum'))\n",
    "\n",
    "sum_match.replace('sum', 'SUM', inplace = True)\n",
    "caba['sum'] = sum_match"
   ]
  },
  {
   "cell_type": "markdown",
   "metadata": {},
   "source": [
    "### Verificacion de la calidad de los datos"
   ]
  },
  {
   "cell_type": "code",
   "execution_count": 215,
   "metadata": {},
   "outputs": [
    {
     "data": {
      "text/plain": [
       "Index(['operation', 'property_type', 'place_name', 'place_with_parent_names',\n",
       "       'country_name', 'state_name', 'geonames_id', 'lat-lon', 'lat', 'lon',\n",
       "       'price', 'currency', 'price_aprox_local_currency', 'price_aprox_usd',\n",
       "       'surface_total_in_m2', 'surface_covered_in_m2', 'price_usd_per_m2',\n",
       "       'price_per_m2', 'floor', 'rooms', 'expenses', 'properati_url',\n",
       "       'description', 'title', 'image_thumbnail', 'Pileta', 'Cochera',\n",
       "       'Parrilla', 'sum'],\n",
       "      dtype='object')"
      ]
     },
     "execution_count": 215,
     "metadata": {},
     "output_type": "execute_result"
    }
   ],
   "source": [
    "caba.columns"
   ]
  },
  {
   "cell_type": "code",
   "execution_count": 216,
   "metadata": {},
   "outputs": [
    {
     "data": {
      "text/plain": [
       "True"
      ]
     },
     "execution_count": 216,
     "metadata": {},
     "output_type": "execute_result"
    }
   ],
   "source": [
    "all(caba['price'] == caba['price_aprox_usd'])"
   ]
  },
  {
   "cell_type": "code",
   "execution_count": 217,
   "metadata": {},
   "outputs": [
    {
     "data": {
      "text/plain": [
       "False"
      ]
     },
     "execution_count": 217,
     "metadata": {},
     "output_type": "execute_result"
    }
   ],
   "source": [
    "all(caba['price_usd_per_m2'] == caba['price_per_m2'])"
   ]
  },
  {
   "cell_type": "code",
   "execution_count": 218,
   "metadata": {},
   "outputs": [
    {
     "data": {
      "text/plain": [
       "True"
      ]
     },
     "execution_count": 218,
     "metadata": {},
     "output_type": "execute_result"
    }
   ],
   "source": [
    "any(caba['price_usd_per_m2'] == caba['price_per_m2'])"
   ]
  },
  {
   "cell_type": "code",
   "execution_count": 219,
   "metadata": {},
   "outputs": [
    {
     "data": {
      "text/plain": [
       "True"
      ]
     },
     "execution_count": 219,
     "metadata": {},
     "output_type": "execute_result"
    }
   ],
   "source": [
    "any(caba['surface_total_in_m2'] == caba['surface_covered_in_m2'])"
   ]
  },
  {
   "cell_type": "code",
   "execution_count": 221,
   "metadata": {},
   "outputs": [
    {
     "data": {
      "text/plain": [
       "True"
      ]
     },
     "execution_count": 221,
     "metadata": {},
     "output_type": "execute_result"
    }
   ],
   "source": [
    "any(caba['surface_total_in_m2'] < caba['surface_covered_in_m2']) #Vemos que hay datos inconsistentes aqui"
   ]
  },
  {
   "cell_type": "code",
   "execution_count": 222,
   "metadata": {},
   "outputs": [],
   "source": [
    "#Separamos las columnas que vamos a trabajar para analisis posteriores\n",
    "columns = ['place_name','lat','lon','surface_total_in_m2', 'surface_covered_in_m2',\n",
    "           'price_per_m2', 'rooms', 'Pileta', 'Cochera', 'Parrilla', 'sum']"
   ]
  },
  {
   "cell_type": "code",
   "execution_count": 223,
   "metadata": {},
   "outputs": [
    {
     "data": {
      "text/html": [
       "<div>\n",
       "<style scoped>\n",
       "    .dataframe tbody tr th:only-of-type {\n",
       "        vertical-align: middle;\n",
       "    }\n",
       "\n",
       "    .dataframe tbody tr th {\n",
       "        vertical-align: top;\n",
       "    }\n",
       "\n",
       "    .dataframe thead th {\n",
       "        text-align: right;\n",
       "    }\n",
       "</style>\n",
       "<table border=\"1\" class=\"dataframe\">\n",
       "  <thead>\n",
       "    <tr style=\"text-align: right;\">\n",
       "      <th></th>\n",
       "      <th>place_name</th>\n",
       "      <th>lat</th>\n",
       "      <th>lon</th>\n",
       "      <th>surface_total_in_m2</th>\n",
       "      <th>surface_covered_in_m2</th>\n",
       "      <th>price_per_m2</th>\n",
       "      <th>rooms</th>\n",
       "      <th>Pileta</th>\n",
       "      <th>Cochera</th>\n",
       "      <th>Parrilla</th>\n",
       "      <th>sum</th>\n",
       "    </tr>\n",
       "  </thead>\n",
       "  <tbody>\n",
       "    <tr>\n",
       "      <th>2</th>\n",
       "      <td>Mataderos</td>\n",
       "      <td>-34.652262</td>\n",
       "      <td>-58.522982</td>\n",
       "      <td>55.0</td>\n",
       "      <td>55.0</td>\n",
       "      <td>1309.090909</td>\n",
       "      <td>0</td>\n",
       "      <td>None</td>\n",
       "      <td>None</td>\n",
       "      <td>None</td>\n",
       "      <td>None</td>\n",
       "    </tr>\n",
       "    <tr>\n",
       "      <th>7</th>\n",
       "      <td>Belgrano</td>\n",
       "      <td>-34.559873</td>\n",
       "      <td>-58.443362</td>\n",
       "      <td>45.0</td>\n",
       "      <td>40.0</td>\n",
       "      <td>3450.000000</td>\n",
       "      <td>0</td>\n",
       "      <td>None</td>\n",
       "      <td>None</td>\n",
       "      <td>None</td>\n",
       "      <td>None</td>\n",
       "    </tr>\n",
       "  </tbody>\n",
       "</table>\n",
       "</div>"
      ],
      "text/plain": [
       "  place_name        lat        lon  surface_total_in_m2  \\\n",
       "2  Mataderos -34.652262 -58.522982                 55.0   \n",
       "7   Belgrano -34.559873 -58.443362                 45.0   \n",
       "\n",
       "   surface_covered_in_m2  price_per_m2  rooms Pileta Cochera Parrilla   sum  \n",
       "2                   55.0   1309.090909      0   None    None     None  None  \n",
       "7                   40.0   3450.000000      0   None    None     None  None  "
      ]
     },
     "execution_count": 223,
     "metadata": {},
     "output_type": "execute_result"
    }
   ],
   "source": [
    "caba = caba[columns]\n",
    "caba.head(2)"
   ]
  },
  {
   "cell_type": "code",
   "execution_count": 224,
   "metadata": {},
   "outputs": [
    {
     "data": {
      "text/html": [
       "<div>\n",
       "<style scoped>\n",
       "    .dataframe tbody tr th:only-of-type {\n",
       "        vertical-align: middle;\n",
       "    }\n",
       "\n",
       "    .dataframe tbody tr th {\n",
       "        vertical-align: top;\n",
       "    }\n",
       "\n",
       "    .dataframe thead th {\n",
       "        text-align: right;\n",
       "    }\n",
       "</style>\n",
       "<table border=\"1\" class=\"dataframe\">\n",
       "  <thead>\n",
       "    <tr style=\"text-align: right;\">\n",
       "      <th></th>\n",
       "      <th>place_name</th>\n",
       "      <th>lat</th>\n",
       "      <th>lon</th>\n",
       "      <th>surface_total_in_m2</th>\n",
       "      <th>surface_covered_in_m2</th>\n",
       "      <th>price_per_m2</th>\n",
       "      <th>rooms</th>\n",
       "      <th>Pileta</th>\n",
       "      <th>Cochera</th>\n",
       "      <th>Parrilla</th>\n",
       "      <th>sum</th>\n",
       "    </tr>\n",
       "  </thead>\n",
       "  <tbody>\n",
       "    <tr>\n",
       "      <th>1397</th>\n",
       "      <td>Balvanera</td>\n",
       "      <td>-34.603133</td>\n",
       "      <td>-58.394624</td>\n",
       "      <td>80.0</td>\n",
       "      <td>89.0</td>\n",
       "      <td>1662.921348</td>\n",
       "      <td>4</td>\n",
       "      <td>None</td>\n",
       "      <td>None</td>\n",
       "      <td>None</td>\n",
       "      <td>None</td>\n",
       "    </tr>\n",
       "    <tr>\n",
       "      <th>6312</th>\n",
       "      <td>Caballito</td>\n",
       "      <td>-34.616291</td>\n",
       "      <td>-58.429026</td>\n",
       "      <td>144.0</td>\n",
       "      <td>147.0</td>\n",
       "      <td>1904.761905</td>\n",
       "      <td>0</td>\n",
       "      <td>None</td>\n",
       "      <td>None</td>\n",
       "      <td>None</td>\n",
       "      <td>None</td>\n",
       "    </tr>\n",
       "    <tr>\n",
       "      <th>13800</th>\n",
       "      <td>Villa Urquiza</td>\n",
       "      <td>-34.577524</td>\n",
       "      <td>-58.486546</td>\n",
       "      <td>70.0</td>\n",
       "      <td>78.0</td>\n",
       "      <td>2884.615385</td>\n",
       "      <td>0</td>\n",
       "      <td>None</td>\n",
       "      <td>None</td>\n",
       "      <td>None</td>\n",
       "      <td>None</td>\n",
       "    </tr>\n",
       "    <tr>\n",
       "      <th>17397</th>\n",
       "      <td>Coghlan</td>\n",
       "      <td>-34.557157</td>\n",
       "      <td>-58.479782</td>\n",
       "      <td>14.0</td>\n",
       "      <td>86.0</td>\n",
       "      <td>2069.767442</td>\n",
       "      <td>0</td>\n",
       "      <td>None</td>\n",
       "      <td>None</td>\n",
       "      <td>None</td>\n",
       "      <td>None</td>\n",
       "    </tr>\n",
       "    <tr>\n",
       "      <th>18717</th>\n",
       "      <td>Nuñez</td>\n",
       "      <td>-34.539465</td>\n",
       "      <td>-58.473690</td>\n",
       "      <td>59.0</td>\n",
       "      <td>65.0</td>\n",
       "      <td>2538.461538</td>\n",
       "      <td>2</td>\n",
       "      <td>None</td>\n",
       "      <td>None</td>\n",
       "      <td>None</td>\n",
       "      <td>None</td>\n",
       "    </tr>\n",
       "    <tr>\n",
       "      <th>18778</th>\n",
       "      <td>Parque Patricios</td>\n",
       "      <td>-34.629740</td>\n",
       "      <td>-58.398495</td>\n",
       "      <td>63.0</td>\n",
       "      <td>66.0</td>\n",
       "      <td>1242.424242</td>\n",
       "      <td>4</td>\n",
       "      <td>None</td>\n",
       "      <td>None</td>\n",
       "      <td>None</td>\n",
       "      <td>None</td>\n",
       "    </tr>\n",
       "    <tr>\n",
       "      <th>21531</th>\n",
       "      <td>Recoleta</td>\n",
       "      <td>-34.593267</td>\n",
       "      <td>-58.412733</td>\n",
       "      <td>10.0</td>\n",
       "      <td>155.0</td>\n",
       "      <td>2129.032258</td>\n",
       "      <td>4</td>\n",
       "      <td>None</td>\n",
       "      <td>None</td>\n",
       "      <td>None</td>\n",
       "      <td>None</td>\n",
       "    </tr>\n",
       "    <tr>\n",
       "      <th>22321</th>\n",
       "      <td>Floresta</td>\n",
       "      <td>-34.637886</td>\n",
       "      <td>-58.474408</td>\n",
       "      <td>49.0</td>\n",
       "      <td>52.0</td>\n",
       "      <td>1884.615385</td>\n",
       "      <td>3</td>\n",
       "      <td>None</td>\n",
       "      <td>None</td>\n",
       "      <td>None</td>\n",
       "      <td>None</td>\n",
       "    </tr>\n",
       "    <tr>\n",
       "      <th>24894</th>\n",
       "      <td>Congreso</td>\n",
       "      <td>-34.685699</td>\n",
       "      <td>-58.471813</td>\n",
       "      <td>72.0</td>\n",
       "      <td>76.0</td>\n",
       "      <td>1407.894737</td>\n",
       "      <td>3</td>\n",
       "      <td>None</td>\n",
       "      <td>None</td>\n",
       "      <td>None</td>\n",
       "      <td>None</td>\n",
       "    </tr>\n",
       "    <tr>\n",
       "      <th>24980</th>\n",
       "      <td>Flores</td>\n",
       "      <td>-34.625645</td>\n",
       "      <td>-58.461116</td>\n",
       "      <td>37.0</td>\n",
       "      <td>41.0</td>\n",
       "      <td>1956.585366</td>\n",
       "      <td>1</td>\n",
       "      <td>None</td>\n",
       "      <td>None</td>\n",
       "      <td>None</td>\n",
       "      <td>None</td>\n",
       "    </tr>\n",
       "    <tr>\n",
       "      <th>26511</th>\n",
       "      <td>San Cristobal</td>\n",
       "      <td>-34.623337</td>\n",
       "      <td>-58.397710</td>\n",
       "      <td>38.0</td>\n",
       "      <td>39.0</td>\n",
       "      <td>19715.384615</td>\n",
       "      <td>1</td>\n",
       "      <td>None</td>\n",
       "      <td>None</td>\n",
       "      <td>Parrilla</td>\n",
       "      <td>SUM</td>\n",
       "    </tr>\n",
       "    <tr>\n",
       "      <th>26521</th>\n",
       "      <td>San Cristobal</td>\n",
       "      <td>-34.623337</td>\n",
       "      <td>-58.397710</td>\n",
       "      <td>38.0</td>\n",
       "      <td>39.0</td>\n",
       "      <td>19715.384615</td>\n",
       "      <td>1</td>\n",
       "      <td>None</td>\n",
       "      <td>None</td>\n",
       "      <td>Parrilla</td>\n",
       "      <td>SUM</td>\n",
       "    </tr>\n",
       "    <tr>\n",
       "      <th>26554</th>\n",
       "      <td>Almagro</td>\n",
       "      <td>-34.615991</td>\n",
       "      <td>-58.417005</td>\n",
       "      <td>31.0</td>\n",
       "      <td>32.0</td>\n",
       "      <td>21215.625000</td>\n",
       "      <td>1</td>\n",
       "      <td>None</td>\n",
       "      <td>None</td>\n",
       "      <td>Parrilla</td>\n",
       "      <td>SUM</td>\n",
       "    </tr>\n",
       "    <tr>\n",
       "      <th>26697</th>\n",
       "      <td>Centro / Microcentro</td>\n",
       "      <td>-34.607125</td>\n",
       "      <td>-58.386198</td>\n",
       "      <td>34.0</td>\n",
       "      <td>36.0</td>\n",
       "      <td>2361.111111</td>\n",
       "      <td>2</td>\n",
       "      <td>None</td>\n",
       "      <td>None</td>\n",
       "      <td>None</td>\n",
       "      <td>None</td>\n",
       "    </tr>\n",
       "    <tr>\n",
       "      <th>28485</th>\n",
       "      <td>Almagro</td>\n",
       "      <td>NaN</td>\n",
       "      <td>NaN</td>\n",
       "      <td>75.0</td>\n",
       "      <td>3673.0</td>\n",
       "      <td>51.728832</td>\n",
       "      <td>3</td>\n",
       "      <td>None</td>\n",
       "      <td>None</td>\n",
       "      <td>None</td>\n",
       "      <td>None</td>\n",
       "    </tr>\n",
       "    <tr>\n",
       "      <th>31944</th>\n",
       "      <td>San Nicolás</td>\n",
       "      <td>-34.600164</td>\n",
       "      <td>-58.378214</td>\n",
       "      <td>49.0</td>\n",
       "      <td>50.0</td>\n",
       "      <td>2700.000000</td>\n",
       "      <td>2</td>\n",
       "      <td>None</td>\n",
       "      <td>None</td>\n",
       "      <td>None</td>\n",
       "      <td>None</td>\n",
       "    </tr>\n",
       "    <tr>\n",
       "      <th>36888</th>\n",
       "      <td>Palermo</td>\n",
       "      <td>NaN</td>\n",
       "      <td>NaN</td>\n",
       "      <td>13.0</td>\n",
       "      <td>79.0</td>\n",
       "      <td>3164.556962</td>\n",
       "      <td>0</td>\n",
       "      <td>None</td>\n",
       "      <td>None</td>\n",
       "      <td>None</td>\n",
       "      <td>None</td>\n",
       "    </tr>\n",
       "    <tr>\n",
       "      <th>37309</th>\n",
       "      <td>San Telmo</td>\n",
       "      <td>-34.615144</td>\n",
       "      <td>-58.378642</td>\n",
       "      <td>37.0</td>\n",
       "      <td>44.0</td>\n",
       "      <td>2386.363636</td>\n",
       "      <td>2</td>\n",
       "      <td>None</td>\n",
       "      <td>None</td>\n",
       "      <td>Parrilla</td>\n",
       "      <td>None</td>\n",
       "    </tr>\n",
       "    <tr>\n",
       "      <th>40773</th>\n",
       "      <td>Capital Federal</td>\n",
       "      <td>NaN</td>\n",
       "      <td>NaN</td>\n",
       "      <td>80.0</td>\n",
       "      <td>116.0</td>\n",
       "      <td>3181.034483</td>\n",
       "      <td>0</td>\n",
       "      <td>None</td>\n",
       "      <td>None</td>\n",
       "      <td>Parrilla</td>\n",
       "      <td>None</td>\n",
       "    </tr>\n",
       "    <tr>\n",
       "      <th>42848</th>\n",
       "      <td>Recoleta</td>\n",
       "      <td>-34.594340</td>\n",
       "      <td>-58.389975</td>\n",
       "      <td>319.0</td>\n",
       "      <td>330.0</td>\n",
       "      <td>2090.909091</td>\n",
       "      <td>0</td>\n",
       "      <td>None</td>\n",
       "      <td>None</td>\n",
       "      <td>None</td>\n",
       "      <td>None</td>\n",
       "    </tr>\n",
       "    <tr>\n",
       "      <th>46473</th>\n",
       "      <td>Belgrano</td>\n",
       "      <td>NaN</td>\n",
       "      <td>NaN</td>\n",
       "      <td>10.0</td>\n",
       "      <td>90.0</td>\n",
       "      <td>2200.000000</td>\n",
       "      <td>0</td>\n",
       "      <td>None</td>\n",
       "      <td>None</td>\n",
       "      <td>None</td>\n",
       "      <td>None</td>\n",
       "    </tr>\n",
       "    <tr>\n",
       "      <th>47962</th>\n",
       "      <td>Villa del Parque</td>\n",
       "      <td>-34.604917</td>\n",
       "      <td>-58.490398</td>\n",
       "      <td>35.0</td>\n",
       "      <td>37.0</td>\n",
       "      <td>2351.351351</td>\n",
       "      <td>2</td>\n",
       "      <td>None</td>\n",
       "      <td>None</td>\n",
       "      <td>None</td>\n",
       "      <td>None</td>\n",
       "    </tr>\n",
       "    <tr>\n",
       "      <th>59608</th>\n",
       "      <td>Palermo</td>\n",
       "      <td>-34.591108</td>\n",
       "      <td>-58.415921</td>\n",
       "      <td>79.0</td>\n",
       "      <td>86.0</td>\n",
       "      <td>2674.418605</td>\n",
       "      <td>4</td>\n",
       "      <td>None</td>\n",
       "      <td>None</td>\n",
       "      <td>None</td>\n",
       "      <td>None</td>\n",
       "    </tr>\n",
       "    <tr>\n",
       "      <th>67485</th>\n",
       "      <td>Saavedra</td>\n",
       "      <td>NaN</td>\n",
       "      <td>NaN</td>\n",
       "      <td>45.0</td>\n",
       "      <td>54.0</td>\n",
       "      <td>2685.185185</td>\n",
       "      <td>2</td>\n",
       "      <td>None</td>\n",
       "      <td>None</td>\n",
       "      <td>None</td>\n",
       "      <td>None</td>\n",
       "    </tr>\n",
       "    <tr>\n",
       "      <th>67500</th>\n",
       "      <td>Saavedra</td>\n",
       "      <td>NaN</td>\n",
       "      <td>NaN</td>\n",
       "      <td>45.0</td>\n",
       "      <td>54.0</td>\n",
       "      <td>2777.777778</td>\n",
       "      <td>2</td>\n",
       "      <td>None</td>\n",
       "      <td>None</td>\n",
       "      <td>None</td>\n",
       "      <td>None</td>\n",
       "    </tr>\n",
       "    <tr>\n",
       "      <th>71655</th>\n",
       "      <td>Flores</td>\n",
       "      <td>-34.625624</td>\n",
       "      <td>-58.468874</td>\n",
       "      <td>43.0</td>\n",
       "      <td>46.0</td>\n",
       "      <td>1717.391304</td>\n",
       "      <td>2</td>\n",
       "      <td>None</td>\n",
       "      <td>None</td>\n",
       "      <td>None</td>\n",
       "      <td>None</td>\n",
       "    </tr>\n",
       "    <tr>\n",
       "      <th>73668</th>\n",
       "      <td>Nuñez</td>\n",
       "      <td>-34.548636</td>\n",
       "      <td>-58.471190</td>\n",
       "      <td>48.0</td>\n",
       "      <td>52.0</td>\n",
       "      <td>2794.230769</td>\n",
       "      <td>0</td>\n",
       "      <td>None</td>\n",
       "      <td>None</td>\n",
       "      <td>None</td>\n",
       "      <td>SUM</td>\n",
       "    </tr>\n",
       "    <tr>\n",
       "      <th>73763</th>\n",
       "      <td>Palermo</td>\n",
       "      <td>NaN</td>\n",
       "      <td>NaN</td>\n",
       "      <td>54.0</td>\n",
       "      <td>57.0</td>\n",
       "      <td>3421.052632</td>\n",
       "      <td>2</td>\n",
       "      <td>None</td>\n",
       "      <td>None</td>\n",
       "      <td>None</td>\n",
       "      <td>None</td>\n",
       "    </tr>\n",
       "    <tr>\n",
       "      <th>73779</th>\n",
       "      <td>Palermo</td>\n",
       "      <td>-34.570179</td>\n",
       "      <td>-58.432229</td>\n",
       "      <td>54.0</td>\n",
       "      <td>57.0</td>\n",
       "      <td>3421.052632</td>\n",
       "      <td>0</td>\n",
       "      <td>None</td>\n",
       "      <td>None</td>\n",
       "      <td>None</td>\n",
       "      <td>None</td>\n",
       "    </tr>\n",
       "    <tr>\n",
       "      <th>74396</th>\n",
       "      <td>Flores</td>\n",
       "      <td>NaN</td>\n",
       "      <td>NaN</td>\n",
       "      <td>160.0</td>\n",
       "      <td>295.0</td>\n",
       "      <td>1694.915254</td>\n",
       "      <td>0</td>\n",
       "      <td>None</td>\n",
       "      <td>None</td>\n",
       "      <td>None</td>\n",
       "      <td>None</td>\n",
       "    </tr>\n",
       "    <tr>\n",
       "      <th>77541</th>\n",
       "      <td>Almagro</td>\n",
       "      <td>-34.626900</td>\n",
       "      <td>-58.426173</td>\n",
       "      <td>60.0</td>\n",
       "      <td>70.0</td>\n",
       "      <td>2000.000000</td>\n",
       "      <td>3</td>\n",
       "      <td>None</td>\n",
       "      <td>None</td>\n",
       "      <td>None</td>\n",
       "      <td>None</td>\n",
       "    </tr>\n",
       "    <tr>\n",
       "      <th>77836</th>\n",
       "      <td>Capital Federal</td>\n",
       "      <td>NaN</td>\n",
       "      <td>NaN</td>\n",
       "      <td>32.0</td>\n",
       "      <td>34.0</td>\n",
       "      <td>2088.235294</td>\n",
       "      <td>1</td>\n",
       "      <td>None</td>\n",
       "      <td>None</td>\n",
       "      <td>None</td>\n",
       "      <td>None</td>\n",
       "    </tr>\n",
       "    <tr>\n",
       "      <th>86132</th>\n",
       "      <td>San Telmo</td>\n",
       "      <td>-34.615189</td>\n",
       "      <td>-58.378617</td>\n",
       "      <td>37.0</td>\n",
       "      <td>44.0</td>\n",
       "      <td>2568.181818</td>\n",
       "      <td>2</td>\n",
       "      <td>None</td>\n",
       "      <td>None</td>\n",
       "      <td>Parrilla</td>\n",
       "      <td>None</td>\n",
       "    </tr>\n",
       "    <tr>\n",
       "      <th>106849</th>\n",
       "      <td>Nuñez</td>\n",
       "      <td>-34.554224</td>\n",
       "      <td>-58.467834</td>\n",
       "      <td>43.0</td>\n",
       "      <td>65.0</td>\n",
       "      <td>3345.384615</td>\n",
       "      <td>3</td>\n",
       "      <td>None</td>\n",
       "      <td>None</td>\n",
       "      <td>None</td>\n",
       "      <td>SUM</td>\n",
       "    </tr>\n",
       "    <tr>\n",
       "      <th>106850</th>\n",
       "      <td>Nuñez</td>\n",
       "      <td>-34.554224</td>\n",
       "      <td>-58.467834</td>\n",
       "      <td>10.0</td>\n",
       "      <td>55.0</td>\n",
       "      <td>2860.909091</td>\n",
       "      <td>3</td>\n",
       "      <td>None</td>\n",
       "      <td>None</td>\n",
       "      <td>None</td>\n",
       "      <td>SUM</td>\n",
       "    </tr>\n",
       "    <tr>\n",
       "      <th>107055</th>\n",
       "      <td>Palermo</td>\n",
       "      <td>NaN</td>\n",
       "      <td>NaN</td>\n",
       "      <td>82.0</td>\n",
       "      <td>84.0</td>\n",
       "      <td>4226.190476</td>\n",
       "      <td>0</td>\n",
       "      <td>None</td>\n",
       "      <td>None</td>\n",
       "      <td>None</td>\n",
       "      <td>None</td>\n",
       "    </tr>\n",
       "    <tr>\n",
       "      <th>107057</th>\n",
       "      <td>Palermo</td>\n",
       "      <td>-34.583276</td>\n",
       "      <td>-58.426027</td>\n",
       "      <td>10.0</td>\n",
       "      <td>98.0</td>\n",
       "      <td>4581.632653</td>\n",
       "      <td>0</td>\n",
       "      <td>None</td>\n",
       "      <td>None</td>\n",
       "      <td>None</td>\n",
       "      <td>None</td>\n",
       "    </tr>\n",
       "    <tr>\n",
       "      <th>107059</th>\n",
       "      <td>Palermo</td>\n",
       "      <td>-34.583276</td>\n",
       "      <td>-58.426027</td>\n",
       "      <td>10.0</td>\n",
       "      <td>98.0</td>\n",
       "      <td>4453.061224</td>\n",
       "      <td>0</td>\n",
       "      <td>None</td>\n",
       "      <td>None</td>\n",
       "      <td>None</td>\n",
       "      <td>None</td>\n",
       "    </tr>\n",
       "    <tr>\n",
       "      <th>107269</th>\n",
       "      <td>Palermo Soho</td>\n",
       "      <td>-34.582710</td>\n",
       "      <td>-58.426885</td>\n",
       "      <td>59.0</td>\n",
       "      <td>63.0</td>\n",
       "      <td>4877.777778</td>\n",
       "      <td>0</td>\n",
       "      <td>None</td>\n",
       "      <td>None</td>\n",
       "      <td>Parrilla</td>\n",
       "      <td>SUM</td>\n",
       "    </tr>\n",
       "    <tr>\n",
       "      <th>107270</th>\n",
       "      <td>Palermo Soho</td>\n",
       "      <td>-34.582710</td>\n",
       "      <td>-58.426885</td>\n",
       "      <td>59.0</td>\n",
       "      <td>63.0</td>\n",
       "      <td>4031.746032</td>\n",
       "      <td>0</td>\n",
       "      <td>None</td>\n",
       "      <td>None</td>\n",
       "      <td>Parrilla</td>\n",
       "      <td>SUM</td>\n",
       "    </tr>\n",
       "    <tr>\n",
       "      <th>107345</th>\n",
       "      <td>Belgrano</td>\n",
       "      <td>NaN</td>\n",
       "      <td>NaN</td>\n",
       "      <td>42.0</td>\n",
       "      <td>320.0</td>\n",
       "      <td>2734.375000</td>\n",
       "      <td>0</td>\n",
       "      <td>None</td>\n",
       "      <td>None</td>\n",
       "      <td>None</td>\n",
       "      <td>None</td>\n",
       "    </tr>\n",
       "    <tr>\n",
       "      <th>107497</th>\n",
       "      <td>Palermo Soho</td>\n",
       "      <td>NaN</td>\n",
       "      <td>NaN</td>\n",
       "      <td>42.0</td>\n",
       "      <td>127.0</td>\n",
       "      <td>2874.015748</td>\n",
       "      <td>4</td>\n",
       "      <td>None</td>\n",
       "      <td>None</td>\n",
       "      <td>Parrilla</td>\n",
       "      <td>None</td>\n",
       "    </tr>\n",
       "    <tr>\n",
       "      <th>107626</th>\n",
       "      <td>Belgrano</td>\n",
       "      <td>-34.557129</td>\n",
       "      <td>-58.465059</td>\n",
       "      <td>34.0</td>\n",
       "      <td>37.0</td>\n",
       "      <td>2540.540541</td>\n",
       "      <td>0</td>\n",
       "      <td>None</td>\n",
       "      <td>None</td>\n",
       "      <td>None</td>\n",
       "      <td>None</td>\n",
       "    </tr>\n",
       "    <tr>\n",
       "      <th>108142</th>\n",
       "      <td>Villa Ortuzar</td>\n",
       "      <td>-34.581654</td>\n",
       "      <td>-58.468452</td>\n",
       "      <td>11.0</td>\n",
       "      <td>31.0</td>\n",
       "      <td>2709.677419</td>\n",
       "      <td>0</td>\n",
       "      <td>None</td>\n",
       "      <td>None</td>\n",
       "      <td>None</td>\n",
       "      <td>None</td>\n",
       "    </tr>\n",
       "    <tr>\n",
       "      <th>108143</th>\n",
       "      <td>Palermo Soho</td>\n",
       "      <td>-34.608418</td>\n",
       "      <td>-58.373161</td>\n",
       "      <td>11.0</td>\n",
       "      <td>73.0</td>\n",
       "      <td>1363.013699</td>\n",
       "      <td>0</td>\n",
       "      <td>None</td>\n",
       "      <td>None</td>\n",
       "      <td>Parrilla</td>\n",
       "      <td>None</td>\n",
       "    </tr>\n",
       "    <tr>\n",
       "      <th>108162</th>\n",
       "      <td>Barrio Norte</td>\n",
       "      <td>-34.595774</td>\n",
       "      <td>-58.409496</td>\n",
       "      <td>50.0</td>\n",
       "      <td>110.0</td>\n",
       "      <td>2181.818182</td>\n",
       "      <td>0</td>\n",
       "      <td>None</td>\n",
       "      <td>None</td>\n",
       "      <td>None</td>\n",
       "      <td>None</td>\n",
       "    </tr>\n",
       "    <tr>\n",
       "      <th>109563</th>\n",
       "      <td>Villa Lugano</td>\n",
       "      <td>NaN</td>\n",
       "      <td>NaN</td>\n",
       "      <td>99.0</td>\n",
       "      <td>110.0</td>\n",
       "      <td>2272.727273</td>\n",
       "      <td>0</td>\n",
       "      <td>None</td>\n",
       "      <td>None</td>\n",
       "      <td>None</td>\n",
       "      <td>None</td>\n",
       "    </tr>\n",
       "    <tr>\n",
       "      <th>111510</th>\n",
       "      <td>Chacarita</td>\n",
       "      <td>-34.586690</td>\n",
       "      <td>-58.453478</td>\n",
       "      <td>26.0</td>\n",
       "      <td>36.0</td>\n",
       "      <td>2491.666667</td>\n",
       "      <td>1</td>\n",
       "      <td>None</td>\n",
       "      <td>None</td>\n",
       "      <td>Parrilla</td>\n",
       "      <td>SUM</td>\n",
       "    </tr>\n",
       "    <tr>\n",
       "      <th>112802</th>\n",
       "      <td>Almagro</td>\n",
       "      <td>NaN</td>\n",
       "      <td>NaN</td>\n",
       "      <td>33.0</td>\n",
       "      <td>34.0</td>\n",
       "      <td>2193.529412</td>\n",
       "      <td>0</td>\n",
       "      <td>None</td>\n",
       "      <td>None</td>\n",
       "      <td>None</td>\n",
       "      <td>None</td>\n",
       "    </tr>\n",
       "    <tr>\n",
       "      <th>112803</th>\n",
       "      <td>Almagro</td>\n",
       "      <td>NaN</td>\n",
       "      <td>NaN</td>\n",
       "      <td>33.0</td>\n",
       "      <td>34.0</td>\n",
       "      <td>2187.058824</td>\n",
       "      <td>0</td>\n",
       "      <td>None</td>\n",
       "      <td>None</td>\n",
       "      <td>None</td>\n",
       "      <td>None</td>\n",
       "    </tr>\n",
       "    <tr>\n",
       "      <th>112852</th>\n",
       "      <td>Almagro</td>\n",
       "      <td>NaN</td>\n",
       "      <td>NaN</td>\n",
       "      <td>33.0</td>\n",
       "      <td>34.0</td>\n",
       "      <td>2243.382353</td>\n",
       "      <td>0</td>\n",
       "      <td>None</td>\n",
       "      <td>None</td>\n",
       "      <td>None</td>\n",
       "      <td>None</td>\n",
       "    </tr>\n",
       "    <tr>\n",
       "      <th>119563</th>\n",
       "      <td>Palermo</td>\n",
       "      <td>-34.598147</td>\n",
       "      <td>-58.411787</td>\n",
       "      <td>59.0</td>\n",
       "      <td>79.0</td>\n",
       "      <td>2151.898734</td>\n",
       "      <td>0</td>\n",
       "      <td>None</td>\n",
       "      <td>None</td>\n",
       "      <td>None</td>\n",
       "      <td>None</td>\n",
       "    </tr>\n",
       "    <tr>\n",
       "      <th>119565</th>\n",
       "      <td>Palermo</td>\n",
       "      <td>-34.596816</td>\n",
       "      <td>-58.415647</td>\n",
       "      <td>38.0</td>\n",
       "      <td>42.0</td>\n",
       "      <td>2619.047619</td>\n",
       "      <td>0</td>\n",
       "      <td>None</td>\n",
       "      <td>None</td>\n",
       "      <td>None</td>\n",
       "      <td>None</td>\n",
       "    </tr>\n",
       "  </tbody>\n",
       "</table>\n",
       "</div>"
      ],
      "text/plain": [
       "                  place_name        lat        lon  surface_total_in_m2  \\\n",
       "1397               Balvanera -34.603133 -58.394624                 80.0   \n",
       "6312               Caballito -34.616291 -58.429026                144.0   \n",
       "13800          Villa Urquiza -34.577524 -58.486546                 70.0   \n",
       "17397                Coghlan -34.557157 -58.479782                 14.0   \n",
       "18717                  Nuñez -34.539465 -58.473690                 59.0   \n",
       "18778       Parque Patricios -34.629740 -58.398495                 63.0   \n",
       "21531               Recoleta -34.593267 -58.412733                 10.0   \n",
       "22321               Floresta -34.637886 -58.474408                 49.0   \n",
       "24894               Congreso -34.685699 -58.471813                 72.0   \n",
       "24980                 Flores -34.625645 -58.461116                 37.0   \n",
       "26511          San Cristobal -34.623337 -58.397710                 38.0   \n",
       "26521          San Cristobal -34.623337 -58.397710                 38.0   \n",
       "26554                Almagro -34.615991 -58.417005                 31.0   \n",
       "26697   Centro / Microcentro -34.607125 -58.386198                 34.0   \n",
       "28485                Almagro        NaN        NaN                 75.0   \n",
       "31944            San Nicolás -34.600164 -58.378214                 49.0   \n",
       "36888                Palermo        NaN        NaN                 13.0   \n",
       "37309              San Telmo -34.615144 -58.378642                 37.0   \n",
       "40773        Capital Federal        NaN        NaN                 80.0   \n",
       "42848               Recoleta -34.594340 -58.389975                319.0   \n",
       "46473               Belgrano        NaN        NaN                 10.0   \n",
       "47962       Villa del Parque -34.604917 -58.490398                 35.0   \n",
       "59608                Palermo -34.591108 -58.415921                 79.0   \n",
       "67485               Saavedra        NaN        NaN                 45.0   \n",
       "67500               Saavedra        NaN        NaN                 45.0   \n",
       "71655                 Flores -34.625624 -58.468874                 43.0   \n",
       "73668                  Nuñez -34.548636 -58.471190                 48.0   \n",
       "73763                Palermo        NaN        NaN                 54.0   \n",
       "73779                Palermo -34.570179 -58.432229                 54.0   \n",
       "74396                 Flores        NaN        NaN                160.0   \n",
       "77541                Almagro -34.626900 -58.426173                 60.0   \n",
       "77836        Capital Federal        NaN        NaN                 32.0   \n",
       "86132              San Telmo -34.615189 -58.378617                 37.0   \n",
       "106849                 Nuñez -34.554224 -58.467834                 43.0   \n",
       "106850                 Nuñez -34.554224 -58.467834                 10.0   \n",
       "107055               Palermo        NaN        NaN                 82.0   \n",
       "107057               Palermo -34.583276 -58.426027                 10.0   \n",
       "107059               Palermo -34.583276 -58.426027                 10.0   \n",
       "107269          Palermo Soho -34.582710 -58.426885                 59.0   \n",
       "107270          Palermo Soho -34.582710 -58.426885                 59.0   \n",
       "107345              Belgrano        NaN        NaN                 42.0   \n",
       "107497          Palermo Soho        NaN        NaN                 42.0   \n",
       "107626              Belgrano -34.557129 -58.465059                 34.0   \n",
       "108142         Villa Ortuzar -34.581654 -58.468452                 11.0   \n",
       "108143          Palermo Soho -34.608418 -58.373161                 11.0   \n",
       "108162          Barrio Norte -34.595774 -58.409496                 50.0   \n",
       "109563          Villa Lugano        NaN        NaN                 99.0   \n",
       "111510             Chacarita -34.586690 -58.453478                 26.0   \n",
       "112802               Almagro        NaN        NaN                 33.0   \n",
       "112803               Almagro        NaN        NaN                 33.0   \n",
       "112852               Almagro        NaN        NaN                 33.0   \n",
       "119563               Palermo -34.598147 -58.411787                 59.0   \n",
       "119565               Palermo -34.596816 -58.415647                 38.0   \n",
       "\n",
       "        surface_covered_in_m2  price_per_m2  rooms Pileta Cochera  Parrilla  \\\n",
       "1397                     89.0   1662.921348      4   None    None      None   \n",
       "6312                    147.0   1904.761905      0   None    None      None   \n",
       "13800                    78.0   2884.615385      0   None    None      None   \n",
       "17397                    86.0   2069.767442      0   None    None      None   \n",
       "18717                    65.0   2538.461538      2   None    None      None   \n",
       "18778                    66.0   1242.424242      4   None    None      None   \n",
       "21531                   155.0   2129.032258      4   None    None      None   \n",
       "22321                    52.0   1884.615385      3   None    None      None   \n",
       "24894                    76.0   1407.894737      3   None    None      None   \n",
       "24980                    41.0   1956.585366      1   None    None      None   \n",
       "26511                    39.0  19715.384615      1   None    None  Parrilla   \n",
       "26521                    39.0  19715.384615      1   None    None  Parrilla   \n",
       "26554                    32.0  21215.625000      1   None    None  Parrilla   \n",
       "26697                    36.0   2361.111111      2   None    None      None   \n",
       "28485                  3673.0     51.728832      3   None    None      None   \n",
       "31944                    50.0   2700.000000      2   None    None      None   \n",
       "36888                    79.0   3164.556962      0   None    None      None   \n",
       "37309                    44.0   2386.363636      2   None    None  Parrilla   \n",
       "40773                   116.0   3181.034483      0   None    None  Parrilla   \n",
       "42848                   330.0   2090.909091      0   None    None      None   \n",
       "46473                    90.0   2200.000000      0   None    None      None   \n",
       "47962                    37.0   2351.351351      2   None    None      None   \n",
       "59608                    86.0   2674.418605      4   None    None      None   \n",
       "67485                    54.0   2685.185185      2   None    None      None   \n",
       "67500                    54.0   2777.777778      2   None    None      None   \n",
       "71655                    46.0   1717.391304      2   None    None      None   \n",
       "73668                    52.0   2794.230769      0   None    None      None   \n",
       "73763                    57.0   3421.052632      2   None    None      None   \n",
       "73779                    57.0   3421.052632      0   None    None      None   \n",
       "74396                   295.0   1694.915254      0   None    None      None   \n",
       "77541                    70.0   2000.000000      3   None    None      None   \n",
       "77836                    34.0   2088.235294      1   None    None      None   \n",
       "86132                    44.0   2568.181818      2   None    None  Parrilla   \n",
       "106849                   65.0   3345.384615      3   None    None      None   \n",
       "106850                   55.0   2860.909091      3   None    None      None   \n",
       "107055                   84.0   4226.190476      0   None    None      None   \n",
       "107057                   98.0   4581.632653      0   None    None      None   \n",
       "107059                   98.0   4453.061224      0   None    None      None   \n",
       "107269                   63.0   4877.777778      0   None    None  Parrilla   \n",
       "107270                   63.0   4031.746032      0   None    None  Parrilla   \n",
       "107345                  320.0   2734.375000      0   None    None      None   \n",
       "107497                  127.0   2874.015748      4   None    None  Parrilla   \n",
       "107626                   37.0   2540.540541      0   None    None      None   \n",
       "108142                   31.0   2709.677419      0   None    None      None   \n",
       "108143                   73.0   1363.013699      0   None    None  Parrilla   \n",
       "108162                  110.0   2181.818182      0   None    None      None   \n",
       "109563                  110.0   2272.727273      0   None    None      None   \n",
       "111510                   36.0   2491.666667      1   None    None  Parrilla   \n",
       "112802                   34.0   2193.529412      0   None    None      None   \n",
       "112803                   34.0   2187.058824      0   None    None      None   \n",
       "112852                   34.0   2243.382353      0   None    None      None   \n",
       "119563                   79.0   2151.898734      0   None    None      None   \n",
       "119565                   42.0   2619.047619      0   None    None      None   \n",
       "\n",
       "         sum  \n",
       "1397    None  \n",
       "6312    None  \n",
       "13800   None  \n",
       "17397   None  \n",
       "18717   None  \n",
       "18778   None  \n",
       "21531   None  \n",
       "22321   None  \n",
       "24894   None  \n",
       "24980   None  \n",
       "26511    SUM  \n",
       "26521    SUM  \n",
       "26554    SUM  \n",
       "26697   None  \n",
       "28485   None  \n",
       "31944   None  \n",
       "36888   None  \n",
       "37309   None  \n",
       "40773   None  \n",
       "42848   None  \n",
       "46473   None  \n",
       "47962   None  \n",
       "59608   None  \n",
       "67485   None  \n",
       "67500   None  \n",
       "71655   None  \n",
       "73668    SUM  \n",
       "73763   None  \n",
       "73779   None  \n",
       "74396   None  \n",
       "77541   None  \n",
       "77836   None  \n",
       "86132   None  \n",
       "106849   SUM  \n",
       "106850   SUM  \n",
       "107055  None  \n",
       "107057  None  \n",
       "107059  None  \n",
       "107269   SUM  \n",
       "107270   SUM  \n",
       "107345  None  \n",
       "107497  None  \n",
       "107626  None  \n",
       "108142  None  \n",
       "108143  None  \n",
       "108162  None  \n",
       "109563  None  \n",
       "111510   SUM  \n",
       "112802  None  \n",
       "112803  None  \n",
       "112852  None  \n",
       "119563  None  \n",
       "119565  None  "
      ]
     },
     "execution_count": 224,
     "metadata": {},
     "output_type": "execute_result"
    }
   ],
   "source": [
    "caba.loc[caba['surface_total_in_m2'] < caba['surface_covered_in_m2']] #Filtramos los datos que son inconsistentes"
   ]
  },
  {
   "cell_type": "code",
   "execution_count": 225,
   "metadata": {},
   "outputs": [],
   "source": [
    "#Todos aquellos datos donde total < cubierta, vamos a asignarle el valor de la superficie cubierta\n",
    "caba.loc[caba['surface_total_in_m2'] < caba['surface_covered_in_m2'], ['surface_total_in_m2']] = caba['surface_covered_in_m2'] "
   ]
  },
  {
   "cell_type": "code",
   "execution_count": 226,
   "metadata": {},
   "outputs": [
    {
     "data": {
      "text/html": [
       "<div>\n",
       "<style scoped>\n",
       "    .dataframe tbody tr th:only-of-type {\n",
       "        vertical-align: middle;\n",
       "    }\n",
       "\n",
       "    .dataframe tbody tr th {\n",
       "        vertical-align: top;\n",
       "    }\n",
       "\n",
       "    .dataframe thead th {\n",
       "        text-align: right;\n",
       "    }\n",
       "</style>\n",
       "<table border=\"1\" class=\"dataframe\">\n",
       "  <thead>\n",
       "    <tr style=\"text-align: right;\">\n",
       "      <th></th>\n",
       "      <th>place_name</th>\n",
       "      <th>lat</th>\n",
       "      <th>lon</th>\n",
       "      <th>surface_total_in_m2</th>\n",
       "      <th>surface_covered_in_m2</th>\n",
       "      <th>price_per_m2</th>\n",
       "      <th>rooms</th>\n",
       "      <th>Pileta</th>\n",
       "      <th>Cochera</th>\n",
       "      <th>Parrilla</th>\n",
       "      <th>sum</th>\n",
       "    </tr>\n",
       "  </thead>\n",
       "  <tbody>\n",
       "    <tr>\n",
       "      <th>1397</th>\n",
       "      <td>Balvanera</td>\n",
       "      <td>-34.603133</td>\n",
       "      <td>-58.394624</td>\n",
       "      <td>89.0</td>\n",
       "      <td>89.0</td>\n",
       "      <td>1662.921348</td>\n",
       "      <td>4</td>\n",
       "      <td>None</td>\n",
       "      <td>None</td>\n",
       "      <td>None</td>\n",
       "      <td>None</td>\n",
       "    </tr>\n",
       "  </tbody>\n",
       "</table>\n",
       "</div>"
      ],
      "text/plain": [
       "     place_name        lat        lon  surface_total_in_m2  \\\n",
       "1397  Balvanera -34.603133 -58.394624                 89.0   \n",
       "\n",
       "      surface_covered_in_m2  price_per_m2  rooms Pileta Cochera Parrilla   sum  \n",
       "1397                   89.0   1662.921348      4   None    None     None  None  "
      ]
     },
     "execution_count": 226,
     "metadata": {},
     "output_type": "execute_result"
    }
   ],
   "source": [
    "caba.loc[1397:1398] #verificamos que este correcto"
   ]
  },
  {
   "cell_type": "code",
   "execution_count": 227,
   "metadata": {},
   "outputs": [
    {
     "data": {
      "text/plain": [
       "(23006, 11)"
      ]
     },
     "execution_count": 227,
     "metadata": {},
     "output_type": "execute_result"
    }
   ],
   "source": [
    "caba.shape"
   ]
  },
  {
   "cell_type": "code",
   "execution_count": 228,
   "metadata": {},
   "outputs": [
    {
     "data": {
      "text/plain": [
       "place_name                 0.000000\n",
       "lat                       23.719899\n",
       "lon                       23.719899\n",
       "surface_total_in_m2       17.695384\n",
       "surface_covered_in_m2      5.459445\n",
       "price_per_m2               5.468139\n",
       "rooms                      0.000000\n",
       "Pileta                   100.000000\n",
       "Cochera                  100.000000\n",
       "Parrilla                  73.389551\n",
       "sum                       79.040250\n",
       "dtype: float64"
      ]
     },
     "execution_count": 228,
     "metadata": {},
     "output_type": "execute_result"
    }
   ],
   "source": [
    "caba.isnull().sum() / caba.shape[0]*100"
   ]
  },
  {
   "cell_type": "code",
   "execution_count": 229,
   "metadata": {},
   "outputs": [],
   "source": [
    "caba.dropna(subset=['surface_total_in_m2', 'surface_covered_in_m2', 'price_per_m2'], inplace=True)"
   ]
  },
  {
   "cell_type": "code",
   "execution_count": 230,
   "metadata": {},
   "outputs": [
    {
     "data": {
      "text/plain": [
       "(18043, 11)"
      ]
     },
     "execution_count": 230,
     "metadata": {},
     "output_type": "execute_result"
    }
   ],
   "source": [
    "caba.shape"
   ]
  },
  {
   "cell_type": "code",
   "execution_count": 231,
   "metadata": {},
   "outputs": [
    {
     "data": {
      "text/plain": [
       "place_name                 0.000000\n",
       "lat                       25.644294\n",
       "lon                       25.644294\n",
       "surface_total_in_m2        0.000000\n",
       "surface_covered_in_m2      0.000000\n",
       "price_per_m2               0.000000\n",
       "rooms                      0.000000\n",
       "Pileta                   100.000000\n",
       "Cochera                  100.000000\n",
       "Parrilla                  72.576623\n",
       "sum                       77.863992\n",
       "dtype: float64"
      ]
     },
     "execution_count": 231,
     "metadata": {},
     "output_type": "execute_result"
    }
   ],
   "source": [
    "caba.isnull().sum() / caba.shape[0]*100"
   ]
  },
  {
   "cell_type": "markdown",
   "metadata": {},
   "source": [
    "### 7) Visualizacion de la distribucion de los datos"
   ]
  },
  {
   "cell_type": "code",
   "execution_count": 232,
   "metadata": {},
   "outputs": [
    {
     "name": "stdout",
     "output_type": "stream",
     "text": [
      "count    18043.000000\n",
      "mean        79.954719\n",
      "std         70.772126\n",
      "min         12.000000\n",
      "25%         41.000000\n",
      "50%         57.000000\n",
      "75%         91.000000\n",
      "max       3673.000000\n",
      "Name: surface_total_in_m2, dtype: float64\n"
     ]
    },
    {
     "data": {
      "image/png": "[encoded data removed]",
      "text/plain": [
       "<Figure size 432x288 with 1 Axes>"
      ]
     },
     "metadata": {},
     "output_type": "display_data"
    }
   ],
   "source": [
    "print(caba.surface_total_in_m2.describe())\n",
    "sns.boxplot(caba.surface_total_in_m2)\n",
    "plt.show()"
   ]
  },
  {
   "cell_type": "code",
   "execution_count": 233,
   "metadata": {},
   "outputs": [
    {
     "name": "stdout",
     "output_type": "stream",
     "text": [
      "count    18043.000000\n",
      "mean        70.345896\n",
      "std         63.465683\n",
      "min          2.000000\n",
      "25%         37.000000\n",
      "50%         50.000000\n",
      "75%         80.000000\n",
      "max       3673.000000\n",
      "Name: surface_covered_in_m2, dtype: float64\n"
     ]
    },
    {
     "data": {
      "image/png": "[encoded data removed]",
      "text/plain": [
       "<Figure size 432x288 with 1 Axes>"
      ]
     },
     "metadata": {},
     "output_type": "display_data"
    }
   ],
   "source": [
    "print(caba.surface_covered_in_m2.describe())\n",
    "sns.boxplot(caba.surface_covered_in_m2)\n",
    "plt.show()"
   ]
  },
  {
   "cell_type": "code",
   "execution_count": 234,
   "metadata": {},
   "outputs": [
    {
     "name": "stdout",
     "output_type": "stream",
     "text": [
      "count     18043.000000\n",
      "mean       3752.491165\n",
      "std        4154.071067\n",
      "min          49.000000\n",
      "25%        2375.000000\n",
      "50%        2915.384615\n",
      "75%        3621.455939\n",
      "max      206333.333333\n",
      "Name: price_per_m2, dtype: float64\n"
     ]
    },
    {
     "data": {
      "image/png": "[encoded data removed]",
      "text/plain": [
       "<Figure size 432x288 with 1 Axes>"
      ]
     },
     "metadata": {},
     "output_type": "display_data"
    }
   ],
   "source": [
    "print(caba.price_per_m2.describe())\n",
    "sns.boxplot(caba.price_per_m2)\n",
    "plt.show()"
   ]
  },
  {
   "cell_type": "markdown",
   "metadata": {},
   "source": [
    "### 8) Tratamiento de valores minimos y outliers"
   ]
  },
  {
   "cell_type": "markdown",
   "metadata": {},
   "source": [
    "Considerante la superficie cubierta, tomamos como valor minimo 18 m2 ya que es el valor minimo establecido por el gobierno de la ciudad y como valor maximo seleccionamos todos los datos del cuartil 99 para eliminar el outlier que vimos en el grafico anterior.\n",
    "\n",
    "Respecto a precio por m2, tomamos como valor maximo U$S 10.000 ya que es el maximo valor en paginas de ventas de departamentos"
   ]
  },
  {
   "cell_type": "code",
   "execution_count": 235,
   "metadata": {},
   "outputs": [],
   "source": [
    "LS = caba.surface_covered_in_m2.quantile(0.99)\n",
    "LI = 18\n",
    "\n",
    "caba = caba[(caba.surface_covered_in_m2 <= LS) &\n",
    "            (caba.surface_covered_in_m2 >= LI) &\n",
    "            (caba.price_per_m2 <= 10000)\n",
    "            ]"
   ]
  },
  {
   "cell_type": "code",
   "execution_count": 236,
   "metadata": {},
   "outputs": [
    {
     "name": "stdout",
     "output_type": "stream",
     "text": [
      "count    17203.000000\n",
      "mean      3101.302320\n",
      "std       1198.028687\n",
      "min         84.615385\n",
      "25%       2352.941176\n",
      "50%       2875.000000\n",
      "75%       3490.312325\n",
      "max      10000.000000\n",
      "Name: price_per_m2, dtype: float64\n"
     ]
    },
    {
     "data": {
      "image/png": "[encoded data removed]",
      "text/plain": [
       "<Figure size 432x288 with 1 Axes>"
      ]
     },
     "metadata": {},
     "output_type": "display_data"
    }
   ],
   "source": [
    "print(caba.price_per_m2.describe())\n",
    "sns.boxplot(caba.price_per_m2)\n",
    "plt.show()"
   ]
  },
  {
   "cell_type": "code",
   "execution_count": 237,
   "metadata": {},
   "outputs": [
    {
     "name": "stdout",
     "output_type": "stream",
     "text": [
      "count    17203.000000\n",
      "mean        68.018195\n",
      "std         47.203348\n",
      "min         18.000000\n",
      "25%         38.000000\n",
      "50%         50.000000\n",
      "75%         80.000000\n",
      "max        310.000000\n",
      "Name: surface_covered_in_m2, dtype: float64\n"
     ]
    },
    {
     "data": {
      "image/png": "[encoded data removed]",
      "text/plain": [
       "<Figure size 432x288 with 1 Axes>"
      ]
     },
     "metadata": {},
     "output_type": "display_data"
    }
   ],
   "source": [
    "print(caba.surface_covered_in_m2.describe())\n",
    "sns.boxplot(caba.surface_covered_in_m2)\n",
    "plt.show()"
   ]
  },
  {
   "cell_type": "markdown",
   "metadata": {},
   "source": [
    "### 9) Imputacion de valores nulos"
   ]
  },
  {
   "cell_type": "code",
   "execution_count": 238,
   "metadata": {},
   "outputs": [],
   "source": [
    "#Imputamos la media de lat lon por barrio\n",
    "caba['lat'] = caba['lat'].fillna(caba.groupby('place_name')['lat'].transform('mean'))\n",
    "caba['lon'] = caba['lon'].fillna(caba.groupby('place_name')['lon'].transform('mean'))"
   ]
  },
  {
   "cell_type": "code",
   "execution_count": 239,
   "metadata": {},
   "outputs": [],
   "source": [
    "caba.rooms.replace(0, np.nan, inplace=True)"
   ]
  },
  {
   "cell_type": "code",
   "execution_count": 240,
   "metadata": {},
   "outputs": [
    {
     "data": {
      "text/plain": [
       "27.989304191129456"
      ]
     },
     "execution_count": 240,
     "metadata": {},
     "output_type": "execute_result"
    }
   ],
   "source": [
    "caba.rooms.isnull().sum() / caba.shape[0] * 100"
   ]
  },
  {
   "cell_type": "code",
   "execution_count": 241,
   "metadata": {},
   "outputs": [
    {
     "data": {
      "text/plain": [
       "<AxesSubplot:xlabel='rooms', ylabel='surface_covered_in_m2'>"
      ]
     },
     "execution_count": 241,
     "metadata": {},
     "output_type": "execute_result"
    },
    {
     "data": {
      "image/png": "[encoded data removed]",
      "text/plain": [
       "<Figure size 432x288 with 1 Axes>"
      ]
     },
     "metadata": {},
     "output_type": "display_data"
    }
   ],
   "source": [
    "sns.boxplot(data=caba, x='rooms', y='surface_covered_in_m2')"
   ]
  },
  {
   "cell_type": "code",
   "execution_count": 242,
   "metadata": {},
   "outputs": [],
   "source": [
    "#Usamos qcut para dividir en 6 la superficie cubierta y asignar la cantidad de cuartos en cada division a los nan\n",
    "labels = ['1', '2', '3', '4', '5', '6']\n",
    "superficie = pd.qcut(caba.surface_covered_in_m2, 6, labels=labels)\n",
    "caba['division'] = superficie\n",
    "\n",
    "a = caba.loc[caba.division == '1'].fillna(value={'rooms': 1})\n",
    "b = caba.loc[caba.division == '2'].fillna(value={'rooms': 2})\n",
    "c = caba.loc[caba.division == '3'].fillna(value={'rooms': 3})\n",
    "d = caba.loc[caba.division == '4'].fillna(value={'rooms': 4})\n",
    "e = caba.loc[caba.division == '5'].fillna(value={'rooms': 5})\n",
    "f = caba.loc[caba.division == '6'].fillna(value={'rooms': 6})\n",
    "caba = pd.concat([a,b,c,d,e,f])\n",
    "caba.drop(columns='division', inplace=True)"
   ]
  },
  {
   "cell_type": "code",
   "execution_count": 243,
   "metadata": {},
   "outputs": [
    {
     "data": {
      "text/plain": [
       "2     4521\n",
       "3     4279\n",
       "1     3611\n",
       "4     3022\n",
       "5     1018\n",
       "6      652\n",
       "7       66\n",
       "8       24\n",
       "9        4\n",
       "12       2\n",
       "11       2\n",
       "14       1\n",
       "10       1\n",
       "Name: rooms, dtype: int64"
      ]
     },
     "execution_count": 243,
     "metadata": {},
     "output_type": "execute_result"
    }
   ],
   "source": [
    "caba.rooms = pd.to_numeric(caba.rooms, downcast='integer')\n",
    "caba.rooms.value_counts()"
   ]
  },
  {
   "cell_type": "code",
   "execution_count": 244,
   "metadata": {},
   "outputs": [
    {
     "data": {
      "text/plain": [
       "place_name                 0.000000\n",
       "lat                        0.000000\n",
       "lon                        0.000000\n",
       "surface_total_in_m2        0.000000\n",
       "surface_covered_in_m2      0.000000\n",
       "price_per_m2               0.000000\n",
       "rooms                      0.000000\n",
       "Pileta                   100.000000\n",
       "Cochera                  100.000000\n",
       "Parrilla                  74.428879\n",
       "sum                       80.049991\n",
       "dtype: float64"
      ]
     },
     "execution_count": 244,
     "metadata": {},
     "output_type": "execute_result"
    }
   ],
   "source": [
    "caba.isnull().sum() / caba.shape[0]*100"
   ]
  },
  {
   "cell_type": "markdown",
   "metadata": {},
   "source": [
    "### 10) Cercania a diferentes puntos de la ciudad"
   ]
  },
  {
   "cell_type": "markdown",
   "metadata": {},
   "source": [
    "Usamos la formula de Haversiana para determinar la distancia entre los departamentos a la venta con diferentes puntos de la ciudad:\n",
    "* Estaciones de subte\n",
    "* Paradas de colectivos\n",
    "* Paradas de metrobuses\n",
    "* Estaciones de trenes\n",
    "* Estaciones de ecobicis\n",
    "* Espacios culturales\n",
    "* Espacios gastronimicos\n",
    "* Universidades\n",
    "* Polideportivos\n",
    "* Hospitales\n",
    "* Comisarias\n",
    "* Espacios verdes\n",
    "\n",
    "Se considera que el departamento se encuentra \"cerca\" de alguno de estos puntos mencionados si su distancia no supera hasta los 2 kms."
   ]
  },
  {
   "cell_type": "markdown",
   "metadata": {},
   "source": [
    "#### Formula Haversiana"
   ]
  },
  {
   "cell_type": "code",
   "execution_count": 245,
   "metadata": {},
   "outputs": [],
   "source": [
    "def haversine_np(lon1, lat1, lon2, lat2):\n",
    "  \n",
    "    lon1, lat1, lon2, lat2 = map(np.radians, [lon1, lat1, lon2, lat2])\n",
    "\n",
    "    dlon = lon2 - lon1\n",
    "    dlat = lat2 - lat1\n",
    "\n",
    "    a = np.sin(dlat/2.0)**2 + np.cos(lat1) * np.cos(lat2) * np.sin(dlon/2.0)**2\n",
    "\n",
    "    c = 2 * np.arcsin(np.sqrt(a))\n",
    "    \n",
    "    km = 6361 * c  \n",
    "    \n",
    "    return km"
   ]
  },
  {
   "cell_type": "markdown",
   "metadata": {},
   "source": [
    "#### Subte"
   ]
  },
  {
   "cell_type": "code",
   "execution_count": 246,
   "metadata": {},
   "outputs": [],
   "source": [
    "subte_path = \"http://cdn.buenosaires.gob.ar/datosabiertos/datasets/subte-estaciones/estaciones-de-subte.csv\"\n",
    "subte = pd.read_csv(subte_path) "
   ]
  },
  {
   "cell_type": "code",
   "execution_count": 247,
   "metadata": {},
   "outputs": [],
   "source": [
    "latlon = caba[['lat','lon']]  \n",
    "latlon_subte = subte[['long','lat']]  \n",
    "latlon_ = latlon.copy()\n",
    "for index, row in latlon_.iterrows():\n",
    "    distancia = haversine_np(row['lon'],row['lat'],latlon_subte['long'],latlon_subte['lat'])\n",
    "    if any(distancia < 1):\n",
    "        latlon_.loc[index, 'subte'] = \"Cerca\"\n",
    "    else:\n",
    "        latlon_.loc[index, 'subte'] = \"Lejos\"\n",
    "caba = pd.concat([caba,latlon_['subte']],axis=1)     "
   ]
  },
  {
   "cell_type": "code",
   "execution_count": 248,
   "metadata": {},
   "outputs": [],
   "source": [
    "mask_subte = caba['subte'] == \"Cerca\"\n",
    "dummies_subte = pd.get_dummies(mask_subte, prefix='subte', drop_first=True)\n",
    "caba = caba.join(dummies_subte)\n",
    "caba.drop(columns='subte', inplace=True)"
   ]
  },
  {
   "cell_type": "markdown",
   "metadata": {},
   "source": [
    "#### Colectivos"
   ]
  },
  {
   "cell_type": "code",
   "execution_count": 249,
   "metadata": {},
   "outputs": [],
   "source": [
    "bondis_path = \"http://cdn.buenosaires.gob.ar/datosabiertos/datasets/colectivos/paradas-de-colectivo.csv\"\n",
    "bondis = pd.read_csv(bondis_path) "
   ]
  },
  {
   "cell_type": "code",
   "execution_count": 250,
   "metadata": {},
   "outputs": [],
   "source": [
    "bondis = bondis.rename({\n",
    "    'stop_lat': 'lat',\n",
    "    'stop_lon': 'long',\n",
    "}, axis=1)"
   ]
  },
  {
   "cell_type": "code",
   "execution_count": 251,
   "metadata": {},
   "outputs": [],
   "source": [
    "latlon = caba[['lat','lon']] \n",
    "latlon_bondis = bondis[['long','lat']] \n",
    "latlon_ = latlon.copy()\n",
    "for index, row in latlon_.iterrows():\n",
    "    distancia = haversine_np(row['lon'],row['lat'],latlon_bondis['long'],latlon_bondis['lat'])\n",
    "    if any(distancia < 0.5):\n",
    "        latlon_.loc[index, 'bus'] = \"Cerca\"\n",
    "    else:\n",
    "        latlon_.loc[index, 'bus'] = \"Lejos\"\n",
    "caba = pd.concat([caba,latlon_['bus']],axis=1) "
   ]
  },
  {
   "cell_type": "code",
   "execution_count": 252,
   "metadata": {},
   "outputs": [],
   "source": [
    "mask_bondi = caba['bus'] == \"Cerca\"\n",
    "dummies_bondi = pd.get_dummies(mask_bondi, prefix='bus', drop_first=True)\n",
    "caba = caba.join(dummies_bondi)\n",
    "caba.drop(columns='bus', inplace=True)"
   ]
  },
  {
   "cell_type": "markdown",
   "metadata": {},
   "source": [
    "#### Metrobus"
   ]
  },
  {
   "cell_type": "code",
   "execution_count": 253,
   "metadata": {},
   "outputs": [],
   "source": [
    "metrobus_path = 'http://cdn.buenosaires.gob.ar/datosabiertos/datasets/transporte/metrobus/estaciones-de-metrobus.csv'\n",
    "metrobus = pd.read_csv(metrobus_path) "
   ]
  },
  {
   "cell_type": "code",
   "execution_count": 254,
   "metadata": {},
   "outputs": [],
   "source": [
    "metrobus['WKT'] = metrobus['WKT'].apply(wkt.loads)\n",
    "gdf = gp.GeoDataFrame(metrobus, geometry='WKT')"
   ]
  },
  {
   "cell_type": "code",
   "execution_count": 255,
   "metadata": {},
   "outputs": [],
   "source": [
    "metrobus['long'] = gdf.geometry.x\n",
    "metrobus['lat'] = gdf.geometry.y"
   ]
  },
  {
   "cell_type": "code",
   "execution_count": 256,
   "metadata": {},
   "outputs": [],
   "source": [
    "latlon = caba[['lat','lon']]  \n",
    "latlon_metrobus = metrobus[['long','lat']]  \n",
    "latlon_ = latlon.copy()\n",
    "for index, row in latlon_.iterrows():\n",
    "    distancia = haversine_np(row['lon'],row['lat'],latlon_metrobus['long'],latlon_metrobus['lat'])\n",
    "    if any(distancia < 1):\n",
    "        latlon_.loc[index, 'metrobus'] = \"Cerca\"\n",
    "    else:\n",
    "        latlon_.loc[index, 'metrobus'] = \"Lejos\"\n",
    "caba = pd.concat([caba,latlon_['metrobus']],axis=1)    "
   ]
  },
  {
   "cell_type": "code",
   "execution_count": 257,
   "metadata": {},
   "outputs": [],
   "source": [
    "mask_metrobus = caba['metrobus'] == \"Cerca\"\n",
    "dummies_metrobus = pd.get_dummies(mask_metrobus, prefix='metrobus', drop_first=True)\n",
    "caba = caba.join(dummies_metrobus)\n",
    "caba.drop(columns='metrobus', inplace=True)"
   ]
  },
  {
   "cell_type": "markdown",
   "metadata": {},
   "source": [
    "#### Tren"
   ]
  },
  {
   "cell_type": "code",
   "execution_count": 258,
   "metadata": {},
   "outputs": [],
   "source": [
    "tren_path = \"http://cdn.buenosaires.gob.ar/datosabiertos/datasets/estaciones-de-ferrocarril/estaciones-de-ferrocarril.csv\"\n",
    "tren = pd.read_csv(tren_path) "
   ]
  },
  {
   "cell_type": "code",
   "execution_count": 259,
   "metadata": {},
   "outputs": [],
   "source": [
    "latlon = caba[['lat','lon']]  \n",
    "latlon_tren = tren[['long','lat']]  \n",
    "latlon_ = latlon.copy()\n",
    "for index, row in latlon_.iterrows():\n",
    "    distancia = haversine_np(row['lon'],row['lat'],latlon_tren['long'],latlon_tren['lat'])\n",
    "    if any(distancia < 1):\n",
    "        latlon_.loc[index, 'tren'] = \"Cerca\"\n",
    "    else:\n",
    "        latlon_.loc[index, 'tren'] = \"Lejos\"\n",
    "caba = pd.concat([caba,latlon_['tren']],axis=1)     "
   ]
  },
  {
   "cell_type": "code",
   "execution_count": 260,
   "metadata": {},
   "outputs": [],
   "source": [
    "mask_tren = caba['tren'] == \"Cerca\"\n",
    "dummies_tren = pd.get_dummies(mask_tren, prefix='tren', drop_first=True)\n",
    "caba = caba.join(dummies_tren)\n",
    "caba.drop(columns='tren', inplace=True)"
   ]
  },
  {
   "cell_type": "markdown",
   "metadata": {},
   "source": [
    "#### Ecobici"
   ]
  },
  {
   "cell_type": "code",
   "execution_count": 261,
   "metadata": {},
   "outputs": [],
   "source": [
    "bici_path = 'http://cdn.buenosaires.gob.ar/datosabiertos/datasets/transporte/estaciones-bicicletas-publicas/nuevas-estaciones-bicicletas-publicas.csv'\n",
    "bici = pd.read_csv(bici_path) "
   ]
  },
  {
   "cell_type": "code",
   "execution_count": 262,
   "metadata": {},
   "outputs": [],
   "source": [
    "bici['WKT'] = bici['WKT'].apply(wkt.loads)\n",
    "gdf = gp.GeoDataFrame(bici, geometry='WKT')"
   ]
  },
  {
   "cell_type": "code",
   "execution_count": 263,
   "metadata": {},
   "outputs": [],
   "source": [
    "bici['long'] = gdf.geometry.x\n",
    "bici['lat'] = gdf.geometry.y"
   ]
  },
  {
   "cell_type": "code",
   "execution_count": 264,
   "metadata": {},
   "outputs": [],
   "source": [
    "latlon = caba[['lat','lon']] \n",
    "latlon_bici = bici[['long','lat']]  \n",
    "latlon_ = latlon.copy()\n",
    "for index, row in latlon_.iterrows():\n",
    "    distancia = haversine_np(row['lon'],row['lat'],latlon_bici['long'],latlon_bici['lat'])\n",
    "    if any(distancia < 1):\n",
    "        latlon_.loc[index, 'ecobici'] = \"Cerca\"\n",
    "    else:\n",
    "        latlon_.loc[index, 'ecobici'] = \"Lejos\"\n",
    "caba = pd.concat([caba,latlon_['ecobici']],axis=1)    "
   ]
  },
  {
   "cell_type": "code",
   "execution_count": 265,
   "metadata": {},
   "outputs": [],
   "source": [
    "mask_bici = caba['ecobici'] == \"Cerca\"\n",
    "dummies_bici = pd.get_dummies(mask_bici, prefix='ecobici', drop_first=True)\n",
    "caba = caba.join(dummies_bici)\n",
    "caba.drop(columns='ecobici', inplace=True)"
   ]
  },
  {
   "cell_type": "markdown",
   "metadata": {},
   "source": [
    "#### Espacios culturales"
   ]
  },
  {
   "cell_type": "code",
   "execution_count": 266,
   "metadata": {},
   "outputs": [],
   "source": [
    "ec_path = 'http://cdn.buenosaires.gob.ar/datosabiertos/datasets/espacios-culturales/espacios-culturales.csv'\n",
    "ec = pd.read_csv(ec_path) "
   ]
  },
  {
   "cell_type": "code",
   "execution_count": 267,
   "metadata": {},
   "outputs": [],
   "source": [
    "latlon = caba[['lat','lon']]  \n",
    "latlon_ec = ec[['longitud','latitud']] \n",
    "latlon_ = latlon.copy()\n",
    "for index, row in latlon_.iterrows():\n",
    "    distancia = haversine_np(row['lon'],row['lat'],latlon_ec['longitud'],latlon_ec['latitud'])\n",
    "    if any(distancia < 2):\n",
    "        latlon_.loc[index, 'espacios_culturales'] = \"Cerca\"\n",
    "    else:\n",
    "        latlon_.loc[index, 'espacios_culturales'] = \"Lejos\"\n",
    "caba = pd.concat([caba,latlon_['espacios_culturales']],axis=1)     "
   ]
  },
  {
   "cell_type": "code",
   "execution_count": 268,
   "metadata": {},
   "outputs": [],
   "source": [
    "mask_ec = caba['espacios_culturales'] == \"Cerca\"\n",
    "dummies_ec = pd.get_dummies(mask_ec, prefix='espacios_culturales', drop_first=True)\n",
    "caba = caba.join(dummies_ec)\n",
    "caba.drop(columns='espacios_culturales', inplace=True)"
   ]
  },
  {
   "cell_type": "markdown",
   "metadata": {},
   "source": [
    "#### Establecimientos gastronomicos"
   ]
  },
  {
   "cell_type": "code",
   "execution_count": 269,
   "metadata": {},
   "outputs": [],
   "source": [
    "eg_path = 'http://cdn.buenosaires.gob.ar/datosabiertos/datasets/oferta-gastronomica/establecimientos_gastronomicos.csv'\n",
    "eg = pd.read_csv(eg_path) "
   ]
  },
  {
   "cell_type": "code",
   "execution_count": 270,
   "metadata": {},
   "outputs": [],
   "source": [
    "latlon =caba[['lat','lon']]  \n",
    "latlon_eg = eg[['long','lat']]  \n",
    "latlon_ = latlon.copy()\n",
    "for index, row in latlon_.iterrows():\n",
    "    distancia = haversine_np(row['lon'],row['lat'],latlon_eg['long'],latlon_eg['lat'])\n",
    "    if any(distancia < 2):\n",
    "        latlon_.loc[index, 'gastronomico'] = \"Cerca\"\n",
    "    else:\n",
    "        latlon_.loc[index, 'gastronomico'] = \"Lejos\"\n",
    "caba = pd.concat([caba,latlon_['gastronomico']],axis=1)     "
   ]
  },
  {
   "cell_type": "code",
   "execution_count": 271,
   "metadata": {},
   "outputs": [],
   "source": [
    "mask_eg = caba['gastronomico'] == \"Cerca\"\n",
    "dummies_eg = pd.get_dummies(mask_eg, prefix='gastronomico', drop_first=True)\n",
    "caba = caba.join(dummies_eg)\n",
    "caba.drop(columns='gastronomico', inplace=True)"
   ]
  },
  {
   "cell_type": "markdown",
   "metadata": {},
   "source": [
    "#### Universidades"
   ]
  },
  {
   "cell_type": "code",
   "execution_count": 272,
   "metadata": {},
   "outputs": [],
   "source": [
    "uni_path = 'http://cdn.buenosaires.gob.ar/datosabiertos/datasets/universidades/universidades.csv'\n",
    "uni = pd.read_csv(uni_path) \n"
   ]
  },
  {
   "cell_type": "code",
   "execution_count": 273,
   "metadata": {},
   "outputs": [],
   "source": [
    "latlon = caba[['lat','lon']]  \n",
    "latlon_uni = uni[['long','lat']] \n",
    "latlon_ = latlon.copy()\n",
    "for index, row in latlon_.iterrows():\n",
    "    distancia = haversine_np(row['lon'],row['lat'],latlon_uni['long'],latlon_uni['lat'])\n",
    "    if any(distancia < 2):\n",
    "        latlon_.loc[index, 'universidad'] = \"Cerca\"\n",
    "    else:\n",
    "        latlon_.loc[index, 'universidad'] = \"Lejos\"\n",
    "caba = pd.concat([caba,latlon_['universidad']],axis=1)     # cambiar aca dataset final a usar"
   ]
  },
  {
   "cell_type": "code",
   "execution_count": 274,
   "metadata": {},
   "outputs": [],
   "source": [
    "mask_uni = caba['universidad'] == \"Cerca\"\n",
    "dummies_uni = pd.get_dummies(mask_uni, prefix='universidad', drop_first=True)\n",
    "caba = caba.join(dummies_uni)\n",
    "caba.drop(columns='universidad', inplace=True)"
   ]
  },
  {
   "cell_type": "markdown",
   "metadata": {},
   "source": [
    "#### Polideportivos"
   ]
  },
  {
   "cell_type": "code",
   "execution_count": 275,
   "metadata": {},
   "outputs": [],
   "source": [
    "poli_path = 'http://cdn.buenosaires.gob.ar/datosabiertos/datasets/polideportivos/polideportivos.csv'\n",
    "poli = pd.read_csv(poli_path) "
   ]
  },
  {
   "cell_type": "code",
   "execution_count": 276,
   "metadata": {},
   "outputs": [],
   "source": [
    "latlon = caba[['lat','lon']] \n",
    "latlon_poli = poli[['long','lat']]  \n",
    "latlon_ = latlon.copy()\n",
    "for index, row in latlon_.iterrows():\n",
    "    distancia = haversine_np(row['lon'],row['lat'],latlon_poli['long'],latlon_poli['lat'])\n",
    "    if any(distancia < 2):\n",
    "        latlon_.loc[index, 'polideportivo'] = \"Cerca\"\n",
    "    else:\n",
    "        latlon_.loc[index, 'polideportivo'] = \"Lejos\"\n",
    "caba = pd.concat([caba,latlon_['polideportivo']],axis=1)     # cambiar aca dataset final a usar"
   ]
  },
  {
   "cell_type": "code",
   "execution_count": 277,
   "metadata": {},
   "outputs": [],
   "source": [
    "mask_poli = caba['polideportivo'] == \"Cerca\"\n",
    "dummies_poli = pd.get_dummies(mask_poli, prefix='polideportivo', drop_first=True)\n",
    "caba = caba.join(dummies_poli)\n",
    "caba.drop(columns='polideportivo', inplace=True)"
   ]
  },
  {
   "cell_type": "markdown",
   "metadata": {},
   "source": [
    "#### Hospitales"
   ]
  },
  {
   "cell_type": "code",
   "execution_count": 278,
   "metadata": {},
   "outputs": [],
   "source": [
    "hospitales_path = 'http://cdn.buenosaires.gob.ar/datosabiertos/datasets/salud/hospitales/hospitales.csv'\n",
    "hospitales = pd.read_csv(hospitales_path) "
   ]
  },
  {
   "cell_type": "code",
   "execution_count": 279,
   "metadata": {},
   "outputs": [],
   "source": [
    "hospitales['WKT'] = hospitales['WKT'].apply(wkt.loads)\n",
    "gdf = gp.GeoDataFrame(hospitales, geometry='WKT')"
   ]
  },
  {
   "cell_type": "code",
   "execution_count": 280,
   "metadata": {},
   "outputs": [],
   "source": [
    "hospitales['long'] = gdf.geometry.x\n",
    "hospitales['lat'] = gdf.geometry.y"
   ]
  },
  {
   "cell_type": "code",
   "execution_count": 281,
   "metadata": {},
   "outputs": [],
   "source": [
    "latlon = caba[['lat','lon']] \n",
    "latlon_hospital = hospitales[['long','lat']]  \n",
    "latlon_ = latlon.copy()\n",
    "for index, row in latlon_.iterrows():\n",
    "    distancia = haversine_np(row['lon'],row['lat'],latlon_hospital['long'],latlon_hospital['lat'])\n",
    "    if any(distancia < 2):\n",
    "        latlon_.loc[index, 'hospital'] = \"Cerca\"\n",
    "    else:\n",
    "        latlon_.loc[index, 'hospital'] = \"Lejos\"\n",
    "caba = pd.concat([caba,latlon_['hospital']],axis=1)     "
   ]
  },
  {
   "cell_type": "code",
   "execution_count": 282,
   "metadata": {},
   "outputs": [],
   "source": [
    "mask_hospital = caba['hospital'] == \"Cerca\"\n",
    "dummies_hospital = pd.get_dummies(mask_hospital, prefix='hospital', drop_first=True)\n",
    "caba = caba.join(dummies_hospital)\n",
    "caba.drop(columns='hospital', inplace=True)"
   ]
  },
  {
   "cell_type": "markdown",
   "metadata": {},
   "source": [
    "#### Comisarias"
   ]
  },
  {
   "cell_type": "code",
   "execution_count": 283,
   "metadata": {},
   "outputs": [],
   "source": [
    "comisarias_path = 'http://cdn.buenosaires.gob.ar/datosabiertos/datasets/comisarias-policia-de-la-ciudad/comisarias-policia-de-la-ciudad.csv'\n",
    "comisarias = pd.read_csv(comisarias_path) "
   ]
  },
  {
   "cell_type": "code",
   "execution_count": 284,
   "metadata": {},
   "outputs": [],
   "source": [
    "latlon = caba[['lat','lon']]  \n",
    "latlon_comisaria = comisarias[['long','lat']]  \n",
    "latlon_ = latlon.copy()\n",
    "for index, row in latlon_.iterrows():\n",
    "    distancia = haversine_np(row['lon'],row['lat'],latlon_comisaria['long'],latlon_comisaria['lat'])\n",
    "    if any(distancia < 2):\n",
    "        latlon_.loc[index, 'comisaria'] = \"Cerca\"\n",
    "    else:\n",
    "        latlon_.loc[index, 'comisaria'] = \"Lejos\"\n",
    "caba = pd.concat([caba,latlon_['comisaria']],axis=1)     "
   ]
  },
  {
   "cell_type": "code",
   "execution_count": 285,
   "metadata": {},
   "outputs": [],
   "source": [
    "mask_comisaria = caba['comisaria'] == \"Cerca\"\n",
    "dummies_comisaria = pd.get_dummies(mask_comisaria, prefix='comisaria', drop_first=True)\n",
    "caba = caba.join(dummies_comisaria)\n",
    "caba.drop(columns='comisaria', inplace=True)"
   ]
  },
  {
   "cell_type": "markdown",
   "metadata": {},
   "source": [
    "#### Espacios verdes"
   ]
  },
  {
   "cell_type": "code",
   "execution_count": 286,
   "metadata": {},
   "outputs": [],
   "source": [
    "verdes_path = 'http://cdn.buenosaires.gob.ar/datosabiertos/datasets/secretaria-de-desarrollo-urbano/espacios-verdes/espacio-verde-publico.csv'\n",
    "verdes = pd.read_csv(verdes_path) "
   ]
  },
  {
   "cell_type": "code",
   "execution_count": 287,
   "metadata": {},
   "outputs": [],
   "source": [
    "verdes['WKT'] = verdes['WKT'].apply(wkt.loads)\n",
    "gdf = gp.GeoDataFrame(verdes, geometry='WKT')"
   ]
  },
  {
   "cell_type": "code",
   "execution_count": 288,
   "metadata": {},
   "outputs": [],
   "source": [
    "verdes['long'] = gdf.centroid.geometry.x\n",
    "verdes['lat'] = gdf.centroid.geometry.y"
   ]
  },
  {
   "cell_type": "code",
   "execution_count": 289,
   "metadata": {},
   "outputs": [],
   "source": [
    "latlon = caba[['lat','lon']]  \n",
    "latlon_verdes = verdes[['long','lat']]  \n",
    "latlon_ = latlon.copy()\n",
    "for index, row in latlon_.iterrows():\n",
    "    distancia = haversine_np(row['lon'],row['lat'],latlon_verdes['long'],latlon_verdes['lat'])\n",
    "    if any(distancia < 2):\n",
    "        latlon_.loc[index, 'espacios_verdes'] = \"Cerca\"\n",
    "    else:\n",
    "        latlon_.loc[index, 'espacios_verdes'] = \"Lejos\"\n",
    "caba = pd.concat([caba,latlon_['espacios_verdes']],axis=1)     "
   ]
  },
  {
   "cell_type": "code",
   "execution_count": 290,
   "metadata": {},
   "outputs": [],
   "source": [
    "mask_verde = caba['espacios_verdes'] == \"Cerca\"\n",
    "dummies_verde = pd.get_dummies(mask_verde, prefix='espacios_verdes', drop_first=True)\n",
    "caba = caba.join(dummies_verde)\n",
    "caba.drop(columns='espacios_verdes', inplace=True)"
   ]
  },
  {
   "cell_type": "code",
   "execution_count": 291,
   "metadata": {},
   "outputs": [
    {
     "data": {
      "text/html": [
       "<div>\n",
       "<style scoped>\n",
       "    .dataframe tbody tr th:only-of-type {\n",
       "        vertical-align: middle;\n",
       "    }\n",
       "\n",
       "    .dataframe tbody tr th {\n",
       "        vertical-align: top;\n",
       "    }\n",
       "\n",
       "    .dataframe thead th {\n",
       "        text-align: right;\n",
       "    }\n",
       "</style>\n",
       "<table border=\"1\" class=\"dataframe\">\n",
       "  <thead>\n",
       "    <tr style=\"text-align: right;\">\n",
       "      <th></th>\n",
       "      <th>place_name</th>\n",
       "      <th>lat</th>\n",
       "      <th>lon</th>\n",
       "      <th>surface_total_in_m2</th>\n",
       "      <th>surface_covered_in_m2</th>\n",
       "      <th>price_per_m2</th>\n",
       "      <th>rooms</th>\n",
       "      <th>Pileta</th>\n",
       "      <th>Cochera</th>\n",
       "      <th>Parrilla</th>\n",
       "      <th>...</th>\n",
       "      <th>metrobus_True</th>\n",
       "      <th>tren_True</th>\n",
       "      <th>ecobici_True</th>\n",
       "      <th>espacios_culturales_True</th>\n",
       "      <th>gastronomico_True</th>\n",
       "      <th>universidad_True</th>\n",
       "      <th>polideportivo_True</th>\n",
       "      <th>hospital_True</th>\n",
       "      <th>comisaria_True</th>\n",
       "      <th>espacios_verdes_True</th>\n",
       "    </tr>\n",
       "  </thead>\n",
       "  <tbody>\n",
       "    <tr>\n",
       "      <th>13</th>\n",
       "      <td>Palermo Soho</td>\n",
       "      <td>-34.590537</td>\n",
       "      <td>-58.423536</td>\n",
       "      <td>50.0</td>\n",
       "      <td>30.0</td>\n",
       "      <td>3723.333333</td>\n",
       "      <td>1</td>\n",
       "      <td>None</td>\n",
       "      <td>None</td>\n",
       "      <td>None</td>\n",
       "      <td>...</td>\n",
       "      <td>0</td>\n",
       "      <td>0</td>\n",
       "      <td>1</td>\n",
       "      <td>1</td>\n",
       "      <td>1</td>\n",
       "      <td>1</td>\n",
       "      <td>0</td>\n",
       "      <td>1</td>\n",
       "      <td>1</td>\n",
       "      <td>1</td>\n",
       "    </tr>\n",
       "    <tr>\n",
       "      <th>14</th>\n",
       "      <td>Palermo Soho</td>\n",
       "      <td>-34.590537</td>\n",
       "      <td>-58.423536</td>\n",
       "      <td>42.0</td>\n",
       "      <td>31.0</td>\n",
       "      <td>4770.967742</td>\n",
       "      <td>1</td>\n",
       "      <td>None</td>\n",
       "      <td>None</td>\n",
       "      <td>None</td>\n",
       "      <td>...</td>\n",
       "      <td>0</td>\n",
       "      <td>0</td>\n",
       "      <td>1</td>\n",
       "      <td>1</td>\n",
       "      <td>1</td>\n",
       "      <td>1</td>\n",
       "      <td>0</td>\n",
       "      <td>1</td>\n",
       "      <td>1</td>\n",
       "      <td>1</td>\n",
       "    </tr>\n",
       "  </tbody>\n",
       "</table>\n",
       "<p>2 rows × 23 columns</p>\n",
       "</div>"
      ],
      "text/plain": [
       "      place_name        lat        lon  surface_total_in_m2  \\\n",
       "13  Palermo Soho -34.590537 -58.423536                 50.0   \n",
       "14  Palermo Soho -34.590537 -58.423536                 42.0   \n",
       "\n",
       "    surface_covered_in_m2  price_per_m2  rooms Pileta Cochera Parrilla  ...  \\\n",
       "13                   30.0   3723.333333      1   None    None     None  ...   \n",
       "14                   31.0   4770.967742      1   None    None     None  ...   \n",
       "\n",
       "   metrobus_True  tren_True  ecobici_True  espacios_culturales_True  \\\n",
       "13             0          0             1                         1   \n",
       "14             0          0             1                         1   \n",
       "\n",
       "    gastronomico_True  universidad_True  polideportivo_True  hospital_True  \\\n",
       "13                  1                 1                   0              1   \n",
       "14                  1                 1                   0              1   \n",
       "\n",
       "    comisaria_True  espacios_verdes_True  \n",
       "13               1                     1  \n",
       "14               1                     1  \n",
       "\n",
       "[2 rows x 23 columns]"
      ]
     },
     "execution_count": 291,
     "metadata": {},
     "output_type": "execute_result"
    }
   ],
   "source": [
    "caba.head(2)"
   ]
  },
  {
   "cell_type": "markdown",
   "metadata": {},
   "source": [
    "### 11) Dummies de variables categoricas"
   ]
  },
  {
   "cell_type": "markdown",
   "metadata": {},
   "source": [
    "#### Barrios"
   ]
  },
  {
   "cell_type": "code",
   "execution_count": 292,
   "metadata": {},
   "outputs": [],
   "source": [
    "dummies_barrio = pd.get_dummies(caba.place_name, drop_first=True)\n",
    "caba = caba.join(dummies_barrio)\n",
    "caba.drop(columns='place_name', inplace=True)"
   ]
  },
  {
   "cell_type": "markdown",
   "metadata": {},
   "source": [
    "#### Pileta"
   ]
  },
  {
   "cell_type": "code",
   "execution_count": 293,
   "metadata": {},
   "outputs": [],
   "source": [
    "mask_pileta = caba['Pileta'] == 'Pileta'\n",
    "dummies_pileta = pd.get_dummies(mask_pileta, prefix='pileta', drop_first=True)\n",
    "caba = caba.join(dummies_pileta)\n",
    "caba.drop(columns='Pileta', inplace=True)"
   ]
  },
  {
   "cell_type": "markdown",
   "metadata": {},
   "source": [
    "#### Cochera"
   ]
  },
  {
   "cell_type": "code",
   "execution_count": 294,
   "metadata": {},
   "outputs": [],
   "source": [
    "mask_cochera = caba['Cochera'] == 'Cochera'\n",
    "dummies_cochera = pd.get_dummies(mask_cochera,prefix='cochera', drop_first=True)\n",
    "caba = caba.join(dummies_cochera)\n",
    "caba.drop(columns='Cochera', inplace=True)"
   ]
  },
  {
   "cell_type": "markdown",
   "metadata": {},
   "source": [
    "#### Parrilla"
   ]
  },
  {
   "cell_type": "code",
   "execution_count": 295,
   "metadata": {},
   "outputs": [],
   "source": [
    "mask_parrilla = caba['Parrilla'] == 'Parrilla'\n",
    "dummies_parrilla = pd.get_dummies(mask_parrilla,prefix='parrilla', drop_first=True)\n",
    "caba = caba.join(dummies_parrilla)\n",
    "caba.drop(columns='Parrilla', inplace=True)"
   ]
  },
  {
   "cell_type": "markdown",
   "metadata": {},
   "source": [
    "#### SUM"
   ]
  },
  {
   "cell_type": "code",
   "execution_count": 296,
   "metadata": {},
   "outputs": [],
   "source": [
    "mask_sum = caba['sum'] == 'SUM'\n",
    "dummies_sum = pd.get_dummies(mask_sum,prefix='sum', drop_first=True)\n",
    "caba = caba.join(dummies_sum)\n",
    "caba.drop(columns='sum', inplace=True)"
   ]
  },
  {
   "cell_type": "markdown",
   "metadata": {},
   "source": [
    "### Exterior"
   ]
  },
  {
   "cell_type": "code",
   "execution_count": 297,
   "metadata": {},
   "outputs": [],
   "source": [
    "mask_uncovered = (caba['surface_total_in_m2'] - caba['surface_covered_in_m2']) > 0\n",
    "dummies_exterior = pd.get_dummies(mask_uncovered, prefix='Exterior', drop_first=True)\n",
    "caba = caba.join(dummies_exterior)"
   ]
  },
  {
   "cell_type": "markdown",
   "metadata": {},
   "source": [
    "### 12) Correlacion"
   ]
  },
  {
   "cell_type": "code",
   "execution_count": 298,
   "metadata": {},
   "outputs": [
    {
     "data": {
      "text/html": [
       "<div>\n",
       "<style scoped>\n",
       "    .dataframe tbody tr th:only-of-type {\n",
       "        vertical-align: middle;\n",
       "    }\n",
       "\n",
       "    .dataframe tbody tr th {\n",
       "        vertical-align: top;\n",
       "    }\n",
       "\n",
       "    .dataframe thead th {\n",
       "        text-align: right;\n",
       "    }\n",
       "</style>\n",
       "<table border=\"1\" class=\"dataframe\">\n",
       "  <thead>\n",
       "    <tr style=\"text-align: right;\">\n",
       "      <th></th>\n",
       "      <th>lat</th>\n",
       "      <th>lon</th>\n",
       "      <th>surface_total_in_m2</th>\n",
       "      <th>surface_covered_in_m2</th>\n",
       "      <th>price_per_m2</th>\n",
       "      <th>rooms</th>\n",
       "      <th>subte_True</th>\n",
       "      <th>bus_True</th>\n",
       "      <th>metrobus_True</th>\n",
       "      <th>tren_True</th>\n",
       "      <th>...</th>\n",
       "      <th>Villa Ortuzar</th>\n",
       "      <th>Villa Pueyrredón</th>\n",
       "      <th>Villa Real</th>\n",
       "      <th>Villa Santa Rita</th>\n",
       "      <th>Villa Soldati</th>\n",
       "      <th>Villa Urquiza</th>\n",
       "      <th>Villa del Parque</th>\n",
       "      <th>parrilla_True</th>\n",
       "      <th>sum_True</th>\n",
       "      <th>Exterior_True</th>\n",
       "    </tr>\n",
       "  </thead>\n",
       "  <tbody>\n",
       "    <tr>\n",
       "      <th>lat</th>\n",
       "      <td>1.000000</td>\n",
       "      <td>0.458618</td>\n",
       "      <td>0.067655</td>\n",
       "      <td>0.063321</td>\n",
       "      <td>0.209400</td>\n",
       "      <td>0.041145</td>\n",
       "      <td>0.076448</td>\n",
       "      <td>0.754835</td>\n",
       "      <td>0.077951</td>\n",
       "      <td>0.215477</td>\n",
       "      <td>...</td>\n",
       "      <td>0.026617</td>\n",
       "      <td>0.021924</td>\n",
       "      <td>-0.008483</td>\n",
       "      <td>-0.012629</td>\n",
       "      <td>-0.023256</td>\n",
       "      <td>0.150580</td>\n",
       "      <td>-0.028056</td>\n",
       "      <td>0.012131</td>\n",
       "      <td>0.015164</td>\n",
       "      <td>0.059067</td>\n",
       "    </tr>\n",
       "    <tr>\n",
       "      <th>lon</th>\n",
       "      <td>0.458618</td>\n",
       "      <td>1.000000</td>\n",
       "      <td>0.098836</td>\n",
       "      <td>0.120713</td>\n",
       "      <td>0.116022</td>\n",
       "      <td>0.053072</td>\n",
       "      <td>0.272446</td>\n",
       "      <td>0.726738</td>\n",
       "      <td>0.062955</td>\n",
       "      <td>-0.270156</td>\n",
       "      <td>...</td>\n",
       "      <td>-0.040007</td>\n",
       "      <td>-0.082309</td>\n",
       "      <td>-0.026021</td>\n",
       "      <td>-0.020353</td>\n",
       "      <td>-0.004267</td>\n",
       "      <td>-0.205989</td>\n",
       "      <td>-0.127132</td>\n",
       "      <td>-0.055116</td>\n",
       "      <td>-0.013376</td>\n",
       "      <td>-0.107168</td>\n",
       "    </tr>\n",
       "    <tr>\n",
       "      <th>surface_total_in_m2</th>\n",
       "      <td>0.067655</td>\n",
       "      <td>0.098836</td>\n",
       "      <td>1.000000</td>\n",
       "      <td>0.949659</td>\n",
       "      <td>0.252635</td>\n",
       "      <td>0.699764</td>\n",
       "      <td>0.023964</td>\n",
       "      <td>0.001051</td>\n",
       "      <td>0.027767</td>\n",
       "      <td>-0.011109</td>\n",
       "      <td>...</td>\n",
       "      <td>-0.025982</td>\n",
       "      <td>-0.021959</td>\n",
       "      <td>0.007793</td>\n",
       "      <td>-0.009411</td>\n",
       "      <td>-0.000533</td>\n",
       "      <td>-0.069659</td>\n",
       "      <td>-0.026563</td>\n",
       "      <td>-0.022274</td>\n",
       "      <td>-0.088289</td>\n",
       "      <td>0.083561</td>\n",
       "    </tr>\n",
       "    <tr>\n",
       "      <th>surface_covered_in_m2</th>\n",
       "      <td>0.063321</td>\n",
       "      <td>0.120713</td>\n",
       "      <td>0.949659</td>\n",
       "      <td>1.000000</td>\n",
       "      <td>0.217231</td>\n",
       "      <td>0.720952</td>\n",
       "      <td>0.038327</td>\n",
       "      <td>-0.000320</td>\n",
       "      <td>0.034137</td>\n",
       "      <td>-0.022342</td>\n",
       "      <td>...</td>\n",
       "      <td>-0.026486</td>\n",
       "      <td>-0.024224</td>\n",
       "      <td>0.005002</td>\n",
       "      <td>-0.008994</td>\n",
       "      <td>0.002047</td>\n",
       "      <td>-0.079850</td>\n",
       "      <td>-0.026464</td>\n",
       "      <td>-0.070668</td>\n",
       "      <td>-0.098497</td>\n",
       "      <td>-0.017874</td>\n",
       "    </tr>\n",
       "    <tr>\n",
       "      <th>price_per_m2</th>\n",
       "      <td>0.209400</td>\n",
       "      <td>0.116022</td>\n",
       "      <td>0.252635</td>\n",
       "      <td>0.217231</td>\n",
       "      <td>1.000000</td>\n",
       "      <td>0.091666</td>\n",
       "      <td>0.076165</td>\n",
       "      <td>0.015646</td>\n",
       "      <td>0.076720</td>\n",
       "      <td>0.019662</td>\n",
       "      <td>...</td>\n",
       "      <td>-0.018247</td>\n",
       "      <td>-0.020689</td>\n",
       "      <td>-0.011094</td>\n",
       "      <td>-0.017888</td>\n",
       "      <td>-0.022106</td>\n",
       "      <td>-0.030151</td>\n",
       "      <td>-0.042806</td>\n",
       "      <td>0.119346</td>\n",
       "      <td>0.148782</td>\n",
       "      <td>0.123738</td>\n",
       "    </tr>\n",
       "    <tr>\n",
       "      <th>...</th>\n",
       "      <td>...</td>\n",
       "      <td>...</td>\n",
       "      <td>...</td>\n",
       "      <td>...</td>\n",
       "      <td>...</td>\n",
       "      <td>...</td>\n",
       "      <td>...</td>\n",
       "      <td>...</td>\n",
       "      <td>...</td>\n",
       "      <td>...</td>\n",
       "      <td>...</td>\n",
       "      <td>...</td>\n",
       "      <td>...</td>\n",
       "      <td>...</td>\n",
       "      <td>...</td>\n",
       "      <td>...</td>\n",
       "      <td>...</td>\n",
       "      <td>...</td>\n",
       "      <td>...</td>\n",
       "      <td>...</td>\n",
       "      <td>...</td>\n",
       "    </tr>\n",
       "    <tr>\n",
       "      <th>Villa Urquiza</th>\n",
       "      <td>0.150580</td>\n",
       "      <td>-0.205989</td>\n",
       "      <td>-0.069659</td>\n",
       "      <td>-0.079850</td>\n",
       "      <td>-0.030151</td>\n",
       "      <td>-0.036123</td>\n",
       "      <td>0.053481</td>\n",
       "      <td>0.001730</td>\n",
       "      <td>-0.259624</td>\n",
       "      <td>0.186233</td>\n",
       "      <td>...</td>\n",
       "      <td>-0.013754</td>\n",
       "      <td>-0.014291</td>\n",
       "      <td>-0.003460</td>\n",
       "      <td>-0.006474</td>\n",
       "      <td>-0.002996</td>\n",
       "      <td>1.000000</td>\n",
       "      <td>-0.028646</td>\n",
       "      <td>0.100475</td>\n",
       "      <td>0.071479</td>\n",
       "      <td>0.051239</td>\n",
       "    </tr>\n",
       "    <tr>\n",
       "      <th>Villa del Parque</th>\n",
       "      <td>-0.028056</td>\n",
       "      <td>-0.127132</td>\n",
       "      <td>-0.026563</td>\n",
       "      <td>-0.026464</td>\n",
       "      <td>-0.042806</td>\n",
       "      <td>-0.006066</td>\n",
       "      <td>-0.252482</td>\n",
       "      <td>0.000963</td>\n",
       "      <td>-0.035433</td>\n",
       "      <td>0.072348</td>\n",
       "      <td>...</td>\n",
       "      <td>-0.007656</td>\n",
       "      <td>-0.007955</td>\n",
       "      <td>-0.001926</td>\n",
       "      <td>-0.003604</td>\n",
       "      <td>-0.001668</td>\n",
       "      <td>-0.028646</td>\n",
       "      <td>1.000000</td>\n",
       "      <td>-0.017197</td>\n",
       "      <td>-0.006864</td>\n",
       "      <td>0.031528</td>\n",
       "    </tr>\n",
       "    <tr>\n",
       "      <th>parrilla_True</th>\n",
       "      <td>0.012131</td>\n",
       "      <td>-0.055116</td>\n",
       "      <td>-0.022274</td>\n",
       "      <td>-0.070668</td>\n",
       "      <td>0.119346</td>\n",
       "      <td>-0.100663</td>\n",
       "      <td>0.013585</td>\n",
       "      <td>0.004469</td>\n",
       "      <td>-0.048736</td>\n",
       "      <td>0.048711</td>\n",
       "      <td>...</td>\n",
       "      <td>0.015199</td>\n",
       "      <td>-0.015689</td>\n",
       "      <td>-0.000200</td>\n",
       "      <td>-0.002710</td>\n",
       "      <td>-0.007741</td>\n",
       "      <td>0.100475</td>\n",
       "      <td>-0.017197</td>\n",
       "      <td>1.000000</td>\n",
       "      <td>0.459926</td>\n",
       "      <td>0.099776</td>\n",
       "    </tr>\n",
       "    <tr>\n",
       "      <th>sum_True</th>\n",
       "      <td>0.015164</td>\n",
       "      <td>-0.013376</td>\n",
       "      <td>-0.088289</td>\n",
       "      <td>-0.098497</td>\n",
       "      <td>0.148782</td>\n",
       "      <td>-0.127603</td>\n",
       "      <td>0.039539</td>\n",
       "      <td>0.003806</td>\n",
       "      <td>-0.048415</td>\n",
       "      <td>0.040389</td>\n",
       "      <td>...</td>\n",
       "      <td>0.020304</td>\n",
       "      <td>-0.015221</td>\n",
       "      <td>-0.007613</td>\n",
       "      <td>-0.004045</td>\n",
       "      <td>-0.006593</td>\n",
       "      <td>0.071479</td>\n",
       "      <td>-0.006864</td>\n",
       "      <td>0.459926</td>\n",
       "      <td>1.000000</td>\n",
       "      <td>0.053995</td>\n",
       "    </tr>\n",
       "    <tr>\n",
       "      <th>Exterior_True</th>\n",
       "      <td>0.059067</td>\n",
       "      <td>-0.107168</td>\n",
       "      <td>0.083561</td>\n",
       "      <td>-0.017874</td>\n",
       "      <td>0.123738</td>\n",
       "      <td>0.046308</td>\n",
       "      <td>-0.052414</td>\n",
       "      <td>0.013409</td>\n",
       "      <td>-0.011533</td>\n",
       "      <td>0.099197</td>\n",
       "      <td>...</td>\n",
       "      <td>0.012076</td>\n",
       "      <td>0.027195</td>\n",
       "      <td>-0.000202</td>\n",
       "      <td>0.001995</td>\n",
       "      <td>-0.023227</td>\n",
       "      <td>0.051239</td>\n",
       "      <td>0.031528</td>\n",
       "      <td>0.099776</td>\n",
       "      <td>0.053995</td>\n",
       "      <td>1.000000</td>\n",
       "    </tr>\n",
       "  </tbody>\n",
       "</table>\n",
       "<p>81 rows × 81 columns</p>\n",
       "</div>"
      ],
      "text/plain": [
       "                            lat       lon  surface_total_in_m2  \\\n",
       "lat                    1.000000  0.458618             0.067655   \n",
       "lon                    0.458618  1.000000             0.098836   \n",
       "surface_total_in_m2    0.067655  0.098836             1.000000   \n",
       "surface_covered_in_m2  0.063321  0.120713             0.949659   \n",
       "price_per_m2           0.209400  0.116022             0.252635   \n",
       "...                         ...       ...                  ...   \n",
       "Villa Urquiza          0.150580 -0.205989            -0.069659   \n",
       "Villa del Parque      -0.028056 -0.127132            -0.026563   \n",
       "parrilla_True          0.012131 -0.055116            -0.022274   \n",
       "sum_True               0.015164 -0.013376            -0.088289   \n",
       "Exterior_True          0.059067 -0.107168             0.083561   \n",
       "\n",
       "                       surface_covered_in_m2  price_per_m2     rooms  \\\n",
       "lat                                 0.063321      0.209400  0.041145   \n",
       "lon                                 0.120713      0.116022  0.053072   \n",
       "surface_total_in_m2                 0.949659      0.252635  0.699764   \n",
       "surface_covered_in_m2               1.000000      0.217231  0.720952   \n",
       "price_per_m2                        0.217231      1.000000  0.091666   \n",
       "...                                      ...           ...       ...   \n",
       "Villa Urquiza                      -0.079850     -0.030151 -0.036123   \n",
       "Villa del Parque                   -0.026464     -0.042806 -0.006066   \n",
       "parrilla_True                      -0.070668      0.119346 -0.100663   \n",
       "sum_True                           -0.098497      0.148782 -0.127603   \n",
       "Exterior_True                      -0.017874      0.123738  0.046308   \n",
       "\n",
       "                       subte_True  bus_True  metrobus_True  tren_True  ...  \\\n",
       "lat                      0.076448  0.754835       0.077951   0.215477  ...   \n",
       "lon                      0.272446  0.726738       0.062955  -0.270156  ...   \n",
       "surface_total_in_m2      0.023964  0.001051       0.027767  -0.011109  ...   \n",
       "surface_covered_in_m2    0.038327 -0.000320       0.034137  -0.022342  ...   \n",
       "price_per_m2             0.076165  0.015646       0.076720   0.019662  ...   \n",
       "...                           ...       ...            ...        ...  ...   \n",
       "Villa Urquiza            0.053481  0.001730      -0.259624   0.186233  ...   \n",
       "Villa del Parque        -0.252482  0.000963      -0.035433   0.072348  ...   \n",
       "parrilla_True            0.013585  0.004469      -0.048736   0.048711  ...   \n",
       "sum_True                 0.039539  0.003806      -0.048415   0.040389  ...   \n",
       "Exterior_True           -0.052414  0.013409      -0.011533   0.099197  ...   \n",
       "\n",
       "                       Villa Ortuzar  Villa Pueyrredón  Villa Real  \\\n",
       "lat                         0.026617          0.021924   -0.008483   \n",
       "lon                        -0.040007         -0.082309   -0.026021   \n",
       "surface_total_in_m2        -0.025982         -0.021959    0.007793   \n",
       "surface_covered_in_m2      -0.026486         -0.024224    0.005002   \n",
       "price_per_m2               -0.018247         -0.020689   -0.011094   \n",
       "...                              ...               ...         ...   \n",
       "Villa Urquiza              -0.013754         -0.014291   -0.003460   \n",
       "Villa del Parque           -0.007656         -0.007955   -0.001926   \n",
       "parrilla_True               0.015199         -0.015689   -0.000200   \n",
       "sum_True                    0.020304         -0.015221   -0.007613   \n",
       "Exterior_True               0.012076          0.027195   -0.000202   \n",
       "\n",
       "                       Villa Santa Rita  Villa Soldati  Villa Urquiza  \\\n",
       "lat                           -0.012629      -0.023256       0.150580   \n",
       "lon                           -0.020353      -0.004267      -0.205989   \n",
       "surface_total_in_m2           -0.009411      -0.000533      -0.069659   \n",
       "surface_covered_in_m2         -0.008994       0.002047      -0.079850   \n",
       "price_per_m2                  -0.017888      -0.022106      -0.030151   \n",
       "...                                 ...            ...            ...   \n",
       "Villa Urquiza                 -0.006474      -0.002996       1.000000   \n",
       "Villa del Parque              -0.003604      -0.001668      -0.028646   \n",
       "parrilla_True                 -0.002710      -0.007741       0.100475   \n",
       "sum_True                      -0.004045      -0.006593       0.071479   \n",
       "Exterior_True                  0.001995      -0.023227       0.051239   \n",
       "\n",
       "                       Villa del Parque  parrilla_True  sum_True  \\\n",
       "lat                           -0.028056       0.012131  0.015164   \n",
       "lon                           -0.127132      -0.055116 -0.013376   \n",
       "surface_total_in_m2           -0.026563      -0.022274 -0.088289   \n",
       "surface_covered_in_m2         -0.026464      -0.070668 -0.098497   \n",
       "price_per_m2                  -0.042806       0.119346  0.148782   \n",
       "...                                 ...            ...       ...   \n",
       "Villa Urquiza                 -0.028646       0.100475  0.071479   \n",
       "Villa del Parque               1.000000      -0.017197 -0.006864   \n",
       "parrilla_True                 -0.017197       1.000000  0.459926   \n",
       "sum_True                      -0.006864       0.459926  1.000000   \n",
       "Exterior_True                  0.031528       0.099776  0.053995   \n",
       "\n",
       "                       Exterior_True  \n",
       "lat                         0.059067  \n",
       "lon                        -0.107168  \n",
       "surface_total_in_m2         0.083561  \n",
       "surface_covered_in_m2      -0.017874  \n",
       "price_per_m2                0.123738  \n",
       "...                              ...  \n",
       "Villa Urquiza               0.051239  \n",
       "Villa del Parque            0.031528  \n",
       "parrilla_True               0.099776  \n",
       "sum_True                    0.053995  \n",
       "Exterior_True               1.000000  \n",
       "\n",
       "[81 rows x 81 columns]"
      ]
     },
     "execution_count": 298,
     "metadata": {},
     "output_type": "execute_result"
    }
   ],
   "source": [
    "caba.corr()"
   ]
  },
  {
   "cell_type": "code",
   "execution_count": 299,
   "metadata": {},
   "outputs": [
    {
     "data": {
      "text/plain": [
       "<AxesSubplot:>"
      ]
     },
     "execution_count": 299,
     "metadata": {},
     "output_type": "execute_result"
    },
    {
     "data": {
      "image/png": "[encoded data removed]",
      "text/plain": [
       "<Figure size 864x1296 with 2 Axes>"
      ]
     },
     "metadata": {},
     "output_type": "display_data"
    }
   ],
   "source": [
    "plt.figure(figsize=(12,18))\n",
    "sns.heatmap(caba.corr()[['price_per_m2']], annot=True, vmin=-1, cmap='Blues')"
   ]
  },
  {
   "cell_type": "code",
   "execution_count": 300,
   "metadata": {},
   "outputs": [
    {
     "data": {
      "text/plain": [
       "<seaborn.axisgrid.PairGrid at 0x17f03a2cd88>"
      ]
     },
     "execution_count": 300,
     "metadata": {},
     "output_type": "execute_result"
    },
    {
     "data": {
      "image/png": "[encoded data removed]",
      "text/plain": [
       "<Figure size 591.85x180 with 3 Axes>"
      ]
     },
     "metadata": {},
     "output_type": "display_data"
    }
   ],
   "source": [
    "sns.pairplot(data=caba,hue='rooms', y_vars='price_per_m2',\\\n",
    "             x_vars=['surface_total_in_m2','surface_covered_in_m2','Exterior_True'])"
   ]
  },
  {
   "cell_type": "markdown",
   "metadata": {},
   "source": [
    "### 13) Modelo de regresion"
   ]
  },
  {
   "cell_type": "markdown",
   "metadata": {},
   "source": [
    "Combinando GridSearchCV y Pipeline vamos a crear diferentes modelos:\n",
    "* Regresion Linear\n",
    "* Modelo de Lasso\n",
    "* Modelo de Ridge\n",
    "* Modelo de Elastic Net\n",
    "* Random Forest Regressor\n",
    "* AdaBoosting\n",
    "* Gradient Boosting\n",
    "* LightGBM Regressor\n",
    "\n",
    "Al final vamos a presentar en un dataframe cada uno de sus scores (R2) para verificar cual fue el modelo que tuvo una mejor performance."
   ]
  },
  {
   "cell_type": "code",
   "execution_count": 326,
   "metadata": {},
   "outputs": [],
   "source": [
    "from sklearn.linear_model import LinearRegression, Lasso, Ridge, ElasticNet\n",
    "from sklearn.model_selection import train_test_split, cross_val_score, GridSearchCV, RandomizedSearchCV\n",
    "from sklearn.preprocessing import StandardScaler, MinMaxScaler, RobustScaler\n",
    "from sklearn.ensemble import RandomForestRegressor, GradientBoostingRegressor, AdaBoostRegressor\n",
    "from lightgbm import LGBMRegressor\n",
    "from sklearn.metrics import r2_score\n",
    "from sklearn.pipeline import Pipeline\n",
    "from sklearn import set_config\n",
    "from sklearn import linear_model\n",
    "set_config(display='diagram')"
   ]
  },
  {
   "cell_type": "code",
   "execution_count": 303,
   "metadata": {},
   "outputs": [
    {
     "data": {
      "text/plain": [
       "Index(['lat', 'lon', 'surface_total_in_m2', 'surface_covered_in_m2',\n",
       "       'price_per_m2', 'rooms', 'subte_True', 'bus_True', 'metrobus_True',\n",
       "       'tren_True', 'ecobici_True', 'espacios_culturales_True',\n",
       "       'gastronomico_True', 'universidad_True', 'polideportivo_True',\n",
       "       'hospital_True', 'comisaria_True', 'espacios_verdes_True', 'Agronomía',\n",
       "       'Almagro', 'Balvanera', 'Barracas', 'Barrio Norte', 'Belgrano', 'Boca',\n",
       "       'Boedo', 'Caballito', 'Capital Federal', 'Catalinas',\n",
       "       'Centro / Microcentro', 'Chacarita', 'Coghlan', 'Colegiales',\n",
       "       'Congreso', 'Constitución', 'Flores', 'Floresta', 'Las Cañitas',\n",
       "       'Liniers', 'Mataderos', 'Monserrat', 'Monte Castro', 'Nuñez', 'Once',\n",
       "       'Palermo', 'Palermo Chico', 'Palermo Hollywood', 'Palermo Soho',\n",
       "       'Palermo Viejo', 'Parque Avellaneda', 'Parque Centenario',\n",
       "       'Parque Chacabuco', 'Parque Chas', 'Parque Patricios', 'Paternal',\n",
       "       'Pompeya', 'Puerto Madero', 'Recoleta', 'Retiro', 'Saavedra',\n",
       "       'San Cristobal', 'San Nicolás', 'San Telmo', 'Tribunales',\n",
       "       'Velez Sarsfield', 'Versalles', 'Villa Crespo', 'Villa Devoto',\n",
       "       'Villa General Mitre', 'Villa Lugano', 'Villa Luro', 'Villa Ortuzar',\n",
       "       'Villa Pueyrredón', 'Villa Real', 'Villa Santa Rita', 'Villa Soldati',\n",
       "       'Villa Urquiza', 'Villa del Parque', 'parrilla_True', 'sum_True',\n",
       "       'Exterior_True'],\n",
       "      dtype='object')"
      ]
     },
     "execution_count": 303,
     "metadata": {},
     "output_type": "execute_result"
    }
   ],
   "source": [
    "caba.columns"
   ]
  },
  {
   "cell_type": "code",
   "execution_count": 304,
   "metadata": {},
   "outputs": [
    {
     "data": {
      "text/plain": [
       "(17203, 81)"
      ]
     },
     "execution_count": 304,
     "metadata": {},
     "output_type": "execute_result"
    }
   ],
   "source": [
    "caba.shape"
   ]
  },
  {
   "cell_type": "code",
   "execution_count": 305,
   "metadata": {},
   "outputs": [],
   "source": [
    "X = caba.drop(columns=['price_per_m2','lat','lon'])\n",
    "y = caba.price_per_m2\n",
    "\n",
    "X_train, X_test, y_train, y_test = train_test_split(X, y, test_size=0.30, random_state=10)\n",
    "\n",
    "folds = 5"
   ]
  },
  {
   "cell_type": "markdown",
   "metadata": {},
   "source": [
    "#### Regresion Linear"
   ]
  },
  {
   "cell_type": "code",
   "execution_count": 338,
   "metadata": {},
   "outputs": [
    {
     "data": {
      "text/html": [
       "<style>div.sk-top-container {color: black;background-color: white;}div.sk-toggleable {background-color: white;}label.sk-toggleable__label {cursor: pointer;display: block;width: 100%;margin-bottom: 0;padding: 0.2em 0.3em;box-sizing: border-box;text-align: center;}div.sk-toggleable__content {max-height: 0;max-width: 0;overflow: hidden;text-align: left;background-color: #f0f8ff;}div.sk-toggleable__content pre {margin: 0.2em;color: black;border-radius: 0.25em;background-color: #f0f8ff;}input.sk-toggleable__control:checked~div.sk-toggleable__content {max-height: 200px;max-width: 100%;overflow: auto;}div.sk-estimator input.sk-toggleable__control:checked~label.sk-toggleable__label {background-color: #d4ebff;}div.sk-label input.sk-toggleable__control:checked~label.sk-toggleable__label {background-color: #d4ebff;}input.sk-hidden--visually {border: 0;clip: rect(1px 1px 1px 1px);clip: rect(1px, 1px, 1px, 1px);height: 1px;margin: -1px;overflow: hidden;padding: 0;position: absolute;width: 1px;}div.sk-estimator {font-family: monospace;background-color: #f0f8ff;margin: 0.25em 0.25em;border: 1px dotted black;border-radius: 0.25em;box-sizing: border-box;}div.sk-estimator:hover {background-color: #d4ebff;}div.sk-parallel-item::after {content: \"\";width: 100%;border-bottom: 1px solid gray;flex-grow: 1;}div.sk-label:hover label.sk-toggleable__label {background-color: #d4ebff;}div.sk-serial::before {content: \"\";position: absolute;border-left: 1px solid gray;box-sizing: border-box;top: 2em;bottom: 0;left: 50%;}div.sk-serial {display: flex;flex-direction: column;align-items: center;background-color: white;}div.sk-item {z-index: 1;}div.sk-parallel {display: flex;align-items: stretch;justify-content: center;background-color: white;}div.sk-parallel-item {display: flex;flex-direction: column;position: relative;background-color: white;}div.sk-parallel-item:first-child::after {align-self: flex-end;width: 50%;}div.sk-parallel-item:last-child::after {align-self: flex-start;width: 50%;}div.sk-parallel-item:only-child::after {width: 0;}div.sk-dashed-wrapped {border: 1px dashed gray;margin: 0.2em;box-sizing: border-box;padding-bottom: 0.1em;background-color: white;position: relative;}div.sk-label label {font-family: monospace;font-weight: bold;background-color: white;display: inline-block;line-height: 1.2em;}div.sk-label-container {position: relative;z-index: 2;text-align: center;}div.sk-container {display: inline-block;position: relative;}</style><div class=\"sk-top-container\"><div class=\"sk-container\"><div class=\"sk-item sk-dashed-wrapped\"><div class=\"sk-label-container\"><div class=\"sk-label sk-toggleable\"><input class=\"sk-toggleable__control sk-hidden--visually\" id=\"61de68cc-6c05-453e-9550-e24f51d1f299\" type=\"checkbox\" ><label class=\"sk-toggleable__label\" for=\"61de68cc-6c05-453e-9550-e24f51d1f299\">GridSearchCV</label><div class=\"sk-toggleable__content\"><pre>GridSearchCV(cv=5, estimator=LinearRegression(),\n",
       "             param_grid={'normalize': [True, False]}, scoring='r2')</pre></div></div></div><div class=\"sk-parallel\"><div class=\"sk-parallel-item\"><div class=\"sk-item\"><div class=\"sk-serial\"><div class=\"sk-item\"><div class=\"sk-estimator sk-toggleable\"><input class=\"sk-toggleable__control sk-hidden--visually\" id=\"fb4b6502-22eb-4de4-91e2-294dbe153f9e\" type=\"checkbox\" ><label class=\"sk-toggleable__label\" for=\"fb4b6502-22eb-4de4-91e2-294dbe153f9e\">LinearRegression</label><div class=\"sk-toggleable__content\"><pre>LinearRegression()</pre></div></div></div></div></div></div></div></div></div></div>"
      ],
      "text/plain": [
       "GridSearchCV(cv=5, estimator=LinearRegression(),\n",
       "             param_grid={'normalize': [True, False]}, scoring='r2')"
      ]
     },
     "execution_count": 338,
     "metadata": {},
     "output_type": "execute_result"
    }
   ],
   "source": [
    "lr = LinearRegression()\n",
    "\n",
    "param_lr ={'normalize':[True, False]}\n",
    "\n",
    "grid_lr = GridSearchCV(estimator=lr, param_grid=param_lr, cv=folds, scoring='r2')\n",
    "grid_lr.fit(X_train, y_train)"
   ]
  },
  {
   "cell_type": "code",
   "execution_count": 339,
   "metadata": {},
   "outputs": [
    {
     "data": {
      "text/plain": [
       "0.45929338993029606"
      ]
     },
     "execution_count": 339,
     "metadata": {},
     "output_type": "execute_result"
    }
   ],
   "source": [
    "grid_lr.best_score_"
   ]
  },
  {
   "cell_type": "code",
   "execution_count": 340,
   "metadata": {},
   "outputs": [
    {
     "data": {
      "text/html": [
       "<style>div.sk-top-container {color: black;background-color: white;}div.sk-toggleable {background-color: white;}label.sk-toggleable__label {cursor: pointer;display: block;width: 100%;margin-bottom: 0;padding: 0.2em 0.3em;box-sizing: border-box;text-align: center;}div.sk-toggleable__content {max-height: 0;max-width: 0;overflow: hidden;text-align: left;background-color: #f0f8ff;}div.sk-toggleable__content pre {margin: 0.2em;color: black;border-radius: 0.25em;background-color: #f0f8ff;}input.sk-toggleable__control:checked~div.sk-toggleable__content {max-height: 200px;max-width: 100%;overflow: auto;}div.sk-estimator input.sk-toggleable__control:checked~label.sk-toggleable__label {background-color: #d4ebff;}div.sk-label input.sk-toggleable__control:checked~label.sk-toggleable__label {background-color: #d4ebff;}input.sk-hidden--visually {border: 0;clip: rect(1px 1px 1px 1px);clip: rect(1px, 1px, 1px, 1px);height: 1px;margin: -1px;overflow: hidden;padding: 0;position: absolute;width: 1px;}div.sk-estimator {font-family: monospace;background-color: #f0f8ff;margin: 0.25em 0.25em;border: 1px dotted black;border-radius: 0.25em;box-sizing: border-box;}div.sk-estimator:hover {background-color: #d4ebff;}div.sk-parallel-item::after {content: \"\";width: 100%;border-bottom: 1px solid gray;flex-grow: 1;}div.sk-label:hover label.sk-toggleable__label {background-color: #d4ebff;}div.sk-serial::before {content: \"\";position: absolute;border-left: 1px solid gray;box-sizing: border-box;top: 2em;bottom: 0;left: 50%;}div.sk-serial {display: flex;flex-direction: column;align-items: center;background-color: white;}div.sk-item {z-index: 1;}div.sk-parallel {display: flex;align-items: stretch;justify-content: center;background-color: white;}div.sk-parallel-item {display: flex;flex-direction: column;position: relative;background-color: white;}div.sk-parallel-item:first-child::after {align-self: flex-end;width: 50%;}div.sk-parallel-item:last-child::after {align-self: flex-start;width: 50%;}div.sk-parallel-item:only-child::after {width: 0;}div.sk-dashed-wrapped {border: 1px dashed gray;margin: 0.2em;box-sizing: border-box;padding-bottom: 0.1em;background-color: white;position: relative;}div.sk-label label {font-family: monospace;font-weight: bold;background-color: white;display: inline-block;line-height: 1.2em;}div.sk-label-container {position: relative;z-index: 2;text-align: center;}div.sk-container {display: inline-block;position: relative;}</style><div class=\"sk-top-container\"><div class=\"sk-container\"><div class=\"sk-item\"><div class=\"sk-estimator sk-toggleable\"><input class=\"sk-toggleable__control sk-hidden--visually\" id=\"d689c43c-7178-4154-91a8-083603a74e9a\" type=\"checkbox\" checked><label class=\"sk-toggleable__label\" for=\"d689c43c-7178-4154-91a8-083603a74e9a\">LinearRegression</label><div class=\"sk-toggleable__content\"><pre>LinearRegression()</pre></div></div></div></div></div>"
      ],
      "text/plain": [
       "LinearRegression()"
      ]
     },
     "execution_count": 340,
     "metadata": {},
     "output_type": "execute_result"
    }
   ],
   "source": [
    "grid_lr.best_estimator_"
   ]
  },
  {
   "cell_type": "markdown",
   "metadata": {},
   "source": [
    "#### Ridge"
   ]
  },
  {
   "cell_type": "code",
   "execution_count": 341,
   "metadata": {},
   "outputs": [
    {
     "data": {
      "text/html": [
       "<style>div.sk-top-container {color: black;background-color: white;}div.sk-toggleable {background-color: white;}label.sk-toggleable__label {cursor: pointer;display: block;width: 100%;margin-bottom: 0;padding: 0.2em 0.3em;box-sizing: border-box;text-align: center;}div.sk-toggleable__content {max-height: 0;max-width: 0;overflow: hidden;text-align: left;background-color: #f0f8ff;}div.sk-toggleable__content pre {margin: 0.2em;color: black;border-radius: 0.25em;background-color: #f0f8ff;}input.sk-toggleable__control:checked~div.sk-toggleable__content {max-height: 200px;max-width: 100%;overflow: auto;}div.sk-estimator input.sk-toggleable__control:checked~label.sk-toggleable__label {background-color: #d4ebff;}div.sk-label input.sk-toggleable__control:checked~label.sk-toggleable__label {background-color: #d4ebff;}input.sk-hidden--visually {border: 0;clip: rect(1px 1px 1px 1px);clip: rect(1px, 1px, 1px, 1px);height: 1px;margin: -1px;overflow: hidden;padding: 0;position: absolute;width: 1px;}div.sk-estimator {font-family: monospace;background-color: #f0f8ff;margin: 0.25em 0.25em;border: 1px dotted black;border-radius: 0.25em;box-sizing: border-box;}div.sk-estimator:hover {background-color: #d4ebff;}div.sk-parallel-item::after {content: \"\";width: 100%;border-bottom: 1px solid gray;flex-grow: 1;}div.sk-label:hover label.sk-toggleable__label {background-color: #d4ebff;}div.sk-serial::before {content: \"\";position: absolute;border-left: 1px solid gray;box-sizing: border-box;top: 2em;bottom: 0;left: 50%;}div.sk-serial {display: flex;flex-direction: column;align-items: center;background-color: white;}div.sk-item {z-index: 1;}div.sk-parallel {display: flex;align-items: stretch;justify-content: center;background-color: white;}div.sk-parallel-item {display: flex;flex-direction: column;position: relative;background-color: white;}div.sk-parallel-item:first-child::after {align-self: flex-end;width: 50%;}div.sk-parallel-item:last-child::after {align-self: flex-start;width: 50%;}div.sk-parallel-item:only-child::after {width: 0;}div.sk-dashed-wrapped {border: 1px dashed gray;margin: 0.2em;box-sizing: border-box;padding-bottom: 0.1em;background-color: white;position: relative;}div.sk-label label {font-family: monospace;font-weight: bold;background-color: white;display: inline-block;line-height: 1.2em;}div.sk-label-container {position: relative;z-index: 2;text-align: center;}div.sk-container {display: inline-block;position: relative;}</style><div class=\"sk-top-container\"><div class=\"sk-container\"><div class=\"sk-item sk-dashed-wrapped\"><div class=\"sk-label-container\"><div class=\"sk-label sk-toggleable\"><input class=\"sk-toggleable__control sk-hidden--visually\" id=\"1723570a-b034-4a11-850c-d689141a2bf7\" type=\"checkbox\" ><label class=\"sk-toggleable__label\" for=\"1723570a-b034-4a11-850c-d689141a2bf7\">GridSearchCV</label><div class=\"sk-toggleable__content\"><pre>GridSearchCV(cv=5,\n",
       "             estimator=Pipeline(steps=[('preprocesamiento', StandardScaler()),\n",
       "                                       ('regresion', Ridge())]),\n",
       "             param_grid=[{'preprocesamiento': [StandardScaler(), None],\n",
       "                          'regresion__alpha': [0.01, 0.3, 0.5, 0.7, 0.8]}],\n",
       "             scoring='r2')</pre></div></div></div><div class=\"sk-parallel\"><div class=\"sk-parallel-item\"><div class=\"sk-item\"><div class=\"sk-serial\"><div class=\"sk-item\"><div class=\"sk-serial\"><div class=\"sk-item\"><div class=\"sk-estimator sk-toggleable\"><input class=\"sk-toggleable__control sk-hidden--visually\" id=\"68af0302-19bd-4f22-8d82-d024c2e92671\" type=\"checkbox\" ><label class=\"sk-toggleable__label\" for=\"68af0302-19bd-4f22-8d82-d024c2e92671\">StandardScaler</label><div class=\"sk-toggleable__content\"><pre>StandardScaler()</pre></div></div></div><div class=\"sk-item\"><div class=\"sk-estimator sk-toggleable\"><input class=\"sk-toggleable__control sk-hidden--visually\" id=\"7b72f941-5df4-4d61-90e4-6af54884d27c\" type=\"checkbox\" ><label class=\"sk-toggleable__label\" for=\"7b72f941-5df4-4d61-90e4-6af54884d27c\">Ridge</label><div class=\"sk-toggleable__content\"><pre>Ridge()</pre></div></div></div></div></div></div></div></div></div></div></div></div>"
      ],
      "text/plain": [
       "GridSearchCV(cv=5,\n",
       "             estimator=Pipeline(steps=[('preprocesamiento', StandardScaler()),\n",
       "                                       ('regresion', Ridge())]),\n",
       "             param_grid=[{'preprocesamiento': [StandardScaler(), None],\n",
       "                          'regresion__alpha': [0.01, 0.3, 0.5, 0.7, 0.8]}],\n",
       "             scoring='r2')"
      ]
     },
     "execution_count": 341,
     "metadata": {},
     "output_type": "execute_result"
    }
   ],
   "source": [
    "pasos = [('preprocesamiento', StandardScaler()),\n",
    "         ('regresion', Ridge())\n",
    "        ]\n",
    "\n",
    "pipe_grid_rid = Pipeline(pasos)\n",
    "\n",
    "param_grid_rid = [{'preprocesamiento':[StandardScaler(), None],\n",
    "                   'regresion__alpha':[0.01, 0.3, 0.5, 0.7, 0.8],\n",
    "                }]\n",
    "\n",
    "grid_rid = GridSearchCV(estimator=pipe_grid_rid, param_grid=param_grid_rid, cv=folds, scoring='r2')\n",
    "grid_rid.fit(X_train, y_train)"
   ]
  },
  {
   "cell_type": "code",
   "execution_count": 342,
   "metadata": {},
   "outputs": [
    {
     "data": {
      "text/plain": [
       "0.459339411529878"
      ]
     },
     "execution_count": 342,
     "metadata": {},
     "output_type": "execute_result"
    }
   ],
   "source": [
    "grid_rid.best_score_"
   ]
  },
  {
   "cell_type": "code",
   "execution_count": 343,
   "metadata": {},
   "outputs": [
    {
     "data": {
      "text/html": [
       "<style>div.sk-top-container {color: black;background-color: white;}div.sk-toggleable {background-color: white;}label.sk-toggleable__label {cursor: pointer;display: block;width: 100%;margin-bottom: 0;padding: 0.2em 0.3em;box-sizing: border-box;text-align: center;}div.sk-toggleable__content {max-height: 0;max-width: 0;overflow: hidden;text-align: left;background-color: #f0f8ff;}div.sk-toggleable__content pre {margin: 0.2em;color: black;border-radius: 0.25em;background-color: #f0f8ff;}input.sk-toggleable__control:checked~div.sk-toggleable__content {max-height: 200px;max-width: 100%;overflow: auto;}div.sk-estimator input.sk-toggleable__control:checked~label.sk-toggleable__label {background-color: #d4ebff;}div.sk-label input.sk-toggleable__control:checked~label.sk-toggleable__label {background-color: #d4ebff;}input.sk-hidden--visually {border: 0;clip: rect(1px 1px 1px 1px);clip: rect(1px, 1px, 1px, 1px);height: 1px;margin: -1px;overflow: hidden;padding: 0;position: absolute;width: 1px;}div.sk-estimator {font-family: monospace;background-color: #f0f8ff;margin: 0.25em 0.25em;border: 1px dotted black;border-radius: 0.25em;box-sizing: border-box;}div.sk-estimator:hover {background-color: #d4ebff;}div.sk-parallel-item::after {content: \"\";width: 100%;border-bottom: 1px solid gray;flex-grow: 1;}div.sk-label:hover label.sk-toggleable__label {background-color: #d4ebff;}div.sk-serial::before {content: \"\";position: absolute;border-left: 1px solid gray;box-sizing: border-box;top: 2em;bottom: 0;left: 50%;}div.sk-serial {display: flex;flex-direction: column;align-items: center;background-color: white;}div.sk-item {z-index: 1;}div.sk-parallel {display: flex;align-items: stretch;justify-content: center;background-color: white;}div.sk-parallel-item {display: flex;flex-direction: column;position: relative;background-color: white;}div.sk-parallel-item:first-child::after {align-self: flex-end;width: 50%;}div.sk-parallel-item:last-child::after {align-self: flex-start;width: 50%;}div.sk-parallel-item:only-child::after {width: 0;}div.sk-dashed-wrapped {border: 1px dashed gray;margin: 0.2em;box-sizing: border-box;padding-bottom: 0.1em;background-color: white;position: relative;}div.sk-label label {font-family: monospace;font-weight: bold;background-color: white;display: inline-block;line-height: 1.2em;}div.sk-label-container {position: relative;z-index: 2;text-align: center;}div.sk-container {display: inline-block;position: relative;}</style><div class=\"sk-top-container\"><div class=\"sk-container\"><div class=\"sk-item sk-dashed-wrapped\"><div class=\"sk-label-container\"><div class=\"sk-label sk-toggleable\"><input class=\"sk-toggleable__control sk-hidden--visually\" id=\"654ea0fd-9ee5-48e3-9292-5aca1f672774\" type=\"checkbox\" ><label class=\"sk-toggleable__label\" for=\"654ea0fd-9ee5-48e3-9292-5aca1f672774\">Pipeline</label><div class=\"sk-toggleable__content\"><pre>Pipeline(steps=[('preprocesamiento', None), ('regresion', Ridge(alpha=0.5))])</pre></div></div></div><div class=\"sk-serial\"><div class=\"sk-item\"><div class=\"sk-estimator sk-toggleable\"><input class=\"sk-toggleable__control sk-hidden--visually\" id=\"d17de78b-033e-4be6-a2c1-726fd5f506d8\" type=\"checkbox\" ><label class=\"sk-toggleable__label\" for=\"d17de78b-033e-4be6-a2c1-726fd5f506d8\">None</label><div class=\"sk-toggleable__content\"><pre>None</pre></div></div></div><div class=\"sk-item\"><div class=\"sk-estimator sk-toggleable\"><input class=\"sk-toggleable__control sk-hidden--visually\" id=\"596cc337-5469-4c20-bc23-f6755c7069b8\" type=\"checkbox\" ><label class=\"sk-toggleable__label\" for=\"596cc337-5469-4c20-bc23-f6755c7069b8\">Ridge</label><div class=\"sk-toggleable__content\"><pre>Ridge(alpha=0.5)</pre></div></div></div></div></div></div></div>"
      ],
      "text/plain": [
       "Pipeline(steps=[('preprocesamiento', None), ('regresion', Ridge(alpha=0.5))])"
      ]
     },
     "execution_count": 343,
     "metadata": {},
     "output_type": "execute_result"
    }
   ],
   "source": [
    "grid_rid.best_estimator_"
   ]
  },
  {
   "cell_type": "markdown",
   "metadata": {},
   "source": [
    "#### Lasso"
   ]
  },
  {
   "cell_type": "code",
   "execution_count": 344,
   "metadata": {},
   "outputs": [
    {
     "data": {
      "text/html": [
       "<style>div.sk-top-container {color: black;background-color: white;}div.sk-toggleable {background-color: white;}label.sk-toggleable__label {cursor: pointer;display: block;width: 100%;margin-bottom: 0;padding: 0.2em 0.3em;box-sizing: border-box;text-align: center;}div.sk-toggleable__content {max-height: 0;max-width: 0;overflow: hidden;text-align: left;background-color: #f0f8ff;}div.sk-toggleable__content pre {margin: 0.2em;color: black;border-radius: 0.25em;background-color: #f0f8ff;}input.sk-toggleable__control:checked~div.sk-toggleable__content {max-height: 200px;max-width: 100%;overflow: auto;}div.sk-estimator input.sk-toggleable__control:checked~label.sk-toggleable__label {background-color: #d4ebff;}div.sk-label input.sk-toggleable__control:checked~label.sk-toggleable__label {background-color: #d4ebff;}input.sk-hidden--visually {border: 0;clip: rect(1px 1px 1px 1px);clip: rect(1px, 1px, 1px, 1px);height: 1px;margin: -1px;overflow: hidden;padding: 0;position: absolute;width: 1px;}div.sk-estimator {font-family: monospace;background-color: #f0f8ff;margin: 0.25em 0.25em;border: 1px dotted black;border-radius: 0.25em;box-sizing: border-box;}div.sk-estimator:hover {background-color: #d4ebff;}div.sk-parallel-item::after {content: \"\";width: 100%;border-bottom: 1px solid gray;flex-grow: 1;}div.sk-label:hover label.sk-toggleable__label {background-color: #d4ebff;}div.sk-serial::before {content: \"\";position: absolute;border-left: 1px solid gray;box-sizing: border-box;top: 2em;bottom: 0;left: 50%;}div.sk-serial {display: flex;flex-direction: column;align-items: center;background-color: white;}div.sk-item {z-index: 1;}div.sk-parallel {display: flex;align-items: stretch;justify-content: center;background-color: white;}div.sk-parallel-item {display: flex;flex-direction: column;position: relative;background-color: white;}div.sk-parallel-item:first-child::after {align-self: flex-end;width: 50%;}div.sk-parallel-item:last-child::after {align-self: flex-start;width: 50%;}div.sk-parallel-item:only-child::after {width: 0;}div.sk-dashed-wrapped {border: 1px dashed gray;margin: 0.2em;box-sizing: border-box;padding-bottom: 0.1em;background-color: white;position: relative;}div.sk-label label {font-family: monospace;font-weight: bold;background-color: white;display: inline-block;line-height: 1.2em;}div.sk-label-container {position: relative;z-index: 2;text-align: center;}div.sk-container {display: inline-block;position: relative;}</style><div class=\"sk-top-container\"><div class=\"sk-container\"><div class=\"sk-item sk-dashed-wrapped\"><div class=\"sk-label-container\"><div class=\"sk-label sk-toggleable\"><input class=\"sk-toggleable__control sk-hidden--visually\" id=\"90e842de-582e-4020-a996-646d3a79c86c\" type=\"checkbox\" ><label class=\"sk-toggleable__label\" for=\"90e842de-582e-4020-a996-646d3a79c86c\">GridSearchCV</label><div class=\"sk-toggleable__content\"><pre>GridSearchCV(cv=5,\n",
       "             estimator=Pipeline(steps=[('preprocesamiento', StandardScaler()),\n",
       "                                       ('regresion',\n",
       "                                        Lasso(max_iter=5000, tol=0.001))]),\n",
       "             param_grid=[{'preprocesamiento': [StandardScaler(), None],\n",
       "                          'regresion__alpha': [0.01, 0.3, 0.5, 0.7, 0.8]}],\n",
       "             scoring='r2')</pre></div></div></div><div class=\"sk-parallel\"><div class=\"sk-parallel-item\"><div class=\"sk-item\"><div class=\"sk-serial\"><div class=\"sk-item\"><div class=\"sk-serial\"><div class=\"sk-item\"><div class=\"sk-estimator sk-toggleable\"><input class=\"sk-toggleable__control sk-hidden--visually\" id=\"a0c5c188-3b2f-4185-8a19-50bd2d53198c\" type=\"checkbox\" ><label class=\"sk-toggleable__label\" for=\"a0c5c188-3b2f-4185-8a19-50bd2d53198c\">StandardScaler</label><div class=\"sk-toggleable__content\"><pre>StandardScaler()</pre></div></div></div><div class=\"sk-item\"><div class=\"sk-estimator sk-toggleable\"><input class=\"sk-toggleable__control sk-hidden--visually\" id=\"4572c402-85b9-463f-88d9-ba184aed71c8\" type=\"checkbox\" ><label class=\"sk-toggleable__label\" for=\"4572c402-85b9-463f-88d9-ba184aed71c8\">Lasso</label><div class=\"sk-toggleable__content\"><pre>Lasso(max_iter=5000, tol=0.001)</pre></div></div></div></div></div></div></div></div></div></div></div></div>"
      ],
      "text/plain": [
       "GridSearchCV(cv=5,\n",
       "             estimator=Pipeline(steps=[('preprocesamiento', StandardScaler()),\n",
       "                                       ('regresion',\n",
       "                                        Lasso(max_iter=5000, tol=0.001))]),\n",
       "             param_grid=[{'preprocesamiento': [StandardScaler(), None],\n",
       "                          'regresion__alpha': [0.01, 0.3, 0.5, 0.7, 0.8]}],\n",
       "             scoring='r2')"
      ]
     },
     "execution_count": 344,
     "metadata": {},
     "output_type": "execute_result"
    }
   ],
   "source": [
    "pasos = [('preprocesamiento', StandardScaler()),\\\n",
    "         ('regresion', Lasso(max_iter=5000, tol=0.001))\n",
    "        ]\n",
    "\n",
    "pipe_grid_lass = Pipeline(pasos)\n",
    "\n",
    "param_grid_lass = [{'preprocesamiento':[StandardScaler(), None],\n",
    "                    'regresion__alpha':[0.01, 0.3, 0.5, 0.7, 0.8],\n",
    "                  }]\n",
    "\n",
    "grid_lass = GridSearchCV(estimator=pipe_grid_lass, param_grid=param_grid_lass, cv=folds, scoring='r2')\n",
    "grid_lass.fit(X_train, y_train)"
   ]
  },
  {
   "cell_type": "code",
   "execution_count": 345,
   "metadata": {},
   "outputs": [
    {
     "data": {
      "text/plain": [
       "0.4594731298211966"
      ]
     },
     "execution_count": 345,
     "metadata": {},
     "output_type": "execute_result"
    }
   ],
   "source": [
    "grid_lass.best_score_"
   ]
  },
  {
   "cell_type": "code",
   "execution_count": 346,
   "metadata": {},
   "outputs": [
    {
     "data": {
      "text/html": [
       "<style>div.sk-top-container {color: black;background-color: white;}div.sk-toggleable {background-color: white;}label.sk-toggleable__label {cursor: pointer;display: block;width: 100%;margin-bottom: 0;padding: 0.2em 0.3em;box-sizing: border-box;text-align: center;}div.sk-toggleable__content {max-height: 0;max-width: 0;overflow: hidden;text-align: left;background-color: #f0f8ff;}div.sk-toggleable__content pre {margin: 0.2em;color: black;border-radius: 0.25em;background-color: #f0f8ff;}input.sk-toggleable__control:checked~div.sk-toggleable__content {max-height: 200px;max-width: 100%;overflow: auto;}div.sk-estimator input.sk-toggleable__control:checked~label.sk-toggleable__label {background-color: #d4ebff;}div.sk-label input.sk-toggleable__control:checked~label.sk-toggleable__label {background-color: #d4ebff;}input.sk-hidden--visually {border: 0;clip: rect(1px 1px 1px 1px);clip: rect(1px, 1px, 1px, 1px);height: 1px;margin: -1px;overflow: hidden;padding: 0;position: absolute;width: 1px;}div.sk-estimator {font-family: monospace;background-color: #f0f8ff;margin: 0.25em 0.25em;border: 1px dotted black;border-radius: 0.25em;box-sizing: border-box;}div.sk-estimator:hover {background-color: #d4ebff;}div.sk-parallel-item::after {content: \"\";width: 100%;border-bottom: 1px solid gray;flex-grow: 1;}div.sk-label:hover label.sk-toggleable__label {background-color: #d4ebff;}div.sk-serial::before {content: \"\";position: absolute;border-left: 1px solid gray;box-sizing: border-box;top: 2em;bottom: 0;left: 50%;}div.sk-serial {display: flex;flex-direction: column;align-items: center;background-color: white;}div.sk-item {z-index: 1;}div.sk-parallel {display: flex;align-items: stretch;justify-content: center;background-color: white;}div.sk-parallel-item {display: flex;flex-direction: column;position: relative;background-color: white;}div.sk-parallel-item:first-child::after {align-self: flex-end;width: 50%;}div.sk-parallel-item:last-child::after {align-self: flex-start;width: 50%;}div.sk-parallel-item:only-child::after {width: 0;}div.sk-dashed-wrapped {border: 1px dashed gray;margin: 0.2em;box-sizing: border-box;padding-bottom: 0.1em;background-color: white;position: relative;}div.sk-label label {font-family: monospace;font-weight: bold;background-color: white;display: inline-block;line-height: 1.2em;}div.sk-label-container {position: relative;z-index: 2;text-align: center;}div.sk-container {display: inline-block;position: relative;}</style><div class=\"sk-top-container\"><div class=\"sk-container\"><div class=\"sk-item sk-dashed-wrapped\"><div class=\"sk-label-container\"><div class=\"sk-label sk-toggleable\"><input class=\"sk-toggleable__control sk-hidden--visually\" id=\"0b8b2563-384d-42ae-96fd-71ca13a0caff\" type=\"checkbox\" ><label class=\"sk-toggleable__label\" for=\"0b8b2563-384d-42ae-96fd-71ca13a0caff\">Pipeline</label><div class=\"sk-toggleable__content\"><pre>Pipeline(steps=[('preprocesamiento', StandardScaler()),\n",
       "                ('regresion', Lasso(alpha=0.8, max_iter=5000, tol=0.001))])</pre></div></div></div><div class=\"sk-serial\"><div class=\"sk-item\"><div class=\"sk-estimator sk-toggleable\"><input class=\"sk-toggleable__control sk-hidden--visually\" id=\"71099d78-15f9-42c8-8f9b-c709ed7cbb6d\" type=\"checkbox\" ><label class=\"sk-toggleable__label\" for=\"71099d78-15f9-42c8-8f9b-c709ed7cbb6d\">StandardScaler</label><div class=\"sk-toggleable__content\"><pre>StandardScaler()</pre></div></div></div><div class=\"sk-item\"><div class=\"sk-estimator sk-toggleable\"><input class=\"sk-toggleable__control sk-hidden--visually\" id=\"4253d154-e0a1-4090-847a-127e4e49d20a\" type=\"checkbox\" ><label class=\"sk-toggleable__label\" for=\"4253d154-e0a1-4090-847a-127e4e49d20a\">Lasso</label><div class=\"sk-toggleable__content\"><pre>Lasso(alpha=0.8, max_iter=5000, tol=0.001)</pre></div></div></div></div></div></div></div>"
      ],
      "text/plain": [
       "Pipeline(steps=[('preprocesamiento', StandardScaler()),\n",
       "                ('regresion', Lasso(alpha=0.8, max_iter=5000, tol=0.001))])"
      ]
     },
     "execution_count": 346,
     "metadata": {},
     "output_type": "execute_result"
    }
   ],
   "source": [
    "grid_lass.best_estimator_"
   ]
  },
  {
   "cell_type": "markdown",
   "metadata": {},
   "source": [
    "#### ElasticNet"
   ]
  },
  {
   "cell_type": "code",
   "execution_count": 347,
   "metadata": {},
   "outputs": [
    {
     "data": {
      "text/html": [
       "<style>div.sk-top-container {color: black;background-color: white;}div.sk-toggleable {background-color: white;}label.sk-toggleable__label {cursor: pointer;display: block;width: 100%;margin-bottom: 0;padding: 0.2em 0.3em;box-sizing: border-box;text-align: center;}div.sk-toggleable__content {max-height: 0;max-width: 0;overflow: hidden;text-align: left;background-color: #f0f8ff;}div.sk-toggleable__content pre {margin: 0.2em;color: black;border-radius: 0.25em;background-color: #f0f8ff;}input.sk-toggleable__control:checked~div.sk-toggleable__content {max-height: 200px;max-width: 100%;overflow: auto;}div.sk-estimator input.sk-toggleable__control:checked~label.sk-toggleable__label {background-color: #d4ebff;}div.sk-label input.sk-toggleable__control:checked~label.sk-toggleable__label {background-color: #d4ebff;}input.sk-hidden--visually {border: 0;clip: rect(1px 1px 1px 1px);clip: rect(1px, 1px, 1px, 1px);height: 1px;margin: -1px;overflow: hidden;padding: 0;position: absolute;width: 1px;}div.sk-estimator {font-family: monospace;background-color: #f0f8ff;margin: 0.25em 0.25em;border: 1px dotted black;border-radius: 0.25em;box-sizing: border-box;}div.sk-estimator:hover {background-color: #d4ebff;}div.sk-parallel-item::after {content: \"\";width: 100%;border-bottom: 1px solid gray;flex-grow: 1;}div.sk-label:hover label.sk-toggleable__label {background-color: #d4ebff;}div.sk-serial::before {content: \"\";position: absolute;border-left: 1px solid gray;box-sizing: border-box;top: 2em;bottom: 0;left: 50%;}div.sk-serial {display: flex;flex-direction: column;align-items: center;background-color: white;}div.sk-item {z-index: 1;}div.sk-parallel {display: flex;align-items: stretch;justify-content: center;background-color: white;}div.sk-parallel-item {display: flex;flex-direction: column;position: relative;background-color: white;}div.sk-parallel-item:first-child::after {align-self: flex-end;width: 50%;}div.sk-parallel-item:last-child::after {align-self: flex-start;width: 50%;}div.sk-parallel-item:only-child::after {width: 0;}div.sk-dashed-wrapped {border: 1px dashed gray;margin: 0.2em;box-sizing: border-box;padding-bottom: 0.1em;background-color: white;position: relative;}div.sk-label label {font-family: monospace;font-weight: bold;background-color: white;display: inline-block;line-height: 1.2em;}div.sk-label-container {position: relative;z-index: 2;text-align: center;}div.sk-container {display: inline-block;position: relative;}</style><div class=\"sk-top-container\"><div class=\"sk-container\"><div class=\"sk-item sk-dashed-wrapped\"><div class=\"sk-label-container\"><div class=\"sk-label sk-toggleable\"><input class=\"sk-toggleable__control sk-hidden--visually\" id=\"1c5aa88f-ea41-4e78-979e-df621da86b6d\" type=\"checkbox\" ><label class=\"sk-toggleable__label\" for=\"1c5aa88f-ea41-4e78-979e-df621da86b6d\">GridSearchCV</label><div class=\"sk-toggleable__content\"><pre>GridSearchCV(cv=5,\n",
       "             estimator=Pipeline(steps=[('preprocesamiento', StandardScaler()),\n",
       "                                       ('regresion',\n",
       "                                        ElasticNet(max_iter=10000,\n",
       "                                                   tol=0.001))]),\n",
       "             param_grid=[{'preprocesamiento': [StandardScaler(), None],\n",
       "                          'regresion__alpha': [0.01, 0.3, 0.5, 0.7, 0.8],\n",
       "                          'regresion__l1_ratio': [0.01, 0.3, 0.5, 0.7, 0.8]}],\n",
       "             scoring='r2')</pre></div></div></div><div class=\"sk-parallel\"><div class=\"sk-parallel-item\"><div class=\"sk-item\"><div class=\"sk-serial\"><div class=\"sk-item\"><div class=\"sk-serial\"><div class=\"sk-item\"><div class=\"sk-estimator sk-toggleable\"><input class=\"sk-toggleable__control sk-hidden--visually\" id=\"6501af47-a322-44ec-a162-9e93d50c2e79\" type=\"checkbox\" ><label class=\"sk-toggleable__label\" for=\"6501af47-a322-44ec-a162-9e93d50c2e79\">StandardScaler</label><div class=\"sk-toggleable__content\"><pre>StandardScaler()</pre></div></div></div><div class=\"sk-item\"><div class=\"sk-estimator sk-toggleable\"><input class=\"sk-toggleable__control sk-hidden--visually\" id=\"a4b2374b-c4e5-4d58-a75a-f54742be34a4\" type=\"checkbox\" ><label class=\"sk-toggleable__label\" for=\"a4b2374b-c4e5-4d58-a75a-f54742be34a4\">ElasticNet</label><div class=\"sk-toggleable__content\"><pre>ElasticNet(max_iter=10000, tol=0.001)</pre></div></div></div></div></div></div></div></div></div></div></div></div>"
      ],
      "text/plain": [
       "GridSearchCV(cv=5,\n",
       "             estimator=Pipeline(steps=[('preprocesamiento', StandardScaler()),\n",
       "                                       ('regresion',\n",
       "                                        ElasticNet(max_iter=10000,\n",
       "                                                   tol=0.001))]),\n",
       "             param_grid=[{'preprocesamiento': [StandardScaler(), None],\n",
       "                          'regresion__alpha': [0.01, 0.3, 0.5, 0.7, 0.8],\n",
       "                          'regresion__l1_ratio': [0.01, 0.3, 0.5, 0.7, 0.8]}],\n",
       "             scoring='r2')"
      ]
     },
     "execution_count": 347,
     "metadata": {},
     "output_type": "execute_result"
    }
   ],
   "source": [
    "pasos = [('preprocesamiento', StandardScaler()),\\\n",
    "         ('regresion', ElasticNet(max_iter=10000, tol=0.001))\n",
    "        ]\n",
    "\n",
    "pipe_grid_en = Pipeline(pasos)\n",
    "\n",
    "param_grid_en = [{'preprocesamiento':[StandardScaler(), None],\n",
    "                  'regresion__alpha':[0.01, 0.3, 0.5, 0.7, 0.8],\n",
    "                  'regresion__l1_ratio':[0.01, 0.3, 0.5, 0.7, 0.8],\n",
    "                }]\n",
    "\n",
    "grid_en = GridSearchCV(estimator=pipe_grid_en, param_grid=param_grid_en, cv=folds, scoring='r2')\n",
    "grid_en.fit(X_train, y_train)"
   ]
  },
  {
   "cell_type": "code",
   "execution_count": 348,
   "metadata": {},
   "outputs": [
    {
     "data": {
      "text/plain": [
       "0.4592874219445971"
      ]
     },
     "execution_count": 348,
     "metadata": {},
     "output_type": "execute_result"
    }
   ],
   "source": [
    "grid_en.best_score_"
   ]
  },
  {
   "cell_type": "code",
   "execution_count": 349,
   "metadata": {},
   "outputs": [
    {
     "data": {
      "text/html": [
       "<style>div.sk-top-container {color: black;background-color: white;}div.sk-toggleable {background-color: white;}label.sk-toggleable__label {cursor: pointer;display: block;width: 100%;margin-bottom: 0;padding: 0.2em 0.3em;box-sizing: border-box;text-align: center;}div.sk-toggleable__content {max-height: 0;max-width: 0;overflow: hidden;text-align: left;background-color: #f0f8ff;}div.sk-toggleable__content pre {margin: 0.2em;color: black;border-radius: 0.25em;background-color: #f0f8ff;}input.sk-toggleable__control:checked~div.sk-toggleable__content {max-height: 200px;max-width: 100%;overflow: auto;}div.sk-estimator input.sk-toggleable__control:checked~label.sk-toggleable__label {background-color: #d4ebff;}div.sk-label input.sk-toggleable__control:checked~label.sk-toggleable__label {background-color: #d4ebff;}input.sk-hidden--visually {border: 0;clip: rect(1px 1px 1px 1px);clip: rect(1px, 1px, 1px, 1px);height: 1px;margin: -1px;overflow: hidden;padding: 0;position: absolute;width: 1px;}div.sk-estimator {font-family: monospace;background-color: #f0f8ff;margin: 0.25em 0.25em;border: 1px dotted black;border-radius: 0.25em;box-sizing: border-box;}div.sk-estimator:hover {background-color: #d4ebff;}div.sk-parallel-item::after {content: \"\";width: 100%;border-bottom: 1px solid gray;flex-grow: 1;}div.sk-label:hover label.sk-toggleable__label {background-color: #d4ebff;}div.sk-serial::before {content: \"\";position: absolute;border-left: 1px solid gray;box-sizing: border-box;top: 2em;bottom: 0;left: 50%;}div.sk-serial {display: flex;flex-direction: column;align-items: center;background-color: white;}div.sk-item {z-index: 1;}div.sk-parallel {display: flex;align-items: stretch;justify-content: center;background-color: white;}div.sk-parallel-item {display: flex;flex-direction: column;position: relative;background-color: white;}div.sk-parallel-item:first-child::after {align-self: flex-end;width: 50%;}div.sk-parallel-item:last-child::after {align-self: flex-start;width: 50%;}div.sk-parallel-item:only-child::after {width: 0;}div.sk-dashed-wrapped {border: 1px dashed gray;margin: 0.2em;box-sizing: border-box;padding-bottom: 0.1em;background-color: white;position: relative;}div.sk-label label {font-family: monospace;font-weight: bold;background-color: white;display: inline-block;line-height: 1.2em;}div.sk-label-container {position: relative;z-index: 2;text-align: center;}div.sk-container {display: inline-block;position: relative;}</style><div class=\"sk-top-container\"><div class=\"sk-container\"><div class=\"sk-item sk-dashed-wrapped\"><div class=\"sk-label-container\"><div class=\"sk-label sk-toggleable\"><input class=\"sk-toggleable__control sk-hidden--visually\" id=\"91e26049-acdc-4949-ae3b-f05d64cd21a5\" type=\"checkbox\" ><label class=\"sk-toggleable__label\" for=\"91e26049-acdc-4949-ae3b-f05d64cd21a5\">Pipeline</label><div class=\"sk-toggleable__content\"><pre>Pipeline(steps=[('preprocesamiento', StandardScaler()),\n",
       "                ('regresion',\n",
       "                 ElasticNet(alpha=0.01, l1_ratio=0.8, max_iter=10000,\n",
       "                            tol=0.001))])</pre></div></div></div><div class=\"sk-serial\"><div class=\"sk-item\"><div class=\"sk-estimator sk-toggleable\"><input class=\"sk-toggleable__control sk-hidden--visually\" id=\"a4653e67-f803-4e31-896c-e7ed079119eb\" type=\"checkbox\" ><label class=\"sk-toggleable__label\" for=\"a4653e67-f803-4e31-896c-e7ed079119eb\">StandardScaler</label><div class=\"sk-toggleable__content\"><pre>StandardScaler()</pre></div></div></div><div class=\"sk-item\"><div class=\"sk-estimator sk-toggleable\"><input class=\"sk-toggleable__control sk-hidden--visually\" id=\"b05edee1-89c8-4394-9314-239ac2f86000\" type=\"checkbox\" ><label class=\"sk-toggleable__label\" for=\"b05edee1-89c8-4394-9314-239ac2f86000\">ElasticNet</label><div class=\"sk-toggleable__content\"><pre>ElasticNet(alpha=0.01, l1_ratio=0.8, max_iter=10000, tol=0.001)</pre></div></div></div></div></div></div></div>"
      ],
      "text/plain": [
       "Pipeline(steps=[('preprocesamiento', StandardScaler()),\n",
       "                ('regresion',\n",
       "                 ElasticNet(alpha=0.01, l1_ratio=0.8, max_iter=10000,\n",
       "                            tol=0.001))])"
      ]
     },
     "execution_count": 349,
     "metadata": {},
     "output_type": "execute_result"
    }
   ],
   "source": [
    "grid_en.best_estimator_"
   ]
  },
  {
   "cell_type": "markdown",
   "metadata": {},
   "source": [
    "#### Random Forest"
   ]
  },
  {
   "cell_type": "code",
   "execution_count": 350,
   "metadata": {},
   "outputs": [
    {
     "data": {
      "text/html": [
       "<style>div.sk-top-container {color: black;background-color: white;}div.sk-toggleable {background-color: white;}label.sk-toggleable__label {cursor: pointer;display: block;width: 100%;margin-bottom: 0;padding: 0.2em 0.3em;box-sizing: border-box;text-align: center;}div.sk-toggleable__content {max-height: 0;max-width: 0;overflow: hidden;text-align: left;background-color: #f0f8ff;}div.sk-toggleable__content pre {margin: 0.2em;color: black;border-radius: 0.25em;background-color: #f0f8ff;}input.sk-toggleable__control:checked~div.sk-toggleable__content {max-height: 200px;max-width: 100%;overflow: auto;}div.sk-estimator input.sk-toggleable__control:checked~label.sk-toggleable__label {background-color: #d4ebff;}div.sk-label input.sk-toggleable__control:checked~label.sk-toggleable__label {background-color: #d4ebff;}input.sk-hidden--visually {border: 0;clip: rect(1px 1px 1px 1px);clip: rect(1px, 1px, 1px, 1px);height: 1px;margin: -1px;overflow: hidden;padding: 0;position: absolute;width: 1px;}div.sk-estimator {font-family: monospace;background-color: #f0f8ff;margin: 0.25em 0.25em;border: 1px dotted black;border-radius: 0.25em;box-sizing: border-box;}div.sk-estimator:hover {background-color: #d4ebff;}div.sk-parallel-item::after {content: \"\";width: 100%;border-bottom: 1px solid gray;flex-grow: 1;}div.sk-label:hover label.sk-toggleable__label {background-color: #d4ebff;}div.sk-serial::before {content: \"\";position: absolute;border-left: 1px solid gray;box-sizing: border-box;top: 2em;bottom: 0;left: 50%;}div.sk-serial {display: flex;flex-direction: column;align-items: center;background-color: white;}div.sk-item {z-index: 1;}div.sk-parallel {display: flex;align-items: stretch;justify-content: center;background-color: white;}div.sk-parallel-item {display: flex;flex-direction: column;position: relative;background-color: white;}div.sk-parallel-item:first-child::after {align-self: flex-end;width: 50%;}div.sk-parallel-item:last-child::after {align-self: flex-start;width: 50%;}div.sk-parallel-item:only-child::after {width: 0;}div.sk-dashed-wrapped {border: 1px dashed gray;margin: 0.2em;box-sizing: border-box;padding-bottom: 0.1em;background-color: white;position: relative;}div.sk-label label {font-family: monospace;font-weight: bold;background-color: white;display: inline-block;line-height: 1.2em;}div.sk-label-container {position: relative;z-index: 2;text-align: center;}div.sk-container {display: inline-block;position: relative;}</style><div class=\"sk-top-container\"><div class=\"sk-container\"><div class=\"sk-item sk-dashed-wrapped\"><div class=\"sk-label-container\"><div class=\"sk-label sk-toggleable\"><input class=\"sk-toggleable__control sk-hidden--visually\" id=\"1b1f283b-2ff2-49c2-81fd-63b6598f4848\" type=\"checkbox\" ><label class=\"sk-toggleable__label\" for=\"1b1f283b-2ff2-49c2-81fd-63b6598f4848\">GridSearchCV</label><div class=\"sk-toggleable__content\"><pre>GridSearchCV(cv=5,\n",
       "             estimator=Pipeline(steps=[('preprocesamiento', StandardScaler()),\n",
       "                                       ('regresion', RandomForestRegressor())]),\n",
       "             param_grid=[{'preprocesamiento': [StandardScaler(), None],\n",
       "                          'regresion__max_depth': [5, 10],\n",
       "                          'regresion__n_estimators': [500, 1000]}],\n",
       "             scoring='r2')</pre></div></div></div><div class=\"sk-parallel\"><div class=\"sk-parallel-item\"><div class=\"sk-item\"><div class=\"sk-serial\"><div class=\"sk-item\"><div class=\"sk-serial\"><div class=\"sk-item\"><div class=\"sk-estimator sk-toggleable\"><input class=\"sk-toggleable__control sk-hidden--visually\" id=\"8a15278e-eb69-4ab9-8938-1e288a882608\" type=\"checkbox\" ><label class=\"sk-toggleable__label\" for=\"8a15278e-eb69-4ab9-8938-1e288a882608\">StandardScaler</label><div class=\"sk-toggleable__content\"><pre>StandardScaler()</pre></div></div></div><div class=\"sk-item\"><div class=\"sk-estimator sk-toggleable\"><input class=\"sk-toggleable__control sk-hidden--visually\" id=\"86c9b2db-a44a-44e0-8ffb-53535728d17a\" type=\"checkbox\" ><label class=\"sk-toggleable__label\" for=\"86c9b2db-a44a-44e0-8ffb-53535728d17a\">RandomForestRegressor</label><div class=\"sk-toggleable__content\"><pre>RandomForestRegressor()</pre></div></div></div></div></div></div></div></div></div></div></div></div>"
      ],
      "text/plain": [
       "GridSearchCV(cv=5,\n",
       "             estimator=Pipeline(steps=[('preprocesamiento', StandardScaler()),\n",
       "                                       ('regresion', RandomForestRegressor())]),\n",
       "             param_grid=[{'preprocesamiento': [StandardScaler(), None],\n",
       "                          'regresion__max_depth': [5, 10],\n",
       "                          'regresion__n_estimators': [500, 1000]}],\n",
       "             scoring='r2')"
      ]
     },
     "execution_count": 350,
     "metadata": {},
     "output_type": "execute_result"
    }
   ],
   "source": [
    "pasos = [('preprocesamiento', StandardScaler()),\\\n",
    "         ('regresion', RandomForestRegressor())\n",
    "        ]\n",
    "\n",
    "pipe_grid_rf = Pipeline(pasos)\n",
    "\n",
    "param_grid_rf = [{'preprocesamiento':[StandardScaler(), None],\n",
    "                  'regresion__n_estimators': [500, 1000],\n",
    "                  'regresion__max_depth': [5, 10]\n",
    "                }]\n",
    "\n",
    "grid_rf = GridSearchCV(estimator=pipe_grid_rf, param_grid=param_grid_rf, cv=folds, scoring='r2')\n",
    "grid_rf.fit(X_train, y_train)"
   ]
  },
  {
   "cell_type": "code",
   "execution_count": 351,
   "metadata": {},
   "outputs": [
    {
     "data": {
      "text/plain": [
       "0.46544935047989505"
      ]
     },
     "execution_count": 351,
     "metadata": {},
     "output_type": "execute_result"
    }
   ],
   "source": [
    "grid_rf.best_score_"
   ]
  },
  {
   "cell_type": "code",
   "execution_count": 352,
   "metadata": {},
   "outputs": [
    {
     "data": {
      "text/html": [
       "<style>div.sk-top-container {color: black;background-color: white;}div.sk-toggleable {background-color: white;}label.sk-toggleable__label {cursor: pointer;display: block;width: 100%;margin-bottom: 0;padding: 0.2em 0.3em;box-sizing: border-box;text-align: center;}div.sk-toggleable__content {max-height: 0;max-width: 0;overflow: hidden;text-align: left;background-color: #f0f8ff;}div.sk-toggleable__content pre {margin: 0.2em;color: black;border-radius: 0.25em;background-color: #f0f8ff;}input.sk-toggleable__control:checked~div.sk-toggleable__content {max-height: 200px;max-width: 100%;overflow: auto;}div.sk-estimator input.sk-toggleable__control:checked~label.sk-toggleable__label {background-color: #d4ebff;}div.sk-label input.sk-toggleable__control:checked~label.sk-toggleable__label {background-color: #d4ebff;}input.sk-hidden--visually {border: 0;clip: rect(1px 1px 1px 1px);clip: rect(1px, 1px, 1px, 1px);height: 1px;margin: -1px;overflow: hidden;padding: 0;position: absolute;width: 1px;}div.sk-estimator {font-family: monospace;background-color: #f0f8ff;margin: 0.25em 0.25em;border: 1px dotted black;border-radius: 0.25em;box-sizing: border-box;}div.sk-estimator:hover {background-color: #d4ebff;}div.sk-parallel-item::after {content: \"\";width: 100%;border-bottom: 1px solid gray;flex-grow: 1;}div.sk-label:hover label.sk-toggleable__label {background-color: #d4ebff;}div.sk-serial::before {content: \"\";position: absolute;border-left: 1px solid gray;box-sizing: border-box;top: 2em;bottom: 0;left: 50%;}div.sk-serial {display: flex;flex-direction: column;align-items: center;background-color: white;}div.sk-item {z-index: 1;}div.sk-parallel {display: flex;align-items: stretch;justify-content: center;background-color: white;}div.sk-parallel-item {display: flex;flex-direction: column;position: relative;background-color: white;}div.sk-parallel-item:first-child::after {align-self: flex-end;width: 50%;}div.sk-parallel-item:last-child::after {align-self: flex-start;width: 50%;}div.sk-parallel-item:only-child::after {width: 0;}div.sk-dashed-wrapped {border: 1px dashed gray;margin: 0.2em;box-sizing: border-box;padding-bottom: 0.1em;background-color: white;position: relative;}div.sk-label label {font-family: monospace;font-weight: bold;background-color: white;display: inline-block;line-height: 1.2em;}div.sk-label-container {position: relative;z-index: 2;text-align: center;}div.sk-container {display: inline-block;position: relative;}</style><div class=\"sk-top-container\"><div class=\"sk-container\"><div class=\"sk-item sk-dashed-wrapped\"><div class=\"sk-label-container\"><div class=\"sk-label sk-toggleable\"><input class=\"sk-toggleable__control sk-hidden--visually\" id=\"1bb00826-e3a6-4d47-ba83-82668ea55ca4\" type=\"checkbox\" ><label class=\"sk-toggleable__label\" for=\"1bb00826-e3a6-4d47-ba83-82668ea55ca4\">Pipeline</label><div class=\"sk-toggleable__content\"><pre>Pipeline(steps=[('preprocesamiento', StandardScaler()),\n",
       "                ('regresion',\n",
       "                 RandomForestRegressor(max_depth=10, n_estimators=1000))])</pre></div></div></div><div class=\"sk-serial\"><div class=\"sk-item\"><div class=\"sk-estimator sk-toggleable\"><input class=\"sk-toggleable__control sk-hidden--visually\" id=\"705d8e60-aef4-40dd-bf24-ad9d8e85c158\" type=\"checkbox\" ><label class=\"sk-toggleable__label\" for=\"705d8e60-aef4-40dd-bf24-ad9d8e85c158\">StandardScaler</label><div class=\"sk-toggleable__content\"><pre>StandardScaler()</pre></div></div></div><div class=\"sk-item\"><div class=\"sk-estimator sk-toggleable\"><input class=\"sk-toggleable__control sk-hidden--visually\" id=\"d8107bb3-7d25-40a3-9ef2-cdfd00d859ce\" type=\"checkbox\" ><label class=\"sk-toggleable__label\" for=\"d8107bb3-7d25-40a3-9ef2-cdfd00d859ce\">RandomForestRegressor</label><div class=\"sk-toggleable__content\"><pre>RandomForestRegressor(max_depth=10, n_estimators=1000)</pre></div></div></div></div></div></div></div>"
      ],
      "text/plain": [
       "Pipeline(steps=[('preprocesamiento', StandardScaler()),\n",
       "                ('regresion',\n",
       "                 RandomForestRegressor(max_depth=10, n_estimators=1000))])"
      ]
     },
     "execution_count": 352,
     "metadata": {},
     "output_type": "execute_result"
    }
   ],
   "source": [
    "grid_rf.best_estimator_"
   ]
  },
  {
   "cell_type": "markdown",
   "metadata": {},
   "source": [
    "#### Gradient Boosting Regressor"
   ]
  },
  {
   "cell_type": "code",
   "execution_count": 353,
   "metadata": {},
   "outputs": [
    {
     "data": {
      "text/html": [
       "<style>div.sk-top-container {color: black;background-color: white;}div.sk-toggleable {background-color: white;}label.sk-toggleable__label {cursor: pointer;display: block;width: 100%;margin-bottom: 0;padding: 0.2em 0.3em;box-sizing: border-box;text-align: center;}div.sk-toggleable__content {max-height: 0;max-width: 0;overflow: hidden;text-align: left;background-color: #f0f8ff;}div.sk-toggleable__content pre {margin: 0.2em;color: black;border-radius: 0.25em;background-color: #f0f8ff;}input.sk-toggleable__control:checked~div.sk-toggleable__content {max-height: 200px;max-width: 100%;overflow: auto;}div.sk-estimator input.sk-toggleable__control:checked~label.sk-toggleable__label {background-color: #d4ebff;}div.sk-label input.sk-toggleable__control:checked~label.sk-toggleable__label {background-color: #d4ebff;}input.sk-hidden--visually {border: 0;clip: rect(1px 1px 1px 1px);clip: rect(1px, 1px, 1px, 1px);height: 1px;margin: -1px;overflow: hidden;padding: 0;position: absolute;width: 1px;}div.sk-estimator {font-family: monospace;background-color: #f0f8ff;margin: 0.25em 0.25em;border: 1px dotted black;border-radius: 0.25em;box-sizing: border-box;}div.sk-estimator:hover {background-color: #d4ebff;}div.sk-parallel-item::after {content: \"\";width: 100%;border-bottom: 1px solid gray;flex-grow: 1;}div.sk-label:hover label.sk-toggleable__label {background-color: #d4ebff;}div.sk-serial::before {content: \"\";position: absolute;border-left: 1px solid gray;box-sizing: border-box;top: 2em;bottom: 0;left: 50%;}div.sk-serial {display: flex;flex-direction: column;align-items: center;background-color: white;}div.sk-item {z-index: 1;}div.sk-parallel {display: flex;align-items: stretch;justify-content: center;background-color: white;}div.sk-parallel-item {display: flex;flex-direction: column;position: relative;background-color: white;}div.sk-parallel-item:first-child::after {align-self: flex-end;width: 50%;}div.sk-parallel-item:last-child::after {align-self: flex-start;width: 50%;}div.sk-parallel-item:only-child::after {width: 0;}div.sk-dashed-wrapped {border: 1px dashed gray;margin: 0.2em;box-sizing: border-box;padding-bottom: 0.1em;background-color: white;position: relative;}div.sk-label label {font-family: monospace;font-weight: bold;background-color: white;display: inline-block;line-height: 1.2em;}div.sk-label-container {position: relative;z-index: 2;text-align: center;}div.sk-container {display: inline-block;position: relative;}</style><div class=\"sk-top-container\"><div class=\"sk-container\"><div class=\"sk-item sk-dashed-wrapped\"><div class=\"sk-label-container\"><div class=\"sk-label sk-toggleable\"><input class=\"sk-toggleable__control sk-hidden--visually\" id=\"a3805776-65b1-43be-8b43-79c86b247539\" type=\"checkbox\" ><label class=\"sk-toggleable__label\" for=\"a3805776-65b1-43be-8b43-79c86b247539\">GridSearchCV</label><div class=\"sk-toggleable__content\"><pre>GridSearchCV(cv=5,\n",
       "             estimator=Pipeline(steps=[('preprocesamiento', StandardScaler()),\n",
       "                                       ('regresion',\n",
       "                                        GradientBoostingRegressor())]),\n",
       "             param_grid=[{'preprocesamiento': [StandardScaler(), None],\n",
       "                          'regresion__max_depth': [5, 10],\n",
       "                          'regresion__n_estimators': [500, 1000]}],\n",
       "             scoring='r2')</pre></div></div></div><div class=\"sk-parallel\"><div class=\"sk-parallel-item\"><div class=\"sk-item\"><div class=\"sk-serial\"><div class=\"sk-item\"><div class=\"sk-serial\"><div class=\"sk-item\"><div class=\"sk-estimator sk-toggleable\"><input class=\"sk-toggleable__control sk-hidden--visually\" id=\"4c75cb2b-77cc-4918-a5c1-dbb04fef4609\" type=\"checkbox\" ><label class=\"sk-toggleable__label\" for=\"4c75cb2b-77cc-4918-a5c1-dbb04fef4609\">StandardScaler</label><div class=\"sk-toggleable__content\"><pre>StandardScaler()</pre></div></div></div><div class=\"sk-item\"><div class=\"sk-estimator sk-toggleable\"><input class=\"sk-toggleable__control sk-hidden--visually\" id=\"3988fb0c-5ec6-4baa-a186-afcc902c53dd\" type=\"checkbox\" ><label class=\"sk-toggleable__label\" for=\"3988fb0c-5ec6-4baa-a186-afcc902c53dd\">GradientBoostingRegressor</label><div class=\"sk-toggleable__content\"><pre>GradientBoostingRegressor()</pre></div></div></div></div></div></div></div></div></div></div></div></div>"
      ],
      "text/plain": [
       "GridSearchCV(cv=5,\n",
       "             estimator=Pipeline(steps=[('preprocesamiento', StandardScaler()),\n",
       "                                       ('regresion',\n",
       "                                        GradientBoostingRegressor())]),\n",
       "             param_grid=[{'preprocesamiento': [StandardScaler(), None],\n",
       "                          'regresion__max_depth': [5, 10],\n",
       "                          'regresion__n_estimators': [500, 1000]}],\n",
       "             scoring='r2')"
      ]
     },
     "execution_count": 353,
     "metadata": {},
     "output_type": "execute_result"
    }
   ],
   "source": [
    "pasos = [('preprocesamiento', StandardScaler()),\\\n",
    "         ('regresion', GradientBoostingRegressor())\n",
    "        ]\n",
    "\n",
    "pipe_grid_gb = Pipeline(pasos)\n",
    "\n",
    "param_grid_gb = [{'preprocesamiento':[StandardScaler(), None],\n",
    "                  'regresion__n_estimators': [500, 1000],\n",
    "                  'regresion__max_depth': [5, 10]\n",
    "                }]\n",
    "\n",
    "grid_gb = GridSearchCV(estimator=pipe_grid_gb, param_grid=param_grid_gb, cv=folds, scoring='r2')\n",
    "grid_gb.fit(X_train, y_train)"
   ]
  },
  {
   "cell_type": "code",
   "execution_count": 354,
   "metadata": {},
   "outputs": [
    {
     "data": {
      "text/plain": [
       "0.5776567569915252"
      ]
     },
     "execution_count": 354,
     "metadata": {},
     "output_type": "execute_result"
    }
   ],
   "source": [
    "grid_gb.best_score_"
   ]
  },
  {
   "cell_type": "code",
   "execution_count": 355,
   "metadata": {},
   "outputs": [
    {
     "data": {
      "text/html": [
       "<style>div.sk-top-container {color: black;background-color: white;}div.sk-toggleable {background-color: white;}label.sk-toggleable__label {cursor: pointer;display: block;width: 100%;margin-bottom: 0;padding: 0.2em 0.3em;box-sizing: border-box;text-align: center;}div.sk-toggleable__content {max-height: 0;max-width: 0;overflow: hidden;text-align: left;background-color: #f0f8ff;}div.sk-toggleable__content pre {margin: 0.2em;color: black;border-radius: 0.25em;background-color: #f0f8ff;}input.sk-toggleable__control:checked~div.sk-toggleable__content {max-height: 200px;max-width: 100%;overflow: auto;}div.sk-estimator input.sk-toggleable__control:checked~label.sk-toggleable__label {background-color: #d4ebff;}div.sk-label input.sk-toggleable__control:checked~label.sk-toggleable__label {background-color: #d4ebff;}input.sk-hidden--visually {border: 0;clip: rect(1px 1px 1px 1px);clip: rect(1px, 1px, 1px, 1px);height: 1px;margin: -1px;overflow: hidden;padding: 0;position: absolute;width: 1px;}div.sk-estimator {font-family: monospace;background-color: #f0f8ff;margin: 0.25em 0.25em;border: 1px dotted black;border-radius: 0.25em;box-sizing: border-box;}div.sk-estimator:hover {background-color: #d4ebff;}div.sk-parallel-item::after {content: \"\";width: 100%;border-bottom: 1px solid gray;flex-grow: 1;}div.sk-label:hover label.sk-toggleable__label {background-color: #d4ebff;}div.sk-serial::before {content: \"\";position: absolute;border-left: 1px solid gray;box-sizing: border-box;top: 2em;bottom: 0;left: 50%;}div.sk-serial {display: flex;flex-direction: column;align-items: center;background-color: white;}div.sk-item {z-index: 1;}div.sk-parallel {display: flex;align-items: stretch;justify-content: center;background-color: white;}div.sk-parallel-item {display: flex;flex-direction: column;position: relative;background-color: white;}div.sk-parallel-item:first-child::after {align-self: flex-end;width: 50%;}div.sk-parallel-item:last-child::after {align-self: flex-start;width: 50%;}div.sk-parallel-item:only-child::after {width: 0;}div.sk-dashed-wrapped {border: 1px dashed gray;margin: 0.2em;box-sizing: border-box;padding-bottom: 0.1em;background-color: white;position: relative;}div.sk-label label {font-family: monospace;font-weight: bold;background-color: white;display: inline-block;line-height: 1.2em;}div.sk-label-container {position: relative;z-index: 2;text-align: center;}div.sk-container {display: inline-block;position: relative;}</style><div class=\"sk-top-container\"><div class=\"sk-container\"><div class=\"sk-item sk-dashed-wrapped\"><div class=\"sk-label-container\"><div class=\"sk-label sk-toggleable\"><input class=\"sk-toggleable__control sk-hidden--visually\" id=\"81d7c4a5-5d7f-4eb4-aa1b-c6f9a258344e\" type=\"checkbox\" ><label class=\"sk-toggleable__label\" for=\"81d7c4a5-5d7f-4eb4-aa1b-c6f9a258344e\">Pipeline</label><div class=\"sk-toggleable__content\"><pre>Pipeline(steps=[('preprocesamiento', StandardScaler()),\n",
       "                ('regresion',\n",
       "                 GradientBoostingRegressor(max_depth=5, n_estimators=500))])</pre></div></div></div><div class=\"sk-serial\"><div class=\"sk-item\"><div class=\"sk-estimator sk-toggleable\"><input class=\"sk-toggleable__control sk-hidden--visually\" id=\"67dca922-716f-487e-8842-c1e4b499d848\" type=\"checkbox\" ><label class=\"sk-toggleable__label\" for=\"67dca922-716f-487e-8842-c1e4b499d848\">StandardScaler</label><div class=\"sk-toggleable__content\"><pre>StandardScaler()</pre></div></div></div><div class=\"sk-item\"><div class=\"sk-estimator sk-toggleable\"><input class=\"sk-toggleable__control sk-hidden--visually\" id=\"f54b9cd7-2d6e-4203-acdf-63121589fd93\" type=\"checkbox\" ><label class=\"sk-toggleable__label\" for=\"f54b9cd7-2d6e-4203-acdf-63121589fd93\">GradientBoostingRegressor</label><div class=\"sk-toggleable__content\"><pre>GradientBoostingRegressor(max_depth=5, n_estimators=500)</pre></div></div></div></div></div></div></div>"
      ],
      "text/plain": [
       "Pipeline(steps=[('preprocesamiento', StandardScaler()),\n",
       "                ('regresion',\n",
       "                 GradientBoostingRegressor(max_depth=5, n_estimators=500))])"
      ]
     },
     "execution_count": 355,
     "metadata": {},
     "output_type": "execute_result"
    }
   ],
   "source": [
    "grid_gb.best_estimator_"
   ]
  },
  {
   "cell_type": "markdown",
   "metadata": {},
   "source": [
    "#### Ada Boost Regressor"
   ]
  },
  {
   "cell_type": "code",
   "execution_count": 356,
   "metadata": {},
   "outputs": [
    {
     "data": {
      "text/html": [
       "<style>div.sk-top-container {color: black;background-color: white;}div.sk-toggleable {background-color: white;}label.sk-toggleable__label {cursor: pointer;display: block;width: 100%;margin-bottom: 0;padding: 0.2em 0.3em;box-sizing: border-box;text-align: center;}div.sk-toggleable__content {max-height: 0;max-width: 0;overflow: hidden;text-align: left;background-color: #f0f8ff;}div.sk-toggleable__content pre {margin: 0.2em;color: black;border-radius: 0.25em;background-color: #f0f8ff;}input.sk-toggleable__control:checked~div.sk-toggleable__content {max-height: 200px;max-width: 100%;overflow: auto;}div.sk-estimator input.sk-toggleable__control:checked~label.sk-toggleable__label {background-color: #d4ebff;}div.sk-label input.sk-toggleable__control:checked~label.sk-toggleable__label {background-color: #d4ebff;}input.sk-hidden--visually {border: 0;clip: rect(1px 1px 1px 1px);clip: rect(1px, 1px, 1px, 1px);height: 1px;margin: -1px;overflow: hidden;padding: 0;position: absolute;width: 1px;}div.sk-estimator {font-family: monospace;background-color: #f0f8ff;margin: 0.25em 0.25em;border: 1px dotted black;border-radius: 0.25em;box-sizing: border-box;}div.sk-estimator:hover {background-color: #d4ebff;}div.sk-parallel-item::after {content: \"\";width: 100%;border-bottom: 1px solid gray;flex-grow: 1;}div.sk-label:hover label.sk-toggleable__label {background-color: #d4ebff;}div.sk-serial::before {content: \"\";position: absolute;border-left: 1px solid gray;box-sizing: border-box;top: 2em;bottom: 0;left: 50%;}div.sk-serial {display: flex;flex-direction: column;align-items: center;background-color: white;}div.sk-item {z-index: 1;}div.sk-parallel {display: flex;align-items: stretch;justify-content: center;background-color: white;}div.sk-parallel-item {display: flex;flex-direction: column;position: relative;background-color: white;}div.sk-parallel-item:first-child::after {align-self: flex-end;width: 50%;}div.sk-parallel-item:last-child::after {align-self: flex-start;width: 50%;}div.sk-parallel-item:only-child::after {width: 0;}div.sk-dashed-wrapped {border: 1px dashed gray;margin: 0.2em;box-sizing: border-box;padding-bottom: 0.1em;background-color: white;position: relative;}div.sk-label label {font-family: monospace;font-weight: bold;background-color: white;display: inline-block;line-height: 1.2em;}div.sk-label-container {position: relative;z-index: 2;text-align: center;}div.sk-container {display: inline-block;position: relative;}</style><div class=\"sk-top-container\"><div class=\"sk-container\"><div class=\"sk-item sk-dashed-wrapped\"><div class=\"sk-label-container\"><div class=\"sk-label sk-toggleable\"><input class=\"sk-toggleable__control sk-hidden--visually\" id=\"44a2de81-e632-4163-a38e-6425df99d076\" type=\"checkbox\" ><label class=\"sk-toggleable__label\" for=\"44a2de81-e632-4163-a38e-6425df99d076\">GridSearchCV</label><div class=\"sk-toggleable__content\"><pre>GridSearchCV(cv=5,\n",
       "             estimator=Pipeline(steps=[('preprocesamiento', StandardScaler()),\n",
       "                                       ('regresion', AdaBoostRegressor())]),\n",
       "             param_grid=[{'preprocesamiento': [StandardScaler(), None],\n",
       "                          'regresion__learning_rate': [0.01, 0.1, 0.3, 1],\n",
       "                          'regresion__n_estimators': [500, 1000]}],\n",
       "             scoring='r2')</pre></div></div></div><div class=\"sk-parallel\"><div class=\"sk-parallel-item\"><div class=\"sk-item\"><div class=\"sk-serial\"><div class=\"sk-item\"><div class=\"sk-serial\"><div class=\"sk-item\"><div class=\"sk-estimator sk-toggleable\"><input class=\"sk-toggleable__control sk-hidden--visually\" id=\"90250ae3-b3a1-4eb7-85cc-5ae7582d6dcf\" type=\"checkbox\" ><label class=\"sk-toggleable__label\" for=\"90250ae3-b3a1-4eb7-85cc-5ae7582d6dcf\">StandardScaler</label><div class=\"sk-toggleable__content\"><pre>StandardScaler()</pre></div></div></div><div class=\"sk-item\"><div class=\"sk-estimator sk-toggleable\"><input class=\"sk-toggleable__control sk-hidden--visually\" id=\"8e768594-106a-461c-ac0e-212e4469ad4e\" type=\"checkbox\" ><label class=\"sk-toggleable__label\" for=\"8e768594-106a-461c-ac0e-212e4469ad4e\">AdaBoostRegressor</label><div class=\"sk-toggleable__content\"><pre>AdaBoostRegressor()</pre></div></div></div></div></div></div></div></div></div></div></div></div>"
      ],
      "text/plain": [
       "GridSearchCV(cv=5,\n",
       "             estimator=Pipeline(steps=[('preprocesamiento', StandardScaler()),\n",
       "                                       ('regresion', AdaBoostRegressor())]),\n",
       "             param_grid=[{'preprocesamiento': [StandardScaler(), None],\n",
       "                          'regresion__learning_rate': [0.01, 0.1, 0.3, 1],\n",
       "                          'regresion__n_estimators': [500, 1000]}],\n",
       "             scoring='r2')"
      ]
     },
     "execution_count": 356,
     "metadata": {},
     "output_type": "execute_result"
    }
   ],
   "source": [
    "pasos = [('preprocesamiento', StandardScaler()),\\\n",
    "         ('regresion', AdaBoostRegressor())\n",
    "        ]\n",
    "\n",
    "pipe_grid_ab = Pipeline(pasos)\n",
    "\n",
    "param_grid_ab = [{'preprocesamiento':[StandardScaler(), None],\n",
    "                  'regresion__n_estimators': [500, 1000],\n",
    "                  'regresion__learning_rate':[0.01, 0.1, 0.3, 1]\n",
    "                }]\n",
    "\n",
    "grid_ab = GridSearchCV(estimator=pipe_grid_ab, param_grid=param_grid_ab, cv=folds, scoring='r2')\n",
    "grid_ab.fit(X_train, y_train)"
   ]
  },
  {
   "cell_type": "code",
   "execution_count": 357,
   "metadata": {},
   "outputs": [
    {
     "data": {
      "text/plain": [
       "0.21319991546105088"
      ]
     },
     "execution_count": 357,
     "metadata": {},
     "output_type": "execute_result"
    }
   ],
   "source": [
    "grid_ab.best_score_"
   ]
  },
  {
   "cell_type": "code",
   "execution_count": 358,
   "metadata": {},
   "outputs": [
    {
     "data": {
      "text/html": [
       "<style>div.sk-top-container {color: black;background-color: white;}div.sk-toggleable {background-color: white;}label.sk-toggleable__label {cursor: pointer;display: block;width: 100%;margin-bottom: 0;padding: 0.2em 0.3em;box-sizing: border-box;text-align: center;}div.sk-toggleable__content {max-height: 0;max-width: 0;overflow: hidden;text-align: left;background-color: #f0f8ff;}div.sk-toggleable__content pre {margin: 0.2em;color: black;border-radius: 0.25em;background-color: #f0f8ff;}input.sk-toggleable__control:checked~div.sk-toggleable__content {max-height: 200px;max-width: 100%;overflow: auto;}div.sk-estimator input.sk-toggleable__control:checked~label.sk-toggleable__label {background-color: #d4ebff;}div.sk-label input.sk-toggleable__control:checked~label.sk-toggleable__label {background-color: #d4ebff;}input.sk-hidden--visually {border: 0;clip: rect(1px 1px 1px 1px);clip: rect(1px, 1px, 1px, 1px);height: 1px;margin: -1px;overflow: hidden;padding: 0;position: absolute;width: 1px;}div.sk-estimator {font-family: monospace;background-color: #f0f8ff;margin: 0.25em 0.25em;border: 1px dotted black;border-radius: 0.25em;box-sizing: border-box;}div.sk-estimator:hover {background-color: #d4ebff;}div.sk-parallel-item::after {content: \"\";width: 100%;border-bottom: 1px solid gray;flex-grow: 1;}div.sk-label:hover label.sk-toggleable__label {background-color: #d4ebff;}div.sk-serial::before {content: \"\";position: absolute;border-left: 1px solid gray;box-sizing: border-box;top: 2em;bottom: 0;left: 50%;}div.sk-serial {display: flex;flex-direction: column;align-items: center;background-color: white;}div.sk-item {z-index: 1;}div.sk-parallel {display: flex;align-items: stretch;justify-content: center;background-color: white;}div.sk-parallel-item {display: flex;flex-direction: column;position: relative;background-color: white;}div.sk-parallel-item:first-child::after {align-self: flex-end;width: 50%;}div.sk-parallel-item:last-child::after {align-self: flex-start;width: 50%;}div.sk-parallel-item:only-child::after {width: 0;}div.sk-dashed-wrapped {border: 1px dashed gray;margin: 0.2em;box-sizing: border-box;padding-bottom: 0.1em;background-color: white;position: relative;}div.sk-label label {font-family: monospace;font-weight: bold;background-color: white;display: inline-block;line-height: 1.2em;}div.sk-label-container {position: relative;z-index: 2;text-align: center;}div.sk-container {display: inline-block;position: relative;}</style><div class=\"sk-top-container\"><div class=\"sk-container\"><div class=\"sk-item sk-dashed-wrapped\"><div class=\"sk-label-container\"><div class=\"sk-label sk-toggleable\"><input class=\"sk-toggleable__control sk-hidden--visually\" id=\"981e3b43-b205-4aec-9ca6-d000452663e1\" type=\"checkbox\" ><label class=\"sk-toggleable__label\" for=\"981e3b43-b205-4aec-9ca6-d000452663e1\">Pipeline</label><div class=\"sk-toggleable__content\"><pre>Pipeline(steps=[('preprocesamiento', None),\n",
       "                ('regresion',\n",
       "                 AdaBoostRegressor(learning_rate=0.01, n_estimators=500))])</pre></div></div></div><div class=\"sk-serial\"><div class=\"sk-item\"><div class=\"sk-estimator sk-toggleable\"><input class=\"sk-toggleable__control sk-hidden--visually\" id=\"8027aad4-0e74-42b2-8122-28a0e4ca9825\" type=\"checkbox\" ><label class=\"sk-toggleable__label\" for=\"8027aad4-0e74-42b2-8122-28a0e4ca9825\">None</label><div class=\"sk-toggleable__content\"><pre>None</pre></div></div></div><div class=\"sk-item\"><div class=\"sk-estimator sk-toggleable\"><input class=\"sk-toggleable__control sk-hidden--visually\" id=\"bee6b683-424c-4d22-b0d6-0d7d55fd4d28\" type=\"checkbox\" ><label class=\"sk-toggleable__label\" for=\"bee6b683-424c-4d22-b0d6-0d7d55fd4d28\">AdaBoostRegressor</label><div class=\"sk-toggleable__content\"><pre>AdaBoostRegressor(learning_rate=0.01, n_estimators=500)</pre></div></div></div></div></div></div></div>"
      ],
      "text/plain": [
       "Pipeline(steps=[('preprocesamiento', None),\n",
       "                ('regresion',\n",
       "                 AdaBoostRegressor(learning_rate=0.01, n_estimators=500))])"
      ]
     },
     "execution_count": 358,
     "metadata": {},
     "output_type": "execute_result"
    }
   ],
   "source": [
    "grid_ab.best_estimator_"
   ]
  },
  {
   "cell_type": "markdown",
   "metadata": {},
   "source": [
    "#### LightGBM Regressor"
   ]
  },
  {
   "cell_type": "code",
   "execution_count": 359,
   "metadata": {},
   "outputs": [
    {
     "name": "stderr",
     "output_type": "stream",
     "text": [
      "C:\\Users\\Lucas\\.conda\\envs\\dhdsblend\\lib\\site-packages\\sklearn\\model_selection\\_validation.py:552: FitFailedWarning: Estimator fit failed. The score on this train-test partition for these parameters will be set to nan. Details: \n",
      "Traceback (most recent call last):\n",
      "  File \"C:\\Users\\Lucas\\.conda\\envs\\dhdsblend\\lib\\site-packages\\sklearn\\model_selection\\_validation.py\", line 531, in _fit_and_score\n",
      "    estimator.fit(X_train, y_train, **fit_params)\n",
      "  File \"C:\\Users\\Lucas\\.conda\\envs\\dhdsblend\\lib\\site-packages\\sklearn\\pipeline.py\", line 335, in fit\n",
      "    self._final_estimator.fit(Xt, y, **fit_params_last_step)\n",
      "  File \"C:\\Users\\Lucas\\.conda\\envs\\dhdsblend\\lib\\site-packages\\lightgbm\\sklearn.py\", line 743, in fit\n",
      "    callbacks=callbacks)\n",
      "  File \"C:\\Users\\Lucas\\.conda\\envs\\dhdsblend\\lib\\site-packages\\lightgbm\\sklearn.py\", line 600, in fit\n",
      "    callbacks=callbacks)\n",
      "  File \"C:\\Users\\Lucas\\.conda\\envs\\dhdsblend\\lib\\site-packages\\lightgbm\\engine.py\", line 228, in train\n",
      "    booster = Booster(params=params, train_set=train_set)\n",
      "  File \"C:\\Users\\Lucas\\.conda\\envs\\dhdsblend\\lib\\site-packages\\lightgbm\\basic.py\", line 1714, in __init__\n",
      "    train_set.construct().handle,\n",
      "  File \"C:\\Users\\Lucas\\.conda\\envs\\dhdsblend\\lib\\site-packages\\lightgbm\\basic.py\", line 1085, in construct\n",
      "    categorical_feature=self.categorical_feature, params=self.params)\n",
      "  File \"C:\\Users\\Lucas\\.conda\\envs\\dhdsblend\\lib\\site-packages\\lightgbm\\basic.py\", line 915, in _lazy_init\n",
      "    return self.set_feature_name(feature_name)\n",
      "  File \"C:\\Users\\Lucas\\.conda\\envs\\dhdsblend\\lib\\site-packages\\lightgbm\\basic.py\", line 1368, in set_feature_name\n",
      "    ctypes.c_int(len(feature_name))))\n",
      "  File \"C:\\Users\\Lucas\\.conda\\envs\\dhdsblend\\lib\\site-packages\\lightgbm\\basic.py\", line 45, in _safe_call\n",
      "    raise LightGBMError(decode_string(_LIB.LGBM_GetLastError()))\n",
      "lightgbm.basic.LightGBMError: Do not support non-ASCII characters in feature name.\n",
      "\n",
      "  FitFailedWarning)\n"
     ]
    },
    {
     "data": {
      "text/html": [
       "<style>div.sk-top-container {color: black;background-color: white;}div.sk-toggleable {background-color: white;}label.sk-toggleable__label {cursor: pointer;display: block;width: 100%;margin-bottom: 0;padding: 0.2em 0.3em;box-sizing: border-box;text-align: center;}div.sk-toggleable__content {max-height: 0;max-width: 0;overflow: hidden;text-align: left;background-color: #f0f8ff;}div.sk-toggleable__content pre {margin: 0.2em;color: black;border-radius: 0.25em;background-color: #f0f8ff;}input.sk-toggleable__control:checked~div.sk-toggleable__content {max-height: 200px;max-width: 100%;overflow: auto;}div.sk-estimator input.sk-toggleable__control:checked~label.sk-toggleable__label {background-color: #d4ebff;}div.sk-label input.sk-toggleable__control:checked~label.sk-toggleable__label {background-color: #d4ebff;}input.sk-hidden--visually {border: 0;clip: rect(1px 1px 1px 1px);clip: rect(1px, 1px, 1px, 1px);height: 1px;margin: -1px;overflow: hidden;padding: 0;position: absolute;width: 1px;}div.sk-estimator {font-family: monospace;background-color: #f0f8ff;margin: 0.25em 0.25em;border: 1px dotted black;border-radius: 0.25em;box-sizing: border-box;}div.sk-estimator:hover {background-color: #d4ebff;}div.sk-parallel-item::after {content: \"\";width: 100%;border-bottom: 1px solid gray;flex-grow: 1;}div.sk-label:hover label.sk-toggleable__label {background-color: #d4ebff;}div.sk-serial::before {content: \"\";position: absolute;border-left: 1px solid gray;box-sizing: border-box;top: 2em;bottom: 0;left: 50%;}div.sk-serial {display: flex;flex-direction: column;align-items: center;background-color: white;}div.sk-item {z-index: 1;}div.sk-parallel {display: flex;align-items: stretch;justify-content: center;background-color: white;}div.sk-parallel-item {display: flex;flex-direction: column;position: relative;background-color: white;}div.sk-parallel-item:first-child::after {align-self: flex-end;width: 50%;}div.sk-parallel-item:last-child::after {align-self: flex-start;width: 50%;}div.sk-parallel-item:only-child::after {width: 0;}div.sk-dashed-wrapped {border: 1px dashed gray;margin: 0.2em;box-sizing: border-box;padding-bottom: 0.1em;background-color: white;position: relative;}div.sk-label label {font-family: monospace;font-weight: bold;background-color: white;display: inline-block;line-height: 1.2em;}div.sk-label-container {position: relative;z-index: 2;text-align: center;}div.sk-container {display: inline-block;position: relative;}</style><div class=\"sk-top-container\"><div class=\"sk-container\"><div class=\"sk-item sk-dashed-wrapped\"><div class=\"sk-label-container\"><div class=\"sk-label sk-toggleable\"><input class=\"sk-toggleable__control sk-hidden--visually\" id=\"7e6e3622-9d33-4eb7-af88-ac860821b7ad\" type=\"checkbox\" ><label class=\"sk-toggleable__label\" for=\"7e6e3622-9d33-4eb7-af88-ac860821b7ad\">GridSearchCV</label><div class=\"sk-toggleable__content\"><pre>GridSearchCV(cv=5,\n",
       "             estimator=Pipeline(steps=[('preprocesamiento', StandardScaler()),\n",
       "                                       ('regresion', LGBMRegressor())]),\n",
       "             param_grid=[{'preprocesamiento': [StandardScaler(), None],\n",
       "                          'regresion__learning_rate': [0.01, 0.1, 0.3, 1],\n",
       "                          'regresion__n_estimators': [500, 100]}],\n",
       "             scoring='r2')</pre></div></div></div><div class=\"sk-parallel\"><div class=\"sk-parallel-item\"><div class=\"sk-item\"><div class=\"sk-serial\"><div class=\"sk-item\"><div class=\"sk-serial\"><div class=\"sk-item\"><div class=\"sk-estimator sk-toggleable\"><input class=\"sk-toggleable__control sk-hidden--visually\" id=\"9a6b3494-8b9b-4b4e-bd8c-89c3a7cbd3be\" type=\"checkbox\" ><label class=\"sk-toggleable__label\" for=\"9a6b3494-8b9b-4b4e-bd8c-89c3a7cbd3be\">StandardScaler</label><div class=\"sk-toggleable__content\"><pre>StandardScaler()</pre></div></div></div><div class=\"sk-item\"><div class=\"sk-estimator sk-toggleable\"><input class=\"sk-toggleable__control sk-hidden--visually\" id=\"71619e88-7933-418f-9eb9-0807ef559384\" type=\"checkbox\" ><label class=\"sk-toggleable__label\" for=\"71619e88-7933-418f-9eb9-0807ef559384\">LGBMRegressor</label><div class=\"sk-toggleable__content\"><pre>LGBMRegressor()</pre></div></div></div></div></div></div></div></div></div></div></div></div>"
      ],
      "text/plain": [
       "GridSearchCV(cv=5,\n",
       "             estimator=Pipeline(steps=[('preprocesamiento', StandardScaler()),\n",
       "                                       ('regresion', LGBMRegressor())]),\n",
       "             param_grid=[{'preprocesamiento': [StandardScaler(), None],\n",
       "                          'regresion__learning_rate': [0.01, 0.1, 0.3, 1],\n",
       "                          'regresion__n_estimators': [500, 100]}],\n",
       "             scoring='r2')"
      ]
     },
     "execution_count": 359,
     "metadata": {},
     "output_type": "execute_result"
    }
   ],
   "source": [
    "pasos = [('preprocesamiento', StandardScaler()),\\\n",
    "         ('regresion', LGBMRegressor())\n",
    "        ]\n",
    "\n",
    "pipe_grid_lg = Pipeline(pasos)\n",
    "\n",
    "param_grid_lg = [{'preprocesamiento':[StandardScaler(), None],\n",
    "                  'regresion__n_estimators': [500, 100],\n",
    "                  'regresion__learning_rate':[0.01, 0.1, 0.3, 1]\n",
    "                }]\n",
    "\n",
    "grid_lg = GridSearchCV(estimator=pipe_grid_lg, param_grid=param_grid_lg, cv=folds, scoring='r2')\n",
    "grid_lg.fit(X_train, y_train)"
   ]
  },
  {
   "cell_type": "code",
   "execution_count": 360,
   "metadata": {},
   "outputs": [
    {
     "data": {
      "text/plain": [
       "0.5874483826418688"
      ]
     },
     "execution_count": 360,
     "metadata": {},
     "output_type": "execute_result"
    }
   ],
   "source": [
    "grid_lg.best_score_"
   ]
  },
  {
   "cell_type": "code",
   "execution_count": 361,
   "metadata": {},
   "outputs": [
    {
     "data": {
      "text/html": [
       "<style>div.sk-top-container {color: black;background-color: white;}div.sk-toggleable {background-color: white;}label.sk-toggleable__label {cursor: pointer;display: block;width: 100%;margin-bottom: 0;padding: 0.2em 0.3em;box-sizing: border-box;text-align: center;}div.sk-toggleable__content {max-height: 0;max-width: 0;overflow: hidden;text-align: left;background-color: #f0f8ff;}div.sk-toggleable__content pre {margin: 0.2em;color: black;border-radius: 0.25em;background-color: #f0f8ff;}input.sk-toggleable__control:checked~div.sk-toggleable__content {max-height: 200px;max-width: 100%;overflow: auto;}div.sk-estimator input.sk-toggleable__control:checked~label.sk-toggleable__label {background-color: #d4ebff;}div.sk-label input.sk-toggleable__control:checked~label.sk-toggleable__label {background-color: #d4ebff;}input.sk-hidden--visually {border: 0;clip: rect(1px 1px 1px 1px);clip: rect(1px, 1px, 1px, 1px);height: 1px;margin: -1px;overflow: hidden;padding: 0;position: absolute;width: 1px;}div.sk-estimator {font-family: monospace;background-color: #f0f8ff;margin: 0.25em 0.25em;border: 1px dotted black;border-radius: 0.25em;box-sizing: border-box;}div.sk-estimator:hover {background-color: #d4ebff;}div.sk-parallel-item::after {content: \"\";width: 100%;border-bottom: 1px solid gray;flex-grow: 1;}div.sk-label:hover label.sk-toggleable__label {background-color: #d4ebff;}div.sk-serial::before {content: \"\";position: absolute;border-left: 1px solid gray;box-sizing: border-box;top: 2em;bottom: 0;left: 50%;}div.sk-serial {display: flex;flex-direction: column;align-items: center;background-color: white;}div.sk-item {z-index: 1;}div.sk-parallel {display: flex;align-items: stretch;justify-content: center;background-color: white;}div.sk-parallel-item {display: flex;flex-direction: column;position: relative;background-color: white;}div.sk-parallel-item:first-child::after {align-self: flex-end;width: 50%;}div.sk-parallel-item:last-child::after {align-self: flex-start;width: 50%;}div.sk-parallel-item:only-child::after {width: 0;}div.sk-dashed-wrapped {border: 1px dashed gray;margin: 0.2em;box-sizing: border-box;padding-bottom: 0.1em;background-color: white;position: relative;}div.sk-label label {font-family: monospace;font-weight: bold;background-color: white;display: inline-block;line-height: 1.2em;}div.sk-label-container {position: relative;z-index: 2;text-align: center;}div.sk-container {display: inline-block;position: relative;}</style><div class=\"sk-top-container\"><div class=\"sk-container\"><div class=\"sk-item sk-dashed-wrapped\"><div class=\"sk-label-container\"><div class=\"sk-label sk-toggleable\"><input class=\"sk-toggleable__control sk-hidden--visually\" id=\"33b6a7f9-923e-40ad-a8d1-1ce3ee66718a\" type=\"checkbox\" ><label class=\"sk-toggleable__label\" for=\"33b6a7f9-923e-40ad-a8d1-1ce3ee66718a\">Pipeline</label><div class=\"sk-toggleable__content\"><pre>Pipeline(steps=[('preprocesamiento', StandardScaler()),\n",
       "                ('regresion', LGBMRegressor(n_estimators=500))])</pre></div></div></div><div class=\"sk-serial\"><div class=\"sk-item\"><div class=\"sk-estimator sk-toggleable\"><input class=\"sk-toggleable__control sk-hidden--visually\" id=\"bcbf59f6-f8bc-4f61-9484-582825781e59\" type=\"checkbox\" ><label class=\"sk-toggleable__label\" for=\"bcbf59f6-f8bc-4f61-9484-582825781e59\">StandardScaler</label><div class=\"sk-toggleable__content\"><pre>StandardScaler()</pre></div></div></div><div class=\"sk-item\"><div class=\"sk-estimator sk-toggleable\"><input class=\"sk-toggleable__control sk-hidden--visually\" id=\"60975cae-1d04-4729-a60f-82bd3f84b840\" type=\"checkbox\" ><label class=\"sk-toggleable__label\" for=\"60975cae-1d04-4729-a60f-82bd3f84b840\">LGBMRegressor</label><div class=\"sk-toggleable__content\"><pre>LGBMRegressor(n_estimators=500)</pre></div></div></div></div></div></div></div>"
      ],
      "text/plain": [
       "Pipeline(steps=[('preprocesamiento', StandardScaler()),\n",
       "                ('regresion', LGBMRegressor(n_estimators=500))])"
      ]
     },
     "execution_count": 361,
     "metadata": {},
     "output_type": "execute_result"
    }
   ],
   "source": [
    "grid_lg.best_estimator_"
   ]
  },
  {
   "cell_type": "markdown",
   "metadata": {},
   "source": [
    "### 14) Resultado de los modelos"
   ]
  },
  {
   "cell_type": "code",
   "execution_count": 363,
   "metadata": {},
   "outputs": [
    {
     "data": {
      "text/html": [
       "<div>\n",
       "<style scoped>\n",
       "    .dataframe tbody tr th:only-of-type {\n",
       "        vertical-align: middle;\n",
       "    }\n",
       "\n",
       "    .dataframe tbody tr th {\n",
       "        vertical-align: top;\n",
       "    }\n",
       "\n",
       "    .dataframe thead th {\n",
       "        text-align: right;\n",
       "    }\n",
       "</style>\n",
       "<table border=\"1\" class=\"dataframe\">\n",
       "  <thead>\n",
       "    <tr style=\"text-align: right;\">\n",
       "      <th></th>\n",
       "      <th>Modelos</th>\n",
       "      <th>R2</th>\n",
       "    </tr>\n",
       "  </thead>\n",
       "  <tbody>\n",
       "    <tr>\n",
       "      <th>7</th>\n",
       "      <td>LightGBM</td>\n",
       "      <td>0.587448</td>\n",
       "    </tr>\n",
       "    <tr>\n",
       "      <th>5</th>\n",
       "      <td>Gradient Boost</td>\n",
       "      <td>0.577657</td>\n",
       "    </tr>\n",
       "    <tr>\n",
       "      <th>4</th>\n",
       "      <td>Random</td>\n",
       "      <td>0.465449</td>\n",
       "    </tr>\n",
       "    <tr>\n",
       "      <th>2</th>\n",
       "      <td>Lasso</td>\n",
       "      <td>0.459473</td>\n",
       "    </tr>\n",
       "    <tr>\n",
       "      <th>1</th>\n",
       "      <td>Ridge</td>\n",
       "      <td>0.459339</td>\n",
       "    </tr>\n",
       "    <tr>\n",
       "      <th>0</th>\n",
       "      <td>Regresion Linear</td>\n",
       "      <td>0.459293</td>\n",
       "    </tr>\n",
       "    <tr>\n",
       "      <th>3</th>\n",
       "      <td>Elastic Net</td>\n",
       "      <td>0.459287</td>\n",
       "    </tr>\n",
       "    <tr>\n",
       "      <th>6</th>\n",
       "      <td>AdaBoost</td>\n",
       "      <td>0.213200</td>\n",
       "    </tr>\n",
       "  </tbody>\n",
       "</table>\n",
       "</div>"
      ],
      "text/plain": [
       "            Modelos        R2\n",
       "7          LightGBM  0.587448\n",
       "5    Gradient Boost  0.577657\n",
       "4            Random  0.465449\n",
       "2             Lasso  0.459473\n",
       "1             Ridge  0.459339\n",
       "0  Regresion Linear  0.459293\n",
       "3       Elastic Net  0.459287\n",
       "6          AdaBoost  0.213200"
      ]
     },
     "execution_count": 363,
     "metadata": {},
     "output_type": "execute_result"
    }
   ],
   "source": [
    "resultados = pd.DataFrame({'Modelos':['Regresion Linear', 'Ridge', 'Lasso', 'Elastic Net','Random', 'Gradient Boost', 'AdaBoost', 'LightGBM'],\n",
    "                           'R2':[grid_lr.best_score_, grid_rid.best_score_, grid_lass.best_score_, grid_en.best_score_, grid_rf.best_score_, grid_gb.best_score_,\\\n",
    "                                 grid_ab.best_score_, grid_lg.best_score_]\n",
    "                         })\n",
    "resultados.sort_values(by='R2', ascending=False)"
   ]
  }
 ],
 "metadata": {
  "kernelspec": {
   "display_name": "Python 3",
   "language": "python",
   "name": "python3"
  },
  "language_info": {
   "codemirror_mode": {
    "name": "ipython",
    "version": 3
   },
   "file_extension": ".py",
   "mimetype": "text/x-python",
   "name": "python",
   "nbconvert_exporter": "python",
   "pygments_lexer": "ipython3",
   "version": "3.7.9"
  }
 },
 "nbformat": 4,
 "nbformat_minor": 4
}
