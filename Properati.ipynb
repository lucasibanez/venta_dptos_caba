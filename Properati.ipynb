{
 "cells": [
  {
   "cell_type": "code",
   "execution_count": 1,
   "metadata": {},
   "outputs": [],
   "source": [
    "import pandas as pd\n",
    "import numpy as np\n",
    "import matplotlib.pyplot as plt\n",
    "import missingno as msno \n",
    "import re\n",
    "import seaborn as sns\n",
    "import geopandas as gp\n",
    "from shapely import wkt\n",
    "\n",
    "sns.set()"
   ]
  },
  {
   "cell_type": "markdown",
   "metadata": {},
   "source": [
    "1) Carga del dataset\n",
    "\n",
    "2) Eleccion de departamentos de la zona de CABA\n",
    "\n",
    "3) Datos nulos\n",
    "\n",
    "4) Rescate de valores nulos usando regex en:\n",
    "\n",
    "* Titulo\n",
    "* Descripción\n",
    "* URL \n",
    "\n",
    "5) Amenities usando regex:\n",
    "* Pileta\n",
    "* Cochera\n",
    "* Parrilla \n",
    "* SUM\n",
    "\n",
    "6) Verificacion de la calidad de los datos\n",
    "\n",
    "7) Visualizacion de distribucion de los datos\n",
    "\n",
    "8) Tratamiento de valores minimos y outliers \n",
    "\n",
    "9) Imputacion de valores nulos en las columnas seleccionadas\n",
    "\n",
    "10) Cercanias con diferentes puntos de la ciudad\n",
    "\n",
    "11) Dummies de variables categoricas\n",
    "\n",
    "12) Correlacion de variables\n",
    "\n",
    "13) Modelos de regresion\n",
    "\n",
    "14) Matriz de R2 de cada modelo\n",
    "\n",
    "15) Matriz de R2 Score de cada modelo usando en test"
   ]
  },
  {
   "cell_type": "code",
   "execution_count": 2,
   "metadata": {},
   "outputs": [],
   "source": [
    "df = pd.read_csv('C:/Users/Lucas/Desktop/ar_properties.csv')"
   ]
  },
  {
   "cell_type": "code",
   "execution_count": 3,
   "metadata": {},
   "outputs": [
    {
     "name": "stdout",
     "output_type": "stream",
     "text": [
      "<class 'pandas.core.frame.DataFrame'>\n",
      "RangeIndex: 1000000 entries, 0 to 999999\n",
      "Data columns (total 25 columns):\n",
      " #   Column           Non-Null Count    Dtype  \n",
      "---  ------           --------------    -----  \n",
      " 0   id               1000000 non-null  object \n",
      " 1   ad_type          1000000 non-null  object \n",
      " 2   start_date       1000000 non-null  object \n",
      " 3   end_date         1000000 non-null  object \n",
      " 4   created_on       1000000 non-null  object \n",
      " 5   lat              849062 non-null   float64\n",
      " 6   lon              847640 non-null   float64\n",
      " 7   l1               1000000 non-null  object \n",
      " 8   l2               1000000 non-null  object \n",
      " 9   l3               947081 non-null   object \n",
      " 10  l4               235216 non-null   object \n",
      " 11  l5               4687 non-null     object \n",
      " 12  l6               0 non-null        float64\n",
      " 13  rooms            527516 non-null   float64\n",
      " 14  bedrooms         469377 non-null   float64\n",
      " 15  bathrooms        773180 non-null   float64\n",
      " 16  surface_total    408342 non-null   float64\n",
      " 17  surface_covered  399022 non-null   float64\n",
      " 18  price            961139 non-null   float64\n",
      " 19  currency         959678 non-null   object \n",
      " 20  price_period     358511 non-null   object \n",
      " 21  title            1000000 non-null  object \n",
      " 22  description      999982 non-null   object \n",
      " 23  property_type    1000000 non-null  object \n",
      " 24  operation_type   1000000 non-null  object \n",
      "dtypes: float64(9), object(16)\n",
      "memory usage: 190.7+ MB\n"
     ]
    }
   ],
   "source": [
    "df.info()"
   ]
  },
  {
   "cell_type": "code",
   "execution_count": 4,
   "metadata": {},
   "outputs": [
    {
     "data": {
      "text/plain": [
       "Argentina         0.984259\n",
       "Uruguay           0.014844\n",
       "Estados Unidos    0.000725\n",
       "Brasil            0.000172\n",
       "Name: l1, dtype: float64"
      ]
     },
     "execution_count": 4,
     "metadata": {},
     "output_type": "execute_result"
    }
   ],
   "source": [
    "df.l1.value_counts(normalize=True)"
   ]
  },
  {
   "cell_type": "code",
   "execution_count": 5,
   "metadata": {},
   "outputs": [
    {
     "data": {
      "text/plain": [
       "USD    0.782251\n",
       "ARS    0.215966\n",
       "UYU    0.001648\n",
       "PEN    0.000134\n",
       "Name: currency, dtype: float64"
      ]
     },
     "execution_count": 5,
     "metadata": {},
     "output_type": "execute_result"
    }
   ],
   "source": [
    "df.currency.value_counts(normalize=True)"
   ]
  },
  {
   "cell_type": "code",
   "execution_count": 6,
   "metadata": {},
   "outputs": [
    {
     "data": {
      "text/plain": [
       "Capital Federal                 0.253145\n",
       "Buenos Aires Costa Atlántica    0.170931\n",
       "Bs.As. G.B.A. Zona Norte        0.141556\n",
       "Bs.As. G.B.A. Zona Sur          0.118931\n",
       "Santa Fe                        0.087835\n",
       "Bs.As. G.B.A. Zona Oeste        0.074995\n",
       "Córdoba                         0.058277\n",
       "Buenos Aires Interior           0.022790\n",
       "Neuquén                         0.011092\n",
       "Mendoza                         0.009942\n",
       "Maldonado                       0.008760\n",
       "Entre Ríos                      0.006033\n",
       "Río Negro                       0.005116\n",
       "Misiones                        0.005070\n",
       "Tucumán                         0.004943\n",
       "Montevideo                      0.004185\n",
       "Salta                           0.004034\n",
       "San Luis                        0.001918\n",
       "Colonia                         0.001221\n",
       "La Pampa                        0.001134\n",
       "Chaco                           0.001127\n",
       "San Juan                        0.001104\n",
       "Corrientes                      0.001036\n",
       "Chubut                          0.001033\n",
       "Jujuy                           0.000612\n",
       "Canelones                       0.000526\n",
       "Florida                         0.000398\n",
       "Santa Cruz                      0.000370\n",
       "Catamarca                       0.000340\n",
       "Tierra Del Fuego                0.000317\n",
       "Santiago Del Estero             0.000260\n",
       "La Rioja                        0.000248\n",
       "Michigan                        0.000163\n",
       "Rocha                           0.000152\n",
       "Miami                           0.000098\n",
       "São Paulo                       0.000088\n",
       "Formosa                         0.000070\n",
       "Maryland                        0.000052\n",
       "Rio Grande do Norte             0.000041\n",
       "Santa Catarina                  0.000028\n",
       "Rio de Janeiro                  0.000015\n",
       "Pennsylvania                    0.000013\n",
       "New York                        0.000001\n",
       "Name: l2, dtype: float64"
      ]
     },
     "execution_count": 6,
     "metadata": {},
     "output_type": "execute_result"
    }
   ],
   "source": [
    "df.l2.value_counts(normalize=True)"
   ]
  },
  {
   "cell_type": "code",
   "execution_count": 7,
   "metadata": {},
   "outputs": [
    {
     "data": {
      "text/plain": [
       "Mar del Plata           148969\n",
       "Rosario                  63669\n",
       "Tigre                    41965\n",
       "La Plata                 37384\n",
       "Palermo                  36706\n",
       "                         ...  \n",
       "Hucal                        1\n",
       "Ingeniero Chanourdie         1\n",
       "Pinzón                       1\n",
       "Villa Santa Rosa             1\n",
       "Palma Sola                   1\n",
       "Name: l3, Length: 1293, dtype: int64"
      ]
     },
     "execution_count": 7,
     "metadata": {},
     "output_type": "execute_result"
    }
   ],
   "source": [
    "df.l3.value_counts()"
   ]
  },
  {
   "cell_type": "code",
   "execution_count": 8,
   "metadata": {},
   "outputs": [
    {
     "data": {
      "text/plain": [
       "array(['Casa', 'Casa de campo', 'Lote', 'Departamento', 'Local comercial',\n",
       "       'Oficina', 'PH', 'Otro', 'Cochera', 'Depósito'], dtype=object)"
      ]
     },
     "execution_count": 8,
     "metadata": {},
     "output_type": "execute_result"
    }
   ],
   "source": [
    "df.property_type.unique()"
   ]
  },
  {
   "cell_type": "code",
   "execution_count": 9,
   "metadata": {},
   "outputs": [
    {
     "data": {
      "text/plain": [
       "Venta                0.779936\n",
       "Alquiler             0.186333\n",
       "Alquiler temporal    0.033731\n",
       "Name: operation_type, dtype: float64"
      ]
     },
     "execution_count": 9,
     "metadata": {},
     "output_type": "execute_result"
    }
   ],
   "source": [
    "df.operation_type.value_counts(normalize=True)"
   ]
  },
  {
   "cell_type": "markdown",
   "metadata": {},
   "source": [
    "### 2) Eleccion de departamentos en la zona de CABA"
   ]
  },
  {
   "cell_type": "code",
   "execution_count": 10,
   "metadata": {},
   "outputs": [],
   "source": [
    "mask = (df['property_type'] == 'Departamento') & \\\n",
    "       (df['currency'] == 'USD') & \\\n",
    "       (df['l2'] == 'Capital Federal') & \\\n",
    "       (df['operation_type'] == 'Venta')\n",
    "\n",
    "\n",
    "caba = df.loc[mask,:]"
   ]
  },
  {
   "cell_type": "code",
   "execution_count": 11,
   "metadata": {},
   "outputs": [
    {
     "data": {
      "text/plain": [
       "array([nan, 'Boca', 'Flores', 'Palermo', 'Barracas', 'Congreso',\n",
       "       'Monserrat', 'San Telmo', 'Colegiales', 'Tribunales',\n",
       "       'San Nicolás', 'Constitución', 'San Cristobal', 'Villa Urquiza',\n",
       "       'Nuñez', 'Almagro', 'Belgrano', 'Floresta', 'Recoleta',\n",
       "       'Balvanera', 'Chacarita', 'Mataderos', 'Barrio Norte',\n",
       "       'Puerto Madero', 'Villa del Parque', 'Villa Pueyrredón', 'Boedo',\n",
       "       'Retiro', 'Liniers', 'Paternal', 'Saavedra', 'Caballito',\n",
       "       'Villa Crespo', 'Villa Ortuzar', 'Parque Centenario', 'Once',\n",
       "       'Villa Real', 'Las Cañitas', 'Villa Devoto', 'Parque Avellaneda',\n",
       "       'Villa Santa Rita', 'Villa Luro', 'Villa Lugano',\n",
       "       'Parque Patricios', 'Velez Sarsfield', 'Parque Chacabuco',\n",
       "       'Coghlan', 'Monte Castro', 'Agronomía', 'Villa General Mitre',\n",
       "       'Abasto', 'Centro / Microcentro', 'Pompeya', 'Parque Chas',\n",
       "       'Versalles', 'Villa Soldati', 'Catalinas', 'Villa Riachuelo',\n",
       "       'Distrito Audiovisual'], dtype=object)"
      ]
     },
     "execution_count": 11,
     "metadata": {},
     "output_type": "execute_result"
    }
   ],
   "source": [
    "caba.l3.unique()"
   ]
  },
  {
   "cell_type": "code",
   "execution_count": 12,
   "metadata": {},
   "outputs": [
    {
     "name": "stderr",
     "output_type": "stream",
     "text": [
      "C:\\Users\\Lucas\\.conda\\envs\\dhdsblend\\lib\\site-packages\\pandas\\core\\frame.py:4133: SettingWithCopyWarning: \n",
      "A value is trying to be set on a copy of a slice from a DataFrame\n",
      "\n",
      "See the caveats in the documentation: https://pandas.pydata.org/pandas-docs/stable/user_guide/indexing.html#returning-a-view-versus-a-copy\n",
      "  errors=errors,\n"
     ]
    }
   ],
   "source": [
    "caba.rename(columns={'l3':'barrios'}, inplace=True)"
   ]
  },
  {
   "cell_type": "markdown",
   "metadata": {},
   "source": [
    "### 3) Cantidad de datos nulos del dataset CABA"
   ]
  },
  {
   "cell_type": "code",
   "execution_count": 13,
   "metadata": {
    "scrolled": true
   },
   "outputs": [
    {
     "data": {
      "text/plain": [
       "id                   0.000000\n",
       "ad_type              0.000000\n",
       "start_date           0.000000\n",
       "end_date             0.000000\n",
       "created_on           0.000000\n",
       "lat                  8.630001\n",
       "lon                  8.697277\n",
       "l1                   0.000000\n",
       "l2                   0.000000\n",
       "barrios              3.814169\n",
       "l4                  95.495319\n",
       "l5                 100.000000\n",
       "l6                 100.000000\n",
       "rooms                5.257797\n",
       "bedrooms            22.733644\n",
       "bathrooms            4.870027\n",
       "surface_total       24.760330\n",
       "surface_covered     24.153912\n",
       "price                0.000000\n",
       "currency             0.000000\n",
       "price_period        66.186392\n",
       "title                0.000000\n",
       "description          0.000000\n",
       "property_type        0.000000\n",
       "operation_type       0.000000\n",
       "dtype: float64"
      ]
     },
     "execution_count": 13,
     "metadata": {},
     "output_type": "execute_result"
    }
   ],
   "source": [
    "caba.isnull().sum()/caba.shape[0]*100"
   ]
  },
  {
   "cell_type": "markdown",
   "metadata": {},
   "source": [
    "### 4)Imputacion de  datos faltates usando regex"
   ]
  },
  {
   "cell_type": "markdown",
   "metadata": {},
   "source": [
    "Los datos faltantes que vamos a utilizar, vamos a buscar usando expresiones regulares en las columnas de 'Title', 'Description' y 'URL' del dataframe."
   ]
  },
  {
   "cell_type": "markdown",
   "metadata": {},
   "source": [
    "#### Superficie"
   ]
  },
  {
   "cell_type": "code",
   "execution_count": 14,
   "metadata": {},
   "outputs": [
    {
     "name": "stdout",
     "output_type": "stream",
     "text": [
      "Porcentaje de datos nulos en superficie total antes: 24.15 %\n"
     ]
    }
   ],
   "source": [
    "print('Porcentaje de datos nulos en superficie total antes:', (caba.surface_covered.isnull().sum()/caba.shape[0]*100).round(2), '%')"
   ]
  },
  {
   "cell_type": "code",
   "execution_count": 15,
   "metadata": {},
   "outputs": [
    {
     "name": "stderr",
     "output_type": "stream",
     "text": [
      "C:\\Users\\Lucas\\.conda\\envs\\dhdsblend\\lib\\site-packages\\pandas\\core\\generic.py:6245: SettingWithCopyWarning: \n",
      "A value is trying to be set on a copy of a slice from a DataFrame\n",
      "\n",
      "See the caveats in the documentation: https://pandas.pydata.org/pandas-docs/stable/user_guide/indexing.html#returning-a-view-versus-a-copy\n",
      "  self._update_inplace(new_data)\n"
     ]
    }
   ],
   "source": [
    "patron = '.*(?P<m2_total>\\d+)(\\s?[m]|\\s?[ms]|\\s?[m2]|\\s?[metros]|\\s?[m^2])'\n",
    "regex = re.compile(patron)\n",
    "    \n",
    "    #Description\n",
    "regular = caba[caba.surface_covered.isnull()].description.apply(lambda x: x if x is np.nan else regex.search(x))\n",
    "serie = regular.apply(lambda x: x if x is None or x is np.nan else x.group('m2_total')).astype('float64')\n",
    "caba.surface_covered.fillna(serie, inplace=True)\n",
    "\n",
    "patron = '.*(?P<m2_total>\\d+)(\\s?[m]|\\s[ms]|\\s?[m2]|\\s?[metros]|\\s?[m^2])'\n",
    "regex = re.compile(patron)\n",
    "    \n",
    "    #Title\n",
    "regular = caba[caba.surface_covered.isnull()].title.apply(lambda x: x if x is np.nan else regex.search(x))\n",
    "serie = regular.apply(lambda x: x if x is None or x is np.nan else x.group('m2_total')).astype('float64')\n",
    "caba.surface_covered.fillna(serie, inplace=True)"
   ]
  },
  {
   "cell_type": "code",
   "execution_count": 16,
   "metadata": {},
   "outputs": [
    {
     "name": "stdout",
     "output_type": "stream",
     "text": [
      "Porcentaje de datos nulos en superficie total despues de regex: 5.28 %\n"
     ]
    }
   ],
   "source": [
    "print('Porcentaje de datos nulos en superficie total despues de regex:', (caba.surface_covered.isnull().sum()/caba.shape[0]*100).round(2), '%')"
   ]
  },
  {
   "cell_type": "code",
   "execution_count": 17,
   "metadata": {},
   "outputs": [
    {
     "name": "stderr",
     "output_type": "stream",
     "text": [
      "C:\\Users\\Lucas\\.conda\\envs\\dhdsblend\\lib\\site-packages\\pandas\\core\\generic.py:5303: SettingWithCopyWarning: \n",
      "A value is trying to be set on a copy of a slice from a DataFrame.\n",
      "Try using .loc[row_indexer,col_indexer] = value instead\n",
      "\n",
      "See the caveats in the documentation: https://pandas.pydata.org/pandas-docs/stable/user_guide/indexing.html#returning-a-view-versus-a-copy\n",
      "  self[name] = value\n"
     ]
    }
   ],
   "source": [
    "caba.surface_covered = pd.to_numeric(caba.surface_covered, downcast='float')"
   ]
  },
  {
   "cell_type": "markdown",
   "metadata": {},
   "source": [
    "#### Rooms"
   ]
  },
  {
   "cell_type": "code",
   "execution_count": 18,
   "metadata": {},
   "outputs": [
    {
     "name": "stdout",
     "output_type": "stream",
     "text": [
      "Porcentaje de datos nulos en rooms antes: 5.26 %\n"
     ]
    }
   ],
   "source": [
    "print('Porcentaje de datos nulos en rooms antes:', (caba.rooms.isnull().sum()/caba.shape[0]*100).round(2), '%')"
   ]
  },
  {
   "cell_type": "code",
   "execution_count": 19,
   "metadata": {},
   "outputs": [],
   "source": [
    "patron = '.*(?P<amb>\\d+)(\\s?[ambientes]|\\s?[ambiente]|\\s?[amb])'\n",
    "regex = re.compile(patron)\n",
    "    \n",
    "    #Description\n",
    "regular = caba[caba.rooms.isnull()].description.apply(lambda x: x if x is np.nan else regex.search(x))\n",
    "serie = regular.apply(lambda x: x if x is None or x is np.nan else x.group('amb')).astype('float64')\n",
    "caba.rooms.fillna(serie, inplace=True)\n",
    "\n",
    "patron = '.*(?P<amb>\\d+)(\\s?[ambientes]|\\s?[ambiente]|\\s?[amb])'\n",
    "regex = re.compile(patron)\n",
    "    \n",
    "    #Title\n",
    "regular = caba[caba.rooms.isnull()].title.apply(lambda x: x if x is np.nan else regex.search(x))\n",
    "serie = regular.apply(lambda x: x if x is None or x is np.nan else x.group('amb')).astype('float64')\n",
    "caba.rooms.fillna(serie, inplace=True)"
   ]
  },
  {
   "cell_type": "code",
   "execution_count": 20,
   "metadata": {},
   "outputs": [
    {
     "name": "stdout",
     "output_type": "stream",
     "text": [
      "Porcentaje de datos nulos en rooms despues de regex: 1.49 %\n"
     ]
    }
   ],
   "source": [
    "print('Porcentaje de datos nulos en rooms despues de regex:', (caba.rooms.isnull().sum()/caba.shape[0]*100).round(2), '%')"
   ]
  },
  {
   "cell_type": "code",
   "execution_count": 21,
   "metadata": {},
   "outputs": [
    {
     "data": {
      "text/plain": [
       "2.0     31680\n",
       "3.0     28059\n",
       "1.0     22669\n",
       "4.0     15736\n",
       "5.0      3981\n",
       "6.0      1254\n",
       "0.0       963\n",
       "7.0       495\n",
       "8.0       351\n",
       "9.0       170\n",
       "10.0       34\n",
       "12.0       17\n",
       "14.0        4\n",
       "11.0        3\n",
       "15.0        3\n",
       "22.0        2\n",
       "21.0        1\n",
       "30.0        1\n",
       "Name: rooms, dtype: int64"
      ]
     },
     "execution_count": 21,
     "metadata": {},
     "output_type": "execute_result"
    }
   ],
   "source": [
    "caba.rooms.value_counts() #Encontramos floats y int"
   ]
  },
  {
   "cell_type": "code",
   "execution_count": 22,
   "metadata": {},
   "outputs": [],
   "source": [
    "caba.rooms.fillna(0, inplace=True) #Valores nan con 0 para eliminar los floats para que los datos esten uniformes. \n",
    "                                   #Valores nan se dara tratamiento en la seccion 9\n",
    "caba.rooms = pd.to_numeric(caba.rooms, downcast='integer')"
   ]
  },
  {
   "cell_type": "code",
   "execution_count": 23,
   "metadata": {},
   "outputs": [
    {
     "data": {
      "text/plain": [
       "2     31680\n",
       "3     28059\n",
       "1     22669\n",
       "4     15736\n",
       "5      3981\n",
       "0      2562\n",
       "6      1254\n",
       "7       495\n",
       "8       351\n",
       "9       170\n",
       "10       34\n",
       "12       17\n",
       "14        4\n",
       "11        3\n",
       "15        3\n",
       "22        2\n",
       "21        1\n",
       "30        1\n",
       "Name: rooms, dtype: int64"
      ]
     },
     "execution_count": 23,
     "metadata": {},
     "output_type": "execute_result"
    }
   ],
   "source": [
    "caba.rooms.value_counts()"
   ]
  },
  {
   "cell_type": "markdown",
   "metadata": {},
   "source": [
    "#### Bedrooms"
   ]
  },
  {
   "cell_type": "code",
   "execution_count": 24,
   "metadata": {},
   "outputs": [
    {
     "name": "stdout",
     "output_type": "stream",
     "text": [
      "Porcentaje de datos nulos en bedrooms antes: 22.73 %\n"
     ]
    }
   ],
   "source": [
    "print('Porcentaje de datos nulos en bedrooms antes:', (caba.bedrooms.isnull().sum()/caba.shape[0]*100).round(2), '%')"
   ]
  },
  {
   "cell_type": "code",
   "execution_count": 25,
   "metadata": {},
   "outputs": [],
   "source": [
    "patron = '.*(?P<bed>\\d+)(\\s?[cuarto]|\\s?[cuartos]|\\s?[habitacion]|\\s?[habitaciones]|\\s?[dormitorios]|\\s?[dormitorios]|\\s?[dorm]|\\s?[hab]|\\s?[dor])'\n",
    "regex = re.compile(patron)\n",
    "    \n",
    "    #Description\n",
    "regular = caba[caba.bedrooms.isnull()].description.apply(lambda x: x if x is np.nan else regex.search(x))\n",
    "serie = regular.apply(lambda x: x if x is None or x is np.nan else x.group('bed')).astype('float64')\n",
    "caba.bedrooms.fillna(serie, inplace=True)\n",
    "\n",
    "patron = '.*(?P<bed>\\d+)(\\s?[cuarto]|\\s?[cuartos]|\\s?[habitacion]|\\s?[habitaciones]|\\s?[dormitorios]|\\s?[dormitorios]|\\s?[dorm]|\\s?[hab]|\\s?[dor])'\n",
    "regex = re.compile(patron)\n",
    "    \n",
    "    #Title\n",
    "regular = caba[caba.bedrooms.isnull()].title.apply(lambda x: x if x is np.nan else regex.search(x))\n",
    "serie = regular.apply(lambda x: x if x is None or x is np.nan else x.group('bed')).astype('float64')\n",
    "caba.bedrooms.fillna(serie, inplace=True)"
   ]
  },
  {
   "cell_type": "code",
   "execution_count": 26,
   "metadata": {},
   "outputs": [
    {
     "name": "stdout",
     "output_type": "stream",
     "text": [
      "Porcentaje de datos nulos en bedrooms despues de regex: 4.25 %\n"
     ]
    }
   ],
   "source": [
    "print('Porcentaje de datos nulos en bedrooms despues de regex:', (caba.bedrooms.isnull().sum()/caba.shape[0]*100).round(2), '%')"
   ]
  },
  {
   "cell_type": "code",
   "execution_count": 27,
   "metadata": {},
   "outputs": [
    {
     "data": {
      "text/plain": [
       "1.0      39241\n",
       "2.0      30312\n",
       "3.0      17151\n",
       "0.0       5933\n",
       "4.0       5432\n",
       "5.0       1478\n",
       "7.0       1077\n",
       "6.0        746\n",
       "8.0        629\n",
       "9.0        433\n",
       "10.0        10\n",
       "11.0         8\n",
       "22.0         4\n",
       "77.0         3\n",
       "15.0         2\n",
       "21.0         2\n",
       "12.0         2\n",
       "153.0        2\n",
       "70.0         1\n",
       "130.0        1\n",
       "13.0         1\n",
       "14.0         1\n",
       "Name: bedrooms, dtype: int64"
      ]
     },
     "execution_count": 27,
     "metadata": {},
     "output_type": "execute_result"
    }
   ],
   "source": [
    "caba.bedrooms.value_counts()"
   ]
  },
  {
   "cell_type": "code",
   "execution_count": 28,
   "metadata": {},
   "outputs": [
    {
     "data": {
      "text/plain": [
       "1      39241\n",
       "2      30312\n",
       "3      17151\n",
       "0      10486\n",
       "4       5432\n",
       "5       1478\n",
       "7       1077\n",
       "6        746\n",
       "8        629\n",
       "9        433\n",
       "10        10\n",
       "11         8\n",
       "22         4\n",
       "77         3\n",
       "12         2\n",
       "15         2\n",
       "21         2\n",
       "153        2\n",
       "70         1\n",
       "13         1\n",
       "14         1\n",
       "130        1\n",
       "Name: bedrooms, dtype: int64"
      ]
     },
     "execution_count": 28,
     "metadata": {},
     "output_type": "execute_result"
    }
   ],
   "source": [
    "caba.bedrooms.fillna(0, inplace=True) #Valores nan con 0 para eliminar los floats para que los datos esten uniformes. \n",
    "                                   #Valores nan se dara tratamiento en la seccion 9\n",
    "caba.bedrooms = pd.to_numeric(caba.bedrooms, downcast='integer')\n",
    "caba.bedrooms.value_counts()"
   ]
  },
  {
   "cell_type": "markdown",
   "metadata": {},
   "source": [
    "#### Baños"
   ]
  },
  {
   "cell_type": "code",
   "execution_count": 29,
   "metadata": {},
   "outputs": [
    {
     "name": "stdout",
     "output_type": "stream",
     "text": [
      "Porcentaje de datos nulos en baños antes: 4.87 %\n"
     ]
    }
   ],
   "source": [
    "print('Porcentaje de datos nulos en baños antes:', (caba.bathrooms.isnull().sum()/caba.shape[0]*100).round(2), '%')"
   ]
  },
  {
   "cell_type": "code",
   "execution_count": 30,
   "metadata": {},
   "outputs": [],
   "source": [
    "patron = '.*(?P<bath>\\d+)(\\s?[baños]|\\s?[baño]|\\s?[toilette]|\\s?[toilettes])'\n",
    "regex = re.compile(patron)\n",
    "    \n",
    "    #Description\n",
    "regular = caba[caba.bathrooms.isnull()].description.apply(lambda x: x if x is np.nan else regex.search(x))\n",
    "serie = regular.apply(lambda x: x if x is None or x is np.nan else x.group('bath')).astype('float64')\n",
    "caba.bathrooms.fillna(serie, inplace=True)\n",
    "\n",
    "patron = '.*(?P<bath>\\d+)(\\s?[baños]|\\s?[baño]|\\s?[toilette]|\\s?[toilettes])'\n",
    "regex = re.compile(patron)\n",
    "    \n",
    "    #Title\n",
    "regular = caba[caba.bathrooms.isnull()].title.apply(lambda x: x if x is np.nan else regex.search(x))\n",
    "serie = regular.apply(lambda x: x if x is None or x is np.nan else x.group('bath')).astype('float64')\n",
    "caba.bathrooms.fillna(serie, inplace=True)"
   ]
  },
  {
   "cell_type": "code",
   "execution_count": 31,
   "metadata": {},
   "outputs": [
    {
     "name": "stdout",
     "output_type": "stream",
     "text": [
      "Porcentaje de datos nulos en baños despues de regex: 2.1 %\n"
     ]
    }
   ],
   "source": [
    "print('Porcentaje de datos nulos en baños despues de regex:', (caba.bathrooms.isnull().sum()/caba.shape[0]*100).round(2), '%')"
   ]
  },
  {
   "cell_type": "code",
   "execution_count": 32,
   "metadata": {},
   "outputs": [
    {
     "data": {
      "text/plain": [
       "1.0     69685\n",
       "2.0     23782\n",
       "3.0      7487\n",
       "4.0      2477\n",
       "5.0       769\n",
       "0.0       272\n",
       "6.0       221\n",
       "7.0        37\n",
       "8.0        21\n",
       "9.0        15\n",
       "11.0        3\n",
       "10.0        2\n",
       "20.0        1\n",
       "Name: bathrooms, dtype: int64"
      ]
     },
     "execution_count": 32,
     "metadata": {},
     "output_type": "execute_result"
    }
   ],
   "source": [
    "caba.bathrooms.value_counts()"
   ]
  },
  {
   "cell_type": "code",
   "execution_count": 33,
   "metadata": {},
   "outputs": [
    {
     "data": {
      "text/plain": [
       "1     69685\n",
       "2     23782\n",
       "3      7487\n",
       "0      2522\n",
       "4      2477\n",
       "5       769\n",
       "6       221\n",
       "7        37\n",
       "8        21\n",
       "9        15\n",
       "11        3\n",
       "10        2\n",
       "20        1\n",
       "Name: bathrooms, dtype: int64"
      ]
     },
     "execution_count": 33,
     "metadata": {},
     "output_type": "execute_result"
    }
   ],
   "source": [
    "caba.bathrooms.fillna(0, inplace=True) #Valores nan con 0 para eliminar los floats para que los datos esten uniformes. \n",
    "                                   #Valores nan se dara tratamiento en la seccion 9\n",
    "caba.bathrooms = pd.to_numeric(caba.bathrooms, downcast='integer')\n",
    "caba.bathrooms.value_counts()"
   ]
  },
  {
   "cell_type": "markdown",
   "metadata": {},
   "source": [
    "### 5) Busqueda de amenities usando expresiones regulares"
   ]
  },
  {
   "cell_type": "markdown",
   "metadata": {},
   "source": [
    "#### Pileta"
   ]
  },
  {
   "cell_type": "code",
   "execution_count": 34,
   "metadata": {},
   "outputs": [
    {
     "name": "stderr",
     "output_type": "stream",
     "text": [
      "C:\\Users\\Lucas\\.conda\\envs\\dhdsblend\\lib\\site-packages\\ipykernel_launcher.py:9: SettingWithCopyWarning: \n",
      "A value is trying to be set on a copy of a slice from a DataFrame.\n",
      "Try using .loc[row_indexer,col_indexer] = value instead\n",
      "\n",
      "See the caveats in the documentation: https://pandas.pydata.org/pandas-docs/stable/user_guide/indexing.html#returning-a-view-versus-a-copy\n",
      "  if __name__ == '__main__':\n",
      "C:\\Users\\Lucas\\.conda\\envs\\dhdsblend\\lib\\site-packages\\ipykernel_launcher.py:19: SettingWithCopyWarning: \n",
      "A value is trying to be set on a copy of a slice from a DataFrame.\n",
      "Try using .loc[row_indexer,col_indexer] = value instead\n",
      "\n",
      "See the caveats in the documentation: https://pandas.pydata.org/pandas-docs/stable/user_guide/indexing.html#returning-a-view-versus-a-copy\n"
     ]
    }
   ],
   "source": [
    "pattern_pileta = \"(?P<pile>[pP]ileta)\"\n",
    "pattern_pileta_regex = re.compile(pattern_pileta)\n",
    "description_series = caba.title.astype(str)\n",
    "resultado_pileta = description_series.apply(lambda x: x if x is np.nan else pattern_pileta_regex.search(x))\n",
    "pileta_match = resultado_pileta.apply(lambda x: x if x is None else x.group('pile'))\n",
    "\n",
    "pileta_match.replace('pileta', 'Pileta', inplace = True)\n",
    "\n",
    "caba['Pileta'] = pileta_match\n",
    "\n",
    "pattern_pileta = \"(?P<pile>[pP]ileta)\"\n",
    "pattern_pileta_regex = re.compile(pattern_pileta)\n",
    "description_series = caba.description.astype(str)\n",
    "resultado_pileta = description_series.apply(lambda x: x if x is np.nan else pattern_pileta_regex.search(x))\n",
    "pileta_match = resultado_pileta.apply(lambda x: x if x is None else x.group('pile'))\n",
    "\n",
    "pileta_match.replace('pileta', 'Pileta', inplace = True)\n",
    "\n",
    "caba['Pileta'] = pileta_match"
   ]
  },
  {
   "cell_type": "code",
   "execution_count": 35,
   "metadata": {},
   "outputs": [
    {
     "data": {
      "text/plain": [
       "Pileta    10684\n",
       "Name: Pileta, dtype: int64"
      ]
     },
     "execution_count": 35,
     "metadata": {},
     "output_type": "execute_result"
    }
   ],
   "source": [
    "caba.Pileta.value_counts()"
   ]
  },
  {
   "cell_type": "markdown",
   "metadata": {},
   "source": [
    "#### Chochera"
   ]
  },
  {
   "cell_type": "code",
   "execution_count": 36,
   "metadata": {},
   "outputs": [
    {
     "name": "stderr",
     "output_type": "stream",
     "text": [
      "C:\\Users\\Lucas\\.conda\\envs\\dhdsblend\\lib\\site-packages\\ipykernel_launcher.py:8: SettingWithCopyWarning: \n",
      "A value is trying to be set on a copy of a slice from a DataFrame.\n",
      "Try using .loc[row_indexer,col_indexer] = value instead\n",
      "\n",
      "See the caveats in the documentation: https://pandas.pydata.org/pandas-docs/stable/user_guide/indexing.html#returning-a-view-versus-a-copy\n",
      "  \n",
      "C:\\Users\\Lucas\\.conda\\envs\\dhdsblend\\lib\\site-packages\\ipykernel_launcher.py:17: SettingWithCopyWarning: \n",
      "A value is trying to be set on a copy of a slice from a DataFrame.\n",
      "Try using .loc[row_indexer,col_indexer] = value instead\n",
      "\n",
      "See the caveats in the documentation: https://pandas.pydata.org/pandas-docs/stable/user_guide/indexing.html#returning-a-view-versus-a-copy\n"
     ]
    }
   ],
   "source": [
    "pattern_cochera = \"(?P<coch>[cC]ochera)\"\n",
    "pattern_cochera_regex = re.compile(pattern_cochera)\n",
    "description_series = caba.title.astype(str)\n",
    "resultado_cochera = description_series.apply(lambda x: x if x is np.nan else pattern_cochera_regex.search(x))\n",
    "cochera_match = resultado_cochera.apply(lambda x: x if x is None else x.group('coch'))\n",
    "\n",
    "cochera_match.replace('cochera', 'Cochera', inplace = True)\n",
    "caba['Cochera'] = cochera_match\n",
    "\n",
    "pattern_cochera = \"(?P<coch>[cC]ochera)\"\n",
    "pattern_cochera_regex = re.compile(pattern_cochera)\n",
    "description_series = caba.description.astype(str)\n",
    "resultado_cochera = description_series.apply(lambda x: x if x is np.nan else pattern_cochera_regex.search(x))\n",
    "cochera_match = resultado_cochera.apply(lambda x: x if x is None else x.group('coch'))\n",
    "\n",
    "cochera_match.replace('cochera', 'Cochera', inplace = True)\n",
    "caba['Cochera'] = cochera_match"
   ]
  },
  {
   "cell_type": "code",
   "execution_count": 37,
   "metadata": {},
   "outputs": [
    {
     "data": {
      "text/plain": [
       "Cochera    31828\n",
       "Name: Cochera, dtype: int64"
      ]
     },
     "execution_count": 37,
     "metadata": {},
     "output_type": "execute_result"
    }
   ],
   "source": [
    "caba.Cochera.value_counts()"
   ]
  },
  {
   "cell_type": "markdown",
   "metadata": {},
   "source": [
    "#### Parrilla"
   ]
  },
  {
   "cell_type": "code",
   "execution_count": 38,
   "metadata": {},
   "outputs": [
    {
     "name": "stderr",
     "output_type": "stream",
     "text": [
      "C:\\Users\\Lucas\\.conda\\envs\\dhdsblend\\lib\\site-packages\\ipykernel_launcher.py:8: SettingWithCopyWarning: \n",
      "A value is trying to be set on a copy of a slice from a DataFrame.\n",
      "Try using .loc[row_indexer,col_indexer] = value instead\n",
      "\n",
      "See the caveats in the documentation: https://pandas.pydata.org/pandas-docs/stable/user_guide/indexing.html#returning-a-view-versus-a-copy\n",
      "  \n",
      "C:\\Users\\Lucas\\.conda\\envs\\dhdsblend\\lib\\site-packages\\ipykernel_launcher.py:17: SettingWithCopyWarning: \n",
      "A value is trying to be set on a copy of a slice from a DataFrame.\n",
      "Try using .loc[row_indexer,col_indexer] = value instead\n",
      "\n",
      "See the caveats in the documentation: https://pandas.pydata.org/pandas-docs/stable/user_guide/indexing.html#returning-a-view-versus-a-copy\n"
     ]
    }
   ],
   "source": [
    "pattern_parrilla = \"(?P<parri>[pP]arrilla)\"\n",
    "pattern_parrilla_regex = re.compile(pattern_parrilla)\n",
    "description_series = caba.title.astype(str)\n",
    "resultado_parrilla = description_series.apply(lambda x: x if x is np.nan else pattern_parrilla_regex.search(x))\n",
    "parrilla_match = resultado_parrilla.apply(lambda x: x if x is None else x.group('parri'))\n",
    "\n",
    "parrilla_match.replace('parrilla', 'Parrilla', inplace = True)\n",
    "caba['Parrilla'] = parrilla_match\n",
    "\n",
    "pattern_parrilla = \"(?P<parri>[pP]arrilla)\"\n",
    "pattern_parrilla_regex = re.compile(pattern_parrilla)\n",
    "description_series = caba.description.astype(str)\n",
    "resultado_parrilla = description_series.apply(lambda x: x if x is np.nan else pattern_parrilla_regex.search(x))\n",
    "parrilla_match = resultado_parrilla.apply(lambda x: x if x is None else x.group('parri'))\n",
    "\n",
    "parrilla_match.replace('parrilla', 'Parrilla', inplace = True)\n",
    "caba['Parrilla'] = parrilla_match"
   ]
  },
  {
   "cell_type": "code",
   "execution_count": 39,
   "metadata": {},
   "outputs": [
    {
     "data": {
      "text/plain": [
       "Parrilla    23490\n",
       "Name: Parrilla, dtype: int64"
      ]
     },
     "execution_count": 39,
     "metadata": {},
     "output_type": "execute_result"
    }
   ],
   "source": [
    "caba.Parrilla.value_counts()"
   ]
  },
  {
   "cell_type": "markdown",
   "metadata": {},
   "source": [
    "#### SUM"
   ]
  },
  {
   "cell_type": "code",
   "execution_count": 40,
   "metadata": {},
   "outputs": [
    {
     "name": "stderr",
     "output_type": "stream",
     "text": [
      "C:\\Users\\Lucas\\.conda\\envs\\dhdsblend\\lib\\site-packages\\ipykernel_launcher.py:8: SettingWithCopyWarning: \n",
      "A value is trying to be set on a copy of a slice from a DataFrame.\n",
      "Try using .loc[row_indexer,col_indexer] = value instead\n",
      "\n",
      "See the caveats in the documentation: https://pandas.pydata.org/pandas-docs/stable/user_guide/indexing.html#returning-a-view-versus-a-copy\n",
      "  \n",
      "C:\\Users\\Lucas\\.conda\\envs\\dhdsblend\\lib\\site-packages\\ipykernel_launcher.py:17: SettingWithCopyWarning: \n",
      "A value is trying to be set on a copy of a slice from a DataFrame.\n",
      "Try using .loc[row_indexer,col_indexer] = value instead\n",
      "\n",
      "See the caveats in the documentation: https://pandas.pydata.org/pandas-docs/stable/user_guide/indexing.html#returning-a-view-versus-a-copy\n"
     ]
    }
   ],
   "source": [
    "pattern_sum = \"(?P<sum>sum)\"\n",
    "pattern_sum_regex = re.compile(pattern_sum, re.IGNORECASE)\n",
    "description_series = caba.title.astype(str)\n",
    "resultado_sum = description_series.apply(lambda x: x if x is np.nan else pattern_sum_regex.search(x))\n",
    "sum_match = resultado_sum.apply(lambda x: x if x is None else x.group('sum'))\n",
    "\n",
    "sum_match.replace('sum', 'SUM', inplace = True)\n",
    "caba['sum'] = sum_match\n",
    "\n",
    "pattern_sum = \"(?P<sum>sum)\"\n",
    "pattern_sum_regex = re.compile(pattern_sum, re.IGNORECASE)\n",
    "description_series = caba.description.astype(str)\n",
    "resultado_sum = description_series.apply(lambda x: x if x is np.nan else pattern_sum_regex.search(x))\n",
    "sum_match = resultado_sum.apply(lambda x: x if x is None else x.group('sum'))\n",
    "\n",
    "sum_match.replace('sum', 'SUM', inplace = True)\n",
    "caba['sum'] = sum_match"
   ]
  },
  {
   "cell_type": "code",
   "execution_count": 41,
   "metadata": {},
   "outputs": [
    {
     "data": {
      "text/plain": [
       "SUM    21787\n",
       "Sum     4657\n",
       "SUm        1\n",
       "Name: sum, dtype: int64"
      ]
     },
     "execution_count": 41,
     "metadata": {},
     "output_type": "execute_result"
    }
   ],
   "source": [
    "caba['sum'].value_counts()"
   ]
  },
  {
   "cell_type": "code",
   "execution_count": 42,
   "metadata": {},
   "outputs": [
    {
     "name": "stderr",
     "output_type": "stream",
     "text": [
      "C:\\Users\\Lucas\\.conda\\envs\\dhdsblend\\lib\\site-packages\\pandas\\core\\generic.py:6746: SettingWithCopyWarning: \n",
      "A value is trying to be set on a copy of a slice from a DataFrame\n",
      "\n",
      "See the caveats in the documentation: https://pandas.pydata.org/pandas-docs/stable/user_guide/indexing.html#returning-a-view-versus-a-copy\n",
      "  self._update_inplace(new_data)\n"
     ]
    }
   ],
   "source": [
    "caba['sum'].replace('Sum', 'SUM', inplace=True)\n",
    "caba['sum'].replace('SUm', 'SUM', inplace=True)"
   ]
  },
  {
   "cell_type": "code",
   "execution_count": 43,
   "metadata": {},
   "outputs": [
    {
     "data": {
      "text/plain": [
       "SUM    26445\n",
       "Name: sum, dtype: int64"
      ]
     },
     "execution_count": 43,
     "metadata": {},
     "output_type": "execute_result"
    }
   ],
   "source": [
    "caba['sum'].value_counts()"
   ]
  },
  {
   "cell_type": "markdown",
   "metadata": {},
   "source": [
    "### 6) Verificacion de la calidad de los datos"
   ]
  },
  {
   "cell_type": "code",
   "execution_count": 44,
   "metadata": {},
   "outputs": [
    {
     "data": {
      "text/plain": [
       "Index(['id', 'ad_type', 'start_date', 'end_date', 'created_on', 'lat', 'lon',\n",
       "       'l1', 'l2', 'barrios', 'l4', 'l5', 'l6', 'rooms', 'bedrooms',\n",
       "       'bathrooms', 'surface_total', 'surface_covered', 'price', 'currency',\n",
       "       'price_period', 'title', 'description', 'property_type',\n",
       "       'operation_type', 'Pileta', 'Cochera', 'Parrilla', 'sum'],\n",
       "      dtype='object')"
      ]
     },
     "execution_count": 44,
     "metadata": {},
     "output_type": "execute_result"
    }
   ],
   "source": [
    "caba.columns"
   ]
  },
  {
   "cell_type": "code",
   "execution_count": 45,
   "metadata": {},
   "outputs": [
    {
     "data": {
      "text/plain": [
       "True"
      ]
     },
     "execution_count": 45,
     "metadata": {},
     "output_type": "execute_result"
    }
   ],
   "source": [
    "any(caba['surface_total'] == caba['surface_covered'])"
   ]
  },
  {
   "cell_type": "code",
   "execution_count": 46,
   "metadata": {},
   "outputs": [
    {
     "data": {
      "text/plain": [
       "True"
      ]
     },
     "execution_count": 46,
     "metadata": {},
     "output_type": "execute_result"
    }
   ],
   "source": [
    "any(caba['surface_total'] < caba['surface_covered']) #Vemos que hay datos inconsistentes aqui"
   ]
  },
  {
   "cell_type": "code",
   "execution_count": 47,
   "metadata": {},
   "outputs": [],
   "source": [
    "#Separamos las columnas que vamos a trabajar para analisis posteriores\n",
    "columns = ['barrios','lat','lon','surface_total', 'surface_covered',\n",
    "           'price', 'rooms', 'bedrooms', 'bathrooms', 'Pileta', 'Cochera', 'Parrilla', 'sum']"
   ]
  },
  {
   "cell_type": "code",
   "execution_count": 48,
   "metadata": {},
   "outputs": [
    {
     "data": {
      "text/html": [
       "<div>\n",
       "<style scoped>\n",
       "    .dataframe tbody tr th:only-of-type {\n",
       "        vertical-align: middle;\n",
       "    }\n",
       "\n",
       "    .dataframe tbody tr th {\n",
       "        vertical-align: top;\n",
       "    }\n",
       "\n",
       "    .dataframe thead th {\n",
       "        text-align: right;\n",
       "    }\n",
       "</style>\n",
       "<table border=\"1\" class=\"dataframe\">\n",
       "  <thead>\n",
       "    <tr style=\"text-align: right;\">\n",
       "      <th></th>\n",
       "      <th>barrios</th>\n",
       "      <th>lat</th>\n",
       "      <th>lon</th>\n",
       "      <th>surface_total</th>\n",
       "      <th>surface_covered</th>\n",
       "      <th>price</th>\n",
       "      <th>rooms</th>\n",
       "      <th>bedrooms</th>\n",
       "      <th>bathrooms</th>\n",
       "      <th>Pileta</th>\n",
       "      <th>Cochera</th>\n",
       "      <th>Parrilla</th>\n",
       "      <th>sum</th>\n",
       "    </tr>\n",
       "  </thead>\n",
       "  <tbody>\n",
       "    <tr>\n",
       "      <th>998</th>\n",
       "      <td>NaN</td>\n",
       "      <td>-34.601917</td>\n",
       "      <td>-58.369932</td>\n",
       "      <td>NaN</td>\n",
       "      <td>NaN</td>\n",
       "      <td>300000.0</td>\n",
       "      <td>5</td>\n",
       "      <td>153</td>\n",
       "      <td>5</td>\n",
       "      <td>None</td>\n",
       "      <td>None</td>\n",
       "      <td>None</td>\n",
       "      <td>None</td>\n",
       "    </tr>\n",
       "    <tr>\n",
       "      <th>1018</th>\n",
       "      <td>Boca</td>\n",
       "      <td>-34.629051</td>\n",
       "      <td>-58.365906</td>\n",
       "      <td>34.0</td>\n",
       "      <td>32.0</td>\n",
       "      <td>52000.0</td>\n",
       "      <td>4</td>\n",
       "      <td>4</td>\n",
       "      <td>1</td>\n",
       "      <td>None</td>\n",
       "      <td>None</td>\n",
       "      <td>None</td>\n",
       "      <td>None</td>\n",
       "    </tr>\n",
       "  </tbody>\n",
       "</table>\n",
       "</div>"
      ],
      "text/plain": [
       "     barrios        lat        lon  surface_total  surface_covered     price  \\\n",
       "998      NaN -34.601917 -58.369932            NaN              NaN  300000.0   \n",
       "1018    Boca -34.629051 -58.365906           34.0             32.0   52000.0   \n",
       "\n",
       "      rooms  bedrooms  bathrooms Pileta Cochera Parrilla   sum  \n",
       "998       5       153          5   None    None     None  None  \n",
       "1018      4         4          1   None    None     None  None  "
      ]
     },
     "execution_count": 48,
     "metadata": {},
     "output_type": "execute_result"
    }
   ],
   "source": [
    "caba = caba[columns]\n",
    "caba.head(2)"
   ]
  },
  {
   "cell_type": "code",
   "execution_count": 49,
   "metadata": {},
   "outputs": [
    {
     "data": {
      "text/html": [
       "<div>\n",
       "<style scoped>\n",
       "    .dataframe tbody tr th:only-of-type {\n",
       "        vertical-align: middle;\n",
       "    }\n",
       "\n",
       "    .dataframe tbody tr th {\n",
       "        vertical-align: top;\n",
       "    }\n",
       "\n",
       "    .dataframe thead th {\n",
       "        text-align: right;\n",
       "    }\n",
       "</style>\n",
       "<table border=\"1\" class=\"dataframe\">\n",
       "  <thead>\n",
       "    <tr style=\"text-align: right;\">\n",
       "      <th></th>\n",
       "      <th>barrios</th>\n",
       "      <th>lat</th>\n",
       "      <th>lon</th>\n",
       "      <th>surface_total</th>\n",
       "      <th>surface_covered</th>\n",
       "      <th>price</th>\n",
       "      <th>rooms</th>\n",
       "      <th>bedrooms</th>\n",
       "      <th>bathrooms</th>\n",
       "      <th>Pileta</th>\n",
       "      <th>Cochera</th>\n",
       "      <th>Parrilla</th>\n",
       "      <th>sum</th>\n",
       "    </tr>\n",
       "  </thead>\n",
       "  <tbody>\n",
       "    <tr>\n",
       "      <th>2511</th>\n",
       "      <td>Villa Urquiza</td>\n",
       "      <td>-34.573597</td>\n",
       "      <td>-58.480588</td>\n",
       "      <td>64.0</td>\n",
       "      <td>69.0</td>\n",
       "      <td>225000.0</td>\n",
       "      <td>3</td>\n",
       "      <td>1</td>\n",
       "      <td>1</td>\n",
       "      <td>None</td>\n",
       "      <td>Cochera</td>\n",
       "      <td>None</td>\n",
       "      <td>None</td>\n",
       "    </tr>\n",
       "    <tr>\n",
       "      <th>3575</th>\n",
       "      <td>Villa Luro</td>\n",
       "      <td>-34.645707</td>\n",
       "      <td>-58.491867</td>\n",
       "      <td>60.0</td>\n",
       "      <td>65.0</td>\n",
       "      <td>110000.0</td>\n",
       "      <td>3</td>\n",
       "      <td>2</td>\n",
       "      <td>1</td>\n",
       "      <td>None</td>\n",
       "      <td>Cochera</td>\n",
       "      <td>None</td>\n",
       "      <td>None</td>\n",
       "    </tr>\n",
       "    <tr>\n",
       "      <th>3584</th>\n",
       "      <td>Villa Lugano</td>\n",
       "      <td>-34.691219</td>\n",
       "      <td>-58.464096</td>\n",
       "      <td>65.0</td>\n",
       "      <td>70.0</td>\n",
       "      <td>90000.0</td>\n",
       "      <td>3</td>\n",
       "      <td>2</td>\n",
       "      <td>1</td>\n",
       "      <td>None</td>\n",
       "      <td>None</td>\n",
       "      <td>None</td>\n",
       "      <td>None</td>\n",
       "    </tr>\n",
       "    <tr>\n",
       "      <th>3663</th>\n",
       "      <td>Villa Lugano</td>\n",
       "      <td>-34.683138</td>\n",
       "      <td>-58.472182</td>\n",
       "      <td>60.0</td>\n",
       "      <td>65.0</td>\n",
       "      <td>89000.0</td>\n",
       "      <td>1</td>\n",
       "      <td>3</td>\n",
       "      <td>1</td>\n",
       "      <td>None</td>\n",
       "      <td>Cochera</td>\n",
       "      <td>None</td>\n",
       "      <td>None</td>\n",
       "    </tr>\n",
       "    <tr>\n",
       "      <th>6552</th>\n",
       "      <td>Caballito</td>\n",
       "      <td>-34.628396</td>\n",
       "      <td>-58.444387</td>\n",
       "      <td>125.0</td>\n",
       "      <td>134.0</td>\n",
       "      <td>262000.0</td>\n",
       "      <td>4</td>\n",
       "      <td>3</td>\n",
       "      <td>2</td>\n",
       "      <td>None</td>\n",
       "      <td>Cochera</td>\n",
       "      <td>Parrilla</td>\n",
       "      <td>None</td>\n",
       "    </tr>\n",
       "    <tr>\n",
       "      <th>...</th>\n",
       "      <td>...</td>\n",
       "      <td>...</td>\n",
       "      <td>...</td>\n",
       "      <td>...</td>\n",
       "      <td>...</td>\n",
       "      <td>...</td>\n",
       "      <td>...</td>\n",
       "      <td>...</td>\n",
       "      <td>...</td>\n",
       "      <td>...</td>\n",
       "      <td>...</td>\n",
       "      <td>...</td>\n",
       "      <td>...</td>\n",
       "    </tr>\n",
       "    <tr>\n",
       "      <th>977635</th>\n",
       "      <td>Villa Crespo</td>\n",
       "      <td>-34.603297</td>\n",
       "      <td>-58.455649</td>\n",
       "      <td>34.0</td>\n",
       "      <td>3050.0</td>\n",
       "      <td>89600.0</td>\n",
       "      <td>1</td>\n",
       "      <td>1</td>\n",
       "      <td>1</td>\n",
       "      <td>None</td>\n",
       "      <td>Cochera</td>\n",
       "      <td>None</td>\n",
       "      <td>SUM</td>\n",
       "    </tr>\n",
       "    <tr>\n",
       "      <th>978081</th>\n",
       "      <td>Centro / Microcentro</td>\n",
       "      <td>-34.599661</td>\n",
       "      <td>-58.375405</td>\n",
       "      <td>36.0</td>\n",
       "      <td>37.0</td>\n",
       "      <td>98000.0</td>\n",
       "      <td>2</td>\n",
       "      <td>1</td>\n",
       "      <td>1</td>\n",
       "      <td>None</td>\n",
       "      <td>None</td>\n",
       "      <td>None</td>\n",
       "      <td>None</td>\n",
       "    </tr>\n",
       "    <tr>\n",
       "      <th>982719</th>\n",
       "      <td>Almagro</td>\n",
       "      <td>-34.618288</td>\n",
       "      <td>-58.428547</td>\n",
       "      <td>40.0</td>\n",
       "      <td>41.0</td>\n",
       "      <td>76800.0</td>\n",
       "      <td>2</td>\n",
       "      <td>1</td>\n",
       "      <td>1</td>\n",
       "      <td>None</td>\n",
       "      <td>None</td>\n",
       "      <td>None</td>\n",
       "      <td>None</td>\n",
       "    </tr>\n",
       "    <tr>\n",
       "      <th>984196</th>\n",
       "      <td>Flores</td>\n",
       "      <td>-34.624166</td>\n",
       "      <td>-58.457257</td>\n",
       "      <td>78.0</td>\n",
       "      <td>79.0</td>\n",
       "      <td>149500.0</td>\n",
       "      <td>4</td>\n",
       "      <td>3</td>\n",
       "      <td>1</td>\n",
       "      <td>None</td>\n",
       "      <td>None</td>\n",
       "      <td>None</td>\n",
       "      <td>None</td>\n",
       "    </tr>\n",
       "    <tr>\n",
       "      <th>987940</th>\n",
       "      <td>Belgrano</td>\n",
       "      <td>-34.558663</td>\n",
       "      <td>-58.456854</td>\n",
       "      <td>88.0</td>\n",
       "      <td>97.0</td>\n",
       "      <td>230000.0</td>\n",
       "      <td>3</td>\n",
       "      <td>3</td>\n",
       "      <td>3</td>\n",
       "      <td>None</td>\n",
       "      <td>None</td>\n",
       "      <td>None</td>\n",
       "      <td>None</td>\n",
       "    </tr>\n",
       "  </tbody>\n",
       "</table>\n",
       "<p>672 rows × 13 columns</p>\n",
       "</div>"
      ],
      "text/plain": [
       "                     barrios        lat        lon  surface_total  \\\n",
       "2511           Villa Urquiza -34.573597 -58.480588           64.0   \n",
       "3575              Villa Luro -34.645707 -58.491867           60.0   \n",
       "3584            Villa Lugano -34.691219 -58.464096           65.0   \n",
       "3663            Villa Lugano -34.683138 -58.472182           60.0   \n",
       "6552               Caballito -34.628396 -58.444387          125.0   \n",
       "...                      ...        ...        ...            ...   \n",
       "977635          Villa Crespo -34.603297 -58.455649           34.0   \n",
       "978081  Centro / Microcentro -34.599661 -58.375405           36.0   \n",
       "982719               Almagro -34.618288 -58.428547           40.0   \n",
       "984196                Flores -34.624166 -58.457257           78.0   \n",
       "987940              Belgrano -34.558663 -58.456854           88.0   \n",
       "\n",
       "        surface_covered     price  rooms  bedrooms  bathrooms Pileta  Cochera  \\\n",
       "2511               69.0  225000.0      3         1          1   None  Cochera   \n",
       "3575               65.0  110000.0      3         2          1   None  Cochera   \n",
       "3584               70.0   90000.0      3         2          1   None     None   \n",
       "3663               65.0   89000.0      1         3          1   None  Cochera   \n",
       "6552              134.0  262000.0      4         3          2   None  Cochera   \n",
       "...                 ...       ...    ...       ...        ...    ...      ...   \n",
       "977635           3050.0   89600.0      1         1          1   None  Cochera   \n",
       "978081             37.0   98000.0      2         1          1   None     None   \n",
       "982719             41.0   76800.0      2         1          1   None     None   \n",
       "984196             79.0  149500.0      4         3          1   None     None   \n",
       "987940             97.0  230000.0      3         3          3   None     None   \n",
       "\n",
       "        Parrilla   sum  \n",
       "2511        None  None  \n",
       "3575        None  None  \n",
       "3584        None  None  \n",
       "3663        None  None  \n",
       "6552    Parrilla  None  \n",
       "...          ...   ...  \n",
       "977635      None   SUM  \n",
       "978081      None  None  \n",
       "982719      None  None  \n",
       "984196      None  None  \n",
       "987940      None  None  \n",
       "\n",
       "[672 rows x 13 columns]"
      ]
     },
     "execution_count": 49,
     "metadata": {},
     "output_type": "execute_result"
    }
   ],
   "source": [
    "caba.loc[caba['surface_total'] < caba['surface_covered']] #Filtramos los datos que son inconsistentes"
   ]
  },
  {
   "cell_type": "code",
   "execution_count": 50,
   "metadata": {},
   "outputs": [],
   "source": [
    "#Todos aquellos datos donde total < cubierta, vamos a asignarle el valor de la superficie cubierta\n",
    "caba.loc[caba['surface_total'] < caba['surface_covered'], ['surface_total']] = caba['surface_covered'] "
   ]
  },
  {
   "cell_type": "code",
   "execution_count": 51,
   "metadata": {},
   "outputs": [
    {
     "data": {
      "text/html": [
       "<div>\n",
       "<style scoped>\n",
       "    .dataframe tbody tr th:only-of-type {\n",
       "        vertical-align: middle;\n",
       "    }\n",
       "\n",
       "    .dataframe tbody tr th {\n",
       "        vertical-align: top;\n",
       "    }\n",
       "\n",
       "    .dataframe thead th {\n",
       "        text-align: right;\n",
       "    }\n",
       "</style>\n",
       "<table border=\"1\" class=\"dataframe\">\n",
       "  <thead>\n",
       "    <tr style=\"text-align: right;\">\n",
       "      <th></th>\n",
       "      <th>barrios</th>\n",
       "      <th>lat</th>\n",
       "      <th>lon</th>\n",
       "      <th>surface_total</th>\n",
       "      <th>surface_covered</th>\n",
       "      <th>price</th>\n",
       "      <th>rooms</th>\n",
       "      <th>bedrooms</th>\n",
       "      <th>bathrooms</th>\n",
       "      <th>Pileta</th>\n",
       "      <th>Cochera</th>\n",
       "      <th>Parrilla</th>\n",
       "      <th>sum</th>\n",
       "    </tr>\n",
       "  </thead>\n",
       "  <tbody>\n",
       "    <tr>\n",
       "      <th>2511</th>\n",
       "      <td>Villa Urquiza</td>\n",
       "      <td>-34.573597</td>\n",
       "      <td>-58.480588</td>\n",
       "      <td>69.0</td>\n",
       "      <td>69.0</td>\n",
       "      <td>225000.0</td>\n",
       "      <td>3</td>\n",
       "      <td>1</td>\n",
       "      <td>1</td>\n",
       "      <td>None</td>\n",
       "      <td>Cochera</td>\n",
       "      <td>None</td>\n",
       "      <td>None</td>\n",
       "    </tr>\n",
       "  </tbody>\n",
       "</table>\n",
       "</div>"
      ],
      "text/plain": [
       "            barrios        lat        lon  surface_total  surface_covered  \\\n",
       "2511  Villa Urquiza -34.573597 -58.480588           69.0             69.0   \n",
       "\n",
       "         price  rooms  bedrooms  bathrooms Pileta  Cochera Parrilla   sum  \n",
       "2511  225000.0      3         1          1   None  Cochera     None  None  "
      ]
     },
     "execution_count": 51,
     "metadata": {},
     "output_type": "execute_result"
    }
   ],
   "source": [
    "caba.loc[2511:2512] #verificamos que este correcto"
   ]
  },
  {
   "cell_type": "code",
   "execution_count": 52,
   "metadata": {},
   "outputs": [
    {
     "data": {
      "text/plain": [
       "(107022, 13)"
      ]
     },
     "execution_count": 52,
     "metadata": {},
     "output_type": "execute_result"
    }
   ],
   "source": [
    "caba.shape"
   ]
  },
  {
   "cell_type": "code",
   "execution_count": 53,
   "metadata": {},
   "outputs": [
    {
     "data": {
      "text/plain": [
       "barrios             3.814169\n",
       "lat                 8.630001\n",
       "lon                 8.697277\n",
       "surface_total      24.760330\n",
       "surface_covered     5.282092\n",
       "price               0.000000\n",
       "rooms               0.000000\n",
       "bedrooms            0.000000\n",
       "bathrooms           0.000000\n",
       "Pileta             90.017006\n",
       "Cochera            70.260320\n",
       "Parrilla           78.051242\n",
       "sum                75.290127\n",
       "dtype: float64"
      ]
     },
     "execution_count": 53,
     "metadata": {},
     "output_type": "execute_result"
    }
   ],
   "source": [
    "caba.isnull().sum() / caba.shape[0]*100"
   ]
  },
  {
   "cell_type": "code",
   "execution_count": 54,
   "metadata": {},
   "outputs": [],
   "source": [
    "caba.dropna(subset=['surface_total', 'surface_covered', 'barrios'], inplace=True)"
   ]
  },
  {
   "cell_type": "code",
   "execution_count": 55,
   "metadata": {},
   "outputs": [
    {
     "data": {
      "text/plain": [
       "(79819, 13)"
      ]
     },
     "execution_count": 55,
     "metadata": {},
     "output_type": "execute_result"
    }
   ],
   "source": [
    "caba.shape"
   ]
  },
  {
   "cell_type": "code",
   "execution_count": 56,
   "metadata": {},
   "outputs": [
    {
     "data": {
      "text/plain": [
       "barrios             0.000000\n",
       "lat                 6.311780\n",
       "lon                 6.311780\n",
       "surface_total       0.000000\n",
       "surface_covered     0.000000\n",
       "price               0.000000\n",
       "rooms               0.000000\n",
       "bedrooms            0.000000\n",
       "bathrooms           0.000000\n",
       "Pileta             89.050226\n",
       "Cochera            70.268984\n",
       "Parrilla           78.602839\n",
       "sum                75.700021\n",
       "dtype: float64"
      ]
     },
     "execution_count": 56,
     "metadata": {},
     "output_type": "execute_result"
    }
   ],
   "source": [
    "caba.isnull().sum() / caba.shape[0]*100"
   ]
  },
  {
   "cell_type": "markdown",
   "metadata": {},
   "source": [
    "### 7) Visualizacion de la distribucion de los datos"
   ]
  },
  {
   "cell_type": "code",
   "execution_count": 57,
   "metadata": {},
   "outputs": [
    {
     "name": "stdout",
     "output_type": "stream",
     "text": [
      "count     79819.000000\n",
      "mean        103.588506\n",
      "std        1099.207306\n",
      "min           0.000000\n",
      "25%          43.000000\n",
      "50%          61.000000\n",
      "75%          92.000000\n",
      "max      140380.000000\n",
      "Name: surface_total, dtype: float64\n"
     ]
    },
    {
     "data": {
      "image/png": "[encoded data removed]",
      "text/plain": [
       "<Figure size 432x288 with 1 Axes>"
      ]
     },
     "metadata": {},
     "output_type": "display_data"
    }
   ],
   "source": [
    "print(caba.surface_total.describe())\n",
    "sns.boxplot(caba.surface_total)\n",
    "plt.show()"
   ]
  },
  {
   "cell_type": "code",
   "execution_count": 58,
   "metadata": {},
   "outputs": [
    {
     "name": "stdout",
     "output_type": "stream",
     "text": [
      "count     79819.000000\n",
      "mean         87.923050\n",
      "std         965.084961\n",
      "min           0.000000\n",
      "25%          38.000000\n",
      "50%          54.000000\n",
      "75%          80.000000\n",
      "max      104890.000000\n",
      "Name: surface_covered, dtype: float64\n"
     ]
    },
    {
     "data": {
      "image/png": "[encoded data removed]",
      "text/plain": [
       "<Figure size 432x288 with 1 Axes>"
      ]
     },
     "metadata": {},
     "output_type": "display_data"
    }
   ],
   "source": [
    "print(caba.surface_covered.describe())\n",
    "sns.boxplot(caba.surface_covered)\n",
    "plt.show()"
   ]
  },
  {
   "cell_type": "code",
   "execution_count": 59,
   "metadata": {},
   "outputs": [
    {
     "name": "stdout",
     "output_type": "stream",
     "text": [
      "count    7.981900e+04\n",
      "mean     2.467654e+05\n",
      "std      3.329491e+05\n",
      "min      5.000000e+03\n",
      "25%      1.050000e+05\n",
      "50%      1.550000e+05\n",
      "75%      2.500000e+05\n",
      "max      1.008203e+07\n",
      "Name: price, dtype: float64\n"
     ]
    },
    {
     "data": {
      "image/png": "[encoded data removed]",
      "text/plain": [
       "<Figure size 432x288 with 1 Axes>"
      ]
     },
     "metadata": {},
     "output_type": "display_data"
    }
   ],
   "source": [
    "print(caba.price.describe())\n",
    "sns.boxplot(caba.price)\n",
    "plt.show()"
   ]
  },
  {
   "cell_type": "code",
   "execution_count": 60,
   "metadata": {},
   "outputs": [
    {
     "data": {
      "text/plain": [
       "<AxesSubplot:xlabel='rooms', ylabel='surface_covered'>"
      ]
     },
     "execution_count": 60,
     "metadata": {},
     "output_type": "execute_result"
    },
    {
     "data": {
      "image/png": "[encoded data removed]",
      "text/plain": [
       "<Figure size 432x288 with 1 Axes>"
      ]
     },
     "metadata": {},
     "output_type": "display_data"
    }
   ],
   "source": [
    "sns.boxplot(data=caba, x='rooms', y='surface_covered')"
   ]
  },
  {
   "cell_type": "code",
   "execution_count": 61,
   "metadata": {},
   "outputs": [
    {
     "data": {
      "text/plain": [
       "<AxesSubplot:xlabel='bedrooms', ylabel='surface_covered'>"
      ]
     },
     "execution_count": 61,
     "metadata": {},
     "output_type": "execute_result"
    },
    {
     "data": {
      "image/png": "[encoded data removed]",
      "text/plain": [
       "<Figure size 432x288 with 1 Axes>"
      ]
     },
     "metadata": {},
     "output_type": "display_data"
    }
   ],
   "source": [
    "sns.boxplot(data=caba, x='bedrooms', y='surface_covered')"
   ]
  },
  {
   "cell_type": "code",
   "execution_count": 62,
   "metadata": {},
   "outputs": [
    {
     "data": {
      "text/plain": [
       "<AxesSubplot:xlabel='bathrooms', ylabel='surface_covered'>"
      ]
     },
     "execution_count": 62,
     "metadata": {},
     "output_type": "execute_result"
    },
    {
     "data": {
      "image/png": "[encoded data removed]",
      "text/plain": [
       "<Figure size 432x288 with 1 Axes>"
      ]
     },
     "metadata": {},
     "output_type": "display_data"
    }
   ],
   "source": [
    "sns.boxplot(data=caba, x='bathrooms', y='surface_covered')"
   ]
  },
  {
   "cell_type": "markdown",
   "metadata": {},
   "source": [
    "## 8) Tratamiento de valores minimos y outliers"
   ]
  },
  {
   "cell_type": "markdown",
   "metadata": {},
   "source": [
    "Considerante la superficie cubierta, tomamos como valor minimo 18 m2 ya que es el valor minimo establecido por el gobierno de la ciudad y como valor maximo seleccionamos todos los datos del cuartil 99 para eliminar el outlier que vimos en el grafico anterior.\n",
    "\n",
    "Respecto a precio por m2, tomamos como valor maximo U$S 10.000 ya que es el maximo valor en paginas de ventas de departamentos"
   ]
  },
  {
   "cell_type": "code",
   "execution_count": 63,
   "metadata": {},
   "outputs": [],
   "source": [
    "LS = caba.surface_covered.quantile(0.99)\n",
    "LI = 18\n",
    "LS_precio = caba.price.quantile(0.99)\n",
    "LS_sup_total = caba.surface_total.quantile(0.99)\n",
    "\n",
    "caba = caba[(caba.surface_covered <= LS) &\n",
    "            (caba.surface_covered >= LI) &\n",
    "            (caba.price <= LS_precio) &\n",
    "            (caba.surface_total <= LS_sup_total) &\n",
    "            (caba.rooms <= 9) &\n",
    "            (caba.bedrooms <= 8) &\n",
    "            (caba.bathrooms <= 5)\n",
    "            ]"
   ]
  },
  {
   "cell_type": "code",
   "execution_count": 64,
   "metadata": {},
   "outputs": [
    {
     "name": "stdout",
     "output_type": "stream",
     "text": [
      "count    7.656600e+04\n",
      "mean     2.199838e+05\n",
      "std      2.095306e+05\n",
      "min      5.000000e+03\n",
      "25%      1.050000e+05\n",
      "50%      1.530000e+05\n",
      "75%      2.450000e+05\n",
      "max      1.690000e+06\n",
      "Name: price, dtype: float64\n"
     ]
    },
    {
     "data": {
      "image/png": "[encoded data removed]",
      "text/plain": [
       "<Figure size 432x288 with 1 Axes>"
      ]
     },
     "metadata": {},
     "output_type": "display_data"
    }
   ],
   "source": [
    "print(caba.price.describe())\n",
    "sns.boxplot(caba.price)\n",
    "plt.show()"
   ]
  },
  {
   "cell_type": "code",
   "execution_count": 65,
   "metadata": {},
   "outputs": [
    {
     "name": "stdout",
     "output_type": "stream",
     "text": [
      "count    76566.000000\n",
      "mean        67.482262\n",
      "std         43.511902\n",
      "min         18.000000\n",
      "25%         39.000000\n",
      "50%         54.000000\n",
      "75%         80.000000\n",
      "max        332.000000\n",
      "Name: surface_covered, dtype: float64\n"
     ]
    },
    {
     "data": {
      "image/png": "[encoded data removed]",
      "text/plain": [
       "<Figure size 432x288 with 1 Axes>"
      ]
     },
     "metadata": {},
     "output_type": "display_data"
    }
   ],
   "source": [
    "print(caba.surface_covered.describe())\n",
    "sns.boxplot(caba.surface_covered)\n",
    "plt.show()"
   ]
  },
  {
   "cell_type": "code",
   "execution_count": 66,
   "metadata": {},
   "outputs": [
    {
     "name": "stdout",
     "output_type": "stream",
     "text": [
      "count    76566.000000\n",
      "mean        75.606666\n",
      "std         49.249301\n",
      "min         18.000000\n",
      "25%         42.000000\n",
      "50%         60.000000\n",
      "75%         90.000000\n",
      "max        384.000000\n",
      "Name: surface_total, dtype: float64\n"
     ]
    },
    {
     "data": {
      "image/png": "[encoded data removed]",
      "text/plain": [
       "<Figure size 432x288 with 1 Axes>"
      ]
     },
     "metadata": {},
     "output_type": "display_data"
    }
   ],
   "source": [
    "print(caba.surface_total.describe())\n",
    "sns.boxplot(caba.surface_total)\n",
    "plt.show()"
   ]
  },
  {
   "cell_type": "code",
   "execution_count": 67,
   "metadata": {},
   "outputs": [
    {
     "data": {
      "text/plain": [
       "<AxesSubplot:xlabel='rooms', ylabel='surface_covered'>"
      ]
     },
     "execution_count": 67,
     "metadata": {},
     "output_type": "execute_result"
    },
    {
     "data": {
      "image/png": "[encoded data removed]",
      "text/plain": [
       "<Figure size 432x288 with 1 Axes>"
      ]
     },
     "metadata": {},
     "output_type": "display_data"
    }
   ],
   "source": [
    "sns.boxplot(data=caba, x='rooms', y='surface_covered')"
   ]
  },
  {
   "cell_type": "code",
   "execution_count": 68,
   "metadata": {},
   "outputs": [
    {
     "data": {
      "text/plain": [
       "<AxesSubplot:xlabel='bedrooms', ylabel='surface_covered'>"
      ]
     },
     "execution_count": 68,
     "metadata": {},
     "output_type": "execute_result"
    },
    {
     "data": {
      "image/png": "[encoded data removed]",
      "text/plain": [
       "<Figure size 432x288 with 1 Axes>"
      ]
     },
     "metadata": {},
     "output_type": "display_data"
    }
   ],
   "source": [
    "sns.boxplot(data=caba, x='bedrooms', y='surface_covered')"
   ]
  },
  {
   "cell_type": "code",
   "execution_count": 69,
   "metadata": {},
   "outputs": [
    {
     "data": {
      "text/plain": [
       "<AxesSubplot:xlabel='bathrooms', ylabel='surface_covered'>"
      ]
     },
     "execution_count": 69,
     "metadata": {},
     "output_type": "execute_result"
    },
    {
     "data": {
      "image/png": "[encoded data removed]",
      "text/plain": [
       "<Figure size 432x288 with 1 Axes>"
      ]
     },
     "metadata": {},
     "output_type": "display_data"
    }
   ],
   "source": [
    "sns.boxplot(data=caba, x='bathrooms', y='surface_covered')"
   ]
  },
  {
   "cell_type": "markdown",
   "metadata": {},
   "source": [
    "### 9) Imputacion de valores nulos"
   ]
  },
  {
   "cell_type": "code",
   "execution_count": 70,
   "metadata": {},
   "outputs": [],
   "source": [
    "#Reemplazamos a nan los valores reemplazados por cero\n",
    "caba.rooms.replace(0, np.nan, inplace=True)\n",
    "caba.bedrooms.replace(0, np.nan, inplace=True)\n",
    "caba.bathrooms.replace(0, np.nan, inplace=True)"
   ]
  },
  {
   "cell_type": "code",
   "execution_count": 71,
   "metadata": {},
   "outputs": [
    {
     "data": {
      "text/plain": [
       "barrios             0.000000\n",
       "lat                 6.197268\n",
       "lon                 6.197268\n",
       "surface_total       0.000000\n",
       "surface_covered     0.000000\n",
       "price               0.000000\n",
       "rooms               1.385733\n",
       "bedrooms            7.129797\n",
       "bathrooms           0.744456\n",
       "Pileta             89.285061\n",
       "Cochera            70.573100\n",
       "Parrilla           78.609304\n",
       "sum                75.750333\n",
       "dtype: float64"
      ]
     },
     "execution_count": 71,
     "metadata": {},
     "output_type": "execute_result"
    }
   ],
   "source": [
    "caba.isnull().sum() / caba.shape[0] * 100"
   ]
  },
  {
   "cell_type": "code",
   "execution_count": 72,
   "metadata": {},
   "outputs": [],
   "source": [
    "#Imputamos la media de lat lon por barrio\n",
    "caba['lat'] = caba['lat'].fillna(caba.groupby('barrios')['lat'].transform('mean'))\n",
    "caba['lon'] = caba['lon'].fillna(caba.groupby('barrios')['lon'].transform('mean'))"
   ]
  },
  {
   "cell_type": "code",
   "execution_count": 73,
   "metadata": {},
   "outputs": [],
   "source": [
    "#Usamos qcut para dividir en 9 la superficie cubierta y asignar la cantidad de ambientes en cada division a los nan\n",
    "labels = ['1', '2', '3', '4', '5', '6', '7', '8', '9']\n",
    "superficie = pd.qcut(caba.surface_covered, 9, labels=labels)\n",
    "caba['division'] = superficie\n",
    "\n",
    "a = caba.loc[caba.division == '1'].fillna(value={'rooms': 1})\n",
    "b = caba.loc[caba.division == '2'].fillna(value={'rooms': 2})\n",
    "c = caba.loc[caba.division == '3'].fillna(value={'rooms': 3})\n",
    "d = caba.loc[caba.division == '4'].fillna(value={'rooms': 4})\n",
    "e = caba.loc[caba.division == '5'].fillna(value={'rooms': 5})\n",
    "f = caba.loc[caba.division == '6'].fillna(value={'rooms': 6})\n",
    "g = caba.loc[caba.division == '7'].fillna(value={'rooms': 7})\n",
    "h = caba.loc[caba.division == '8'].fillna(value={'rooms': 8})\n",
    "i = caba.loc[caba.division == '9'].fillna(value={'rooms': 9})\n",
    "\n",
    "caba = pd.concat([a,b,c,d,e,f,g,h,i])\n",
    "caba.drop(columns='division', inplace=True)\n",
    "\n",
    "#Mismo procedimiento para asignar bedrooms\n",
    "labels = ['1', '2', '3', '4', '5', '6', '7', '8']\n",
    "superficie = pd.qcut(caba.surface_covered, 8, labels=labels)\n",
    "caba['division'] = superficie\n",
    "\n",
    "a = caba.loc[caba.division == '1'].fillna(value={'bedrooms': 1})\n",
    "b = caba.loc[caba.division == '2'].fillna(value={'bedrooms': 2})\n",
    "c = caba.loc[caba.division == '3'].fillna(value={'bedrooms': 3})\n",
    "d = caba.loc[caba.division == '4'].fillna(value={'bedrooms': 4})\n",
    "e = caba.loc[caba.division == '5'].fillna(value={'bedrooms': 5})\n",
    "f = caba.loc[caba.division == '6'].fillna(value={'bedrooms': 6})\n",
    "g = caba.loc[caba.division == '7'].fillna(value={'bedrooms': 7})\n",
    "h = caba.loc[caba.division == '8'].fillna(value={'bedrooms': 8})\n",
    "\n",
    "caba = pd.concat([a,b,c,d,e,f,g,h])\n",
    "caba.drop(columns='division', inplace=True)\n",
    "\n",
    "#Mismo procedimiento para asignar bathrooms\n",
    "labels = ['1', '2', '3', '4', '5']\n",
    "superficie = pd.qcut(caba.surface_covered, 5, labels=labels)\n",
    "caba['division'] = superficie\n",
    "\n",
    "a = caba.loc[caba.division == '1'].fillna(value={'bathrooms': 1})\n",
    "b = caba.loc[caba.division == '2'].fillna(value={'bathrooms': 2})\n",
    "c = caba.loc[caba.division == '3'].fillna(value={'bathrooms': 3})\n",
    "d = caba.loc[caba.division == '4'].fillna(value={'bathrooms': 4})\n",
    "e = caba.loc[caba.division == '5'].fillna(value={'bathrooms': 5})\n",
    "\n",
    "caba = pd.concat([a,b,c,d,e])\n",
    "caba.drop(columns='division', inplace=True)\n"
   ]
  },
  {
   "cell_type": "code",
   "execution_count": 74,
   "metadata": {},
   "outputs": [],
   "source": [
    "#Transformamos las 3 columnas en int\n",
    "cols = ['rooms', 'bedrooms', 'bathrooms']\n",
    "\n",
    "for col in cols:\n",
    "    caba[col]= pd.to_numeric(caba[col], downcast='integer')\n"
   ]
  },
  {
   "cell_type": "code",
   "execution_count": 75,
   "metadata": {},
   "outputs": [
    {
     "data": {
      "text/plain": [
       "barrios             0.000000\n",
       "lat                 0.000000\n",
       "lon                 0.000000\n",
       "surface_total       0.000000\n",
       "surface_covered     0.000000\n",
       "price               0.000000\n",
       "rooms               0.000000\n",
       "bedrooms            0.000000\n",
       "bathrooms           0.000000\n",
       "Pileta             89.285061\n",
       "Cochera            70.573100\n",
       "Parrilla           78.609304\n",
       "sum                75.750333\n",
       "dtype: float64"
      ]
     },
     "execution_count": 75,
     "metadata": {},
     "output_type": "execute_result"
    }
   ],
   "source": [
    "caba.isnull().sum() / caba.shape[0]*100"
   ]
  },
  {
   "cell_type": "code",
   "execution_count": 76,
   "metadata": {},
   "outputs": [
    {
     "name": "stdout",
     "output_type": "stream",
     "text": [
      "Dataset final con 76566 datos\n"
     ]
    }
   ],
   "source": [
    "print('Dataset final con', caba.shape[0], 'datos')"
   ]
  },
  {
   "cell_type": "markdown",
   "metadata": {},
   "source": [
    "### 10) Cercania a diferentes puntos de la ciudad"
   ]
  },
  {
   "cell_type": "markdown",
   "metadata": {},
   "source": [
    "En este seccion usamos datos abiertos que provee el Gobierno de la Ciudad de Buenos Aires en https://data.buenosaires.gob.ar/\n",
    "Usamos la formula de Haversiana para determinar la distancia entre los departamentos a la venta con diferentes puntos de la ciudad:\n",
    "* Estaciones de subte\n",
    "* Paradas de colectivos\n",
    "* Paradas de metrobuses\n",
    "* Estaciones de trenes\n",
    "* Estaciones de ecobicis\n",
    "* Espacios culturales\n",
    "* Espacios gastronimicos\n",
    "* Universidades\n",
    "* Polideportivos\n",
    "* Hospitales\n",
    "* Comisarias\n",
    "* Espacios verdes\n",
    "\n",
    "Se considera que el departamento se encuentra \"cerca\" de alguno de estos puntos mencionados si su distancia no supera hasta los 2 kms."
   ]
  },
  {
   "cell_type": "markdown",
   "metadata": {},
   "source": [
    "#### Formula Haversiana"
   ]
  },
  {
   "cell_type": "code",
   "execution_count": 77,
   "metadata": {},
   "outputs": [],
   "source": [
    "def haversine_np(lon1, lat1, lon2, lat2):\n",
    "  \n",
    "    lon1, lat1, lon2, lat2 = map(np.radians, [lon1, lat1, lon2, lat2])\n",
    "\n",
    "    dlon = lon2 - lon1\n",
    "    dlat = lat2 - lat1\n",
    "\n",
    "    a = np.sin(dlat/2.0)**2 + np.cos(lat1) * np.cos(lat2) * np.sin(dlon/2.0)**2\n",
    "\n",
    "    c = 2 * np.arcsin(np.sqrt(a))\n",
    "    \n",
    "    km = 6361 * c  \n",
    "    \n",
    "    return km"
   ]
  },
  {
   "cell_type": "markdown",
   "metadata": {},
   "source": [
    "#### Subte"
   ]
  },
  {
   "cell_type": "code",
   "execution_count": 78,
   "metadata": {},
   "outputs": [],
   "source": [
    "subte_path = \"http://cdn.buenosaires.gob.ar/datosabiertos/datasets/subte-estaciones/estaciones-de-subte.csv\"\n",
    "subte = pd.read_csv(subte_path) "
   ]
  },
  {
   "cell_type": "code",
   "execution_count": 79,
   "metadata": {},
   "outputs": [],
   "source": [
    "latlon = caba[['lat','lon']]  \n",
    "latlon_subte = subte[['long','lat']]  \n",
    "latlon_ = latlon.copy()\n",
    "for index, row in latlon_.iterrows():\n",
    "    distancia = haversine_np(row['lon'],row['lat'],latlon_subte['long'],latlon_subte['lat'])\n",
    "    if any(distancia < 1):\n",
    "        latlon_.loc[index, 'subte'] = \"Cerca\"\n",
    "    else:\n",
    "        latlon_.loc[index, 'subte'] = \"Lejos\"\n",
    "caba = pd.concat([caba,latlon_['subte']],axis=1)     "
   ]
  },
  {
   "cell_type": "code",
   "execution_count": 80,
   "metadata": {},
   "outputs": [],
   "source": [
    "mask_subte = caba['subte'] == \"Cerca\"\n",
    "dummies_subte = pd.get_dummies(mask_subte, prefix='subte', drop_first=True)\n",
    "caba = caba.join(dummies_subte)\n",
    "caba.drop(columns='subte', inplace=True)"
   ]
  },
  {
   "cell_type": "markdown",
   "metadata": {},
   "source": [
    "#### Colectivos"
   ]
  },
  {
   "cell_type": "code",
   "execution_count": 81,
   "metadata": {},
   "outputs": [],
   "source": [
    "bondis_path = \"http://cdn.buenosaires.gob.ar/datosabiertos/datasets/colectivos/paradas-de-colectivo.csv\"\n",
    "bondis = pd.read_csv(bondis_path) "
   ]
  },
  {
   "cell_type": "code",
   "execution_count": 82,
   "metadata": {},
   "outputs": [],
   "source": [
    "bondis = bondis.rename({\n",
    "    'stop_lat': 'lat',\n",
    "    'stop_lon': 'long',\n",
    "}, axis=1)"
   ]
  },
  {
   "cell_type": "code",
   "execution_count": 83,
   "metadata": {},
   "outputs": [],
   "source": [
    "latlon = caba[['lat','lon']] \n",
    "latlon_bondis = bondis[['long','lat']] \n",
    "latlon_ = latlon.copy()\n",
    "for index, row in latlon_.iterrows():\n",
    "    distancia = haversine_np(row['lon'],row['lat'],latlon_bondis['long'],latlon_bondis['lat'])\n",
    "    if any(distancia < 0.5):\n",
    "        latlon_.loc[index, 'bus'] = \"Cerca\"\n",
    "    else:\n",
    "        latlon_.loc[index, 'bus'] = \"Lejos\"\n",
    "caba = pd.concat([caba,latlon_['bus']],axis=1) "
   ]
  },
  {
   "cell_type": "code",
   "execution_count": 84,
   "metadata": {},
   "outputs": [],
   "source": [
    "mask_bondi = caba['bus'] == \"Cerca\"\n",
    "dummies_bondi = pd.get_dummies(mask_bondi, prefix='bus', drop_first=True)\n",
    "caba = caba.join(dummies_bondi)\n",
    "caba.drop(columns='bus', inplace=True)"
   ]
  },
  {
   "cell_type": "markdown",
   "metadata": {},
   "source": [
    "#### Metrobus"
   ]
  },
  {
   "cell_type": "code",
   "execution_count": 85,
   "metadata": {},
   "outputs": [],
   "source": [
    "metrobus_path = 'http://cdn.buenosaires.gob.ar/datosabiertos/datasets/transporte/metrobus/estaciones-de-metrobus.csv'\n",
    "metrobus = pd.read_csv(metrobus_path) "
   ]
  },
  {
   "cell_type": "code",
   "execution_count": 86,
   "metadata": {},
   "outputs": [],
   "source": [
    "metrobus['WKT'] = metrobus['WKT'].apply(wkt.loads)\n",
    "gdf = gp.GeoDataFrame(metrobus, geometry='WKT')"
   ]
  },
  {
   "cell_type": "code",
   "execution_count": 87,
   "metadata": {},
   "outputs": [],
   "source": [
    "metrobus['long'] = gdf.geometry.x\n",
    "metrobus['lat'] = gdf.geometry.y"
   ]
  },
  {
   "cell_type": "code",
   "execution_count": 88,
   "metadata": {},
   "outputs": [],
   "source": [
    "latlon = caba[['lat','lon']]  \n",
    "latlon_metrobus = metrobus[['long','lat']]  \n",
    "latlon_ = latlon.copy()\n",
    "for index, row in latlon_.iterrows():\n",
    "    distancia = haversine_np(row['lon'],row['lat'],latlon_metrobus['long'],latlon_metrobus['lat'])\n",
    "    if any(distancia < 1):\n",
    "        latlon_.loc[index, 'metrobus'] = \"Cerca\"\n",
    "    else:\n",
    "        latlon_.loc[index, 'metrobus'] = \"Lejos\"\n",
    "caba = pd.concat([caba,latlon_['metrobus']],axis=1)    "
   ]
  },
  {
   "cell_type": "code",
   "execution_count": 89,
   "metadata": {},
   "outputs": [],
   "source": [
    "mask_metrobus = caba['metrobus'] == \"Cerca\"\n",
    "dummies_metrobus = pd.get_dummies(mask_metrobus, prefix='metrobus', drop_first=True)\n",
    "caba = caba.join(dummies_metrobus)\n",
    "caba.drop(columns='metrobus', inplace=True)"
   ]
  },
  {
   "cell_type": "markdown",
   "metadata": {},
   "source": [
    "#### Tren"
   ]
  },
  {
   "cell_type": "code",
   "execution_count": 90,
   "metadata": {},
   "outputs": [],
   "source": [
    "tren_path = \"http://cdn.buenosaires.gob.ar/datosabiertos/datasets/estaciones-de-ferrocarril/estaciones-de-ferrocarril.csv\"\n",
    "tren = pd.read_csv(tren_path) "
   ]
  },
  {
   "cell_type": "code",
   "execution_count": 91,
   "metadata": {},
   "outputs": [],
   "source": [
    "latlon = caba[['lat','lon']]  \n",
    "latlon_tren = tren[['long','lat']]  \n",
    "latlon_ = latlon.copy()\n",
    "for index, row in latlon_.iterrows():\n",
    "    distancia = haversine_np(row['lon'],row['lat'],latlon_tren['long'],latlon_tren['lat'])\n",
    "    if any(distancia < 1):\n",
    "        latlon_.loc[index, 'tren'] = \"Cerca\"\n",
    "    else:\n",
    "        latlon_.loc[index, 'tren'] = \"Lejos\"\n",
    "caba = pd.concat([caba,latlon_['tren']],axis=1)     "
   ]
  },
  {
   "cell_type": "code",
   "execution_count": 92,
   "metadata": {},
   "outputs": [],
   "source": [
    "mask_tren = caba['tren'] == \"Cerca\"\n",
    "dummies_tren = pd.get_dummies(mask_tren, prefix='tren', drop_first=True)\n",
    "caba = caba.join(dummies_tren)\n",
    "caba.drop(columns='tren', inplace=True)"
   ]
  },
  {
   "cell_type": "markdown",
   "metadata": {},
   "source": [
    "#### Ecobici"
   ]
  },
  {
   "cell_type": "code",
   "execution_count": 93,
   "metadata": {},
   "outputs": [],
   "source": [
    "bici_path = 'http://cdn.buenosaires.gob.ar/datosabiertos/datasets/transporte/estaciones-bicicletas-publicas/nuevas-estaciones-bicicletas-publicas.csv'\n",
    "bici = pd.read_csv(bici_path) "
   ]
  },
  {
   "cell_type": "code",
   "execution_count": 94,
   "metadata": {},
   "outputs": [],
   "source": [
    "bici['WKT'] = bici['WKT'].apply(wkt.loads)\n",
    "gdf = gp.GeoDataFrame(bici, geometry='WKT')"
   ]
  },
  {
   "cell_type": "code",
   "execution_count": 95,
   "metadata": {},
   "outputs": [],
   "source": [
    "bici['long'] = gdf.geometry.x\n",
    "bici['lat'] = gdf.geometry.y"
   ]
  },
  {
   "cell_type": "code",
   "execution_count": 96,
   "metadata": {},
   "outputs": [],
   "source": [
    "latlon = caba[['lat','lon']] \n",
    "latlon_bici = bici[['long','lat']]  \n",
    "latlon_ = latlon.copy()\n",
    "for index, row in latlon_.iterrows():\n",
    "    distancia = haversine_np(row['lon'],row['lat'],latlon_bici['long'],latlon_bici['lat'])\n",
    "    if any(distancia < 1):\n",
    "        latlon_.loc[index, 'ecobici'] = \"Cerca\"\n",
    "    else:\n",
    "        latlon_.loc[index, 'ecobici'] = \"Lejos\"\n",
    "caba = pd.concat([caba,latlon_['ecobici']],axis=1)    "
   ]
  },
  {
   "cell_type": "code",
   "execution_count": 97,
   "metadata": {},
   "outputs": [],
   "source": [
    "mask_bici = caba['ecobici'] == \"Cerca\"\n",
    "dummies_bici = pd.get_dummies(mask_bici, prefix='ecobici', drop_first=True)\n",
    "caba = caba.join(dummies_bici)\n",
    "caba.drop(columns='ecobici', inplace=True)"
   ]
  },
  {
   "cell_type": "markdown",
   "metadata": {},
   "source": [
    "#### Espacios culturales"
   ]
  },
  {
   "cell_type": "code",
   "execution_count": 98,
   "metadata": {},
   "outputs": [],
   "source": [
    "ec_path = 'http://cdn.buenosaires.gob.ar/datosabiertos/datasets/espacios-culturales/espacios-culturales.csv'\n",
    "ec = pd.read_csv(ec_path) "
   ]
  },
  {
   "cell_type": "code",
   "execution_count": 99,
   "metadata": {},
   "outputs": [],
   "source": [
    "latlon = caba[['lat','lon']]  \n",
    "latlon_ec = ec[['longitud','latitud']] \n",
    "latlon_ = latlon.copy()\n",
    "for index, row in latlon_.iterrows():\n",
    "    distancia = haversine_np(row['lon'],row['lat'],latlon_ec['longitud'],latlon_ec['latitud'])\n",
    "    if any(distancia < 2):\n",
    "        latlon_.loc[index, 'espacios_culturales'] = \"Cerca\"\n",
    "    else:\n",
    "        latlon_.loc[index, 'espacios_culturales'] = \"Lejos\"\n",
    "caba = pd.concat([caba,latlon_['espacios_culturales']],axis=1)     "
   ]
  },
  {
   "cell_type": "code",
   "execution_count": 100,
   "metadata": {},
   "outputs": [],
   "source": [
    "mask_ec = caba['espacios_culturales'] == \"Cerca\"\n",
    "dummies_ec = pd.get_dummies(mask_ec, prefix='espacios_culturales', drop_first=True)\n",
    "caba = caba.join(dummies_ec)\n",
    "caba.drop(columns='espacios_culturales', inplace=True)"
   ]
  },
  {
   "cell_type": "markdown",
   "metadata": {},
   "source": [
    "#### Establecimientos gastronomicos"
   ]
  },
  {
   "cell_type": "code",
   "execution_count": 101,
   "metadata": {},
   "outputs": [],
   "source": [
    "eg_path = 'http://cdn.buenosaires.gob.ar/datosabiertos/datasets/oferta-gastronomica/establecimientos_gastronomicos.csv'\n",
    "eg = pd.read_csv(eg_path) "
   ]
  },
  {
   "cell_type": "code",
   "execution_count": 102,
   "metadata": {},
   "outputs": [],
   "source": [
    "latlon =caba[['lat','lon']]  \n",
    "latlon_eg = eg[['long','lat']]  \n",
    "latlon_ = latlon.copy()\n",
    "for index, row in latlon_.iterrows():\n",
    "    distancia = haversine_np(row['lon'],row['lat'],latlon_eg['long'],latlon_eg['lat'])\n",
    "    if any(distancia < 2):\n",
    "        latlon_.loc[index, 'gastronomico'] = \"Cerca\"\n",
    "    else:\n",
    "        latlon_.loc[index, 'gastronomico'] = \"Lejos\"\n",
    "caba = pd.concat([caba,latlon_['gastronomico']],axis=1)     "
   ]
  },
  {
   "cell_type": "code",
   "execution_count": 103,
   "metadata": {},
   "outputs": [],
   "source": [
    "mask_eg = caba['gastronomico'] == \"Cerca\"\n",
    "dummies_eg = pd.get_dummies(mask_eg, prefix='gastronomico', drop_first=True)\n",
    "caba = caba.join(dummies_eg)\n",
    "caba.drop(columns='gastronomico', inplace=True)"
   ]
  },
  {
   "cell_type": "markdown",
   "metadata": {},
   "source": [
    "#### Universidades"
   ]
  },
  {
   "cell_type": "code",
   "execution_count": 104,
   "metadata": {},
   "outputs": [],
   "source": [
    "uni_path = 'http://cdn.buenosaires.gob.ar/datosabiertos/datasets/universidades/universidades.csv'\n",
    "uni = pd.read_csv(uni_path) \n"
   ]
  },
  {
   "cell_type": "code",
   "execution_count": 105,
   "metadata": {},
   "outputs": [],
   "source": [
    "latlon = caba[['lat','lon']]  \n",
    "latlon_uni = uni[['long','lat']] \n",
    "latlon_ = latlon.copy()\n",
    "for index, row in latlon_.iterrows():\n",
    "    distancia = haversine_np(row['lon'],row['lat'],latlon_uni['long'],latlon_uni['lat'])\n",
    "    if any(distancia < 2):\n",
    "        latlon_.loc[index, 'universidad'] = \"Cerca\"\n",
    "    else:\n",
    "        latlon_.loc[index, 'universidad'] = \"Lejos\"\n",
    "caba = pd.concat([caba,latlon_['universidad']],axis=1)     # cambiar aca dataset final a usar"
   ]
  },
  {
   "cell_type": "code",
   "execution_count": 106,
   "metadata": {},
   "outputs": [],
   "source": [
    "mask_uni = caba['universidad'] == \"Cerca\"\n",
    "dummies_uni = pd.get_dummies(mask_uni, prefix='universidad', drop_first=True)\n",
    "caba = caba.join(dummies_uni)\n",
    "caba.drop(columns='universidad', inplace=True)"
   ]
  },
  {
   "cell_type": "markdown",
   "metadata": {},
   "source": [
    "#### Polideportivos"
   ]
  },
  {
   "cell_type": "code",
   "execution_count": 107,
   "metadata": {},
   "outputs": [],
   "source": [
    "poli_path = 'http://cdn.buenosaires.gob.ar/datosabiertos/datasets/polideportivos/polideportivos.csv'\n",
    "poli = pd.read_csv(poli_path) "
   ]
  },
  {
   "cell_type": "code",
   "execution_count": 108,
   "metadata": {},
   "outputs": [],
   "source": [
    "latlon = caba[['lat','lon']] \n",
    "latlon_poli = poli[['long','lat']]  \n",
    "latlon_ = latlon.copy()\n",
    "for index, row in latlon_.iterrows():\n",
    "    distancia = haversine_np(row['lon'],row['lat'],latlon_poli['long'],latlon_poli['lat'])\n",
    "    if any(distancia < 2):\n",
    "        latlon_.loc[index, 'polideportivo'] = \"Cerca\"\n",
    "    else:\n",
    "        latlon_.loc[index, 'polideportivo'] = \"Lejos\"\n",
    "caba = pd.concat([caba,latlon_['polideportivo']],axis=1)     # cambiar aca dataset final a usar"
   ]
  },
  {
   "cell_type": "code",
   "execution_count": 109,
   "metadata": {},
   "outputs": [],
   "source": [
    "mask_poli = caba['polideportivo'] == \"Cerca\"\n",
    "dummies_poli = pd.get_dummies(mask_poli, prefix='polideportivo', drop_first=True)\n",
    "caba = caba.join(dummies_poli)\n",
    "caba.drop(columns='polideportivo', inplace=True)"
   ]
  },
  {
   "cell_type": "markdown",
   "metadata": {},
   "source": [
    "#### Hospitales"
   ]
  },
  {
   "cell_type": "code",
   "execution_count": 110,
   "metadata": {},
   "outputs": [],
   "source": [
    "hospitales_path = 'http://cdn.buenosaires.gob.ar/datosabiertos/datasets/salud/hospitales/hospitales.csv'\n",
    "hospitales = pd.read_csv(hospitales_path) "
   ]
  },
  {
   "cell_type": "code",
   "execution_count": 111,
   "metadata": {},
   "outputs": [],
   "source": [
    "hospitales['WKT'] = hospitales['WKT'].apply(wkt.loads)\n",
    "gdf = gp.GeoDataFrame(hospitales, geometry='WKT')"
   ]
  },
  {
   "cell_type": "code",
   "execution_count": 112,
   "metadata": {},
   "outputs": [],
   "source": [
    "hospitales['long'] = gdf.geometry.x\n",
    "hospitales['lat'] = gdf.geometry.y"
   ]
  },
  {
   "cell_type": "code",
   "execution_count": 113,
   "metadata": {},
   "outputs": [],
   "source": [
    "latlon = caba[['lat','lon']] \n",
    "latlon_hospital = hospitales[['long','lat']]  \n",
    "latlon_ = latlon.copy()\n",
    "for index, row in latlon_.iterrows():\n",
    "    distancia = haversine_np(row['lon'],row['lat'],latlon_hospital['long'],latlon_hospital['lat'])\n",
    "    if any(distancia < 2):\n",
    "        latlon_.loc[index, 'hospital'] = \"Cerca\"\n",
    "    else:\n",
    "        latlon_.loc[index, 'hospital'] = \"Lejos\"\n",
    "caba = pd.concat([caba,latlon_['hospital']],axis=1)     "
   ]
  },
  {
   "cell_type": "code",
   "execution_count": 114,
   "metadata": {},
   "outputs": [],
   "source": [
    "mask_hospital = caba['hospital'] == \"Cerca\"\n",
    "dummies_hospital = pd.get_dummies(mask_hospital, prefix='hospital', drop_first=True)\n",
    "caba = caba.join(dummies_hospital)\n",
    "caba.drop(columns='hospital', inplace=True)"
   ]
  },
  {
   "cell_type": "markdown",
   "metadata": {},
   "source": [
    "#### Comisarias"
   ]
  },
  {
   "cell_type": "code",
   "execution_count": 115,
   "metadata": {},
   "outputs": [],
   "source": [
    "comisarias_path = 'http://cdn.buenosaires.gob.ar/datosabiertos/datasets/comisarias-policia-de-la-ciudad/comisarias-policia-de-la-ciudad.csv'\n",
    "comisarias = pd.read_csv(comisarias_path) "
   ]
  },
  {
   "cell_type": "code",
   "execution_count": 116,
   "metadata": {},
   "outputs": [],
   "source": [
    "latlon = caba[['lat','lon']]  \n",
    "latlon_comisaria = comisarias[['long','lat']]  \n",
    "latlon_ = latlon.copy()\n",
    "for index, row in latlon_.iterrows():\n",
    "    distancia = haversine_np(row['lon'],row['lat'],latlon_comisaria['long'],latlon_comisaria['lat'])\n",
    "    if any(distancia < 2):\n",
    "        latlon_.loc[index, 'comisaria'] = \"Cerca\"\n",
    "    else:\n",
    "        latlon_.loc[index, 'comisaria'] = \"Lejos\"\n",
    "caba = pd.concat([caba,latlon_['comisaria']],axis=1)     "
   ]
  },
  {
   "cell_type": "code",
   "execution_count": 117,
   "metadata": {},
   "outputs": [],
   "source": [
    "mask_comisaria = caba['comisaria'] == \"Cerca\"\n",
    "dummies_comisaria = pd.get_dummies(mask_comisaria, prefix='comisaria', drop_first=True)\n",
    "caba = caba.join(dummies_comisaria)\n",
    "caba.drop(columns='comisaria', inplace=True)"
   ]
  },
  {
   "cell_type": "markdown",
   "metadata": {},
   "source": [
    "#### Espacios verdes"
   ]
  },
  {
   "cell_type": "code",
   "execution_count": 118,
   "metadata": {},
   "outputs": [],
   "source": [
    "verdes_path = 'http://cdn.buenosaires.gob.ar/datosabiertos/datasets/secretaria-de-desarrollo-urbano/espacios-verdes/espacio-verde-publico.csv'\n",
    "verdes = pd.read_csv(verdes_path) "
   ]
  },
  {
   "cell_type": "code",
   "execution_count": 119,
   "metadata": {},
   "outputs": [],
   "source": [
    "verdes['WKT'] = verdes['WKT'].apply(wkt.loads)\n",
    "gdf = gp.GeoDataFrame(verdes, geometry='WKT')"
   ]
  },
  {
   "cell_type": "code",
   "execution_count": 120,
   "metadata": {},
   "outputs": [],
   "source": [
    "verdes['long'] = gdf.centroid.geometry.x\n",
    "verdes['lat'] = gdf.centroid.geometry.y"
   ]
  },
  {
   "cell_type": "code",
   "execution_count": 121,
   "metadata": {},
   "outputs": [],
   "source": [
    "latlon = caba[['lat','lon']]  \n",
    "latlon_verdes = verdes[['long','lat']]  \n",
    "latlon_ = latlon.copy()\n",
    "for index, row in latlon_.iterrows():\n",
    "    distancia = haversine_np(row['lon'],row['lat'],latlon_verdes['long'],latlon_verdes['lat'])\n",
    "    if any(distancia < 2):\n",
    "        latlon_.loc[index, 'espacios_verdes'] = \"Cerca\"\n",
    "    else:\n",
    "        latlon_.loc[index, 'espacios_verdes'] = \"Lejos\"\n",
    "caba = pd.concat([caba,latlon_['espacios_verdes']],axis=1)     "
   ]
  },
  {
   "cell_type": "code",
   "execution_count": 122,
   "metadata": {},
   "outputs": [],
   "source": [
    "mask_verde = caba['espacios_verdes'] == \"Cerca\"\n",
    "dummies_verde = pd.get_dummies(mask_verde, prefix='espacios_verdes', drop_first=True)\n",
    "caba = caba.join(dummies_verde)\n",
    "caba.drop(columns='espacios_verdes', inplace=True)"
   ]
  },
  {
   "cell_type": "markdown",
   "metadata": {},
   "source": [
    "### 11) Dummies de variables categoricas"
   ]
  },
  {
   "cell_type": "markdown",
   "metadata": {},
   "source": [
    "#### Barrios"
   ]
  },
  {
   "cell_type": "code",
   "execution_count": 123,
   "metadata": {},
   "outputs": [],
   "source": [
    "dummies_barrio = pd.get_dummies(caba.barrios, drop_first=True)\n",
    "caba = caba.join(dummies_barrio)\n",
    "caba.drop(columns='barrios', inplace=True)"
   ]
  },
  {
   "cell_type": "markdown",
   "metadata": {},
   "source": [
    "#### Pileta"
   ]
  },
  {
   "cell_type": "code",
   "execution_count": 124,
   "metadata": {},
   "outputs": [],
   "source": [
    "mask_pileta = caba['Pileta'] == 'Pileta'\n",
    "dummies_pileta = pd.get_dummies(mask_pileta, prefix='pileta', drop_first=True)\n",
    "caba = caba.join(dummies_pileta)\n",
    "caba.drop(columns='Pileta', inplace=True)"
   ]
  },
  {
   "cell_type": "markdown",
   "metadata": {},
   "source": [
    "#### Cochera"
   ]
  },
  {
   "cell_type": "code",
   "execution_count": 125,
   "metadata": {},
   "outputs": [],
   "source": [
    "mask_cochera = caba['Cochera'] == 'Cochera'\n",
    "dummies_cochera = pd.get_dummies(mask_cochera,prefix='cochera', drop_first=True)\n",
    "caba = caba.join(dummies_cochera)\n",
    "caba.drop(columns='Cochera', inplace=True)"
   ]
  },
  {
   "cell_type": "markdown",
   "metadata": {},
   "source": [
    "#### Parrilla"
   ]
  },
  {
   "cell_type": "code",
   "execution_count": 126,
   "metadata": {},
   "outputs": [],
   "source": [
    "mask_parrilla = caba['Parrilla'] == 'Parrilla'\n",
    "dummies_parrilla = pd.get_dummies(mask_parrilla,prefix='parrilla', drop_first=True)\n",
    "caba = caba.join(dummies_parrilla)\n",
    "caba.drop(columns='Parrilla', inplace=True)"
   ]
  },
  {
   "cell_type": "markdown",
   "metadata": {},
   "source": [
    "#### SUM"
   ]
  },
  {
   "cell_type": "code",
   "execution_count": 127,
   "metadata": {},
   "outputs": [],
   "source": [
    "mask_sum = caba['sum'] == 'SUM'\n",
    "dummies_sum = pd.get_dummies(mask_sum,prefix='sum', drop_first=True)\n",
    "caba = caba.join(dummies_sum)\n",
    "caba.drop(columns='sum', inplace=True)"
   ]
  },
  {
   "cell_type": "markdown",
   "metadata": {},
   "source": [
    "### Exterior"
   ]
  },
  {
   "cell_type": "code",
   "execution_count": 128,
   "metadata": {},
   "outputs": [],
   "source": [
    "mask_uncovered = (caba['surface_total'] - caba['surface_covered']) > 0\n",
    "dummies_exterior = pd.get_dummies(mask_uncovered, prefix='Exterior', drop_first=True)\n",
    "caba = caba.join(dummies_exterior)"
   ]
  },
  {
   "cell_type": "markdown",
   "metadata": {},
   "source": [
    "### 12) Correlacion"
   ]
  },
  {
   "cell_type": "code",
   "execution_count": 129,
   "metadata": {},
   "outputs": [
    {
     "data": {
      "text/html": [
       "<div>\n",
       "<style scoped>\n",
       "    .dataframe tbody tr th:only-of-type {\n",
       "        vertical-align: middle;\n",
       "    }\n",
       "\n",
       "    .dataframe tbody tr th {\n",
       "        vertical-align: top;\n",
       "    }\n",
       "\n",
       "    .dataframe thead th {\n",
       "        text-align: right;\n",
       "    }\n",
       "</style>\n",
       "<table border=\"1\" class=\"dataframe\">\n",
       "  <thead>\n",
       "    <tr style=\"text-align: right;\">\n",
       "      <th></th>\n",
       "      <th>lat</th>\n",
       "      <th>lon</th>\n",
       "      <th>surface_total</th>\n",
       "      <th>surface_covered</th>\n",
       "      <th>price</th>\n",
       "      <th>rooms</th>\n",
       "      <th>bedrooms</th>\n",
       "      <th>bathrooms</th>\n",
       "      <th>subte_True</th>\n",
       "      <th>bus_True</th>\n",
       "      <th>...</th>\n",
       "      <th>Villa Riachuelo</th>\n",
       "      <th>Villa Santa Rita</th>\n",
       "      <th>Villa Soldati</th>\n",
       "      <th>Villa Urquiza</th>\n",
       "      <th>Villa del Parque</th>\n",
       "      <th>pileta_True</th>\n",
       "      <th>cochera_True</th>\n",
       "      <th>parrilla_True</th>\n",
       "      <th>sum_True</th>\n",
       "      <th>Exterior_True</th>\n",
       "    </tr>\n",
       "  </thead>\n",
       "  <tbody>\n",
       "    <tr>\n",
       "      <th>lat</th>\n",
       "      <td>1.000000</td>\n",
       "      <td>-0.214402</td>\n",
       "      <td>0.105570</td>\n",
       "      <td>0.102389</td>\n",
       "      <td>0.191530</td>\n",
       "      <td>0.041843</td>\n",
       "      <td>0.043121</td>\n",
       "      <td>0.124164</td>\n",
       "      <td>0.091776</td>\n",
       "      <td>-0.001045</td>\n",
       "      <td>...</td>\n",
       "      <td>-0.030556</td>\n",
       "      <td>-0.046532</td>\n",
       "      <td>-0.065465</td>\n",
       "      <td>0.181349</td>\n",
       "      <td>-0.059298</td>\n",
       "      <td>0.093421</td>\n",
       "      <td>0.131378</td>\n",
       "      <td>0.111623</td>\n",
       "      <td>0.095919</td>\n",
       "      <td>0.053329</td>\n",
       "    </tr>\n",
       "    <tr>\n",
       "      <th>lon</th>\n",
       "      <td>-0.214402</td>\n",
       "      <td>1.000000</td>\n",
       "      <td>0.148802</td>\n",
       "      <td>0.184850</td>\n",
       "      <td>0.208562</td>\n",
       "      <td>0.103652</td>\n",
       "      <td>0.020386</td>\n",
       "      <td>0.111130</td>\n",
       "      <td>0.421591</td>\n",
       "      <td>-0.011313</td>\n",
       "      <td>...</td>\n",
       "      <td>-0.007824</td>\n",
       "      <td>-0.076208</td>\n",
       "      <td>-0.008033</td>\n",
       "      <td>-0.305281</td>\n",
       "      <td>-0.189303</td>\n",
       "      <td>-0.021598</td>\n",
       "      <td>-0.030796</td>\n",
       "      <td>-0.136440</td>\n",
       "      <td>-0.095780</td>\n",
       "      <td>-0.137288</td>\n",
       "    </tr>\n",
       "    <tr>\n",
       "      <th>surface_total</th>\n",
       "      <td>0.105570</td>\n",
       "      <td>0.148802</td>\n",
       "      <td>1.000000</td>\n",
       "      <td>0.953969</td>\n",
       "      <td>0.813638</td>\n",
       "      <td>0.718442</td>\n",
       "      <td>0.400487</td>\n",
       "      <td>0.712521</td>\n",
       "      <td>0.039109</td>\n",
       "      <td>-0.004424</td>\n",
       "      <td>...</td>\n",
       "      <td>0.001342</td>\n",
       "      <td>-0.015032</td>\n",
       "      <td>-0.003700</td>\n",
       "      <td>-0.044742</td>\n",
       "      <td>-0.027025</td>\n",
       "      <td>0.036163</td>\n",
       "      <td>0.274854</td>\n",
       "      <td>0.004318</td>\n",
       "      <td>-0.014012</td>\n",
       "      <td>0.089247</td>\n",
       "    </tr>\n",
       "    <tr>\n",
       "      <th>surface_covered</th>\n",
       "      <td>0.102389</td>\n",
       "      <td>0.184850</td>\n",
       "      <td>0.953969</td>\n",
       "      <td>1.000000</td>\n",
       "      <td>0.839063</td>\n",
       "      <td>0.739052</td>\n",
       "      <td>0.406351</td>\n",
       "      <td>0.725896</td>\n",
       "      <td>0.054758</td>\n",
       "      <td>-0.004862</td>\n",
       "      <td>...</td>\n",
       "      <td>0.001456</td>\n",
       "      <td>-0.017166</td>\n",
       "      <td>-0.002315</td>\n",
       "      <td>-0.057654</td>\n",
       "      <td>-0.031485</td>\n",
       "      <td>0.035634</td>\n",
       "      <td>0.270157</td>\n",
       "      <td>-0.032549</td>\n",
       "      <td>-0.015565</td>\n",
       "      <td>-0.019441</td>\n",
       "    </tr>\n",
       "    <tr>\n",
       "      <th>price</th>\n",
       "      <td>0.191530</td>\n",
       "      <td>0.208562</td>\n",
       "      <td>0.813638</td>\n",
       "      <td>0.839063</td>\n",
       "      <td>1.000000</td>\n",
       "      <td>0.537838</td>\n",
       "      <td>0.284418</td>\n",
       "      <td>0.685710</td>\n",
       "      <td>0.036406</td>\n",
       "      <td>-0.011962</td>\n",
       "      <td>...</td>\n",
       "      <td>-0.003803</td>\n",
       "      <td>-0.023821</td>\n",
       "      <td>-0.017140</td>\n",
       "      <td>-0.043750</td>\n",
       "      <td>-0.043636</td>\n",
       "      <td>0.146214</td>\n",
       "      <td>0.351881</td>\n",
       "      <td>0.048793</td>\n",
       "      <td>0.092755</td>\n",
       "      <td>0.012229</td>\n",
       "    </tr>\n",
       "    <tr>\n",
       "      <th>...</th>\n",
       "      <td>...</td>\n",
       "      <td>...</td>\n",
       "      <td>...</td>\n",
       "      <td>...</td>\n",
       "      <td>...</td>\n",
       "      <td>...</td>\n",
       "      <td>...</td>\n",
       "      <td>...</td>\n",
       "      <td>...</td>\n",
       "      <td>...</td>\n",
       "      <td>...</td>\n",
       "      <td>...</td>\n",
       "      <td>...</td>\n",
       "      <td>...</td>\n",
       "      <td>...</td>\n",
       "      <td>...</td>\n",
       "      <td>...</td>\n",
       "      <td>...</td>\n",
       "      <td>...</td>\n",
       "      <td>...</td>\n",
       "      <td>...</td>\n",
       "    </tr>\n",
       "    <tr>\n",
       "      <th>pileta_True</th>\n",
       "      <td>0.093421</td>\n",
       "      <td>-0.021598</td>\n",
       "      <td>0.036163</td>\n",
       "      <td>0.035634</td>\n",
       "      <td>0.146214</td>\n",
       "      <td>-0.047003</td>\n",
       "      <td>0.059250</td>\n",
       "      <td>0.064877</td>\n",
       "      <td>0.003402</td>\n",
       "      <td>0.002504</td>\n",
       "      <td>...</td>\n",
       "      <td>0.003338</td>\n",
       "      <td>-0.010586</td>\n",
       "      <td>-0.007408</td>\n",
       "      <td>0.021826</td>\n",
       "      <td>-0.010373</td>\n",
       "      <td>1.000000</td>\n",
       "      <td>0.185857</td>\n",
       "      <td>0.332722</td>\n",
       "      <td>0.274243</td>\n",
       "      <td>0.028176</td>\n",
       "    </tr>\n",
       "    <tr>\n",
       "      <th>cochera_True</th>\n",
       "      <td>0.131378</td>\n",
       "      <td>-0.030796</td>\n",
       "      <td>0.274854</td>\n",
       "      <td>0.270157</td>\n",
       "      <td>0.351881</td>\n",
       "      <td>0.174177</td>\n",
       "      <td>0.078042</td>\n",
       "      <td>0.285762</td>\n",
       "      <td>-0.035098</td>\n",
       "      <td>0.000702</td>\n",
       "      <td>...</td>\n",
       "      <td>-0.004667</td>\n",
       "      <td>0.004222</td>\n",
       "      <td>-0.012468</td>\n",
       "      <td>0.053220</td>\n",
       "      <td>-0.007438</td>\n",
       "      <td>0.185857</td>\n",
       "      <td>1.000000</td>\n",
       "      <td>0.267925</td>\n",
       "      <td>0.211060</td>\n",
       "      <td>0.080930</td>\n",
       "    </tr>\n",
       "    <tr>\n",
       "      <th>parrilla_True</th>\n",
       "      <td>0.111623</td>\n",
       "      <td>-0.136440</td>\n",
       "      <td>0.004318</td>\n",
       "      <td>-0.032549</td>\n",
       "      <td>0.048793</td>\n",
       "      <td>-0.109619</td>\n",
       "      <td>0.013929</td>\n",
       "      <td>0.034949</td>\n",
       "      <td>-0.020480</td>\n",
       "      <td>0.003770</td>\n",
       "      <td>...</td>\n",
       "      <td>-0.003770</td>\n",
       "      <td>0.011577</td>\n",
       "      <td>-0.011156</td>\n",
       "      <td>0.073540</td>\n",
       "      <td>-0.000403</td>\n",
       "      <td>0.332722</td>\n",
       "      <td>0.267925</td>\n",
       "      <td>1.000000</td>\n",
       "      <td>0.395973</td>\n",
       "      <td>0.121736</td>\n",
       "    </tr>\n",
       "    <tr>\n",
       "      <th>sum_True</th>\n",
       "      <td>0.095919</td>\n",
       "      <td>-0.095780</td>\n",
       "      <td>-0.014012</td>\n",
       "      <td>-0.015565</td>\n",
       "      <td>0.092755</td>\n",
       "      <td>-0.105504</td>\n",
       "      <td>0.010792</td>\n",
       "      <td>0.044006</td>\n",
       "      <td>-0.029626</td>\n",
       "      <td>0.004090</td>\n",
       "      <td>...</td>\n",
       "      <td>-0.004090</td>\n",
       "      <td>-0.003926</td>\n",
       "      <td>-0.012100</td>\n",
       "      <td>0.049986</td>\n",
       "      <td>0.015744</td>\n",
       "      <td>0.274243</td>\n",
       "      <td>0.211060</td>\n",
       "      <td>0.395973</td>\n",
       "      <td>1.000000</td>\n",
       "      <td>0.076690</td>\n",
       "    </tr>\n",
       "    <tr>\n",
       "      <th>Exterior_True</th>\n",
       "      <td>0.053329</td>\n",
       "      <td>-0.137288</td>\n",
       "      <td>0.089247</td>\n",
       "      <td>-0.019441</td>\n",
       "      <td>0.012229</td>\n",
       "      <td>0.015563</td>\n",
       "      <td>0.044181</td>\n",
       "      <td>0.058640</td>\n",
       "      <td>-0.008361</td>\n",
       "      <td>-0.000696</td>\n",
       "      <td>...</td>\n",
       "      <td>0.000696</td>\n",
       "      <td>0.011335</td>\n",
       "      <td>-0.006323</td>\n",
       "      <td>0.053080</td>\n",
       "      <td>0.006844</td>\n",
       "      <td>0.028176</td>\n",
       "      <td>0.080930</td>\n",
       "      <td>0.121736</td>\n",
       "      <td>0.076690</td>\n",
       "      <td>1.000000</td>\n",
       "    </tr>\n",
       "  </tbody>\n",
       "</table>\n",
       "<p>80 rows × 80 columns</p>\n",
       "</div>"
      ],
      "text/plain": [
       "                      lat       lon  surface_total  surface_covered     price  \\\n",
       "lat              1.000000 -0.214402       0.105570         0.102389  0.191530   \n",
       "lon             -0.214402  1.000000       0.148802         0.184850  0.208562   \n",
       "surface_total    0.105570  0.148802       1.000000         0.953969  0.813638   \n",
       "surface_covered  0.102389  0.184850       0.953969         1.000000  0.839063   \n",
       "price            0.191530  0.208562       0.813638         0.839063  1.000000   \n",
       "...                   ...       ...            ...              ...       ...   \n",
       "pileta_True      0.093421 -0.021598       0.036163         0.035634  0.146214   \n",
       "cochera_True     0.131378 -0.030796       0.274854         0.270157  0.351881   \n",
       "parrilla_True    0.111623 -0.136440       0.004318        -0.032549  0.048793   \n",
       "sum_True         0.095919 -0.095780      -0.014012        -0.015565  0.092755   \n",
       "Exterior_True    0.053329 -0.137288       0.089247        -0.019441  0.012229   \n",
       "\n",
       "                    rooms  bedrooms  bathrooms  subte_True  bus_True  ...  \\\n",
       "lat              0.041843  0.043121   0.124164    0.091776 -0.001045  ...   \n",
       "lon              0.103652  0.020386   0.111130    0.421591 -0.011313  ...   \n",
       "surface_total    0.718442  0.400487   0.712521    0.039109 -0.004424  ...   \n",
       "surface_covered  0.739052  0.406351   0.725896    0.054758 -0.004862  ...   \n",
       "price            0.537838  0.284418   0.685710    0.036406 -0.011962  ...   \n",
       "...                   ...       ...        ...         ...       ...  ...   \n",
       "pileta_True     -0.047003  0.059250   0.064877    0.003402  0.002504  ...   \n",
       "cochera_True     0.174177  0.078042   0.285762   -0.035098  0.000702  ...   \n",
       "parrilla_True   -0.109619  0.013929   0.034949   -0.020480  0.003770  ...   \n",
       "sum_True        -0.105504  0.010792   0.044006   -0.029626  0.004090  ...   \n",
       "Exterior_True    0.015563  0.044181   0.058640   -0.008361 -0.000696  ...   \n",
       "\n",
       "                 Villa Riachuelo  Villa Santa Rita  Villa Soldati  \\\n",
       "lat                    -0.030556         -0.046532      -0.065465   \n",
       "lon                    -0.007824         -0.076208      -0.008033   \n",
       "surface_total           0.001342         -0.015032      -0.003700   \n",
       "surface_covered         0.001456         -0.017166      -0.002315   \n",
       "price                  -0.003803         -0.023821      -0.017140   \n",
       "...                          ...               ...            ...   \n",
       "pileta_True             0.003338         -0.010586      -0.007408   \n",
       "cochera_True           -0.004667          0.004222      -0.012468   \n",
       "parrilla_True          -0.003770          0.011577      -0.011156   \n",
       "sum_True               -0.004090         -0.003926      -0.012100   \n",
       "Exterior_True           0.000696          0.011335      -0.006323   \n",
       "\n",
       "                 Villa Urquiza  Villa del Parque  pileta_True  cochera_True  \\\n",
       "lat                   0.181349         -0.059298     0.093421      0.131378   \n",
       "lon                  -0.305281         -0.189303    -0.021598     -0.030796   \n",
       "surface_total        -0.044742         -0.027025     0.036163      0.274854   \n",
       "surface_covered      -0.057654         -0.031485     0.035634      0.270157   \n",
       "price                -0.043750         -0.043636     0.146214      0.351881   \n",
       "...                        ...               ...          ...           ...   \n",
       "pileta_True           0.021826         -0.010373     1.000000      0.185857   \n",
       "cochera_True          0.053220         -0.007438     0.185857      1.000000   \n",
       "parrilla_True         0.073540         -0.000403     0.332722      0.267925   \n",
       "sum_True              0.049986          0.015744     0.274243      0.211060   \n",
       "Exterior_True         0.053080          0.006844     0.028176      0.080930   \n",
       "\n",
       "                 parrilla_True  sum_True  Exterior_True  \n",
       "lat                   0.111623  0.095919       0.053329  \n",
       "lon                  -0.136440 -0.095780      -0.137288  \n",
       "surface_total         0.004318 -0.014012       0.089247  \n",
       "surface_covered      -0.032549 -0.015565      -0.019441  \n",
       "price                 0.048793  0.092755       0.012229  \n",
       "...                        ...       ...            ...  \n",
       "pileta_True           0.332722  0.274243       0.028176  \n",
       "cochera_True          0.267925  0.211060       0.080930  \n",
       "parrilla_True         1.000000  0.395973       0.121736  \n",
       "sum_True              0.395973  1.000000       0.076690  \n",
       "Exterior_True         0.121736  0.076690       1.000000  \n",
       "\n",
       "[80 rows x 80 columns]"
      ]
     },
     "execution_count": 129,
     "metadata": {},
     "output_type": "execute_result"
    }
   ],
   "source": [
    "caba.corr()"
   ]
  },
  {
   "cell_type": "code",
   "execution_count": 130,
   "metadata": {},
   "outputs": [
    {
     "data": {
      "text/plain": [
       "<AxesSubplot:>"
      ]
     },
     "execution_count": 130,
     "metadata": {},
     "output_type": "execute_result"
    },
    {
     "data": {
      "image/png": "[encoded data removed]",
      "text/plain": [
       "<Figure size 864x1296 with 2 Axes>"
      ]
     },
     "metadata": {},
     "output_type": "display_data"
    }
   ],
   "source": [
    "plt.figure(figsize=(12,18))\n",
    "sns.heatmap(caba.corr()[['price']], annot=True, vmin=-1, cmap='Blues')"
   ]
  },
  {
   "cell_type": "code",
   "execution_count": 131,
   "metadata": {},
   "outputs": [
    {
     "data": {
      "text/plain": [
       "<seaborn.axisgrid.PairGrid at 0x265036aa688>"
      ]
     },
     "execution_count": 131,
     "metadata": {},
     "output_type": "execute_result"
    },
    {
     "data": {
      "image/png": "[encoded data removed]",
      "text/plain": [
       "<Figure size 945.725x180 with 5 Axes>"
      ]
     },
     "metadata": {},
     "output_type": "display_data"
    }
   ],
   "source": [
    "sns.pairplot(data=caba,hue='rooms', y_vars='price',\\\n",
    "             x_vars=['surface_total','surface_covered','bedrooms', 'bathrooms', 'Exterior_True'])"
   ]
  },
  {
   "cell_type": "markdown",
   "metadata": {},
   "source": [
    "### 13) Modelo de regresion"
   ]
  },
  {
   "cell_type": "markdown",
   "metadata": {},
   "source": [
    "Combinando GridSearchCV y Pipeline vamos a crear diferentes modelos:\n",
    "* Regresion Linear\n",
    "* Modelo de Lasso\n",
    "* Modelo de Ridge\n",
    "* Modelo de Elastic Net\n",
    "* Random Forest Regressor\n",
    "* AdaBoosting\n",
    "* Gradient Boosting\n",
    "* LightGBM Regressor\n",
    "\n",
    "Al final vamos a presentar en un dataframe cada uno de sus scores (R2) para verificar cual fue el modelo que tuvo una mejor performance."
   ]
  },
  {
   "cell_type": "code",
   "execution_count": 132,
   "metadata": {},
   "outputs": [],
   "source": [
    "from sklearn.linear_model import LinearRegression, Lasso, Ridge, ElasticNet\n",
    "from sklearn.model_selection import train_test_split, cross_val_score, GridSearchCV, RandomizedSearchCV\n",
    "from sklearn.preprocessing import StandardScaler, MinMaxScaler, RobustScaler\n",
    "from sklearn.ensemble import RandomForestRegressor, GradientBoostingRegressor, AdaBoostRegressor\n",
    "from lightgbm import LGBMRegressor\n",
    "from sklearn.metrics import r2_score\n",
    "from sklearn.pipeline import Pipeline\n",
    "from sklearn import set_config\n",
    "from sklearn import linear_model\n",
    "set_config(display='diagram')"
   ]
  },
  {
   "cell_type": "code",
   "execution_count": 133,
   "metadata": {},
   "outputs": [
    {
     "data": {
      "text/plain": [
       "Index(['lat', 'lon', 'surface_total', 'surface_covered', 'price', 'rooms',\n",
       "       'bedrooms', 'bathrooms', 'subte_True', 'bus_True', 'metrobus_True',\n",
       "       'tren_True', 'ecobici_True', 'gastronomico_True', 'universidad_True',\n",
       "       'polideportivo_True', 'hospital_True', 'comisaria_True', 'Agronomía',\n",
       "       'Almagro', 'Balvanera', 'Barracas', 'Barrio Norte', 'Belgrano', 'Boca',\n",
       "       'Boedo', 'Caballito', 'Catalinas', 'Centro / Microcentro', 'Chacarita',\n",
       "       'Coghlan', 'Colegiales', 'Congreso', 'Constitución',\n",
       "       'Distrito Audiovisual', 'Flores', 'Floresta', 'Las Cañitas', 'Liniers',\n",
       "       'Mataderos', 'Monserrat', 'Monte Castro', 'Nuñez', 'Once', 'Palermo',\n",
       "       'Parque Avellaneda', 'Parque Centenario', 'Parque Chacabuco',\n",
       "       'Parque Chas', 'Parque Patricios', 'Paternal', 'Pompeya',\n",
       "       'Puerto Madero', 'Recoleta', 'Retiro', 'Saavedra', 'San Cristobal',\n",
       "       'San Nicolás', 'San Telmo', 'Tribunales', 'Velez Sarsfield',\n",
       "       'Versalles', 'Villa Crespo', 'Villa Devoto', 'Villa General Mitre',\n",
       "       'Villa Lugano', 'Villa Luro', 'Villa Ortuzar', 'Villa Pueyrredón',\n",
       "       'Villa Real', 'Villa Riachuelo', 'Villa Santa Rita', 'Villa Soldati',\n",
       "       'Villa Urquiza', 'Villa del Parque', 'pileta_True', 'cochera_True',\n",
       "       'parrilla_True', 'sum_True', 'Exterior_True'],\n",
       "      dtype='object')"
      ]
     },
     "execution_count": 133,
     "metadata": {},
     "output_type": "execute_result"
    }
   ],
   "source": [
    "caba.columns"
   ]
  },
  {
   "cell_type": "code",
   "execution_count": 134,
   "metadata": {},
   "outputs": [
    {
     "data": {
      "text/plain": [
       "(76566, 80)"
      ]
     },
     "execution_count": 134,
     "metadata": {},
     "output_type": "execute_result"
    }
   ],
   "source": [
    "caba.shape"
   ]
  },
  {
   "cell_type": "code",
   "execution_count": 135,
   "metadata": {},
   "outputs": [],
   "source": [
    "X = caba.drop(columns=['price','lat','lon'])\n",
    "y = caba.price\n",
    "\n",
    "X_train, X_test, y_train, y_test = train_test_split(X, y, test_size=0.30, random_state=10)\n",
    "\n",
    "folds = 5"
   ]
  },
  {
   "cell_type": "markdown",
   "metadata": {},
   "source": [
    "#### Regresion Linear"
   ]
  },
  {
   "cell_type": "code",
   "execution_count": 136,
   "metadata": {},
   "outputs": [
    {
     "data": {
      "text/html": [
       "<style>div.sk-top-container {color: black;background-color: white;}div.sk-toggleable {background-color: white;}label.sk-toggleable__label {cursor: pointer;display: block;width: 100%;margin-bottom: 0;padding: 0.2em 0.3em;box-sizing: border-box;text-align: center;}div.sk-toggleable__content {max-height: 0;max-width: 0;overflow: hidden;text-align: left;background-color: #f0f8ff;}div.sk-toggleable__content pre {margin: 0.2em;color: black;border-radius: 0.25em;background-color: #f0f8ff;}input.sk-toggleable__control:checked~div.sk-toggleable__content {max-height: 200px;max-width: 100%;overflow: auto;}div.sk-estimator input.sk-toggleable__control:checked~label.sk-toggleable__label {background-color: #d4ebff;}div.sk-label input.sk-toggleable__control:checked~label.sk-toggleable__label {background-color: #d4ebff;}input.sk-hidden--visually {border: 0;clip: rect(1px 1px 1px 1px);clip: rect(1px, 1px, 1px, 1px);height: 1px;margin: -1px;overflow: hidden;padding: 0;position: absolute;width: 1px;}div.sk-estimator {font-family: monospace;background-color: #f0f8ff;margin: 0.25em 0.25em;border: 1px dotted black;border-radius: 0.25em;box-sizing: border-box;}div.sk-estimator:hover {background-color: #d4ebff;}div.sk-parallel-item::after {content: \"\";width: 100%;border-bottom: 1px solid gray;flex-grow: 1;}div.sk-label:hover label.sk-toggleable__label {background-color: #d4ebff;}div.sk-serial::before {content: \"\";position: absolute;border-left: 1px solid gray;box-sizing: border-box;top: 2em;bottom: 0;left: 50%;}div.sk-serial {display: flex;flex-direction: column;align-items: center;background-color: white;}div.sk-item {z-index: 1;}div.sk-parallel {display: flex;align-items: stretch;justify-content: center;background-color: white;}div.sk-parallel-item {display: flex;flex-direction: column;position: relative;background-color: white;}div.sk-parallel-item:first-child::after {align-self: flex-end;width: 50%;}div.sk-parallel-item:last-child::after {align-self: flex-start;width: 50%;}div.sk-parallel-item:only-child::after {width: 0;}div.sk-dashed-wrapped {border: 1px dashed gray;margin: 0.2em;box-sizing: border-box;padding-bottom: 0.1em;background-color: white;position: relative;}div.sk-label label {font-family: monospace;font-weight: bold;background-color: white;display: inline-block;line-height: 1.2em;}div.sk-label-container {position: relative;z-index: 2;text-align: center;}div.sk-container {display: inline-block;position: relative;}</style><div class=\"sk-top-container\"><div class=\"sk-container\"><div class=\"sk-item sk-dashed-wrapped\"><div class=\"sk-label-container\"><div class=\"sk-label sk-toggleable\"><input class=\"sk-toggleable__control sk-hidden--visually\" id=\"33d7742e-5a4e-456d-ba03-cde91f4e63e4\" type=\"checkbox\" ><label class=\"sk-toggleable__label\" for=\"33d7742e-5a4e-456d-ba03-cde91f4e63e4\">GridSearchCV</label><div class=\"sk-toggleable__content\"><pre>GridSearchCV(cv=5, estimator=LinearRegression(),\n",
       "             param_grid={'normalize': [True, False]}, scoring='r2')</pre></div></div></div><div class=\"sk-parallel\"><div class=\"sk-parallel-item\"><div class=\"sk-item\"><div class=\"sk-serial\"><div class=\"sk-item\"><div class=\"sk-estimator sk-toggleable\"><input class=\"sk-toggleable__control sk-hidden--visually\" id=\"95b2253c-9873-4919-99f6-cddd4b58833a\" type=\"checkbox\" ><label class=\"sk-toggleable__label\" for=\"95b2253c-9873-4919-99f6-cddd4b58833a\">LinearRegression</label><div class=\"sk-toggleable__content\"><pre>LinearRegression()</pre></div></div></div></div></div></div></div></div></div></div>"
      ],
      "text/plain": [
       "GridSearchCV(cv=5, estimator=LinearRegression(),\n",
       "             param_grid={'normalize': [True, False]}, scoring='r2')"
      ]
     },
     "execution_count": 136,
     "metadata": {},
     "output_type": "execute_result"
    }
   ],
   "source": [
    "lr = LinearRegression()\n",
    "\n",
    "param_lr ={'normalize':[True, False]}\n",
    "\n",
    "grid_lr = GridSearchCV(estimator=lr, param_grid=param_lr, cv=folds, scoring='r2')\n",
    "grid_lr.fit(X_train, y_train)"
   ]
  },
  {
   "cell_type": "code",
   "execution_count": 137,
   "metadata": {},
   "outputs": [
    {
     "data": {
      "text/plain": [
       "0.8166213825615468"
      ]
     },
     "execution_count": 137,
     "metadata": {},
     "output_type": "execute_result"
    }
   ],
   "source": [
    "grid_lr.best_score_"
   ]
  },
  {
   "cell_type": "code",
   "execution_count": 138,
   "metadata": {},
   "outputs": [
    {
     "data": {
      "text/html": [
       "<style>div.sk-top-container {color: black;background-color: white;}div.sk-toggleable {background-color: white;}label.sk-toggleable__label {cursor: pointer;display: block;width: 100%;margin-bottom: 0;padding: 0.2em 0.3em;box-sizing: border-box;text-align: center;}div.sk-toggleable__content {max-height: 0;max-width: 0;overflow: hidden;text-align: left;background-color: #f0f8ff;}div.sk-toggleable__content pre {margin: 0.2em;color: black;border-radius: 0.25em;background-color: #f0f8ff;}input.sk-toggleable__control:checked~div.sk-toggleable__content {max-height: 200px;max-width: 100%;overflow: auto;}div.sk-estimator input.sk-toggleable__control:checked~label.sk-toggleable__label {background-color: #d4ebff;}div.sk-label input.sk-toggleable__control:checked~label.sk-toggleable__label {background-color: #d4ebff;}input.sk-hidden--visually {border: 0;clip: rect(1px 1px 1px 1px);clip: rect(1px, 1px, 1px, 1px);height: 1px;margin: -1px;overflow: hidden;padding: 0;position: absolute;width: 1px;}div.sk-estimator {font-family: monospace;background-color: #f0f8ff;margin: 0.25em 0.25em;border: 1px dotted black;border-radius: 0.25em;box-sizing: border-box;}div.sk-estimator:hover {background-color: #d4ebff;}div.sk-parallel-item::after {content: \"\";width: 100%;border-bottom: 1px solid gray;flex-grow: 1;}div.sk-label:hover label.sk-toggleable__label {background-color: #d4ebff;}div.sk-serial::before {content: \"\";position: absolute;border-left: 1px solid gray;box-sizing: border-box;top: 2em;bottom: 0;left: 50%;}div.sk-serial {display: flex;flex-direction: column;align-items: center;background-color: white;}div.sk-item {z-index: 1;}div.sk-parallel {display: flex;align-items: stretch;justify-content: center;background-color: white;}div.sk-parallel-item {display: flex;flex-direction: column;position: relative;background-color: white;}div.sk-parallel-item:first-child::after {align-self: flex-end;width: 50%;}div.sk-parallel-item:last-child::after {align-self: flex-start;width: 50%;}div.sk-parallel-item:only-child::after {width: 0;}div.sk-dashed-wrapped {border: 1px dashed gray;margin: 0.2em;box-sizing: border-box;padding-bottom: 0.1em;background-color: white;position: relative;}div.sk-label label {font-family: monospace;font-weight: bold;background-color: white;display: inline-block;line-height: 1.2em;}div.sk-label-container {position: relative;z-index: 2;text-align: center;}div.sk-container {display: inline-block;position: relative;}</style><div class=\"sk-top-container\"><div class=\"sk-container\"><div class=\"sk-item\"><div class=\"sk-estimator sk-toggleable\"><input class=\"sk-toggleable__control sk-hidden--visually\" id=\"8a52e52f-8814-4c25-baf2-29fba4c514c3\" type=\"checkbox\" checked><label class=\"sk-toggleable__label\" for=\"8a52e52f-8814-4c25-baf2-29fba4c514c3\">LinearRegression</label><div class=\"sk-toggleable__content\"><pre>LinearRegression()</pre></div></div></div></div></div>"
      ],
      "text/plain": [
       "LinearRegression()"
      ]
     },
     "execution_count": 138,
     "metadata": {},
     "output_type": "execute_result"
    }
   ],
   "source": [
    "grid_lr.best_estimator_"
   ]
  },
  {
   "cell_type": "markdown",
   "metadata": {},
   "source": [
    "#### Ridge"
   ]
  },
  {
   "cell_type": "code",
   "execution_count": 139,
   "metadata": {},
   "outputs": [
    {
     "data": {
      "text/html": [
       "<style>div.sk-top-container {color: black;background-color: white;}div.sk-toggleable {background-color: white;}label.sk-toggleable__label {cursor: pointer;display: block;width: 100%;margin-bottom: 0;padding: 0.2em 0.3em;box-sizing: border-box;text-align: center;}div.sk-toggleable__content {max-height: 0;max-width: 0;overflow: hidden;text-align: left;background-color: #f0f8ff;}div.sk-toggleable__content pre {margin: 0.2em;color: black;border-radius: 0.25em;background-color: #f0f8ff;}input.sk-toggleable__control:checked~div.sk-toggleable__content {max-height: 200px;max-width: 100%;overflow: auto;}div.sk-estimator input.sk-toggleable__control:checked~label.sk-toggleable__label {background-color: #d4ebff;}div.sk-label input.sk-toggleable__control:checked~label.sk-toggleable__label {background-color: #d4ebff;}input.sk-hidden--visually {border: 0;clip: rect(1px 1px 1px 1px);clip: rect(1px, 1px, 1px, 1px);height: 1px;margin: -1px;overflow: hidden;padding: 0;position: absolute;width: 1px;}div.sk-estimator {font-family: monospace;background-color: #f0f8ff;margin: 0.25em 0.25em;border: 1px dotted black;border-radius: 0.25em;box-sizing: border-box;}div.sk-estimator:hover {background-color: #d4ebff;}div.sk-parallel-item::after {content: \"\";width: 100%;border-bottom: 1px solid gray;flex-grow: 1;}div.sk-label:hover label.sk-toggleable__label {background-color: #d4ebff;}div.sk-serial::before {content: \"\";position: absolute;border-left: 1px solid gray;box-sizing: border-box;top: 2em;bottom: 0;left: 50%;}div.sk-serial {display: flex;flex-direction: column;align-items: center;background-color: white;}div.sk-item {z-index: 1;}div.sk-parallel {display: flex;align-items: stretch;justify-content: center;background-color: white;}div.sk-parallel-item {display: flex;flex-direction: column;position: relative;background-color: white;}div.sk-parallel-item:first-child::after {align-self: flex-end;width: 50%;}div.sk-parallel-item:last-child::after {align-self: flex-start;width: 50%;}div.sk-parallel-item:only-child::after {width: 0;}div.sk-dashed-wrapped {border: 1px dashed gray;margin: 0.2em;box-sizing: border-box;padding-bottom: 0.1em;background-color: white;position: relative;}div.sk-label label {font-family: monospace;font-weight: bold;background-color: white;display: inline-block;line-height: 1.2em;}div.sk-label-container {position: relative;z-index: 2;text-align: center;}div.sk-container {display: inline-block;position: relative;}</style><div class=\"sk-top-container\"><div class=\"sk-container\"><div class=\"sk-item sk-dashed-wrapped\"><div class=\"sk-label-container\"><div class=\"sk-label sk-toggleable\"><input class=\"sk-toggleable__control sk-hidden--visually\" id=\"673d2dca-6617-48e4-a697-b3b21a7911ed\" type=\"checkbox\" ><label class=\"sk-toggleable__label\" for=\"673d2dca-6617-48e4-a697-b3b21a7911ed\">GridSearchCV</label><div class=\"sk-toggleable__content\"><pre>GridSearchCV(cv=5,\n",
       "             estimator=Pipeline(steps=[('preprocesamiento', StandardScaler()),\n",
       "                                       ('regresion', Ridge())]),\n",
       "             param_grid=[{'preprocesamiento': [StandardScaler()],\n",
       "                          'regresion__alpha': [0.01, 0.3, 0.5, 0.7, 0.8]}],\n",
       "             scoring='r2')</pre></div></div></div><div class=\"sk-parallel\"><div class=\"sk-parallel-item\"><div class=\"sk-item\"><div class=\"sk-serial\"><div class=\"sk-item\"><div class=\"sk-serial\"><div class=\"sk-item\"><div class=\"sk-estimator sk-toggleable\"><input class=\"sk-toggleable__control sk-hidden--visually\" id=\"766a2baf-bd2f-4c13-ba8d-9533d6d52936\" type=\"checkbox\" ><label class=\"sk-toggleable__label\" for=\"766a2baf-bd2f-4c13-ba8d-9533d6d52936\">StandardScaler</label><div class=\"sk-toggleable__content\"><pre>StandardScaler()</pre></div></div></div><div class=\"sk-item\"><div class=\"sk-estimator sk-toggleable\"><input class=\"sk-toggleable__control sk-hidden--visually\" id=\"3ea51c62-4e42-4ae7-9a63-9aab92751eef\" type=\"checkbox\" ><label class=\"sk-toggleable__label\" for=\"3ea51c62-4e42-4ae7-9a63-9aab92751eef\">Ridge</label><div class=\"sk-toggleable__content\"><pre>Ridge()</pre></div></div></div></div></div></div></div></div></div></div></div></div>"
      ],
      "text/plain": [
       "GridSearchCV(cv=5,\n",
       "             estimator=Pipeline(steps=[('preprocesamiento', StandardScaler()),\n",
       "                                       ('regresion', Ridge())]),\n",
       "             param_grid=[{'preprocesamiento': [StandardScaler()],\n",
       "                          'regresion__alpha': [0.01, 0.3, 0.5, 0.7, 0.8]}],\n",
       "             scoring='r2')"
      ]
     },
     "execution_count": 139,
     "metadata": {},
     "output_type": "execute_result"
    }
   ],
   "source": [
    "pasos = [('preprocesamiento', StandardScaler()),\n",
    "         ('regresion', Ridge())\n",
    "        ]\n",
    "\n",
    "pipe_grid_rid = Pipeline(pasos)\n",
    "\n",
    "param_grid_rid = [{'preprocesamiento':[StandardScaler()],\n",
    "                   'regresion__alpha':[0.01, 0.3, 0.5, 0.7, 0.8],\n",
    "                }]\n",
    "\n",
    "grid_rid = GridSearchCV(estimator=pipe_grid_rid, param_grid=param_grid_rid, cv=folds, scoring='r2')\n",
    "grid_rid.fit(X_train, y_train)"
   ]
  },
  {
   "cell_type": "code",
   "execution_count": 140,
   "metadata": {},
   "outputs": [
    {
     "data": {
      "text/plain": [
       "0.8166214204662723"
      ]
     },
     "execution_count": 140,
     "metadata": {},
     "output_type": "execute_result"
    }
   ],
   "source": [
    "grid_rid.best_score_"
   ]
  },
  {
   "cell_type": "code",
   "execution_count": 141,
   "metadata": {},
   "outputs": [
    {
     "data": {
      "text/html": [
       "<style>div.sk-top-container {color: black;background-color: white;}div.sk-toggleable {background-color: white;}label.sk-toggleable__label {cursor: pointer;display: block;width: 100%;margin-bottom: 0;padding: 0.2em 0.3em;box-sizing: border-box;text-align: center;}div.sk-toggleable__content {max-height: 0;max-width: 0;overflow: hidden;text-align: left;background-color: #f0f8ff;}div.sk-toggleable__content pre {margin: 0.2em;color: black;border-radius: 0.25em;background-color: #f0f8ff;}input.sk-toggleable__control:checked~div.sk-toggleable__content {max-height: 200px;max-width: 100%;overflow: auto;}div.sk-estimator input.sk-toggleable__control:checked~label.sk-toggleable__label {background-color: #d4ebff;}div.sk-label input.sk-toggleable__control:checked~label.sk-toggleable__label {background-color: #d4ebff;}input.sk-hidden--visually {border: 0;clip: rect(1px 1px 1px 1px);clip: rect(1px, 1px, 1px, 1px);height: 1px;margin: -1px;overflow: hidden;padding: 0;position: absolute;width: 1px;}div.sk-estimator {font-family: monospace;background-color: #f0f8ff;margin: 0.25em 0.25em;border: 1px dotted black;border-radius: 0.25em;box-sizing: border-box;}div.sk-estimator:hover {background-color: #d4ebff;}div.sk-parallel-item::after {content: \"\";width: 100%;border-bottom: 1px solid gray;flex-grow: 1;}div.sk-label:hover label.sk-toggleable__label {background-color: #d4ebff;}div.sk-serial::before {content: \"\";position: absolute;border-left: 1px solid gray;box-sizing: border-box;top: 2em;bottom: 0;left: 50%;}div.sk-serial {display: flex;flex-direction: column;align-items: center;background-color: white;}div.sk-item {z-index: 1;}div.sk-parallel {display: flex;align-items: stretch;justify-content: center;background-color: white;}div.sk-parallel-item {display: flex;flex-direction: column;position: relative;background-color: white;}div.sk-parallel-item:first-child::after {align-self: flex-end;width: 50%;}div.sk-parallel-item:last-child::after {align-self: flex-start;width: 50%;}div.sk-parallel-item:only-child::after {width: 0;}div.sk-dashed-wrapped {border: 1px dashed gray;margin: 0.2em;box-sizing: border-box;padding-bottom: 0.1em;background-color: white;position: relative;}div.sk-label label {font-family: monospace;font-weight: bold;background-color: white;display: inline-block;line-height: 1.2em;}div.sk-label-container {position: relative;z-index: 2;text-align: center;}div.sk-container {display: inline-block;position: relative;}</style><div class=\"sk-top-container\"><div class=\"sk-container\"><div class=\"sk-item sk-dashed-wrapped\"><div class=\"sk-label-container\"><div class=\"sk-label sk-toggleable\"><input class=\"sk-toggleable__control sk-hidden--visually\" id=\"3a0fabf5-3401-484c-80d9-6511bb3df9b4\" type=\"checkbox\" ><label class=\"sk-toggleable__label\" for=\"3a0fabf5-3401-484c-80d9-6511bb3df9b4\">Pipeline</label><div class=\"sk-toggleable__content\"><pre>Pipeline(steps=[('preprocesamiento', StandardScaler()),\n",
       "                ('regresion', Ridge(alpha=0.8))])</pre></div></div></div><div class=\"sk-serial\"><div class=\"sk-item\"><div class=\"sk-estimator sk-toggleable\"><input class=\"sk-toggleable__control sk-hidden--visually\" id=\"54b12e71-9a9e-46d3-8bf1-65d7706d06b5\" type=\"checkbox\" ><label class=\"sk-toggleable__label\" for=\"54b12e71-9a9e-46d3-8bf1-65d7706d06b5\">StandardScaler</label><div class=\"sk-toggleable__content\"><pre>StandardScaler()</pre></div></div></div><div class=\"sk-item\"><div class=\"sk-estimator sk-toggleable\"><input class=\"sk-toggleable__control sk-hidden--visually\" id=\"58fdf8c4-19dd-4ce8-a262-a724bbc0e4c2\" type=\"checkbox\" ><label class=\"sk-toggleable__label\" for=\"58fdf8c4-19dd-4ce8-a262-a724bbc0e4c2\">Ridge</label><div class=\"sk-toggleable__content\"><pre>Ridge(alpha=0.8)</pre></div></div></div></div></div></div></div>"
      ],
      "text/plain": [
       "Pipeline(steps=[('preprocesamiento', StandardScaler()),\n",
       "                ('regresion', Ridge(alpha=0.8))])"
      ]
     },
     "execution_count": 141,
     "metadata": {},
     "output_type": "execute_result"
    }
   ],
   "source": [
    "grid_rid.best_estimator_"
   ]
  },
  {
   "cell_type": "markdown",
   "metadata": {},
   "source": [
    "#### Lasso"
   ]
  },
  {
   "cell_type": "code",
   "execution_count": 142,
   "metadata": {},
   "outputs": [
    {
     "data": {
      "text/html": [
       "<style>div.sk-top-container {color: black;background-color: white;}div.sk-toggleable {background-color: white;}label.sk-toggleable__label {cursor: pointer;display: block;width: 100%;margin-bottom: 0;padding: 0.2em 0.3em;box-sizing: border-box;text-align: center;}div.sk-toggleable__content {max-height: 0;max-width: 0;overflow: hidden;text-align: left;background-color: #f0f8ff;}div.sk-toggleable__content pre {margin: 0.2em;color: black;border-radius: 0.25em;background-color: #f0f8ff;}input.sk-toggleable__control:checked~div.sk-toggleable__content {max-height: 200px;max-width: 100%;overflow: auto;}div.sk-estimator input.sk-toggleable__control:checked~label.sk-toggleable__label {background-color: #d4ebff;}div.sk-label input.sk-toggleable__control:checked~label.sk-toggleable__label {background-color: #d4ebff;}input.sk-hidden--visually {border: 0;clip: rect(1px 1px 1px 1px);clip: rect(1px, 1px, 1px, 1px);height: 1px;margin: -1px;overflow: hidden;padding: 0;position: absolute;width: 1px;}div.sk-estimator {font-family: monospace;background-color: #f0f8ff;margin: 0.25em 0.25em;border: 1px dotted black;border-radius: 0.25em;box-sizing: border-box;}div.sk-estimator:hover {background-color: #d4ebff;}div.sk-parallel-item::after {content: \"\";width: 100%;border-bottom: 1px solid gray;flex-grow: 1;}div.sk-label:hover label.sk-toggleable__label {background-color: #d4ebff;}div.sk-serial::before {content: \"\";position: absolute;border-left: 1px solid gray;box-sizing: border-box;top: 2em;bottom: 0;left: 50%;}div.sk-serial {display: flex;flex-direction: column;align-items: center;background-color: white;}div.sk-item {z-index: 1;}div.sk-parallel {display: flex;align-items: stretch;justify-content: center;background-color: white;}div.sk-parallel-item {display: flex;flex-direction: column;position: relative;background-color: white;}div.sk-parallel-item:first-child::after {align-self: flex-end;width: 50%;}div.sk-parallel-item:last-child::after {align-self: flex-start;width: 50%;}div.sk-parallel-item:only-child::after {width: 0;}div.sk-dashed-wrapped {border: 1px dashed gray;margin: 0.2em;box-sizing: border-box;padding-bottom: 0.1em;background-color: white;position: relative;}div.sk-label label {font-family: monospace;font-weight: bold;background-color: white;display: inline-block;line-height: 1.2em;}div.sk-label-container {position: relative;z-index: 2;text-align: center;}div.sk-container {display: inline-block;position: relative;}</style><div class=\"sk-top-container\"><div class=\"sk-container\"><div class=\"sk-item sk-dashed-wrapped\"><div class=\"sk-label-container\"><div class=\"sk-label sk-toggleable\"><input class=\"sk-toggleable__control sk-hidden--visually\" id=\"7207a0a9-f94b-4fe2-9e39-d273babd5fc0\" type=\"checkbox\" ><label class=\"sk-toggleable__label\" for=\"7207a0a9-f94b-4fe2-9e39-d273babd5fc0\">GridSearchCV</label><div class=\"sk-toggleable__content\"><pre>GridSearchCV(cv=5,\n",
       "             estimator=Pipeline(steps=[('preprocesamiento', StandardScaler()),\n",
       "                                       ('regresion',\n",
       "                                        Lasso(max_iter=5000, tol=0.001))]),\n",
       "             param_grid=[{'preprocesamiento': [StandardScaler()],\n",
       "                          'regresion__alpha': [0.01, 0.3, 0.5, 0.7, 0.8]}],\n",
       "             scoring='r2')</pre></div></div></div><div class=\"sk-parallel\"><div class=\"sk-parallel-item\"><div class=\"sk-item\"><div class=\"sk-serial\"><div class=\"sk-item\"><div class=\"sk-serial\"><div class=\"sk-item\"><div class=\"sk-estimator sk-toggleable\"><input class=\"sk-toggleable__control sk-hidden--visually\" id=\"9f74a54e-0261-4dbf-b6ff-9419690a85c6\" type=\"checkbox\" ><label class=\"sk-toggleable__label\" for=\"9f74a54e-0261-4dbf-b6ff-9419690a85c6\">StandardScaler</label><div class=\"sk-toggleable__content\"><pre>StandardScaler()</pre></div></div></div><div class=\"sk-item\"><div class=\"sk-estimator sk-toggleable\"><input class=\"sk-toggleable__control sk-hidden--visually\" id=\"0e3bf813-50bc-40ea-98bd-c16d4f10e8eb\" type=\"checkbox\" ><label class=\"sk-toggleable__label\" for=\"0e3bf813-50bc-40ea-98bd-c16d4f10e8eb\">Lasso</label><div class=\"sk-toggleable__content\"><pre>Lasso(max_iter=5000, tol=0.001)</pre></div></div></div></div></div></div></div></div></div></div></div></div>"
      ],
      "text/plain": [
       "GridSearchCV(cv=5,\n",
       "             estimator=Pipeline(steps=[('preprocesamiento', StandardScaler()),\n",
       "                                       ('regresion',\n",
       "                                        Lasso(max_iter=5000, tol=0.001))]),\n",
       "             param_grid=[{'preprocesamiento': [StandardScaler()],\n",
       "                          'regresion__alpha': [0.01, 0.3, 0.5, 0.7, 0.8]}],\n",
       "             scoring='r2')"
      ]
     },
     "execution_count": 142,
     "metadata": {},
     "output_type": "execute_result"
    }
   ],
   "source": [
    "pasos = [('preprocesamiento', StandardScaler()),\\\n",
    "         ('regresion', Lasso(max_iter=5000, tol=0.001))\n",
    "        ]\n",
    "\n",
    "pipe_grid_lass = Pipeline(pasos)\n",
    "\n",
    "param_grid_lass = [{'preprocesamiento':[StandardScaler()],\n",
    "                    'regresion__alpha':[0.01, 0.3, 0.5, 0.7, 0.8],\n",
    "                  }]\n",
    "\n",
    "grid_lass = GridSearchCV(estimator=pipe_grid_lass, param_grid=param_grid_lass, cv=folds, scoring='r2')\n",
    "grid_lass.fit(X_train, y_train)"
   ]
  },
  {
   "cell_type": "code",
   "execution_count": 143,
   "metadata": {},
   "outputs": [
    {
     "data": {
      "text/plain": [
       "0.8166215771156493"
      ]
     },
     "execution_count": 143,
     "metadata": {},
     "output_type": "execute_result"
    }
   ],
   "source": [
    "grid_lass.best_score_"
   ]
  },
  {
   "cell_type": "code",
   "execution_count": 144,
   "metadata": {},
   "outputs": [
    {
     "data": {
      "text/html": [
       "<style>div.sk-top-container {color: black;background-color: white;}div.sk-toggleable {background-color: white;}label.sk-toggleable__label {cursor: pointer;display: block;width: 100%;margin-bottom: 0;padding: 0.2em 0.3em;box-sizing: border-box;text-align: center;}div.sk-toggleable__content {max-height: 0;max-width: 0;overflow: hidden;text-align: left;background-color: #f0f8ff;}div.sk-toggleable__content pre {margin: 0.2em;color: black;border-radius: 0.25em;background-color: #f0f8ff;}input.sk-toggleable__control:checked~div.sk-toggleable__content {max-height: 200px;max-width: 100%;overflow: auto;}div.sk-estimator input.sk-toggleable__control:checked~label.sk-toggleable__label {background-color: #d4ebff;}div.sk-label input.sk-toggleable__control:checked~label.sk-toggleable__label {background-color: #d4ebff;}input.sk-hidden--visually {border: 0;clip: rect(1px 1px 1px 1px);clip: rect(1px, 1px, 1px, 1px);height: 1px;margin: -1px;overflow: hidden;padding: 0;position: absolute;width: 1px;}div.sk-estimator {font-family: monospace;background-color: #f0f8ff;margin: 0.25em 0.25em;border: 1px dotted black;border-radius: 0.25em;box-sizing: border-box;}div.sk-estimator:hover {background-color: #d4ebff;}div.sk-parallel-item::after {content: \"\";width: 100%;border-bottom: 1px solid gray;flex-grow: 1;}div.sk-label:hover label.sk-toggleable__label {background-color: #d4ebff;}div.sk-serial::before {content: \"\";position: absolute;border-left: 1px solid gray;box-sizing: border-box;top: 2em;bottom: 0;left: 50%;}div.sk-serial {display: flex;flex-direction: column;align-items: center;background-color: white;}div.sk-item {z-index: 1;}div.sk-parallel {display: flex;align-items: stretch;justify-content: center;background-color: white;}div.sk-parallel-item {display: flex;flex-direction: column;position: relative;background-color: white;}div.sk-parallel-item:first-child::after {align-self: flex-end;width: 50%;}div.sk-parallel-item:last-child::after {align-self: flex-start;width: 50%;}div.sk-parallel-item:only-child::after {width: 0;}div.sk-dashed-wrapped {border: 1px dashed gray;margin: 0.2em;box-sizing: border-box;padding-bottom: 0.1em;background-color: white;position: relative;}div.sk-label label {font-family: monospace;font-weight: bold;background-color: white;display: inline-block;line-height: 1.2em;}div.sk-label-container {position: relative;z-index: 2;text-align: center;}div.sk-container {display: inline-block;position: relative;}</style><div class=\"sk-top-container\"><div class=\"sk-container\"><div class=\"sk-item sk-dashed-wrapped\"><div class=\"sk-label-container\"><div class=\"sk-label sk-toggleable\"><input class=\"sk-toggleable__control sk-hidden--visually\" id=\"66ca7eff-0692-4396-bb65-f5fb9286b3d7\" type=\"checkbox\" ><label class=\"sk-toggleable__label\" for=\"66ca7eff-0692-4396-bb65-f5fb9286b3d7\">Pipeline</label><div class=\"sk-toggleable__content\"><pre>Pipeline(steps=[('preprocesamiento', StandardScaler()),\n",
       "                ('regresion', Lasso(alpha=0.8, max_iter=5000, tol=0.001))])</pre></div></div></div><div class=\"sk-serial\"><div class=\"sk-item\"><div class=\"sk-estimator sk-toggleable\"><input class=\"sk-toggleable__control sk-hidden--visually\" id=\"7cc31179-971f-4f7f-9eb6-1cf94ab95f8e\" type=\"checkbox\" ><label class=\"sk-toggleable__label\" for=\"7cc31179-971f-4f7f-9eb6-1cf94ab95f8e\">StandardScaler</label><div class=\"sk-toggleable__content\"><pre>StandardScaler()</pre></div></div></div><div class=\"sk-item\"><div class=\"sk-estimator sk-toggleable\"><input class=\"sk-toggleable__control sk-hidden--visually\" id=\"7dc95d75-c927-42b4-8229-9aa25a4b8421\" type=\"checkbox\" ><label class=\"sk-toggleable__label\" for=\"7dc95d75-c927-42b4-8229-9aa25a4b8421\">Lasso</label><div class=\"sk-toggleable__content\"><pre>Lasso(alpha=0.8, max_iter=5000, tol=0.001)</pre></div></div></div></div></div></div></div>"
      ],
      "text/plain": [
       "Pipeline(steps=[('preprocesamiento', StandardScaler()),\n",
       "                ('regresion', Lasso(alpha=0.8, max_iter=5000, tol=0.001))])"
      ]
     },
     "execution_count": 144,
     "metadata": {},
     "output_type": "execute_result"
    }
   ],
   "source": [
    "grid_lass.best_estimator_"
   ]
  },
  {
   "cell_type": "markdown",
   "metadata": {},
   "source": [
    "#### ElasticNet"
   ]
  },
  {
   "cell_type": "code",
   "execution_count": 145,
   "metadata": {},
   "outputs": [
    {
     "data": {
      "text/html": [
       "<style>div.sk-top-container {color: black;background-color: white;}div.sk-toggleable {background-color: white;}label.sk-toggleable__label {cursor: pointer;display: block;width: 100%;margin-bottom: 0;padding: 0.2em 0.3em;box-sizing: border-box;text-align: center;}div.sk-toggleable__content {max-height: 0;max-width: 0;overflow: hidden;text-align: left;background-color: #f0f8ff;}div.sk-toggleable__content pre {margin: 0.2em;color: black;border-radius: 0.25em;background-color: #f0f8ff;}input.sk-toggleable__control:checked~div.sk-toggleable__content {max-height: 200px;max-width: 100%;overflow: auto;}div.sk-estimator input.sk-toggleable__control:checked~label.sk-toggleable__label {background-color: #d4ebff;}div.sk-label input.sk-toggleable__control:checked~label.sk-toggleable__label {background-color: #d4ebff;}input.sk-hidden--visually {border: 0;clip: rect(1px 1px 1px 1px);clip: rect(1px, 1px, 1px, 1px);height: 1px;margin: -1px;overflow: hidden;padding: 0;position: absolute;width: 1px;}div.sk-estimator {font-family: monospace;background-color: #f0f8ff;margin: 0.25em 0.25em;border: 1px dotted black;border-radius: 0.25em;box-sizing: border-box;}div.sk-estimator:hover {background-color: #d4ebff;}div.sk-parallel-item::after {content: \"\";width: 100%;border-bottom: 1px solid gray;flex-grow: 1;}div.sk-label:hover label.sk-toggleable__label {background-color: #d4ebff;}div.sk-serial::before {content: \"\";position: absolute;border-left: 1px solid gray;box-sizing: border-box;top: 2em;bottom: 0;left: 50%;}div.sk-serial {display: flex;flex-direction: column;align-items: center;background-color: white;}div.sk-item {z-index: 1;}div.sk-parallel {display: flex;align-items: stretch;justify-content: center;background-color: white;}div.sk-parallel-item {display: flex;flex-direction: column;position: relative;background-color: white;}div.sk-parallel-item:first-child::after {align-self: flex-end;width: 50%;}div.sk-parallel-item:last-child::after {align-self: flex-start;width: 50%;}div.sk-parallel-item:only-child::after {width: 0;}div.sk-dashed-wrapped {border: 1px dashed gray;margin: 0.2em;box-sizing: border-box;padding-bottom: 0.1em;background-color: white;position: relative;}div.sk-label label {font-family: monospace;font-weight: bold;background-color: white;display: inline-block;line-height: 1.2em;}div.sk-label-container {position: relative;z-index: 2;text-align: center;}div.sk-container {display: inline-block;position: relative;}</style><div class=\"sk-top-container\"><div class=\"sk-container\"><div class=\"sk-item sk-dashed-wrapped\"><div class=\"sk-label-container\"><div class=\"sk-label sk-toggleable\"><input class=\"sk-toggleable__control sk-hidden--visually\" id=\"c420fc45-93ad-41c4-b36f-93b778bb9848\" type=\"checkbox\" ><label class=\"sk-toggleable__label\" for=\"c420fc45-93ad-41c4-b36f-93b778bb9848\">GridSearchCV</label><div class=\"sk-toggleable__content\"><pre>GridSearchCV(cv=5,\n",
       "             estimator=Pipeline(steps=[('preprocesamiento', StandardScaler()),\n",
       "                                       ('regresion',\n",
       "                                        ElasticNet(max_iter=10000,\n",
       "                                                   tol=0.001))]),\n",
       "             param_grid=[{'preprocesamiento': [StandardScaler()],\n",
       "                          'regresion__alpha': [0.01, 0.3, 0.5, 0.7, 0.8],\n",
       "                          'regresion__l1_ratio': [0.01, 0.3, 0.5, 0.7, 0.8]}],\n",
       "             scoring='r2')</pre></div></div></div><div class=\"sk-parallel\"><div class=\"sk-parallel-item\"><div class=\"sk-item\"><div class=\"sk-serial\"><div class=\"sk-item\"><div class=\"sk-serial\"><div class=\"sk-item\"><div class=\"sk-estimator sk-toggleable\"><input class=\"sk-toggleable__control sk-hidden--visually\" id=\"8acd2f65-0bf9-41de-8c50-4038d06ac323\" type=\"checkbox\" ><label class=\"sk-toggleable__label\" for=\"8acd2f65-0bf9-41de-8c50-4038d06ac323\">StandardScaler</label><div class=\"sk-toggleable__content\"><pre>StandardScaler()</pre></div></div></div><div class=\"sk-item\"><div class=\"sk-estimator sk-toggleable\"><input class=\"sk-toggleable__control sk-hidden--visually\" id=\"cf1599b5-7c62-4b16-911c-cfc127d5ac47\" type=\"checkbox\" ><label class=\"sk-toggleable__label\" for=\"cf1599b5-7c62-4b16-911c-cfc127d5ac47\">ElasticNet</label><div class=\"sk-toggleable__content\"><pre>ElasticNet(max_iter=10000, tol=0.001)</pre></div></div></div></div></div></div></div></div></div></div></div></div>"
      ],
      "text/plain": [
       "GridSearchCV(cv=5,\n",
       "             estimator=Pipeline(steps=[('preprocesamiento', StandardScaler()),\n",
       "                                       ('regresion',\n",
       "                                        ElasticNet(max_iter=10000,\n",
       "                                                   tol=0.001))]),\n",
       "             param_grid=[{'preprocesamiento': [StandardScaler()],\n",
       "                          'regresion__alpha': [0.01, 0.3, 0.5, 0.7, 0.8],\n",
       "                          'regresion__l1_ratio': [0.01, 0.3, 0.5, 0.7, 0.8]}],\n",
       "             scoring='r2')"
      ]
     },
     "execution_count": 145,
     "metadata": {},
     "output_type": "execute_result"
    }
   ],
   "source": [
    "pasos = [('preprocesamiento', StandardScaler()),\\\n",
    "         ('regresion', ElasticNet(max_iter=10000, tol=0.001))\n",
    "        ]\n",
    "\n",
    "pipe_grid_en = Pipeline(pasos)\n",
    "\n",
    "param_grid_en = [{'preprocesamiento':[StandardScaler()],\n",
    "                  'regresion__alpha':[0.01, 0.3, 0.5, 0.7, 0.8],\n",
    "                  'regresion__l1_ratio':[0.01, 0.3, 0.5, 0.7, 0.8],\n",
    "                }]\n",
    "\n",
    "grid_en = GridSearchCV(estimator=pipe_grid_en, param_grid=param_grid_en, cv=folds, scoring='r2')\n",
    "grid_en.fit(X_train, y_train)"
   ]
  },
  {
   "cell_type": "code",
   "execution_count": 146,
   "metadata": {},
   "outputs": [
    {
     "data": {
      "text/plain": [
       "0.8166079891355013"
      ]
     },
     "execution_count": 146,
     "metadata": {},
     "output_type": "execute_result"
    }
   ],
   "source": [
    "grid_en.best_score_"
   ]
  },
  {
   "cell_type": "code",
   "execution_count": 147,
   "metadata": {},
   "outputs": [
    {
     "data": {
      "text/html": [
       "<style>div.sk-top-container {color: black;background-color: white;}div.sk-toggleable {background-color: white;}label.sk-toggleable__label {cursor: pointer;display: block;width: 100%;margin-bottom: 0;padding: 0.2em 0.3em;box-sizing: border-box;text-align: center;}div.sk-toggleable__content {max-height: 0;max-width: 0;overflow: hidden;text-align: left;background-color: #f0f8ff;}div.sk-toggleable__content pre {margin: 0.2em;color: black;border-radius: 0.25em;background-color: #f0f8ff;}input.sk-toggleable__control:checked~div.sk-toggleable__content {max-height: 200px;max-width: 100%;overflow: auto;}div.sk-estimator input.sk-toggleable__control:checked~label.sk-toggleable__label {background-color: #d4ebff;}div.sk-label input.sk-toggleable__control:checked~label.sk-toggleable__label {background-color: #d4ebff;}input.sk-hidden--visually {border: 0;clip: rect(1px 1px 1px 1px);clip: rect(1px, 1px, 1px, 1px);height: 1px;margin: -1px;overflow: hidden;padding: 0;position: absolute;width: 1px;}div.sk-estimator {font-family: monospace;background-color: #f0f8ff;margin: 0.25em 0.25em;border: 1px dotted black;border-radius: 0.25em;box-sizing: border-box;}div.sk-estimator:hover {background-color: #d4ebff;}div.sk-parallel-item::after {content: \"\";width: 100%;border-bottom: 1px solid gray;flex-grow: 1;}div.sk-label:hover label.sk-toggleable__label {background-color: #d4ebff;}div.sk-serial::before {content: \"\";position: absolute;border-left: 1px solid gray;box-sizing: border-box;top: 2em;bottom: 0;left: 50%;}div.sk-serial {display: flex;flex-direction: column;align-items: center;background-color: white;}div.sk-item {z-index: 1;}div.sk-parallel {display: flex;align-items: stretch;justify-content: center;background-color: white;}div.sk-parallel-item {display: flex;flex-direction: column;position: relative;background-color: white;}div.sk-parallel-item:first-child::after {align-self: flex-end;width: 50%;}div.sk-parallel-item:last-child::after {align-self: flex-start;width: 50%;}div.sk-parallel-item:only-child::after {width: 0;}div.sk-dashed-wrapped {border: 1px dashed gray;margin: 0.2em;box-sizing: border-box;padding-bottom: 0.1em;background-color: white;position: relative;}div.sk-label label {font-family: monospace;font-weight: bold;background-color: white;display: inline-block;line-height: 1.2em;}div.sk-label-container {position: relative;z-index: 2;text-align: center;}div.sk-container {display: inline-block;position: relative;}</style><div class=\"sk-top-container\"><div class=\"sk-container\"><div class=\"sk-item sk-dashed-wrapped\"><div class=\"sk-label-container\"><div class=\"sk-label sk-toggleable\"><input class=\"sk-toggleable__control sk-hidden--visually\" id=\"2921f7ce-1ed6-406d-bf2d-6284a1821d68\" type=\"checkbox\" ><label class=\"sk-toggleable__label\" for=\"2921f7ce-1ed6-406d-bf2d-6284a1821d68\">Pipeline</label><div class=\"sk-toggleable__content\"><pre>Pipeline(steps=[('preprocesamiento', StandardScaler()),\n",
       "                ('regresion',\n",
       "                 ElasticNet(alpha=0.01, l1_ratio=0.8, max_iter=10000,\n",
       "                            tol=0.001))])</pre></div></div></div><div class=\"sk-serial\"><div class=\"sk-item\"><div class=\"sk-estimator sk-toggleable\"><input class=\"sk-toggleable__control sk-hidden--visually\" id=\"de611891-6bbf-47e2-92fb-15b7d5f93bb8\" type=\"checkbox\" ><label class=\"sk-toggleable__label\" for=\"de611891-6bbf-47e2-92fb-15b7d5f93bb8\">StandardScaler</label><div class=\"sk-toggleable__content\"><pre>StandardScaler()</pre></div></div></div><div class=\"sk-item\"><div class=\"sk-estimator sk-toggleable\"><input class=\"sk-toggleable__control sk-hidden--visually\" id=\"a92f6dbf-2ac5-46c1-b3cb-d83502cef797\" type=\"checkbox\" ><label class=\"sk-toggleable__label\" for=\"a92f6dbf-2ac5-46c1-b3cb-d83502cef797\">ElasticNet</label><div class=\"sk-toggleable__content\"><pre>ElasticNet(alpha=0.01, l1_ratio=0.8, max_iter=10000, tol=0.001)</pre></div></div></div></div></div></div></div>"
      ],
      "text/plain": [
       "Pipeline(steps=[('preprocesamiento', StandardScaler()),\n",
       "                ('regresion',\n",
       "                 ElasticNet(alpha=0.01, l1_ratio=0.8, max_iter=10000,\n",
       "                            tol=0.001))])"
      ]
     },
     "execution_count": 147,
     "metadata": {},
     "output_type": "execute_result"
    }
   ],
   "source": [
    "grid_en.best_estimator_"
   ]
  },
  {
   "cell_type": "markdown",
   "metadata": {},
   "source": [
    "#### Random Forest"
   ]
  },
  {
   "cell_type": "code",
   "execution_count": 148,
   "metadata": {},
   "outputs": [
    {
     "data": {
      "text/html": [
       "<style>div.sk-top-container {color: black;background-color: white;}div.sk-toggleable {background-color: white;}label.sk-toggleable__label {cursor: pointer;display: block;width: 100%;margin-bottom: 0;padding: 0.2em 0.3em;box-sizing: border-box;text-align: center;}div.sk-toggleable__content {max-height: 0;max-width: 0;overflow: hidden;text-align: left;background-color: #f0f8ff;}div.sk-toggleable__content pre {margin: 0.2em;color: black;border-radius: 0.25em;background-color: #f0f8ff;}input.sk-toggleable__control:checked~div.sk-toggleable__content {max-height: 200px;max-width: 100%;overflow: auto;}div.sk-estimator input.sk-toggleable__control:checked~label.sk-toggleable__label {background-color: #d4ebff;}div.sk-label input.sk-toggleable__control:checked~label.sk-toggleable__label {background-color: #d4ebff;}input.sk-hidden--visually {border: 0;clip: rect(1px 1px 1px 1px);clip: rect(1px, 1px, 1px, 1px);height: 1px;margin: -1px;overflow: hidden;padding: 0;position: absolute;width: 1px;}div.sk-estimator {font-family: monospace;background-color: #f0f8ff;margin: 0.25em 0.25em;border: 1px dotted black;border-radius: 0.25em;box-sizing: border-box;}div.sk-estimator:hover {background-color: #d4ebff;}div.sk-parallel-item::after {content: \"\";width: 100%;border-bottom: 1px solid gray;flex-grow: 1;}div.sk-label:hover label.sk-toggleable__label {background-color: #d4ebff;}div.sk-serial::before {content: \"\";position: absolute;border-left: 1px solid gray;box-sizing: border-box;top: 2em;bottom: 0;left: 50%;}div.sk-serial {display: flex;flex-direction: column;align-items: center;background-color: white;}div.sk-item {z-index: 1;}div.sk-parallel {display: flex;align-items: stretch;justify-content: center;background-color: white;}div.sk-parallel-item {display: flex;flex-direction: column;position: relative;background-color: white;}div.sk-parallel-item:first-child::after {align-self: flex-end;width: 50%;}div.sk-parallel-item:last-child::after {align-self: flex-start;width: 50%;}div.sk-parallel-item:only-child::after {width: 0;}div.sk-dashed-wrapped {border: 1px dashed gray;margin: 0.2em;box-sizing: border-box;padding-bottom: 0.1em;background-color: white;position: relative;}div.sk-label label {font-family: monospace;font-weight: bold;background-color: white;display: inline-block;line-height: 1.2em;}div.sk-label-container {position: relative;z-index: 2;text-align: center;}div.sk-container {display: inline-block;position: relative;}</style><div class=\"sk-top-container\"><div class=\"sk-container\"><div class=\"sk-item sk-dashed-wrapped\"><div class=\"sk-label-container\"><div class=\"sk-label sk-toggleable\"><input class=\"sk-toggleable__control sk-hidden--visually\" id=\"a206f20f-bdc9-4ff6-b9c9-8186a669f597\" type=\"checkbox\" ><label class=\"sk-toggleable__label\" for=\"a206f20f-bdc9-4ff6-b9c9-8186a669f597\">GridSearchCV</label><div class=\"sk-toggleable__content\"><pre>GridSearchCV(cv=5,\n",
       "             estimator=Pipeline(steps=[('preprocesamiento', StandardScaler()),\n",
       "                                       ('regresion', RandomForestRegressor())]),\n",
       "             param_grid=[{'preprocesamiento': [StandardScaler()],\n",
       "                          'regresion__max_depth': [5, 10],\n",
       "                          'regresion__n_estimators': [500, 1000]}],\n",
       "             scoring='r2')</pre></div></div></div><div class=\"sk-parallel\"><div class=\"sk-parallel-item\"><div class=\"sk-item\"><div class=\"sk-serial\"><div class=\"sk-item\"><div class=\"sk-serial\"><div class=\"sk-item\"><div class=\"sk-estimator sk-toggleable\"><input class=\"sk-toggleable__control sk-hidden--visually\" id=\"6495cf67-ae3c-4af5-aa69-a01388527bf1\" type=\"checkbox\" ><label class=\"sk-toggleable__label\" for=\"6495cf67-ae3c-4af5-aa69-a01388527bf1\">StandardScaler</label><div class=\"sk-toggleable__content\"><pre>StandardScaler()</pre></div></div></div><div class=\"sk-item\"><div class=\"sk-estimator sk-toggleable\"><input class=\"sk-toggleable__control sk-hidden--visually\" id=\"bf0e56f2-ac9f-4b27-abf6-4838ffbf9c91\" type=\"checkbox\" ><label class=\"sk-toggleable__label\" for=\"bf0e56f2-ac9f-4b27-abf6-4838ffbf9c91\">RandomForestRegressor</label><div class=\"sk-toggleable__content\"><pre>RandomForestRegressor()</pre></div></div></div></div></div></div></div></div></div></div></div></div>"
      ],
      "text/plain": [
       "GridSearchCV(cv=5,\n",
       "             estimator=Pipeline(steps=[('preprocesamiento', StandardScaler()),\n",
       "                                       ('regresion', RandomForestRegressor())]),\n",
       "             param_grid=[{'preprocesamiento': [StandardScaler()],\n",
       "                          'regresion__max_depth': [5, 10],\n",
       "                          'regresion__n_estimators': [500, 1000]}],\n",
       "             scoring='r2')"
      ]
     },
     "execution_count": 148,
     "metadata": {},
     "output_type": "execute_result"
    }
   ],
   "source": [
    "pasos = [('preprocesamiento', StandardScaler()),\\\n",
    "         ('regresion', RandomForestRegressor())\n",
    "        ]\n",
    "\n",
    "pipe_grid_rf = Pipeline(pasos)\n",
    "\n",
    "param_grid_rf = [{'preprocesamiento':[StandardScaler()],\n",
    "                  'regresion__n_estimators': [500, 1000],\n",
    "                  'regresion__max_depth': [5, 10]\n",
    "                }]\n",
    "\n",
    "grid_rf = GridSearchCV(estimator=pipe_grid_rf, param_grid=param_grid_rf, cv=folds, scoring='r2')\n",
    "grid_rf.fit(X_train, y_train)"
   ]
  },
  {
   "cell_type": "code",
   "execution_count": 149,
   "metadata": {},
   "outputs": [
    {
     "data": {
      "text/plain": [
       "0.8928534763152403"
      ]
     },
     "execution_count": 149,
     "metadata": {},
     "output_type": "execute_result"
    }
   ],
   "source": [
    "grid_rf.best_score_"
   ]
  },
  {
   "cell_type": "code",
   "execution_count": 150,
   "metadata": {},
   "outputs": [
    {
     "data": {
      "text/html": [
       "<style>div.sk-top-container {color: black;background-color: white;}div.sk-toggleable {background-color: white;}label.sk-toggleable__label {cursor: pointer;display: block;width: 100%;margin-bottom: 0;padding: 0.2em 0.3em;box-sizing: border-box;text-align: center;}div.sk-toggleable__content {max-height: 0;max-width: 0;overflow: hidden;text-align: left;background-color: #f0f8ff;}div.sk-toggleable__content pre {margin: 0.2em;color: black;border-radius: 0.25em;background-color: #f0f8ff;}input.sk-toggleable__control:checked~div.sk-toggleable__content {max-height: 200px;max-width: 100%;overflow: auto;}div.sk-estimator input.sk-toggleable__control:checked~label.sk-toggleable__label {background-color: #d4ebff;}div.sk-label input.sk-toggleable__control:checked~label.sk-toggleable__label {background-color: #d4ebff;}input.sk-hidden--visually {border: 0;clip: rect(1px 1px 1px 1px);clip: rect(1px, 1px, 1px, 1px);height: 1px;margin: -1px;overflow: hidden;padding: 0;position: absolute;width: 1px;}div.sk-estimator {font-family: monospace;background-color: #f0f8ff;margin: 0.25em 0.25em;border: 1px dotted black;border-radius: 0.25em;box-sizing: border-box;}div.sk-estimator:hover {background-color: #d4ebff;}div.sk-parallel-item::after {content: \"\";width: 100%;border-bottom: 1px solid gray;flex-grow: 1;}div.sk-label:hover label.sk-toggleable__label {background-color: #d4ebff;}div.sk-serial::before {content: \"\";position: absolute;border-left: 1px solid gray;box-sizing: border-box;top: 2em;bottom: 0;left: 50%;}div.sk-serial {display: flex;flex-direction: column;align-items: center;background-color: white;}div.sk-item {z-index: 1;}div.sk-parallel {display: flex;align-items: stretch;justify-content: center;background-color: white;}div.sk-parallel-item {display: flex;flex-direction: column;position: relative;background-color: white;}div.sk-parallel-item:first-child::after {align-self: flex-end;width: 50%;}div.sk-parallel-item:last-child::after {align-self: flex-start;width: 50%;}div.sk-parallel-item:only-child::after {width: 0;}div.sk-dashed-wrapped {border: 1px dashed gray;margin: 0.2em;box-sizing: border-box;padding-bottom: 0.1em;background-color: white;position: relative;}div.sk-label label {font-family: monospace;font-weight: bold;background-color: white;display: inline-block;line-height: 1.2em;}div.sk-label-container {position: relative;z-index: 2;text-align: center;}div.sk-container {display: inline-block;position: relative;}</style><div class=\"sk-top-container\"><div class=\"sk-container\"><div class=\"sk-item sk-dashed-wrapped\"><div class=\"sk-label-container\"><div class=\"sk-label sk-toggleable\"><input class=\"sk-toggleable__control sk-hidden--visually\" id=\"b5bab4ca-72b5-4dcc-9dec-f64c050841c4\" type=\"checkbox\" ><label class=\"sk-toggleable__label\" for=\"b5bab4ca-72b5-4dcc-9dec-f64c050841c4\">Pipeline</label><div class=\"sk-toggleable__content\"><pre>Pipeline(steps=[('preprocesamiento', StandardScaler()),\n",
       "                ('regresion',\n",
       "                 RandomForestRegressor(max_depth=10, n_estimators=500))])</pre></div></div></div><div class=\"sk-serial\"><div class=\"sk-item\"><div class=\"sk-estimator sk-toggleable\"><input class=\"sk-toggleable__control sk-hidden--visually\" id=\"e6827dd6-b82a-4307-8056-f4a8cd0dd827\" type=\"checkbox\" ><label class=\"sk-toggleable__label\" for=\"e6827dd6-b82a-4307-8056-f4a8cd0dd827\">StandardScaler</label><div class=\"sk-toggleable__content\"><pre>StandardScaler()</pre></div></div></div><div class=\"sk-item\"><div class=\"sk-estimator sk-toggleable\"><input class=\"sk-toggleable__control sk-hidden--visually\" id=\"31e3bf22-1709-4569-8e45-8163c2d4a3a3\" type=\"checkbox\" ><label class=\"sk-toggleable__label\" for=\"31e3bf22-1709-4569-8e45-8163c2d4a3a3\">RandomForestRegressor</label><div class=\"sk-toggleable__content\"><pre>RandomForestRegressor(max_depth=10, n_estimators=500)</pre></div></div></div></div></div></div></div>"
      ],
      "text/plain": [
       "Pipeline(steps=[('preprocesamiento', StandardScaler()),\n",
       "                ('regresion',\n",
       "                 RandomForestRegressor(max_depth=10, n_estimators=500))])"
      ]
     },
     "execution_count": 150,
     "metadata": {},
     "output_type": "execute_result"
    }
   ],
   "source": [
    "grid_rf.best_estimator_"
   ]
  },
  {
   "cell_type": "markdown",
   "metadata": {},
   "source": [
    "#### Gradient Boosting Regressor"
   ]
  },
  {
   "cell_type": "code",
   "execution_count": 151,
   "metadata": {},
   "outputs": [
    {
     "data": {
      "text/html": [
       "<style>div.sk-top-container {color: black;background-color: white;}div.sk-toggleable {background-color: white;}label.sk-toggleable__label {cursor: pointer;display: block;width: 100%;margin-bottom: 0;padding: 0.2em 0.3em;box-sizing: border-box;text-align: center;}div.sk-toggleable__content {max-height: 0;max-width: 0;overflow: hidden;text-align: left;background-color: #f0f8ff;}div.sk-toggleable__content pre {margin: 0.2em;color: black;border-radius: 0.25em;background-color: #f0f8ff;}input.sk-toggleable__control:checked~div.sk-toggleable__content {max-height: 200px;max-width: 100%;overflow: auto;}div.sk-estimator input.sk-toggleable__control:checked~label.sk-toggleable__label {background-color: #d4ebff;}div.sk-label input.sk-toggleable__control:checked~label.sk-toggleable__label {background-color: #d4ebff;}input.sk-hidden--visually {border: 0;clip: rect(1px 1px 1px 1px);clip: rect(1px, 1px, 1px, 1px);height: 1px;margin: -1px;overflow: hidden;padding: 0;position: absolute;width: 1px;}div.sk-estimator {font-family: monospace;background-color: #f0f8ff;margin: 0.25em 0.25em;border: 1px dotted black;border-radius: 0.25em;box-sizing: border-box;}div.sk-estimator:hover {background-color: #d4ebff;}div.sk-parallel-item::after {content: \"\";width: 100%;border-bottom: 1px solid gray;flex-grow: 1;}div.sk-label:hover label.sk-toggleable__label {background-color: #d4ebff;}div.sk-serial::before {content: \"\";position: absolute;border-left: 1px solid gray;box-sizing: border-box;top: 2em;bottom: 0;left: 50%;}div.sk-serial {display: flex;flex-direction: column;align-items: center;background-color: white;}div.sk-item {z-index: 1;}div.sk-parallel {display: flex;align-items: stretch;justify-content: center;background-color: white;}div.sk-parallel-item {display: flex;flex-direction: column;position: relative;background-color: white;}div.sk-parallel-item:first-child::after {align-self: flex-end;width: 50%;}div.sk-parallel-item:last-child::after {align-self: flex-start;width: 50%;}div.sk-parallel-item:only-child::after {width: 0;}div.sk-dashed-wrapped {border: 1px dashed gray;margin: 0.2em;box-sizing: border-box;padding-bottom: 0.1em;background-color: white;position: relative;}div.sk-label label {font-family: monospace;font-weight: bold;background-color: white;display: inline-block;line-height: 1.2em;}div.sk-label-container {position: relative;z-index: 2;text-align: center;}div.sk-container {display: inline-block;position: relative;}</style><div class=\"sk-top-container\"><div class=\"sk-container\"><div class=\"sk-item sk-dashed-wrapped\"><div class=\"sk-label-container\"><div class=\"sk-label sk-toggleable\"><input class=\"sk-toggleable__control sk-hidden--visually\" id=\"80cbce90-87d7-46dd-9491-1b56754e74f6\" type=\"checkbox\" ><label class=\"sk-toggleable__label\" for=\"80cbce90-87d7-46dd-9491-1b56754e74f6\">GridSearchCV</label><div class=\"sk-toggleable__content\"><pre>GridSearchCV(cv=5,\n",
       "             estimator=Pipeline(steps=[('preprocesamiento', StandardScaler()),\n",
       "                                       ('regresion',\n",
       "                                        GradientBoostingRegressor())]),\n",
       "             param_grid=[{'preprocesamiento': [StandardScaler()],\n",
       "                          'regresion__max_depth': [5, 10],\n",
       "                          'regresion__n_estimators': [500, 1000]}],\n",
       "             scoring='r2')</pre></div></div></div><div class=\"sk-parallel\"><div class=\"sk-parallel-item\"><div class=\"sk-item\"><div class=\"sk-serial\"><div class=\"sk-item\"><div class=\"sk-serial\"><div class=\"sk-item\"><div class=\"sk-estimator sk-toggleable\"><input class=\"sk-toggleable__control sk-hidden--visually\" id=\"768a2c34-2f4c-4789-9a17-b3df69833e31\" type=\"checkbox\" ><label class=\"sk-toggleable__label\" for=\"768a2c34-2f4c-4789-9a17-b3df69833e31\">StandardScaler</label><div class=\"sk-toggleable__content\"><pre>StandardScaler()</pre></div></div></div><div class=\"sk-item\"><div class=\"sk-estimator sk-toggleable\"><input class=\"sk-toggleable__control sk-hidden--visually\" id=\"163e390c-78c8-43c5-9b64-a21685868fd1\" type=\"checkbox\" ><label class=\"sk-toggleable__label\" for=\"163e390c-78c8-43c5-9b64-a21685868fd1\">GradientBoostingRegressor</label><div class=\"sk-toggleable__content\"><pre>GradientBoostingRegressor()</pre></div></div></div></div></div></div></div></div></div></div></div></div>"
      ],
      "text/plain": [
       "GridSearchCV(cv=5,\n",
       "             estimator=Pipeline(steps=[('preprocesamiento', StandardScaler()),\n",
       "                                       ('regresion',\n",
       "                                        GradientBoostingRegressor())]),\n",
       "             param_grid=[{'preprocesamiento': [StandardScaler()],\n",
       "                          'regresion__max_depth': [5, 10],\n",
       "                          'regresion__n_estimators': [500, 1000]}],\n",
       "             scoring='r2')"
      ]
     },
     "execution_count": 151,
     "metadata": {},
     "output_type": "execute_result"
    }
   ],
   "source": [
    "pasos = [('preprocesamiento', StandardScaler()),\\\n",
    "         ('regresion', GradientBoostingRegressor())\n",
    "        ]\n",
    "\n",
    "pipe_grid_gb = Pipeline(pasos)\n",
    "\n",
    "param_grid_gb = [{'preprocesamiento':[StandardScaler()],\n",
    "                  'regresion__n_estimators': [500, 1000],\n",
    "                  'regresion__max_depth': [5, 10]\n",
    "                }]\n",
    "\n",
    "grid_gb = GridSearchCV(estimator=pipe_grid_gb, param_grid=param_grid_gb, cv=folds, scoring='r2')\n",
    "grid_gb.fit(X_train, y_train)"
   ]
  },
  {
   "cell_type": "code",
   "execution_count": 152,
   "metadata": {},
   "outputs": [
    {
     "data": {
      "text/plain": [
       "0.9186301985906281"
      ]
     },
     "execution_count": 152,
     "metadata": {},
     "output_type": "execute_result"
    }
   ],
   "source": [
    "grid_gb.best_score_"
   ]
  },
  {
   "cell_type": "code",
   "execution_count": 153,
   "metadata": {},
   "outputs": [
    {
     "data": {
      "text/html": [
       "<style>div.sk-top-container {color: black;background-color: white;}div.sk-toggleable {background-color: white;}label.sk-toggleable__label {cursor: pointer;display: block;width: 100%;margin-bottom: 0;padding: 0.2em 0.3em;box-sizing: border-box;text-align: center;}div.sk-toggleable__content {max-height: 0;max-width: 0;overflow: hidden;text-align: left;background-color: #f0f8ff;}div.sk-toggleable__content pre {margin: 0.2em;color: black;border-radius: 0.25em;background-color: #f0f8ff;}input.sk-toggleable__control:checked~div.sk-toggleable__content {max-height: 200px;max-width: 100%;overflow: auto;}div.sk-estimator input.sk-toggleable__control:checked~label.sk-toggleable__label {background-color: #d4ebff;}div.sk-label input.sk-toggleable__control:checked~label.sk-toggleable__label {background-color: #d4ebff;}input.sk-hidden--visually {border: 0;clip: rect(1px 1px 1px 1px);clip: rect(1px, 1px, 1px, 1px);height: 1px;margin: -1px;overflow: hidden;padding: 0;position: absolute;width: 1px;}div.sk-estimator {font-family: monospace;background-color: #f0f8ff;margin: 0.25em 0.25em;border: 1px dotted black;border-radius: 0.25em;box-sizing: border-box;}div.sk-estimator:hover {background-color: #d4ebff;}div.sk-parallel-item::after {content: \"\";width: 100%;border-bottom: 1px solid gray;flex-grow: 1;}div.sk-label:hover label.sk-toggleable__label {background-color: #d4ebff;}div.sk-serial::before {content: \"\";position: absolute;border-left: 1px solid gray;box-sizing: border-box;top: 2em;bottom: 0;left: 50%;}div.sk-serial {display: flex;flex-direction: column;align-items: center;background-color: white;}div.sk-item {z-index: 1;}div.sk-parallel {display: flex;align-items: stretch;justify-content: center;background-color: white;}div.sk-parallel-item {display: flex;flex-direction: column;position: relative;background-color: white;}div.sk-parallel-item:first-child::after {align-self: flex-end;width: 50%;}div.sk-parallel-item:last-child::after {align-self: flex-start;width: 50%;}div.sk-parallel-item:only-child::after {width: 0;}div.sk-dashed-wrapped {border: 1px dashed gray;margin: 0.2em;box-sizing: border-box;padding-bottom: 0.1em;background-color: white;position: relative;}div.sk-label label {font-family: monospace;font-weight: bold;background-color: white;display: inline-block;line-height: 1.2em;}div.sk-label-container {position: relative;z-index: 2;text-align: center;}div.sk-container {display: inline-block;position: relative;}</style><div class=\"sk-top-container\"><div class=\"sk-container\"><div class=\"sk-item sk-dashed-wrapped\"><div class=\"sk-label-container\"><div class=\"sk-label sk-toggleable\"><input class=\"sk-toggleable__control sk-hidden--visually\" id=\"d4730245-88a0-417e-ab2c-42cb29437c90\" type=\"checkbox\" ><label class=\"sk-toggleable__label\" for=\"d4730245-88a0-417e-ab2c-42cb29437c90\">Pipeline</label><div class=\"sk-toggleable__content\"><pre>Pipeline(steps=[('preprocesamiento', StandardScaler()),\n",
       "                ('regresion',\n",
       "                 GradientBoostingRegressor(max_depth=10, n_estimators=500))])</pre></div></div></div><div class=\"sk-serial\"><div class=\"sk-item\"><div class=\"sk-estimator sk-toggleable\"><input class=\"sk-toggleable__control sk-hidden--visually\" id=\"d6b277ef-57e5-4588-969d-38b19a72096a\" type=\"checkbox\" ><label class=\"sk-toggleable__label\" for=\"d6b277ef-57e5-4588-969d-38b19a72096a\">StandardScaler</label><div class=\"sk-toggleable__content\"><pre>StandardScaler()</pre></div></div></div><div class=\"sk-item\"><div class=\"sk-estimator sk-toggleable\"><input class=\"sk-toggleable__control sk-hidden--visually\" id=\"3483da14-c75f-4874-b25b-0d41a9d4bf32\" type=\"checkbox\" ><label class=\"sk-toggleable__label\" for=\"3483da14-c75f-4874-b25b-0d41a9d4bf32\">GradientBoostingRegressor</label><div class=\"sk-toggleable__content\"><pre>GradientBoostingRegressor(max_depth=10, n_estimators=500)</pre></div></div></div></div></div></div></div>"
      ],
      "text/plain": [
       "Pipeline(steps=[('preprocesamiento', StandardScaler()),\n",
       "                ('regresion',\n",
       "                 GradientBoostingRegressor(max_depth=10, n_estimators=500))])"
      ]
     },
     "execution_count": 153,
     "metadata": {},
     "output_type": "execute_result"
    }
   ],
   "source": [
    "grid_gb.best_estimator_"
   ]
  },
  {
   "cell_type": "markdown",
   "metadata": {},
   "source": [
    "#### Ada Boost Regressor"
   ]
  },
  {
   "cell_type": "code",
   "execution_count": 154,
   "metadata": {},
   "outputs": [
    {
     "data": {
      "text/html": [
       "<style>div.sk-top-container {color: black;background-color: white;}div.sk-toggleable {background-color: white;}label.sk-toggleable__label {cursor: pointer;display: block;width: 100%;margin-bottom: 0;padding: 0.2em 0.3em;box-sizing: border-box;text-align: center;}div.sk-toggleable__content {max-height: 0;max-width: 0;overflow: hidden;text-align: left;background-color: #f0f8ff;}div.sk-toggleable__content pre {margin: 0.2em;color: black;border-radius: 0.25em;background-color: #f0f8ff;}input.sk-toggleable__control:checked~div.sk-toggleable__content {max-height: 200px;max-width: 100%;overflow: auto;}div.sk-estimator input.sk-toggleable__control:checked~label.sk-toggleable__label {background-color: #d4ebff;}div.sk-label input.sk-toggleable__control:checked~label.sk-toggleable__label {background-color: #d4ebff;}input.sk-hidden--visually {border: 0;clip: rect(1px 1px 1px 1px);clip: rect(1px, 1px, 1px, 1px);height: 1px;margin: -1px;overflow: hidden;padding: 0;position: absolute;width: 1px;}div.sk-estimator {font-family: monospace;background-color: #f0f8ff;margin: 0.25em 0.25em;border: 1px dotted black;border-radius: 0.25em;box-sizing: border-box;}div.sk-estimator:hover {background-color: #d4ebff;}div.sk-parallel-item::after {content: \"\";width: 100%;border-bottom: 1px solid gray;flex-grow: 1;}div.sk-label:hover label.sk-toggleable__label {background-color: #d4ebff;}div.sk-serial::before {content: \"\";position: absolute;border-left: 1px solid gray;box-sizing: border-box;top: 2em;bottom: 0;left: 50%;}div.sk-serial {display: flex;flex-direction: column;align-items: center;background-color: white;}div.sk-item {z-index: 1;}div.sk-parallel {display: flex;align-items: stretch;justify-content: center;background-color: white;}div.sk-parallel-item {display: flex;flex-direction: column;position: relative;background-color: white;}div.sk-parallel-item:first-child::after {align-self: flex-end;width: 50%;}div.sk-parallel-item:last-child::after {align-self: flex-start;width: 50%;}div.sk-parallel-item:only-child::after {width: 0;}div.sk-dashed-wrapped {border: 1px dashed gray;margin: 0.2em;box-sizing: border-box;padding-bottom: 0.1em;background-color: white;position: relative;}div.sk-label label {font-family: monospace;font-weight: bold;background-color: white;display: inline-block;line-height: 1.2em;}div.sk-label-container {position: relative;z-index: 2;text-align: center;}div.sk-container {display: inline-block;position: relative;}</style><div class=\"sk-top-container\"><div class=\"sk-container\"><div class=\"sk-item sk-dashed-wrapped\"><div class=\"sk-label-container\"><div class=\"sk-label sk-toggleable\"><input class=\"sk-toggleable__control sk-hidden--visually\" id=\"ca0a05f1-7ceb-475b-bf66-0796564d27c2\" type=\"checkbox\" ><label class=\"sk-toggleable__label\" for=\"ca0a05f1-7ceb-475b-bf66-0796564d27c2\">GridSearchCV</label><div class=\"sk-toggleable__content\"><pre>GridSearchCV(cv=5,\n",
       "             estimator=Pipeline(steps=[('preprocesamiento', StandardScaler()),\n",
       "                                       ('regresion', AdaBoostRegressor())]),\n",
       "             param_grid=[{'preprocesamiento': [StandardScaler()],\n",
       "                          'regresion__learning_rate': [0.01, 0.1, 0.3, 1],\n",
       "                          'regresion__n_estimators': [500, 1000]}],\n",
       "             scoring='r2')</pre></div></div></div><div class=\"sk-parallel\"><div class=\"sk-parallel-item\"><div class=\"sk-item\"><div class=\"sk-serial\"><div class=\"sk-item\"><div class=\"sk-serial\"><div class=\"sk-item\"><div class=\"sk-estimator sk-toggleable\"><input class=\"sk-toggleable__control sk-hidden--visually\" id=\"3af89b70-5676-4720-b681-18203b24b410\" type=\"checkbox\" ><label class=\"sk-toggleable__label\" for=\"3af89b70-5676-4720-b681-18203b24b410\">StandardScaler</label><div class=\"sk-toggleable__content\"><pre>StandardScaler()</pre></div></div></div><div class=\"sk-item\"><div class=\"sk-estimator sk-toggleable\"><input class=\"sk-toggleable__control sk-hidden--visually\" id=\"6a5e24e7-17f9-4a3c-bf18-fb1201e3debe\" type=\"checkbox\" ><label class=\"sk-toggleable__label\" for=\"6a5e24e7-17f9-4a3c-bf18-fb1201e3debe\">AdaBoostRegressor</label><div class=\"sk-toggleable__content\"><pre>AdaBoostRegressor()</pre></div></div></div></div></div></div></div></div></div></div></div></div>"
      ],
      "text/plain": [
       "GridSearchCV(cv=5,\n",
       "             estimator=Pipeline(steps=[('preprocesamiento', StandardScaler()),\n",
       "                                       ('regresion', AdaBoostRegressor())]),\n",
       "             param_grid=[{'preprocesamiento': [StandardScaler()],\n",
       "                          'regresion__learning_rate': [0.01, 0.1, 0.3, 1],\n",
       "                          'regresion__n_estimators': [500, 1000]}],\n",
       "             scoring='r2')"
      ]
     },
     "execution_count": 154,
     "metadata": {},
     "output_type": "execute_result"
    }
   ],
   "source": [
    "pasos = [('preprocesamiento', StandardScaler()),\\\n",
    "         ('regresion', AdaBoostRegressor())\n",
    "        ]\n",
    "\n",
    "pipe_grid_ab = Pipeline(pasos)\n",
    "\n",
    "param_grid_ab = [{'preprocesamiento':[StandardScaler()],\n",
    "                  'regresion__n_estimators': [500, 1000],\n",
    "                  'regresion__learning_rate':[0.01, 0.1, 0.3, 1]\n",
    "                }]\n",
    "\n",
    "grid_ab = GridSearchCV(estimator=pipe_grid_ab, param_grid=param_grid_ab, cv=folds, scoring='r2')\n",
    "grid_ab.fit(X_train, y_train)"
   ]
  },
  {
   "cell_type": "code",
   "execution_count": 155,
   "metadata": {},
   "outputs": [
    {
     "data": {
      "text/plain": [
       "0.7644864924615569"
      ]
     },
     "execution_count": 155,
     "metadata": {},
     "output_type": "execute_result"
    }
   ],
   "source": [
    "grid_ab.best_score_"
   ]
  },
  {
   "cell_type": "code",
   "execution_count": 156,
   "metadata": {},
   "outputs": [
    {
     "data": {
      "text/html": [
       "<style>div.sk-top-container {color: black;background-color: white;}div.sk-toggleable {background-color: white;}label.sk-toggleable__label {cursor: pointer;display: block;width: 100%;margin-bottom: 0;padding: 0.2em 0.3em;box-sizing: border-box;text-align: center;}div.sk-toggleable__content {max-height: 0;max-width: 0;overflow: hidden;text-align: left;background-color: #f0f8ff;}div.sk-toggleable__content pre {margin: 0.2em;color: black;border-radius: 0.25em;background-color: #f0f8ff;}input.sk-toggleable__control:checked~div.sk-toggleable__content {max-height: 200px;max-width: 100%;overflow: auto;}div.sk-estimator input.sk-toggleable__control:checked~label.sk-toggleable__label {background-color: #d4ebff;}div.sk-label input.sk-toggleable__control:checked~label.sk-toggleable__label {background-color: #d4ebff;}input.sk-hidden--visually {border: 0;clip: rect(1px 1px 1px 1px);clip: rect(1px, 1px, 1px, 1px);height: 1px;margin: -1px;overflow: hidden;padding: 0;position: absolute;width: 1px;}div.sk-estimator {font-family: monospace;background-color: #f0f8ff;margin: 0.25em 0.25em;border: 1px dotted black;border-radius: 0.25em;box-sizing: border-box;}div.sk-estimator:hover {background-color: #d4ebff;}div.sk-parallel-item::after {content: \"\";width: 100%;border-bottom: 1px solid gray;flex-grow: 1;}div.sk-label:hover label.sk-toggleable__label {background-color: #d4ebff;}div.sk-serial::before {content: \"\";position: absolute;border-left: 1px solid gray;box-sizing: border-box;top: 2em;bottom: 0;left: 50%;}div.sk-serial {display: flex;flex-direction: column;align-items: center;background-color: white;}div.sk-item {z-index: 1;}div.sk-parallel {display: flex;align-items: stretch;justify-content: center;background-color: white;}div.sk-parallel-item {display: flex;flex-direction: column;position: relative;background-color: white;}div.sk-parallel-item:first-child::after {align-self: flex-end;width: 50%;}div.sk-parallel-item:last-child::after {align-self: flex-start;width: 50%;}div.sk-parallel-item:only-child::after {width: 0;}div.sk-dashed-wrapped {border: 1px dashed gray;margin: 0.2em;box-sizing: border-box;padding-bottom: 0.1em;background-color: white;position: relative;}div.sk-label label {font-family: monospace;font-weight: bold;background-color: white;display: inline-block;line-height: 1.2em;}div.sk-label-container {position: relative;z-index: 2;text-align: center;}div.sk-container {display: inline-block;position: relative;}</style><div class=\"sk-top-container\"><div class=\"sk-container\"><div class=\"sk-item sk-dashed-wrapped\"><div class=\"sk-label-container\"><div class=\"sk-label sk-toggleable\"><input class=\"sk-toggleable__control sk-hidden--visually\" id=\"7e6c5753-0191-4e5f-becf-9a92312678d1\" type=\"checkbox\" ><label class=\"sk-toggleable__label\" for=\"7e6c5753-0191-4e5f-becf-9a92312678d1\">Pipeline</label><div class=\"sk-toggleable__content\"><pre>Pipeline(steps=[('preprocesamiento', StandardScaler()),\n",
       "                ('regresion',\n",
       "                 AdaBoostRegressor(learning_rate=0.01, n_estimators=500))])</pre></div></div></div><div class=\"sk-serial\"><div class=\"sk-item\"><div class=\"sk-estimator sk-toggleable\"><input class=\"sk-toggleable__control sk-hidden--visually\" id=\"906a17c3-3f7b-47bd-8a3b-ce91258f495e\" type=\"checkbox\" ><label class=\"sk-toggleable__label\" for=\"906a17c3-3f7b-47bd-8a3b-ce91258f495e\">StandardScaler</label><div class=\"sk-toggleable__content\"><pre>StandardScaler()</pre></div></div></div><div class=\"sk-item\"><div class=\"sk-estimator sk-toggleable\"><input class=\"sk-toggleable__control sk-hidden--visually\" id=\"776cb22c-14ad-43a6-85c5-ec8a76904d18\" type=\"checkbox\" ><label class=\"sk-toggleable__label\" for=\"776cb22c-14ad-43a6-85c5-ec8a76904d18\">AdaBoostRegressor</label><div class=\"sk-toggleable__content\"><pre>AdaBoostRegressor(learning_rate=0.01, n_estimators=500)</pre></div></div></div></div></div></div></div>"
      ],
      "text/plain": [
       "Pipeline(steps=[('preprocesamiento', StandardScaler()),\n",
       "                ('regresion',\n",
       "                 AdaBoostRegressor(learning_rate=0.01, n_estimators=500))])"
      ]
     },
     "execution_count": 156,
     "metadata": {},
     "output_type": "execute_result"
    }
   ],
   "source": [
    "grid_ab.best_estimator_"
   ]
  },
  {
   "cell_type": "markdown",
   "metadata": {},
   "source": [
    "#### LightGBM Regressor"
   ]
  },
  {
   "cell_type": "code",
   "execution_count": 157,
   "metadata": {},
   "outputs": [
    {
     "data": {
      "text/html": [
       "<style>div.sk-top-container {color: black;background-color: white;}div.sk-toggleable {background-color: white;}label.sk-toggleable__label {cursor: pointer;display: block;width: 100%;margin-bottom: 0;padding: 0.2em 0.3em;box-sizing: border-box;text-align: center;}div.sk-toggleable__content {max-height: 0;max-width: 0;overflow: hidden;text-align: left;background-color: #f0f8ff;}div.sk-toggleable__content pre {margin: 0.2em;color: black;border-radius: 0.25em;background-color: #f0f8ff;}input.sk-toggleable__control:checked~div.sk-toggleable__content {max-height: 200px;max-width: 100%;overflow: auto;}div.sk-estimator input.sk-toggleable__control:checked~label.sk-toggleable__label {background-color: #d4ebff;}div.sk-label input.sk-toggleable__control:checked~label.sk-toggleable__label {background-color: #d4ebff;}input.sk-hidden--visually {border: 0;clip: rect(1px 1px 1px 1px);clip: rect(1px, 1px, 1px, 1px);height: 1px;margin: -1px;overflow: hidden;padding: 0;position: absolute;width: 1px;}div.sk-estimator {font-family: monospace;background-color: #f0f8ff;margin: 0.25em 0.25em;border: 1px dotted black;border-radius: 0.25em;box-sizing: border-box;}div.sk-estimator:hover {background-color: #d4ebff;}div.sk-parallel-item::after {content: \"\";width: 100%;border-bottom: 1px solid gray;flex-grow: 1;}div.sk-label:hover label.sk-toggleable__label {background-color: #d4ebff;}div.sk-serial::before {content: \"\";position: absolute;border-left: 1px solid gray;box-sizing: border-box;top: 2em;bottom: 0;left: 50%;}div.sk-serial {display: flex;flex-direction: column;align-items: center;background-color: white;}div.sk-item {z-index: 1;}div.sk-parallel {display: flex;align-items: stretch;justify-content: center;background-color: white;}div.sk-parallel-item {display: flex;flex-direction: column;position: relative;background-color: white;}div.sk-parallel-item:first-child::after {align-self: flex-end;width: 50%;}div.sk-parallel-item:last-child::after {align-self: flex-start;width: 50%;}div.sk-parallel-item:only-child::after {width: 0;}div.sk-dashed-wrapped {border: 1px dashed gray;margin: 0.2em;box-sizing: border-box;padding-bottom: 0.1em;background-color: white;position: relative;}div.sk-label label {font-family: monospace;font-weight: bold;background-color: white;display: inline-block;line-height: 1.2em;}div.sk-label-container {position: relative;z-index: 2;text-align: center;}div.sk-container {display: inline-block;position: relative;}</style><div class=\"sk-top-container\"><div class=\"sk-container\"><div class=\"sk-item sk-dashed-wrapped\"><div class=\"sk-label-container\"><div class=\"sk-label sk-toggleable\"><input class=\"sk-toggleable__control sk-hidden--visually\" id=\"904ad6b6-0ce6-458f-a5ec-cf8a9b7534ab\" type=\"checkbox\" ><label class=\"sk-toggleable__label\" for=\"904ad6b6-0ce6-458f-a5ec-cf8a9b7534ab\">GridSearchCV</label><div class=\"sk-toggleable__content\"><pre>GridSearchCV(cv=5,\n",
       "             estimator=Pipeline(steps=[('preprocesamiento', StandardScaler()),\n",
       "                                       ('regresion', LGBMRegressor())]),\n",
       "             param_grid=[{'preprocesamiento': [StandardScaler()],\n",
       "                          'regresion__learning_rate': [0.01, 0.1, 0.3, 1],\n",
       "                          'regresion__n_estimators': [500, 100]}],\n",
       "             scoring='r2')</pre></div></div></div><div class=\"sk-parallel\"><div class=\"sk-parallel-item\"><div class=\"sk-item\"><div class=\"sk-serial\"><div class=\"sk-item\"><div class=\"sk-serial\"><div class=\"sk-item\"><div class=\"sk-estimator sk-toggleable\"><input class=\"sk-toggleable__control sk-hidden--visually\" id=\"0ad0951a-4335-4e92-a462-45b895258e26\" type=\"checkbox\" ><label class=\"sk-toggleable__label\" for=\"0ad0951a-4335-4e92-a462-45b895258e26\">StandardScaler</label><div class=\"sk-toggleable__content\"><pre>StandardScaler()</pre></div></div></div><div class=\"sk-item\"><div class=\"sk-estimator sk-toggleable\"><input class=\"sk-toggleable__control sk-hidden--visually\" id=\"82f8fe50-ba3b-4aeb-8970-9f02a10dc77a\" type=\"checkbox\" ><label class=\"sk-toggleable__label\" for=\"82f8fe50-ba3b-4aeb-8970-9f02a10dc77a\">LGBMRegressor</label><div class=\"sk-toggleable__content\"><pre>LGBMRegressor()</pre></div></div></div></div></div></div></div></div></div></div></div></div>"
      ],
      "text/plain": [
       "GridSearchCV(cv=5,\n",
       "             estimator=Pipeline(steps=[('preprocesamiento', StandardScaler()),\n",
       "                                       ('regresion', LGBMRegressor())]),\n",
       "             param_grid=[{'preprocesamiento': [StandardScaler()],\n",
       "                          'regresion__learning_rate': [0.01, 0.1, 0.3, 1],\n",
       "                          'regresion__n_estimators': [500, 100]}],\n",
       "             scoring='r2')"
      ]
     },
     "execution_count": 157,
     "metadata": {},
     "output_type": "execute_result"
    }
   ],
   "source": [
    "pasos = [('preprocesamiento', StandardScaler()),\\\n",
    "         ('regresion', LGBMRegressor())\n",
    "        ]\n",
    "\n",
    "pipe_grid_lg = Pipeline(pasos)\n",
    "\n",
    "param_grid_lg = [{'preprocesamiento':[StandardScaler()],\n",
    "                  'regresion__n_estimators': [500, 100],\n",
    "                  'regresion__learning_rate':[0.01, 0.1, 0.3, 1]\n",
    "                }]\n",
    "\n",
    "grid_lg = GridSearchCV(estimator=pipe_grid_lg, param_grid=param_grid_lg, cv=folds, scoring='r2')\n",
    "grid_lg.fit(X_train, y_train)"
   ]
  },
  {
   "cell_type": "code",
   "execution_count": 158,
   "metadata": {},
   "outputs": [
    {
     "data": {
      "text/plain": [
       "0.9160144767448191"
      ]
     },
     "execution_count": 158,
     "metadata": {},
     "output_type": "execute_result"
    }
   ],
   "source": [
    "grid_lg.best_score_"
   ]
  },
  {
   "cell_type": "code",
   "execution_count": 159,
   "metadata": {},
   "outputs": [
    {
     "data": {
      "text/html": [
       "<style>div.sk-top-container {color: black;background-color: white;}div.sk-toggleable {background-color: white;}label.sk-toggleable__label {cursor: pointer;display: block;width: 100%;margin-bottom: 0;padding: 0.2em 0.3em;box-sizing: border-box;text-align: center;}div.sk-toggleable__content {max-height: 0;max-width: 0;overflow: hidden;text-align: left;background-color: #f0f8ff;}div.sk-toggleable__content pre {margin: 0.2em;color: black;border-radius: 0.25em;background-color: #f0f8ff;}input.sk-toggleable__control:checked~div.sk-toggleable__content {max-height: 200px;max-width: 100%;overflow: auto;}div.sk-estimator input.sk-toggleable__control:checked~label.sk-toggleable__label {background-color: #d4ebff;}div.sk-label input.sk-toggleable__control:checked~label.sk-toggleable__label {background-color: #d4ebff;}input.sk-hidden--visually {border: 0;clip: rect(1px 1px 1px 1px);clip: rect(1px, 1px, 1px, 1px);height: 1px;margin: -1px;overflow: hidden;padding: 0;position: absolute;width: 1px;}div.sk-estimator {font-family: monospace;background-color: #f0f8ff;margin: 0.25em 0.25em;border: 1px dotted black;border-radius: 0.25em;box-sizing: border-box;}div.sk-estimator:hover {background-color: #d4ebff;}div.sk-parallel-item::after {content: \"\";width: 100%;border-bottom: 1px solid gray;flex-grow: 1;}div.sk-label:hover label.sk-toggleable__label {background-color: #d4ebff;}div.sk-serial::before {content: \"\";position: absolute;border-left: 1px solid gray;box-sizing: border-box;top: 2em;bottom: 0;left: 50%;}div.sk-serial {display: flex;flex-direction: column;align-items: center;background-color: white;}div.sk-item {z-index: 1;}div.sk-parallel {display: flex;align-items: stretch;justify-content: center;background-color: white;}div.sk-parallel-item {display: flex;flex-direction: column;position: relative;background-color: white;}div.sk-parallel-item:first-child::after {align-self: flex-end;width: 50%;}div.sk-parallel-item:last-child::after {align-self: flex-start;width: 50%;}div.sk-parallel-item:only-child::after {width: 0;}div.sk-dashed-wrapped {border: 1px dashed gray;margin: 0.2em;box-sizing: border-box;padding-bottom: 0.1em;background-color: white;position: relative;}div.sk-label label {font-family: monospace;font-weight: bold;background-color: white;display: inline-block;line-height: 1.2em;}div.sk-label-container {position: relative;z-index: 2;text-align: center;}div.sk-container {display: inline-block;position: relative;}</style><div class=\"sk-top-container\"><div class=\"sk-container\"><div class=\"sk-item sk-dashed-wrapped\"><div class=\"sk-label-container\"><div class=\"sk-label sk-toggleable\"><input class=\"sk-toggleable__control sk-hidden--visually\" id=\"ae3c111b-dcc6-40b4-8ce0-a8cdb0f81b1d\" type=\"checkbox\" ><label class=\"sk-toggleable__label\" for=\"ae3c111b-dcc6-40b4-8ce0-a8cdb0f81b1d\">Pipeline</label><div class=\"sk-toggleable__content\"><pre>Pipeline(steps=[('preprocesamiento', StandardScaler()),\n",
       "                ('regresion',\n",
       "                 LGBMRegressor(learning_rate=0.3, n_estimators=500))])</pre></div></div></div><div class=\"sk-serial\"><div class=\"sk-item\"><div class=\"sk-estimator sk-toggleable\"><input class=\"sk-toggleable__control sk-hidden--visually\" id=\"3e938c06-d63f-4d7e-ae74-76c99a4588c2\" type=\"checkbox\" ><label class=\"sk-toggleable__label\" for=\"3e938c06-d63f-4d7e-ae74-76c99a4588c2\">StandardScaler</label><div class=\"sk-toggleable__content\"><pre>StandardScaler()</pre></div></div></div><div class=\"sk-item\"><div class=\"sk-estimator sk-toggleable\"><input class=\"sk-toggleable__control sk-hidden--visually\" id=\"9fcee7e9-503b-44c5-bfb9-705489c98568\" type=\"checkbox\" ><label class=\"sk-toggleable__label\" for=\"9fcee7e9-503b-44c5-bfb9-705489c98568\">LGBMRegressor</label><div class=\"sk-toggleable__content\"><pre>LGBMRegressor(learning_rate=0.3, n_estimators=500)</pre></div></div></div></div></div></div></div>"
      ],
      "text/plain": [
       "Pipeline(steps=[('preprocesamiento', StandardScaler()),\n",
       "                ('regresion',\n",
       "                 LGBMRegressor(learning_rate=0.3, n_estimators=500))])"
      ]
     },
     "execution_count": 159,
     "metadata": {},
     "output_type": "execute_result"
    }
   ],
   "source": [
    "grid_lg.best_estimator_"
   ]
  },
  {
   "cell_type": "markdown",
   "metadata": {},
   "source": [
    "### 14) Resultado de los modelos"
   ]
  },
  {
   "cell_type": "code",
   "execution_count": 160,
   "metadata": {},
   "outputs": [
    {
     "data": {
      "text/html": [
       "<div>\n",
       "<style scoped>\n",
       "    .dataframe tbody tr th:only-of-type {\n",
       "        vertical-align: middle;\n",
       "    }\n",
       "\n",
       "    .dataframe tbody tr th {\n",
       "        vertical-align: top;\n",
       "    }\n",
       "\n",
       "    .dataframe thead th {\n",
       "        text-align: right;\n",
       "    }\n",
       "</style>\n",
       "<table border=\"1\" class=\"dataframe\">\n",
       "  <thead>\n",
       "    <tr style=\"text-align: right;\">\n",
       "      <th></th>\n",
       "      <th>Modelos</th>\n",
       "      <th>R2</th>\n",
       "    </tr>\n",
       "  </thead>\n",
       "  <tbody>\n",
       "    <tr>\n",
       "      <th>5</th>\n",
       "      <td>Gradient Boost</td>\n",
       "      <td>0.918630</td>\n",
       "    </tr>\n",
       "    <tr>\n",
       "      <th>7</th>\n",
       "      <td>LightGBM</td>\n",
       "      <td>0.916014</td>\n",
       "    </tr>\n",
       "    <tr>\n",
       "      <th>4</th>\n",
       "      <td>Random</td>\n",
       "      <td>0.892853</td>\n",
       "    </tr>\n",
       "    <tr>\n",
       "      <th>2</th>\n",
       "      <td>Lasso</td>\n",
       "      <td>0.816622</td>\n",
       "    </tr>\n",
       "    <tr>\n",
       "      <th>1</th>\n",
       "      <td>Ridge</td>\n",
       "      <td>0.816621</td>\n",
       "    </tr>\n",
       "    <tr>\n",
       "      <th>0</th>\n",
       "      <td>Regresion Linear</td>\n",
       "      <td>0.816621</td>\n",
       "    </tr>\n",
       "    <tr>\n",
       "      <th>3</th>\n",
       "      <td>Elastic Net</td>\n",
       "      <td>0.816608</td>\n",
       "    </tr>\n",
       "    <tr>\n",
       "      <th>6</th>\n",
       "      <td>AdaBoost</td>\n",
       "      <td>0.764486</td>\n",
       "    </tr>\n",
       "  </tbody>\n",
       "</table>\n",
       "</div>"
      ],
      "text/plain": [
       "            Modelos        R2\n",
       "5    Gradient Boost  0.918630\n",
       "7          LightGBM  0.916014\n",
       "4            Random  0.892853\n",
       "2             Lasso  0.816622\n",
       "1             Ridge  0.816621\n",
       "0  Regresion Linear  0.816621\n",
       "3       Elastic Net  0.816608\n",
       "6          AdaBoost  0.764486"
      ]
     },
     "execution_count": 160,
     "metadata": {},
     "output_type": "execute_result"
    }
   ],
   "source": [
    "resultados = pd.DataFrame({'Modelos':['Regresion Linear', 'Ridge', 'Lasso', 'Elastic Net','Random', 'Gradient Boost', 'AdaBoost', 'LightGBM'],\n",
    "                           'R2':[grid_lr.best_score_, grid_rid.best_score_, grid_lass.best_score_, grid_en.best_score_, grid_rf.best_score_, grid_gb.best_score_,\\\n",
    "                                 grid_ab.best_score_, grid_lg.best_score_]\n",
    "                         })\n",
    "resultados.sort_values(by='R2', ascending=False)"
   ]
  },
  {
   "cell_type": "markdown",
   "metadata": {},
   "source": [
    "### 15) R2 Score usando en test"
   ]
  },
  {
   "cell_type": "code",
   "execution_count": 162,
   "metadata": {},
   "outputs": [
    {
     "data": {
      "text/html": [
       "<div>\n",
       "<style scoped>\n",
       "    .dataframe tbody tr th:only-of-type {\n",
       "        vertical-align: middle;\n",
       "    }\n",
       "\n",
       "    .dataframe tbody tr th {\n",
       "        vertical-align: top;\n",
       "    }\n",
       "\n",
       "    .dataframe thead th {\n",
       "        text-align: right;\n",
       "    }\n",
       "</style>\n",
       "<table border=\"1\" class=\"dataframe\">\n",
       "  <thead>\n",
       "    <tr style=\"text-align: right;\">\n",
       "      <th></th>\n",
       "      <th>Modelos</th>\n",
       "      <th>R2 en Test</th>\n",
       "    </tr>\n",
       "  </thead>\n",
       "  <tbody>\n",
       "    <tr>\n",
       "      <th>5</th>\n",
       "      <td>Gradient Boost</td>\n",
       "      <td>0.922884</td>\n",
       "    </tr>\n",
       "    <tr>\n",
       "      <th>7</th>\n",
       "      <td>LightGBM</td>\n",
       "      <td>0.917080</td>\n",
       "    </tr>\n",
       "    <tr>\n",
       "      <th>4</th>\n",
       "      <td>Random</td>\n",
       "      <td>0.890146</td>\n",
       "    </tr>\n",
       "    <tr>\n",
       "      <th>1</th>\n",
       "      <td>Ridge</td>\n",
       "      <td>0.810174</td>\n",
       "    </tr>\n",
       "    <tr>\n",
       "      <th>2</th>\n",
       "      <td>Lasso</td>\n",
       "      <td>0.810174</td>\n",
       "    </tr>\n",
       "    <tr>\n",
       "      <th>0</th>\n",
       "      <td>Regresion Linear</td>\n",
       "      <td>0.810174</td>\n",
       "    </tr>\n",
       "    <tr>\n",
       "      <th>3</th>\n",
       "      <td>Elastic Net</td>\n",
       "      <td>0.810164</td>\n",
       "    </tr>\n",
       "    <tr>\n",
       "      <th>6</th>\n",
       "      <td>AdaBoost</td>\n",
       "      <td>0.760360</td>\n",
       "    </tr>\n",
       "  </tbody>\n",
       "</table>\n",
       "</div>"
      ],
      "text/plain": [
       "            Modelos  R2 en Test\n",
       "5    Gradient Boost    0.922884\n",
       "7          LightGBM    0.917080\n",
       "4            Random    0.890146\n",
       "1             Ridge    0.810174\n",
       "2             Lasso    0.810174\n",
       "0  Regresion Linear    0.810174\n",
       "3       Elastic Net    0.810164\n",
       "6          AdaBoost    0.760360"
      ]
     },
     "execution_count": 162,
     "metadata": {},
     "output_type": "execute_result"
    }
   ],
   "source": [
    "test = pd.DataFrame({'Modelos':['Regresion Linear', 'Ridge', 'Lasso', 'Elastic Net','Random', 'Gradient Boost', 'AdaBoost', 'LightGBM'],\n",
    "                     'R2 en Test':[grid_lr.score(X_test, y_test),\\\n",
    "                                   grid_rid.score(X_test, y_test),\\\n",
    "                                   grid_lass.score(X_test, y_test),\\\n",
    "                                   grid_en.score(X_test, y_test),\\\n",
    "                                   grid_rf.score(X_test, y_test),\\\n",
    "                                   grid_gb.score(X_test, y_test),\\\n",
    "                                   grid_ab.score(X_test, y_test),\\\n",
    "                                   grid_lg.score(X_test, y_test)]\n",
    "                    })\n",
    "test.sort_values(by='R2 en Test', ascending=False)"
   ]
  },
  {
   "cell_type": "code",
   "execution_count": null,
   "metadata": {},
   "outputs": [],
   "source": []
  }
 ],
 "metadata": {
  "kernelspec": {
   "display_name": "Python 3",
   "language": "python",
   "name": "python3"
  },
  "language_info": {
   "codemirror_mode": {
    "name": "ipython",
    "version": 3
   },
   "file_extension": ".py",
   "mimetype": "text/x-python",
   "name": "python",
   "nbconvert_exporter": "python",
   "pygments_lexer": "ipython3",
   "version": "3.7.9"
  }
 },
 "nbformat": 4,
 "nbformat_minor": 4
}
